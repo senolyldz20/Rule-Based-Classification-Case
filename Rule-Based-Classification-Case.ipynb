{
 "cells": [
  {
   "cell_type": "markdown",
   "id": "b539bc14",
   "metadata": {},
   "source": [
    "# Kural Tabanlı Sınıflandırma ile Potansiyel Müşteri Getirisi Hesaplama"
   ]
  },
  {
   "cell_type": "code",
   "execution_count": 49,
   "id": "54fff414",
   "metadata": {
    "ExecuteTime": {
     "end_time": "2024-02-05T15:36:33.992525Z",
     "start_time": "2024-02-05T15:36:33.720666800Z"
    }
   },
   "outputs": [
    {
     "data": {
      "text/plain": "   PRICE   SOURCE   SEX COUNTRY  AGE\n0     39  android  male     bra   17\n1     39  android  male     bra   17\n2     49  android  male     bra   17\n3     29  android  male     tur   17\n4     49  android  male     tur   17\n5     29  android  male     bra   17\n6     19  android  male     bra   17\n7     59  android  male     bra   17\n8     49  android  male     bra   17\n9     19  android  male     bra   17",
      "text/html": "<div>\n<style scoped>\n    .dataframe tbody tr th:only-of-type {\n        vertical-align: middle;\n    }\n\n    .dataframe tbody tr th {\n        vertical-align: top;\n    }\n\n    .dataframe thead th {\n        text-align: right;\n    }\n</style>\n<table border=\"1\" class=\"dataframe\">\n  <thead>\n    <tr style=\"text-align: right;\">\n      <th></th>\n      <th>PRICE</th>\n      <th>SOURCE</th>\n      <th>SEX</th>\n      <th>COUNTRY</th>\n      <th>AGE</th>\n    </tr>\n  </thead>\n  <tbody>\n    <tr>\n      <th>0</th>\n      <td>39</td>\n      <td>android</td>\n      <td>male</td>\n      <td>bra</td>\n      <td>17</td>\n    </tr>\n    <tr>\n      <th>1</th>\n      <td>39</td>\n      <td>android</td>\n      <td>male</td>\n      <td>bra</td>\n      <td>17</td>\n    </tr>\n    <tr>\n      <th>2</th>\n      <td>49</td>\n      <td>android</td>\n      <td>male</td>\n      <td>bra</td>\n      <td>17</td>\n    </tr>\n    <tr>\n      <th>3</th>\n      <td>29</td>\n      <td>android</td>\n      <td>male</td>\n      <td>tur</td>\n      <td>17</td>\n    </tr>\n    <tr>\n      <th>4</th>\n      <td>49</td>\n      <td>android</td>\n      <td>male</td>\n      <td>tur</td>\n      <td>17</td>\n    </tr>\n    <tr>\n      <th>5</th>\n      <td>29</td>\n      <td>android</td>\n      <td>male</td>\n      <td>bra</td>\n      <td>17</td>\n    </tr>\n    <tr>\n      <th>6</th>\n      <td>19</td>\n      <td>android</td>\n      <td>male</td>\n      <td>bra</td>\n      <td>17</td>\n    </tr>\n    <tr>\n      <th>7</th>\n      <td>59</td>\n      <td>android</td>\n      <td>male</td>\n      <td>bra</td>\n      <td>17</td>\n    </tr>\n    <tr>\n      <th>8</th>\n      <td>49</td>\n      <td>android</td>\n      <td>male</td>\n      <td>bra</td>\n      <td>17</td>\n    </tr>\n    <tr>\n      <th>9</th>\n      <td>19</td>\n      <td>android</td>\n      <td>male</td>\n      <td>bra</td>\n      <td>17</td>\n    </tr>\n  </tbody>\n</table>\n</div>"
     },
     "execution_count": 49,
     "metadata": {},
     "output_type": "execute_result"
    }
   ],
   "source": [
    "# Soru 1: persona.csv dosyasını okutunuz ve veri seti ile ilgili genel bilgileri gösteriniz.\n",
    "import pandas as pd\n",
    "import numpy as np\n",
    "pd.set_option(\"display.max_rows\", None)\n",
    "df = pd.read_csv(r\"Data/persona.csv\")\n",
    "df.head(10)"
   ]
  },
  {
   "cell_type": "code",
   "execution_count": 50,
   "id": "432a17cc",
   "metadata": {
    "ExecuteTime": {
     "end_time": "2024-02-05T15:36:34.058651600Z",
     "start_time": "2024-02-05T15:36:33.810249700Z"
    }
   },
   "outputs": [
    {
     "data": {
      "text/plain": "(5000, 5)"
     },
     "execution_count": 50,
     "metadata": {},
     "output_type": "execute_result"
    }
   ],
   "source": [
    "df.shape"
   ]
  },
  {
   "cell_type": "code",
   "execution_count": 51,
   "id": "91d4b062",
   "metadata": {
    "ExecuteTime": {
     "end_time": "2024-02-05T15:36:34.171347Z",
     "start_time": "2024-02-05T15:36:34.061445400Z"
    }
   },
   "outputs": [
    {
     "data": {
      "text/plain": "female    2621\nmale      2379\nName: SEX, dtype: int64"
     },
     "execution_count": 51,
     "metadata": {},
     "output_type": "execute_result"
    }
   ],
   "source": [
    "df[\"SEX\"].value_counts()"
   ]
  },
  {
   "cell_type": "code",
   "execution_count": 52,
   "id": "db937d5a",
   "metadata": {
    "ExecuteTime": {
     "end_time": "2024-02-05T15:36:34.231401100Z",
     "start_time": "2024-02-05T15:36:34.135836400Z"
    }
   },
   "outputs": [
    {
     "name": "stdout",
     "output_type": "stream",
     "text": [
      "<class 'pandas.core.frame.DataFrame'>\n",
      "Int64Index: 5000 entries, 0 to 4999\n",
      "Data columns (total 5 columns):\n",
      " #   Column   Non-Null Count  Dtype \n",
      "---  ------   --------------  ----- \n",
      " 0   PRICE    5000 non-null   int64 \n",
      " 1   SOURCE   5000 non-null   object\n",
      " 2   SEX      5000 non-null   object\n",
      " 3   COUNTRY  5000 non-null   object\n",
      " 4   AGE      5000 non-null   int64 \n",
      "dtypes: int64(2), object(3)\n",
      "memory usage: 234.4+ KB\n"
     ]
    }
   ],
   "source": [
    "df.info()"
   ]
  },
  {
   "cell_type": "code",
   "execution_count": 53,
   "id": "17323c95",
   "metadata": {
    "ExecuteTime": {
     "end_time": "2024-02-05T15:36:34.308000400Z",
     "start_time": "2024-02-05T15:36:34.206640500Z"
    }
   },
   "outputs": [
    {
     "data": {
      "text/plain": "PRICE       int64\nSOURCE     object\nSEX        object\nCOUNTRY    object\nAGE         int64\ndtype: object"
     },
     "execution_count": 53,
     "metadata": {},
     "output_type": "execute_result"
    }
   ],
   "source": [
    "df.dtypes"
   ]
  },
  {
   "cell_type": "code",
   "execution_count": 87,
   "id": "29c0bde9",
   "metadata": {
    "ExecuteTime": {
     "end_time": "2024-02-05T15:37:43.418240300Z",
     "start_time": "2024-02-05T15:37:43.379355500Z"
    }
   },
   "outputs": [
    {
     "data": {
      "text/plain": "array(['android', 'ios'], dtype=object)"
     },
     "execution_count": 87,
     "metadata": {},
     "output_type": "execute_result"
    }
   ],
   "source": [
    "# Soru 2: Kaç unique SOURCE vardır? Frekansları nedir?\n",
    "\n",
    "df[\"SOURCE\"].unique()"
   ]
  },
  {
   "cell_type": "code",
   "execution_count": 55,
   "id": "3c54c7a4",
   "metadata": {
    "ExecuteTime": {
     "end_time": "2024-02-05T15:36:34.369667800Z",
     "start_time": "2024-02-05T15:36:34.316451400Z"
    }
   },
   "outputs": [
    {
     "data": {
      "text/plain": "array([39, 49, 29, 19, 59,  9], dtype=int64)"
     },
     "execution_count": 55,
     "metadata": {},
     "output_type": "execute_result"
    }
   ],
   "source": [
    "# Soru 3: Kaç unique PRICE vardır?\n",
    "\n",
    "df[\"PRICE\"].unique()"
   ]
  },
  {
   "cell_type": "code",
   "execution_count": 56,
   "id": "7b6190f5",
   "metadata": {
    "scrolled": true,
    "ExecuteTime": {
     "end_time": "2024-02-05T15:36:34.417832300Z",
     "start_time": "2024-02-05T15:36:34.371467600Z"
    }
   },
   "outputs": [
    {
     "data": {
      "text/plain": "29    1305\n39    1260\n49    1031\n19     992\n59     212\n9      200\nName: PRICE, dtype: int64"
     },
     "execution_count": 56,
     "metadata": {},
     "output_type": "execute_result"
    }
   ],
   "source": [
    "# Soru 4: Hangi PRICE'dan kaçar tane satış gerçekleşmiş?\n",
    "\n",
    "df[\"PRICE\"].value_counts()"
   ]
  },
  {
   "cell_type": "code",
   "execution_count": 57,
   "id": "25616e3a",
   "metadata": {
    "ExecuteTime": {
     "end_time": "2024-02-05T15:36:34.455814500Z",
     "start_time": "2024-02-05T15:36:34.411437100Z"
    }
   },
   "outputs": [
    {
     "data": {
      "text/plain": "usa    2065\nbra    1496\ndeu     455\ntur     451\nfra     303\ncan     230\nName: COUNTRY, dtype: int64"
     },
     "execution_count": 57,
     "metadata": {},
     "output_type": "execute_result"
    }
   ],
   "source": [
    "# Soru 5: Hangi ülkeden kaçar tane satış olmuş?\n",
    "\n",
    "df[\"COUNTRY\"].value_counts()"
   ]
  },
  {
   "cell_type": "code",
   "execution_count": 58,
   "id": "7aa384b3",
   "metadata": {
    "ExecuteTime": {
     "end_time": "2024-02-05T15:36:34.516972300Z",
     "start_time": "2024-02-05T15:36:34.441496700Z"
    }
   },
   "outputs": [
    {
     "data": {
      "text/plain": "         PRICE\nCOUNTRY       \nbra      51354\ncan       7730\ndeu      15485\nfra      10177\ntur      15689\nusa      70225",
      "text/html": "<div>\n<style scoped>\n    .dataframe tbody tr th:only-of-type {\n        vertical-align: middle;\n    }\n\n    .dataframe tbody tr th {\n        vertical-align: top;\n    }\n\n    .dataframe thead th {\n        text-align: right;\n    }\n</style>\n<table border=\"1\" class=\"dataframe\">\n  <thead>\n    <tr style=\"text-align: right;\">\n      <th></th>\n      <th>PRICE</th>\n    </tr>\n    <tr>\n      <th>COUNTRY</th>\n      <th></th>\n    </tr>\n  </thead>\n  <tbody>\n    <tr>\n      <th>bra</th>\n      <td>51354</td>\n    </tr>\n    <tr>\n      <th>can</th>\n      <td>7730</td>\n    </tr>\n    <tr>\n      <th>deu</th>\n      <td>15485</td>\n    </tr>\n    <tr>\n      <th>fra</th>\n      <td>10177</td>\n    </tr>\n    <tr>\n      <th>tur</th>\n      <td>15689</td>\n    </tr>\n    <tr>\n      <th>usa</th>\n      <td>70225</td>\n    </tr>\n  </tbody>\n</table>\n</div>"
     },
     "execution_count": 58,
     "metadata": {},
     "output_type": "execute_result"
    }
   ],
   "source": [
    "# Soru 6: Ülkelere göre satışlardan toplam ne kadar kazanılmış?\n",
    "\n",
    "df.groupby(\"COUNTRY\").agg({\"PRICE\":\"sum\"})"
   ]
  },
  {
   "cell_type": "code",
   "execution_count": 59,
   "id": "7f33c7cd",
   "metadata": {
    "ExecuteTime": {
     "end_time": "2024-02-05T15:36:34.556912500Z",
     "start_time": "2024-02-05T15:36:34.463652500Z"
    }
   },
   "outputs": [
    {
     "data": {
      "text/plain": "         PRICE\nSOURCE        \nandroid   2974\nios       2026",
      "text/html": "<div>\n<style scoped>\n    .dataframe tbody tr th:only-of-type {\n        vertical-align: middle;\n    }\n\n    .dataframe tbody tr th {\n        vertical-align: top;\n    }\n\n    .dataframe thead th {\n        text-align: right;\n    }\n</style>\n<table border=\"1\" class=\"dataframe\">\n  <thead>\n    <tr style=\"text-align: right;\">\n      <th></th>\n      <th>PRICE</th>\n    </tr>\n    <tr>\n      <th>SOURCE</th>\n      <th></th>\n    </tr>\n  </thead>\n  <tbody>\n    <tr>\n      <th>android</th>\n      <td>2974</td>\n    </tr>\n    <tr>\n      <th>ios</th>\n      <td>2026</td>\n    </tr>\n  </tbody>\n</table>\n</div>"
     },
     "execution_count": 59,
     "metadata": {},
     "output_type": "execute_result"
    }
   ],
   "source": [
    "# Soru 7: SOURCE türlerine göre göre satış sayıları nedir?\n",
    "\n",
    "df.groupby(\"SOURCE\").agg({\"PRICE\":\"count\"})"
   ]
  },
  {
   "cell_type": "code",
   "execution_count": 60,
   "id": "ea302fa1",
   "metadata": {
    "ExecuteTime": {
     "end_time": "2024-02-05T15:36:34.582391400Z",
     "start_time": "2024-02-05T15:36:34.510297900Z"
    }
   },
   "outputs": [
    {
     "data": {
      "text/plain": "             PRICE\nCOUNTRY           \nbra      34.327540\ncan      33.608696\ndeu      34.032967\nfra      33.587459\ntur      34.787140\nusa      34.007264",
      "text/html": "<div>\n<style scoped>\n    .dataframe tbody tr th:only-of-type {\n        vertical-align: middle;\n    }\n\n    .dataframe tbody tr th {\n        vertical-align: top;\n    }\n\n    .dataframe thead th {\n        text-align: right;\n    }\n</style>\n<table border=\"1\" class=\"dataframe\">\n  <thead>\n    <tr style=\"text-align: right;\">\n      <th></th>\n      <th>PRICE</th>\n    </tr>\n    <tr>\n      <th>COUNTRY</th>\n      <th></th>\n    </tr>\n  </thead>\n  <tbody>\n    <tr>\n      <th>bra</th>\n      <td>34.327540</td>\n    </tr>\n    <tr>\n      <th>can</th>\n      <td>33.608696</td>\n    </tr>\n    <tr>\n      <th>deu</th>\n      <td>34.032967</td>\n    </tr>\n    <tr>\n      <th>fra</th>\n      <td>33.587459</td>\n    </tr>\n    <tr>\n      <th>tur</th>\n      <td>34.787140</td>\n    </tr>\n    <tr>\n      <th>usa</th>\n      <td>34.007264</td>\n    </tr>\n  </tbody>\n</table>\n</div>"
     },
     "execution_count": 60,
     "metadata": {},
     "output_type": "execute_result"
    }
   ],
   "source": [
    "# Soru 8: Ülkelere göre PRICE ortalamaları nedir?\n",
    "\n",
    "df.groupby(\"COUNTRY\").agg({\"PRICE\":\"mean\"})"
   ]
  },
  {
   "cell_type": "code",
   "execution_count": 61,
   "id": "07d46c48",
   "metadata": {
    "ExecuteTime": {
     "end_time": "2024-02-05T15:36:34.689748400Z",
     "start_time": "2024-02-05T15:36:34.565608Z"
    }
   },
   "outputs": [
    {
     "data": {
      "text/plain": "             PRICE\nSOURCE            \nandroid  34.174849\nios      34.069102",
      "text/html": "<div>\n<style scoped>\n    .dataframe tbody tr th:only-of-type {\n        vertical-align: middle;\n    }\n\n    .dataframe tbody tr th {\n        vertical-align: top;\n    }\n\n    .dataframe thead th {\n        text-align: right;\n    }\n</style>\n<table border=\"1\" class=\"dataframe\">\n  <thead>\n    <tr style=\"text-align: right;\">\n      <th></th>\n      <th>PRICE</th>\n    </tr>\n    <tr>\n      <th>SOURCE</th>\n      <th></th>\n    </tr>\n  </thead>\n  <tbody>\n    <tr>\n      <th>android</th>\n      <td>34.174849</td>\n    </tr>\n    <tr>\n      <th>ios</th>\n      <td>34.069102</td>\n    </tr>\n  </tbody>\n</table>\n</div>"
     },
     "execution_count": 61,
     "metadata": {},
     "output_type": "execute_result"
    }
   ],
   "source": [
    "# Soru 9: SOURCE'lara göre PRICE ortalamaları nedir?\n",
    "\n",
    "df.groupby(\"SOURCE\").agg({\"PRICE\":\"mean\"})"
   ]
  },
  {
   "cell_type": "code",
   "execution_count": 62,
   "id": "d2acb97c",
   "metadata": {
    "ExecuteTime": {
     "end_time": "2024-02-05T15:36:34.908709200Z",
     "start_time": "2024-02-05T15:36:34.652431500Z"
    }
   },
   "outputs": [
    {
     "data": {
      "text/plain": "                     PRICE\nCOUNTRY SOURCE            \nbra     android  34.387029\n        ios      34.222222\ncan     android  33.330709\n        ios      33.951456\ndeu     android  33.869888\n        ios      34.268817\nfra     android  34.312500\n        ios      32.776224\ntur     android  36.229437\n        ios      33.272727\nusa     android  33.760357\n        ios      34.371703",
      "text/html": "<div>\n<style scoped>\n    .dataframe tbody tr th:only-of-type {\n        vertical-align: middle;\n    }\n\n    .dataframe tbody tr th {\n        vertical-align: top;\n    }\n\n    .dataframe thead th {\n        text-align: right;\n    }\n</style>\n<table border=\"1\" class=\"dataframe\">\n  <thead>\n    <tr style=\"text-align: right;\">\n      <th></th>\n      <th></th>\n      <th>PRICE</th>\n    </tr>\n    <tr>\n      <th>COUNTRY</th>\n      <th>SOURCE</th>\n      <th></th>\n    </tr>\n  </thead>\n  <tbody>\n    <tr>\n      <th rowspan=\"2\" valign=\"top\">bra</th>\n      <th>android</th>\n      <td>34.387029</td>\n    </tr>\n    <tr>\n      <th>ios</th>\n      <td>34.222222</td>\n    </tr>\n    <tr>\n      <th rowspan=\"2\" valign=\"top\">can</th>\n      <th>android</th>\n      <td>33.330709</td>\n    </tr>\n    <tr>\n      <th>ios</th>\n      <td>33.951456</td>\n    </tr>\n    <tr>\n      <th rowspan=\"2\" valign=\"top\">deu</th>\n      <th>android</th>\n      <td>33.869888</td>\n    </tr>\n    <tr>\n      <th>ios</th>\n      <td>34.268817</td>\n    </tr>\n    <tr>\n      <th rowspan=\"2\" valign=\"top\">fra</th>\n      <th>android</th>\n      <td>34.312500</td>\n    </tr>\n    <tr>\n      <th>ios</th>\n      <td>32.776224</td>\n    </tr>\n    <tr>\n      <th rowspan=\"2\" valign=\"top\">tur</th>\n      <th>android</th>\n      <td>36.229437</td>\n    </tr>\n    <tr>\n      <th>ios</th>\n      <td>33.272727</td>\n    </tr>\n    <tr>\n      <th rowspan=\"2\" valign=\"top\">usa</th>\n      <th>android</th>\n      <td>33.760357</td>\n    </tr>\n    <tr>\n      <th>ios</th>\n      <td>34.371703</td>\n    </tr>\n  </tbody>\n</table>\n</div>"
     },
     "execution_count": 62,
     "metadata": {},
     "output_type": "execute_result"
    }
   ],
   "source": [
    "# Soru 10: COUNTRY-SOURCE kırılımında PRICE ortalamaları nedir?\n",
    "\n",
    "df.groupby([\"COUNTRY\",\"SOURCE\"]).agg({\"PRICE\":\"mean\"})"
   ]
  },
  {
   "cell_type": "code",
   "execution_count": 86,
   "id": "e5f75698",
   "metadata": {
    "ExecuteTime": {
     "end_time": "2024-02-05T15:37:14.625475400Z",
     "start_time": "2024-02-05T15:37:14.584808900Z"
    }
   },
   "outputs": [
    {
     "data": {
      "text/plain": "                                PRICE\nCOUNTRY SOURCE  SEX    AGE           \nbra     android female 15   38.714286\n                       16   35.944444\n                       17   35.666667\n                       18   32.255814\n                       19   35.206897",
      "text/html": "<div>\n<style scoped>\n    .dataframe tbody tr th:only-of-type {\n        vertical-align: middle;\n    }\n\n    .dataframe tbody tr th {\n        vertical-align: top;\n    }\n\n    .dataframe thead th {\n        text-align: right;\n    }\n</style>\n<table border=\"1\" class=\"dataframe\">\n  <thead>\n    <tr style=\"text-align: right;\">\n      <th></th>\n      <th></th>\n      <th></th>\n      <th></th>\n      <th>PRICE</th>\n    </tr>\n    <tr>\n      <th>COUNTRY</th>\n      <th>SOURCE</th>\n      <th>SEX</th>\n      <th>AGE</th>\n      <th></th>\n    </tr>\n  </thead>\n  <tbody>\n    <tr>\n      <th rowspan=\"5\" valign=\"top\">bra</th>\n      <th rowspan=\"5\" valign=\"top\">android</th>\n      <th rowspan=\"5\" valign=\"top\">female</th>\n      <th>15</th>\n      <td>38.714286</td>\n    </tr>\n    <tr>\n      <th>16</th>\n      <td>35.944444</td>\n    </tr>\n    <tr>\n      <th>17</th>\n      <td>35.666667</td>\n    </tr>\n    <tr>\n      <th>18</th>\n      <td>32.255814</td>\n    </tr>\n    <tr>\n      <th>19</th>\n      <td>35.206897</td>\n    </tr>\n  </tbody>\n</table>\n</div>"
     },
     "execution_count": 86,
     "metadata": {},
     "output_type": "execute_result"
    }
   ],
   "source": [
    "# GÖREV 2: COUNTRY, SOURCE, SEX, AGE kırılımında ortalama kazançlar nedir?\n",
    "\n",
    "df.groupby([\"COUNTRY\",\"SOURCE\",\"SEX\",\"AGE\"]).agg({\"PRICE\":\"mean\"}).head()"
   ]
  },
  {
   "cell_type": "code",
   "execution_count": 64,
   "id": "49a82212",
   "metadata": {
    "ExecuteTime": {
     "end_time": "2024-02-05T15:36:35.085772300Z",
     "start_time": "2024-02-05T15:36:34.917746700Z"
    }
   },
   "outputs": [
    {
     "data": {
      "text/plain": "                            PRICE\nCOUNTRY SOURCE  SEX    AGE       \nbra     android male   46    59.0\nusa     android male   36    59.0\nfra     android female 24    59.0\nusa     ios     male   32    54.0\ndeu     android female 36    49.0",
      "text/html": "<div>\n<style scoped>\n    .dataframe tbody tr th:only-of-type {\n        vertical-align: middle;\n    }\n\n    .dataframe tbody tr th {\n        vertical-align: top;\n    }\n\n    .dataframe thead th {\n        text-align: right;\n    }\n</style>\n<table border=\"1\" class=\"dataframe\">\n  <thead>\n    <tr style=\"text-align: right;\">\n      <th></th>\n      <th></th>\n      <th></th>\n      <th></th>\n      <th>PRICE</th>\n    </tr>\n    <tr>\n      <th>COUNTRY</th>\n      <th>SOURCE</th>\n      <th>SEX</th>\n      <th>AGE</th>\n      <th></th>\n    </tr>\n  </thead>\n  <tbody>\n    <tr>\n      <th>bra</th>\n      <th>android</th>\n      <th>male</th>\n      <th>46</th>\n      <td>59.0</td>\n    </tr>\n    <tr>\n      <th>usa</th>\n      <th>android</th>\n      <th>male</th>\n      <th>36</th>\n      <td>59.0</td>\n    </tr>\n    <tr>\n      <th>fra</th>\n      <th>android</th>\n      <th>female</th>\n      <th>24</th>\n      <td>59.0</td>\n    </tr>\n    <tr>\n      <th>usa</th>\n      <th>ios</th>\n      <th>male</th>\n      <th>32</th>\n      <td>54.0</td>\n    </tr>\n    <tr>\n      <th>deu</th>\n      <th>android</th>\n      <th>female</th>\n      <th>36</th>\n      <td>49.0</td>\n    </tr>\n  </tbody>\n</table>\n</div>"
     },
     "execution_count": 64,
     "metadata": {},
     "output_type": "execute_result"
    }
   ],
   "source": [
    "# GÖREV 3: Çıktıyı PRICE'a göre sıralayınız.\n",
    "\n",
    "# Önceki sorudaki çıktıyı daha iyi görebilmek için sort_values metodunu azalan olacak şekilde PRICE'a uygulayınız.\n",
    "# Çıktıyı agg_df olarak kaydediniz.\n",
    "\n",
    "agg_df = df.groupby([\"COUNTRY\",\"SOURCE\",\"SEX\",\"AGE\"]).agg({\"PRICE\":\"mean\"}).sort_values(\"PRICE\", ascending=False)\n",
    "agg_df.head()"
   ]
  },
  {
   "cell_type": "code",
   "execution_count": 65,
   "id": "59dd3291",
   "metadata": {
    "ExecuteTime": {
     "end_time": "2024-02-05T15:36:35.226310900Z",
     "start_time": "2024-02-05T15:36:35.031747400Z"
    }
   },
   "outputs": [
    {
     "data": {
      "text/plain": "  COUNTRY   SOURCE     SEX  AGE  PRICE\n0     bra  android    male   46   59.0\n1     usa  android    male   36   59.0\n2     fra  android  female   24   59.0\n3     usa      ios    male   32   54.0\n4     deu  android  female   36   49.0",
      "text/html": "<div>\n<style scoped>\n    .dataframe tbody tr th:only-of-type {\n        vertical-align: middle;\n    }\n\n    .dataframe tbody tr th {\n        vertical-align: top;\n    }\n\n    .dataframe thead th {\n        text-align: right;\n    }\n</style>\n<table border=\"1\" class=\"dataframe\">\n  <thead>\n    <tr style=\"text-align: right;\">\n      <th></th>\n      <th>COUNTRY</th>\n      <th>SOURCE</th>\n      <th>SEX</th>\n      <th>AGE</th>\n      <th>PRICE</th>\n    </tr>\n  </thead>\n  <tbody>\n    <tr>\n      <th>0</th>\n      <td>bra</td>\n      <td>android</td>\n      <td>male</td>\n      <td>46</td>\n      <td>59.0</td>\n    </tr>\n    <tr>\n      <th>1</th>\n      <td>usa</td>\n      <td>android</td>\n      <td>male</td>\n      <td>36</td>\n      <td>59.0</td>\n    </tr>\n    <tr>\n      <th>2</th>\n      <td>fra</td>\n      <td>android</td>\n      <td>female</td>\n      <td>24</td>\n      <td>59.0</td>\n    </tr>\n    <tr>\n      <th>3</th>\n      <td>usa</td>\n      <td>ios</td>\n      <td>male</td>\n      <td>32</td>\n      <td>54.0</td>\n    </tr>\n    <tr>\n      <th>4</th>\n      <td>deu</td>\n      <td>android</td>\n      <td>female</td>\n      <td>36</td>\n      <td>49.0</td>\n    </tr>\n  </tbody>\n</table>\n</div>"
     },
     "execution_count": 65,
     "metadata": {},
     "output_type": "execute_result"
    }
   ],
   "source": [
    "# GÖREV 4: Indekste yer alan isimleri değişken ismine çeviriniz.\n",
    "\n",
    "# Üçüncü sorunun çıktısında yer alan PRICE dışındaki tüm değişkenler index isimleridir.\n",
    "# Bu isimleri değişken isimlerine çeviriniz.\n",
    "# İpucu: reset_index()\n",
    "\n",
    "\n",
    "agg_df = agg_df.reset_index()\n",
    "agg_df.head()"
   ]
  },
  {
   "cell_type": "code",
   "execution_count": 66,
   "id": "be8e6ecf",
   "metadata": {
    "ExecuteTime": {
     "end_time": "2024-02-05T15:36:35.327441500Z",
     "start_time": "2024-02-05T15:36:35.158085Z"
    }
   },
   "outputs": [
    {
     "data": {
      "text/plain": "[0, 18, 23, 30, 40, 66]"
     },
     "execution_count": 66,
     "metadata": {},
     "output_type": "execute_result"
    }
   ],
   "source": [
    "# GÖREV 5: AGE değişkenini kategorik değişkene çeviriniz ve agg_df'e ekleyiniz.\n",
    "\n",
    "# Aralıkları ikna edici olacağını düşündüğünüz şekilde oluşturunuz.\n",
    "# Örneğin: '0_18', '19_23', '24_30', '31_40', '41_70'\n",
    "# AGE değişkeninin nerelerden bölüneceğini belirtelim:\n",
    "\n",
    "bins = [0,18,23,30,40, agg_df[\"AGE\"].max()]\n",
    "bins\n"
   ]
  },
  {
   "cell_type": "code",
   "execution_count": 67,
   "id": "b310a9a4",
   "metadata": {
    "ExecuteTime": {
     "end_time": "2024-02-05T15:36:35.496547800Z",
     "start_time": "2024-02-05T15:36:35.302252700Z"
    }
   },
   "outputs": [
    {
     "data": {
      "text/plain": "['0_18', '19_23', '24_30', '31_40', '41_66']"
     },
     "execution_count": 67,
     "metadata": {},
     "output_type": "execute_result"
    }
   ],
   "source": [
    "# Age sayısal değişkenini kategorik değişkene çeviriniz.\n",
    "\n",
    "my_labes = [\"0_18\", \"19_23\", \"24_30\", \"31_40\", \"41_\" + str(agg_df[\"AGE\"].max())]\n",
    "my_labes"
   ]
  },
  {
   "cell_type": "code",
   "outputs": [
    {
     "data": {
      "text/plain": "  COUNTRY   SOURCE     SEX  AGE  PRICE  age_cat\n0     bra  android    male   46   59.0        5\n1     usa  android    male   36   59.0        5\n2     fra  android  female   24   59.0        5\n3     usa      ios    male   32   54.0        5\n4     deu  android  female   36   49.0        5",
      "text/html": "<div>\n<style scoped>\n    .dataframe tbody tr th:only-of-type {\n        vertical-align: middle;\n    }\n\n    .dataframe tbody tr th {\n        vertical-align: top;\n    }\n\n    .dataframe thead th {\n        text-align: right;\n    }\n</style>\n<table border=\"1\" class=\"dataframe\">\n  <thead>\n    <tr style=\"text-align: right;\">\n      <th></th>\n      <th>COUNTRY</th>\n      <th>SOURCE</th>\n      <th>SEX</th>\n      <th>AGE</th>\n      <th>PRICE</th>\n      <th>age_cat</th>\n    </tr>\n  </thead>\n  <tbody>\n    <tr>\n      <th>0</th>\n      <td>bra</td>\n      <td>android</td>\n      <td>male</td>\n      <td>46</td>\n      <td>59.0</td>\n      <td>5</td>\n    </tr>\n    <tr>\n      <th>1</th>\n      <td>usa</td>\n      <td>android</td>\n      <td>male</td>\n      <td>36</td>\n      <td>59.0</td>\n      <td>5</td>\n    </tr>\n    <tr>\n      <th>2</th>\n      <td>fra</td>\n      <td>android</td>\n      <td>female</td>\n      <td>24</td>\n      <td>59.0</td>\n      <td>5</td>\n    </tr>\n    <tr>\n      <th>3</th>\n      <td>usa</td>\n      <td>ios</td>\n      <td>male</td>\n      <td>32</td>\n      <td>54.0</td>\n      <td>5</td>\n    </tr>\n    <tr>\n      <th>4</th>\n      <td>deu</td>\n      <td>android</td>\n      <td>female</td>\n      <td>36</td>\n      <td>49.0</td>\n      <td>5</td>\n    </tr>\n  </tbody>\n</table>\n</div>"
     },
     "execution_count": 68,
     "metadata": {},
     "output_type": "execute_result"
    }
   ],
   "source": [
    "# AGE değişkeninin nerelerden bölüneceğini belirtelim.\n",
    "\n",
    "agg_df[\"age_cat\"] = 5\n",
    "agg_df.head()"
   ],
   "metadata": {
    "collapsed": false,
    "ExecuteTime": {
     "end_time": "2024-02-05T15:36:35.672719Z",
     "start_time": "2024-02-05T15:36:35.446814500Z"
    }
   },
   "id": "1c716517a27fa66a",
   "execution_count": 68
  },
  {
   "cell_type": "code",
   "outputs": [
    {
     "data": {
      "text/plain": "[0, 18, 23, 30, 40, 66]"
     },
     "execution_count": 69,
     "metadata": {},
     "output_type": "execute_result"
    }
   ],
   "source": [
    "bins"
   ],
   "metadata": {
    "collapsed": false,
    "ExecuteTime": {
     "end_time": "2024-02-05T15:36:35.719883100Z",
     "start_time": "2024-02-05T15:36:35.672719Z"
    }
   },
   "id": "942551044ec3492b",
   "execution_count": 69
  },
  {
   "cell_type": "code",
   "outputs": [
    {
     "data": {
      "text/plain": "['0_18', '19_23', '24_30', '31_40', '41_66']"
     },
     "execution_count": 70,
     "metadata": {},
     "output_type": "execute_result"
    }
   ],
   "source": [
    "my_labes"
   ],
   "metadata": {
    "collapsed": false,
    "ExecuteTime": {
     "end_time": "2024-02-05T15:36:35.742295400Z",
     "start_time": "2024-02-05T15:36:35.703479800Z"
    }
   },
   "id": "6974b54f696e8dab",
   "execution_count": 70
  },
  {
   "cell_type": "code",
   "outputs": [
    {
     "data": {
      "text/plain": "  COUNTRY   SOURCE     SEX  AGE  PRICE  age_cat agg_cat_m\n0     bra  android    male   46   59.0        5     41_66\n1     usa  android    male   36   59.0        5     31_40\n2     fra  android  female   24   59.0        5     24_30\n3     usa      ios    male   32   54.0        5     31_40\n4     deu  android  female   36   49.0        5     31_40\n5     deu  android  female   51   49.0        5     41_66\n6     deu      ios    male   20   49.0        5     19_23\n7     usa  android  female   47   49.0        5     41_66\n8     fra      ios    male   20   49.0        5     19_23\n9     usa      ios    male   59   46.5        5     41_66",
      "text/html": "<div>\n<style scoped>\n    .dataframe tbody tr th:only-of-type {\n        vertical-align: middle;\n    }\n\n    .dataframe tbody tr th {\n        vertical-align: top;\n    }\n\n    .dataframe thead th {\n        text-align: right;\n    }\n</style>\n<table border=\"1\" class=\"dataframe\">\n  <thead>\n    <tr style=\"text-align: right;\">\n      <th></th>\n      <th>COUNTRY</th>\n      <th>SOURCE</th>\n      <th>SEX</th>\n      <th>AGE</th>\n      <th>PRICE</th>\n      <th>age_cat</th>\n      <th>agg_cat_m</th>\n    </tr>\n  </thead>\n  <tbody>\n    <tr>\n      <th>0</th>\n      <td>bra</td>\n      <td>android</td>\n      <td>male</td>\n      <td>46</td>\n      <td>59.0</td>\n      <td>5</td>\n      <td>41_66</td>\n    </tr>\n    <tr>\n      <th>1</th>\n      <td>usa</td>\n      <td>android</td>\n      <td>male</td>\n      <td>36</td>\n      <td>59.0</td>\n      <td>5</td>\n      <td>31_40</td>\n    </tr>\n    <tr>\n      <th>2</th>\n      <td>fra</td>\n      <td>android</td>\n      <td>female</td>\n      <td>24</td>\n      <td>59.0</td>\n      <td>5</td>\n      <td>24_30</td>\n    </tr>\n    <tr>\n      <th>3</th>\n      <td>usa</td>\n      <td>ios</td>\n      <td>male</td>\n      <td>32</td>\n      <td>54.0</td>\n      <td>5</td>\n      <td>31_40</td>\n    </tr>\n    <tr>\n      <th>4</th>\n      <td>deu</td>\n      <td>android</td>\n      <td>female</td>\n      <td>36</td>\n      <td>49.0</td>\n      <td>5</td>\n      <td>31_40</td>\n    </tr>\n    <tr>\n      <th>5</th>\n      <td>deu</td>\n      <td>android</td>\n      <td>female</td>\n      <td>51</td>\n      <td>49.0</td>\n      <td>5</td>\n      <td>41_66</td>\n    </tr>\n    <tr>\n      <th>6</th>\n      <td>deu</td>\n      <td>ios</td>\n      <td>male</td>\n      <td>20</td>\n      <td>49.0</td>\n      <td>5</td>\n      <td>19_23</td>\n    </tr>\n    <tr>\n      <th>7</th>\n      <td>usa</td>\n      <td>android</td>\n      <td>female</td>\n      <td>47</td>\n      <td>49.0</td>\n      <td>5</td>\n      <td>41_66</td>\n    </tr>\n    <tr>\n      <th>8</th>\n      <td>fra</td>\n      <td>ios</td>\n      <td>male</td>\n      <td>20</td>\n      <td>49.0</td>\n      <td>5</td>\n      <td>19_23</td>\n    </tr>\n    <tr>\n      <th>9</th>\n      <td>usa</td>\n      <td>ios</td>\n      <td>male</td>\n      <td>59</td>\n      <td>46.5</td>\n      <td>5</td>\n      <td>41_66</td>\n    </tr>\n  </tbody>\n</table>\n</div>"
     },
     "execution_count": 71,
     "metadata": {},
     "output_type": "execute_result"
    }
   ],
   "source": [
    "agg_df.loc[agg_df[\"AGE\"] < 19, \"agg_cat_m\"] = \"0_18\"\n",
    "agg_df.loc[(agg_df[\"AGE\"] > 18) & (agg_df[\"AGE\"] < 24), \"agg_cat_m\"] = \"19_23\"\n",
    "agg_df.loc[(agg_df[\"AGE\"] > 23) & (agg_df[\"AGE\"] < 31), \"agg_cat_m\"] = \"24_30\"\n",
    "agg_df.loc[(agg_df[\"AGE\"] > 30) & (agg_df[\"AGE\"] < 41), \"agg_cat_m\"] = \"31_40\"\n",
    "agg_df.loc[agg_df[\"AGE\"] > 40, \"agg_cat_m\"] = \"41_66\"\n",
    "agg_df.head(10)"
   ],
   "metadata": {
    "collapsed": false,
    "ExecuteTime": {
     "end_time": "2024-02-05T15:36:35.865672800Z",
     "start_time": "2024-02-05T15:36:35.746688600Z"
    }
   },
   "id": "8386fe212227068c",
   "execution_count": 71
  },
  {
   "cell_type": "code",
   "outputs": [
    {
     "data": {
      "text/plain": "'41_66'"
     },
     "execution_count": 72,
     "metadata": {},
     "output_type": "execute_result"
    }
   ],
   "source": [
    "agg_df.values[0][6]"
   ],
   "metadata": {
    "collapsed": false,
    "ExecuteTime": {
     "end_time": "2024-02-05T15:36:35.905445300Z",
     "start_time": "2024-02-05T15:36:35.815524500Z"
    }
   },
   "id": "151eb8097dfda51f",
   "execution_count": 72
  },
  {
   "cell_type": "code",
   "outputs": [
    {
     "data": {
      "text/plain": "'bra_android_male_41_66'"
     },
     "execution_count": 73,
     "metadata": {},
     "output_type": "execute_result"
    }
   ],
   "source": [
    "agg_df.values[0][0]+\"_\"+agg_df.values[0][1]+\"_\"+agg_df.values[0][2]+\"_\"+agg_df.values[0][6]"
   ],
   "metadata": {
    "collapsed": false,
    "ExecuteTime": {
     "end_time": "2024-02-05T15:36:36.005184200Z",
     "start_time": "2024-02-05T15:36:35.906550400Z"
    }
   },
   "id": "e6778f683336d70c",
   "execution_count": 73
  },
  {
   "cell_type": "code",
   "outputs": [],
   "source": [
    "# customers_level_based adında bir değişken tanımlayınız ve veri setine bu değişkeni ekleyiniz\n",
    "\n",
    "agg_df[\"customer_level_based\"] = [row[0].upper() + \"_\" + row[1].upper() + \"_\" + row[2].upper() + \"_\" + row[6] for row in agg_df.values]"
   ],
   "metadata": {
    "collapsed": false,
    "ExecuteTime": {
     "end_time": "2024-02-05T15:36:36.082228800Z",
     "start_time": "2024-02-05T15:36:35.988191500Z"
    }
   },
   "id": "d2e63022558cc85e",
   "execution_count": 74
  },
  {
   "cell_type": "code",
   "outputs": [
    {
     "data": {
      "text/plain": "  COUNTRY   SOURCE     SEX  AGE  PRICE  age_cat agg_cat_m  \\\n0     bra  android    male   46   59.0        5     41_66   \n1     usa  android    male   36   59.0        5     31_40   \n2     fra  android  female   24   59.0        5     24_30   \n3     usa      ios    male   32   54.0        5     31_40   \n4     deu  android  female   36   49.0        5     31_40   \n5     deu  android  female   51   49.0        5     41_66   \n6     deu      ios    male   20   49.0        5     19_23   \n7     usa  android  female   47   49.0        5     41_66   \n8     fra      ios    male   20   49.0        5     19_23   \n9     usa      ios    male   59   46.5        5     41_66   \n\n       customer_level_based  \n0    BRA_ANDROID_MALE_41_66  \n1    USA_ANDROID_MALE_31_40  \n2  FRA_ANDROID_FEMALE_24_30  \n3        USA_IOS_MALE_31_40  \n4  DEU_ANDROID_FEMALE_31_40  \n5  DEU_ANDROID_FEMALE_41_66  \n6        DEU_IOS_MALE_19_23  \n7  USA_ANDROID_FEMALE_41_66  \n8        FRA_IOS_MALE_19_23  \n9        USA_IOS_MALE_41_66  ",
      "text/html": "<div>\n<style scoped>\n    .dataframe tbody tr th:only-of-type {\n        vertical-align: middle;\n    }\n\n    .dataframe tbody tr th {\n        vertical-align: top;\n    }\n\n    .dataframe thead th {\n        text-align: right;\n    }\n</style>\n<table border=\"1\" class=\"dataframe\">\n  <thead>\n    <tr style=\"text-align: right;\">\n      <th></th>\n      <th>COUNTRY</th>\n      <th>SOURCE</th>\n      <th>SEX</th>\n      <th>AGE</th>\n      <th>PRICE</th>\n      <th>age_cat</th>\n      <th>agg_cat_m</th>\n      <th>customer_level_based</th>\n    </tr>\n  </thead>\n  <tbody>\n    <tr>\n      <th>0</th>\n      <td>bra</td>\n      <td>android</td>\n      <td>male</td>\n      <td>46</td>\n      <td>59.0</td>\n      <td>5</td>\n      <td>41_66</td>\n      <td>BRA_ANDROID_MALE_41_66</td>\n    </tr>\n    <tr>\n      <th>1</th>\n      <td>usa</td>\n      <td>android</td>\n      <td>male</td>\n      <td>36</td>\n      <td>59.0</td>\n      <td>5</td>\n      <td>31_40</td>\n      <td>USA_ANDROID_MALE_31_40</td>\n    </tr>\n    <tr>\n      <th>2</th>\n      <td>fra</td>\n      <td>android</td>\n      <td>female</td>\n      <td>24</td>\n      <td>59.0</td>\n      <td>5</td>\n      <td>24_30</td>\n      <td>FRA_ANDROID_FEMALE_24_30</td>\n    </tr>\n    <tr>\n      <th>3</th>\n      <td>usa</td>\n      <td>ios</td>\n      <td>male</td>\n      <td>32</td>\n      <td>54.0</td>\n      <td>5</td>\n      <td>31_40</td>\n      <td>USA_IOS_MALE_31_40</td>\n    </tr>\n    <tr>\n      <th>4</th>\n      <td>deu</td>\n      <td>android</td>\n      <td>female</td>\n      <td>36</td>\n      <td>49.0</td>\n      <td>5</td>\n      <td>31_40</td>\n      <td>DEU_ANDROID_FEMALE_31_40</td>\n    </tr>\n    <tr>\n      <th>5</th>\n      <td>deu</td>\n      <td>android</td>\n      <td>female</td>\n      <td>51</td>\n      <td>49.0</td>\n      <td>5</td>\n      <td>41_66</td>\n      <td>DEU_ANDROID_FEMALE_41_66</td>\n    </tr>\n    <tr>\n      <th>6</th>\n      <td>deu</td>\n      <td>ios</td>\n      <td>male</td>\n      <td>20</td>\n      <td>49.0</td>\n      <td>5</td>\n      <td>19_23</td>\n      <td>DEU_IOS_MALE_19_23</td>\n    </tr>\n    <tr>\n      <th>7</th>\n      <td>usa</td>\n      <td>android</td>\n      <td>female</td>\n      <td>47</td>\n      <td>49.0</td>\n      <td>5</td>\n      <td>41_66</td>\n      <td>USA_ANDROID_FEMALE_41_66</td>\n    </tr>\n    <tr>\n      <th>8</th>\n      <td>fra</td>\n      <td>ios</td>\n      <td>male</td>\n      <td>20</td>\n      <td>49.0</td>\n      <td>5</td>\n      <td>19_23</td>\n      <td>FRA_IOS_MALE_19_23</td>\n    </tr>\n    <tr>\n      <th>9</th>\n      <td>usa</td>\n      <td>ios</td>\n      <td>male</td>\n      <td>59</td>\n      <td>46.5</td>\n      <td>5</td>\n      <td>41_66</td>\n      <td>USA_IOS_MALE_41_66</td>\n    </tr>\n  </tbody>\n</table>\n</div>"
     },
     "execution_count": 75,
     "metadata": {},
     "output_type": "execute_result"
    }
   ],
   "source": [
    "agg_df.head(10)"
   ],
   "metadata": {
    "collapsed": false,
    "ExecuteTime": {
     "end_time": "2024-02-05T15:36:36.133521300Z",
     "start_time": "2024-02-05T15:36:36.080206900Z"
    }
   },
   "id": "e5646854c6ac101b",
   "execution_count": 75
  },
  {
   "cell_type": "code",
   "outputs": [
    {
     "data": {
      "text/plain": "BRA_ANDROID_MALE_24_30      7\nUSA_ANDROID_MALE_41_66      7\nUSA_IOS_FEMALE_24_30        7\nBRA_ANDROID_FEMALE_24_30    7\nUSA_ANDROID_MALE_24_30      7\nBRA_IOS_MALE_31_40          6\nUSA_ANDROID_FEMALE_24_30    6\nUSA_IOS_MALE_24_30          6\nBRA_IOS_FEMALE_24_30        6\nUSA_ANDROID_MALE_31_40      6\nName: customer_level_based, dtype: int64"
     },
     "execution_count": 76,
     "metadata": {},
     "output_type": "execute_result"
    }
   ],
   "source": [
    "# Let's add to the dataset/ Veri setine ekleyelim:\n",
    "\n",
    "agg_df[\"customer_level_based\"].value_counts().head(10)"
   ],
   "metadata": {
    "collapsed": false,
    "ExecuteTime": {
     "end_time": "2024-02-05T15:36:36.187829200Z",
     "start_time": "2024-02-05T15:36:36.111564200Z"
    }
   },
   "id": "d13fed8943566613",
   "execution_count": 76
  },
  {
   "cell_type": "code",
   "execution_count": 77,
   "id": "5a34e546",
   "metadata": {
    "ExecuteTime": {
     "end_time": "2024-02-05T15:36:36.229074900Z",
     "start_time": "2024-02-05T15:36:36.139527200Z"
    }
   },
   "outputs": [
    {
     "data": {
      "text/plain": "       customer_level_based  PRICE\n0    BRA_ANDROID_MALE_41_66   59.0\n1    USA_ANDROID_MALE_31_40   59.0\n2  FRA_ANDROID_FEMALE_24_30   59.0\n3        USA_IOS_MALE_31_40   54.0\n4  DEU_ANDROID_FEMALE_31_40   49.0\n5  DEU_ANDROID_FEMALE_41_66   49.0\n6        DEU_IOS_MALE_19_23   49.0\n7  USA_ANDROID_FEMALE_41_66   49.0\n8        FRA_IOS_MALE_19_23   49.0\n9        USA_IOS_MALE_41_66   46.5",
      "text/html": "<div>\n<style scoped>\n    .dataframe tbody tr th:only-of-type {\n        vertical-align: middle;\n    }\n\n    .dataframe tbody tr th {\n        vertical-align: top;\n    }\n\n    .dataframe thead th {\n        text-align: right;\n    }\n</style>\n<table border=\"1\" class=\"dataframe\">\n  <thead>\n    <tr style=\"text-align: right;\">\n      <th></th>\n      <th>customer_level_based</th>\n      <th>PRICE</th>\n    </tr>\n  </thead>\n  <tbody>\n    <tr>\n      <th>0</th>\n      <td>BRA_ANDROID_MALE_41_66</td>\n      <td>59.0</td>\n    </tr>\n    <tr>\n      <th>1</th>\n      <td>USA_ANDROID_MALE_31_40</td>\n      <td>59.0</td>\n    </tr>\n    <tr>\n      <th>2</th>\n      <td>FRA_ANDROID_FEMALE_24_30</td>\n      <td>59.0</td>\n    </tr>\n    <tr>\n      <th>3</th>\n      <td>USA_IOS_MALE_31_40</td>\n      <td>54.0</td>\n    </tr>\n    <tr>\n      <th>4</th>\n      <td>DEU_ANDROID_FEMALE_31_40</td>\n      <td>49.0</td>\n    </tr>\n    <tr>\n      <th>5</th>\n      <td>DEU_ANDROID_FEMALE_41_66</td>\n      <td>49.0</td>\n    </tr>\n    <tr>\n      <th>6</th>\n      <td>DEU_IOS_MALE_19_23</td>\n      <td>49.0</td>\n    </tr>\n    <tr>\n      <th>7</th>\n      <td>USA_ANDROID_FEMALE_41_66</td>\n      <td>49.0</td>\n    </tr>\n    <tr>\n      <th>8</th>\n      <td>FRA_IOS_MALE_19_23</td>\n      <td>49.0</td>\n    </tr>\n    <tr>\n      <th>9</th>\n      <td>USA_IOS_MALE_41_66</td>\n      <td>46.5</td>\n    </tr>\n  </tbody>\n</table>\n</div>"
     },
     "execution_count": 77,
     "metadata": {},
     "output_type": "execute_result"
    }
   ],
   "source": [
    "# Let's choose the necessary features./ Gereksiz değişkenleri çıkaralım:\n",
    "\n",
    "agg_df = agg_df[[\"customer_level_based\",\"PRICE\"]]\n",
    "agg_df.head(10)"
   ]
  },
  {
   "cell_type": "code",
   "execution_count": 78,
   "id": "0485c388",
   "metadata": {
    "ExecuteTime": {
     "end_time": "2024-02-05T15:36:36.275881400Z",
     "start_time": "2024-02-05T15:36:36.232163600Z"
    }
   },
   "outputs": [
    {
     "data": {
      "text/plain": "       customer_level_based  PRICE\n0    BRA_ANDROID_MALE_41_66   59.0\n1    USA_ANDROID_MALE_31_40   59.0\n2  FRA_ANDROID_FEMALE_24_30   59.0\n3        USA_IOS_MALE_31_40   54.0\n4  DEU_ANDROID_FEMALE_31_40   49.0\n5  DEU_ANDROID_FEMALE_41_66   49.0\n6        DEU_IOS_MALE_19_23   49.0\n7  USA_ANDROID_FEMALE_41_66   49.0\n8        FRA_IOS_MALE_19_23   49.0\n9        USA_IOS_MALE_41_66   46.5",
      "text/html": "<div>\n<style scoped>\n    .dataframe tbody tr th:only-of-type {\n        vertical-align: middle;\n    }\n\n    .dataframe tbody tr th {\n        vertical-align: top;\n    }\n\n    .dataframe thead th {\n        text-align: right;\n    }\n</style>\n<table border=\"1\" class=\"dataframe\">\n  <thead>\n    <tr style=\"text-align: right;\">\n      <th></th>\n      <th>customer_level_based</th>\n      <th>PRICE</th>\n    </tr>\n  </thead>\n  <tbody>\n    <tr>\n      <th>0</th>\n      <td>BRA_ANDROID_MALE_41_66</td>\n      <td>59.0</td>\n    </tr>\n    <tr>\n      <th>1</th>\n      <td>USA_ANDROID_MALE_31_40</td>\n      <td>59.0</td>\n    </tr>\n    <tr>\n      <th>2</th>\n      <td>FRA_ANDROID_FEMALE_24_30</td>\n      <td>59.0</td>\n    </tr>\n    <tr>\n      <th>3</th>\n      <td>USA_IOS_MALE_31_40</td>\n      <td>54.0</td>\n    </tr>\n    <tr>\n      <th>4</th>\n      <td>DEU_ANDROID_FEMALE_31_40</td>\n      <td>49.0</td>\n    </tr>\n    <tr>\n      <th>5</th>\n      <td>DEU_ANDROID_FEMALE_41_66</td>\n      <td>49.0</td>\n    </tr>\n    <tr>\n      <th>6</th>\n      <td>DEU_IOS_MALE_19_23</td>\n      <td>49.0</td>\n    </tr>\n    <tr>\n      <th>7</th>\n      <td>USA_ANDROID_FEMALE_41_66</td>\n      <td>49.0</td>\n    </tr>\n    <tr>\n      <th>8</th>\n      <td>FRA_IOS_MALE_19_23</td>\n      <td>49.0</td>\n    </tr>\n    <tr>\n      <th>9</th>\n      <td>USA_IOS_MALE_41_66</td>\n      <td>46.5</td>\n    </tr>\n  </tbody>\n</table>\n</div>"
     },
     "execution_count": 78,
     "metadata": {},
     "output_type": "execute_result"
    }
   ],
   "source": [
    "# Burada ufak bir problem var. Birçok aynı segment olacak. Segmentleri göre groupby yapıyoruz ve price oralamalarını alıyoruz.\n",
    "\n",
    "agg_df.groupby(\"customer_level_based\").agg({\"PRICE\": \"mean\"})\n",
    "agg_df.head(10)"
   ]
  },
  {
   "cell_type": "code",
   "outputs": [
    {
     "data": {
      "text/plain": "                              PRICE\ncustomer_level_based               \nBRA_ANDROID_FEMALE_0_18   35.645303\nBRA_ANDROID_FEMALE_19_23  34.077340\nBRA_ANDROID_FEMALE_24_30  33.863946\nBRA_ANDROID_FEMALE_31_40  34.898326\nBRA_ANDROID_FEMALE_41_66  36.737179\nBRA_ANDROID_MALE_0_18     34.805861\nBRA_ANDROID_MALE_19_23    31.673243\nBRA_ANDROID_MALE_24_30    33.413919\nBRA_ANDROID_MALE_31_40    34.327381\nBRA_ANDROID_MALE_41_66    40.041667",
      "text/html": "<div>\n<style scoped>\n    .dataframe tbody tr th:only-of-type {\n        vertical-align: middle;\n    }\n\n    .dataframe tbody tr th {\n        vertical-align: top;\n    }\n\n    .dataframe thead th {\n        text-align: right;\n    }\n</style>\n<table border=\"1\" class=\"dataframe\">\n  <thead>\n    <tr style=\"text-align: right;\">\n      <th></th>\n      <th>PRICE</th>\n    </tr>\n    <tr>\n      <th>customer_level_based</th>\n      <th></th>\n    </tr>\n  </thead>\n  <tbody>\n    <tr>\n      <th>BRA_ANDROID_FEMALE_0_18</th>\n      <td>35.645303</td>\n    </tr>\n    <tr>\n      <th>BRA_ANDROID_FEMALE_19_23</th>\n      <td>34.077340</td>\n    </tr>\n    <tr>\n      <th>BRA_ANDROID_FEMALE_24_30</th>\n      <td>33.863946</td>\n    </tr>\n    <tr>\n      <th>BRA_ANDROID_FEMALE_31_40</th>\n      <td>34.898326</td>\n    </tr>\n    <tr>\n      <th>BRA_ANDROID_FEMALE_41_66</th>\n      <td>36.737179</td>\n    </tr>\n    <tr>\n      <th>BRA_ANDROID_MALE_0_18</th>\n      <td>34.805861</td>\n    </tr>\n    <tr>\n      <th>BRA_ANDROID_MALE_19_23</th>\n      <td>31.673243</td>\n    </tr>\n    <tr>\n      <th>BRA_ANDROID_MALE_24_30</th>\n      <td>33.413919</td>\n    </tr>\n    <tr>\n      <th>BRA_ANDROID_MALE_31_40</th>\n      <td>34.327381</td>\n    </tr>\n    <tr>\n      <th>BRA_ANDROID_MALE_41_66</th>\n      <td>40.041667</td>\n    </tr>\n  </tbody>\n</table>\n</div>"
     },
     "execution_count": 79,
     "metadata": {},
     "output_type": "execute_result"
    }
   ],
   "source": [
    "# Yukarıda aldığımız price ortalamalarını agg_df değişkenine aktarıyoruz.\n",
    "\n",
    "agg_df = agg_df.groupby(\"customer_level_based\").agg({\"PRICE\":\"mean\"})\n",
    "agg_df.head(10)"
   ],
   "metadata": {
    "collapsed": false,
    "ExecuteTime": {
     "end_time": "2024-02-05T15:36:36.390051500Z",
     "start_time": "2024-02-05T15:36:36.271503Z"
    }
   },
   "id": "4aa8ccf7ce4f69d3",
   "execution_count": 79
  },
  {
   "cell_type": "code",
   "outputs": [
    {
     "data": {
      "text/plain": "       customer_level_based      PRICE\n0   BRA_ANDROID_FEMALE_0_18  35.645303\n1  BRA_ANDROID_FEMALE_19_23  34.077340\n2  BRA_ANDROID_FEMALE_24_30  33.863946\n3  BRA_ANDROID_FEMALE_31_40  34.898326\n4  BRA_ANDROID_FEMALE_41_66  36.737179\n5     BRA_ANDROID_MALE_0_18  34.805861\n6    BRA_ANDROID_MALE_19_23  31.673243\n7    BRA_ANDROID_MALE_24_30  33.413919\n8    BRA_ANDROID_MALE_31_40  34.327381\n9    BRA_ANDROID_MALE_41_66  40.041667",
      "text/html": "<div>\n<style scoped>\n    .dataframe tbody tr th:only-of-type {\n        vertical-align: middle;\n    }\n\n    .dataframe tbody tr th {\n        vertical-align: top;\n    }\n\n    .dataframe thead th {\n        text-align: right;\n    }\n</style>\n<table border=\"1\" class=\"dataframe\">\n  <thead>\n    <tr style=\"text-align: right;\">\n      <th></th>\n      <th>customer_level_based</th>\n      <th>PRICE</th>\n    </tr>\n  </thead>\n  <tbody>\n    <tr>\n      <th>0</th>\n      <td>BRA_ANDROID_FEMALE_0_18</td>\n      <td>35.645303</td>\n    </tr>\n    <tr>\n      <th>1</th>\n      <td>BRA_ANDROID_FEMALE_19_23</td>\n      <td>34.077340</td>\n    </tr>\n    <tr>\n      <th>2</th>\n      <td>BRA_ANDROID_FEMALE_24_30</td>\n      <td>33.863946</td>\n    </tr>\n    <tr>\n      <th>3</th>\n      <td>BRA_ANDROID_FEMALE_31_40</td>\n      <td>34.898326</td>\n    </tr>\n    <tr>\n      <th>4</th>\n      <td>BRA_ANDROID_FEMALE_41_66</td>\n      <td>36.737179</td>\n    </tr>\n    <tr>\n      <th>5</th>\n      <td>BRA_ANDROID_MALE_0_18</td>\n      <td>34.805861</td>\n    </tr>\n    <tr>\n      <th>6</th>\n      <td>BRA_ANDROID_MALE_19_23</td>\n      <td>31.673243</td>\n    </tr>\n    <tr>\n      <th>7</th>\n      <td>BRA_ANDROID_MALE_24_30</td>\n      <td>33.413919</td>\n    </tr>\n    <tr>\n      <th>8</th>\n      <td>BRA_ANDROID_MALE_31_40</td>\n      <td>34.327381</td>\n    </tr>\n    <tr>\n      <th>9</th>\n      <td>BRA_ANDROID_MALE_41_66</td>\n      <td>40.041667</td>\n    </tr>\n  </tbody>\n</table>\n</div>"
     },
     "execution_count": 80,
     "metadata": {},
     "output_type": "execute_result"
    }
   ],
   "source": [
    "#customers_level_based index'te yer almaktadır. Bunu değişkene çevirelim.\n",
    "\n",
    "agg_df = agg_df.reset_index()\n",
    "agg_df.head(10)"
   ],
   "metadata": {
    "collapsed": false,
    "ExecuteTime": {
     "end_time": "2024-02-05T15:36:36.433558300Z",
     "start_time": "2024-02-05T15:36:36.322244700Z"
    }
   },
   "id": "c046c481ed7eac4c",
   "execution_count": 80
  },
  {
   "cell_type": "code",
   "execution_count": 81,
   "id": "9eb161d3",
   "metadata": {
    "ExecuteTime": {
     "end_time": "2024-02-05T15:36:36.554285500Z",
     "start_time": "2024-02-05T15:36:36.396626800Z"
    }
   },
   "outputs": [
    {
     "data": {
      "text/plain": "       customer_level_based      PRICE\n0   BRA_ANDROID_FEMALE_0_18  35.645303\n1  BRA_ANDROID_FEMALE_19_23  34.077340\n2  BRA_ANDROID_FEMALE_24_30  33.863946\n3  BRA_ANDROID_FEMALE_31_40  34.898326\n4  BRA_ANDROID_FEMALE_41_66  36.737179\n5     BRA_ANDROID_MALE_0_18  34.805861\n6    BRA_ANDROID_MALE_19_23  31.673243\n7    BRA_ANDROID_MALE_24_30  33.413919\n8    BRA_ANDROID_MALE_31_40  34.327381\n9    BRA_ANDROID_MALE_41_66  40.041667",
      "text/html": "<div>\n<style scoped>\n    .dataframe tbody tr th:only-of-type {\n        vertical-align: middle;\n    }\n\n    .dataframe tbody tr th {\n        vertical-align: top;\n    }\n\n    .dataframe thead th {\n        text-align: right;\n    }\n</style>\n<table border=\"1\" class=\"dataframe\">\n  <thead>\n    <tr style=\"text-align: right;\">\n      <th></th>\n      <th>customer_level_based</th>\n      <th>PRICE</th>\n    </tr>\n  </thead>\n  <tbody>\n    <tr>\n      <th>0</th>\n      <td>BRA_ANDROID_FEMALE_0_18</td>\n      <td>35.645303</td>\n    </tr>\n    <tr>\n      <th>1</th>\n      <td>BRA_ANDROID_FEMALE_19_23</td>\n      <td>34.077340</td>\n    </tr>\n    <tr>\n      <th>2</th>\n      <td>BRA_ANDROID_FEMALE_24_30</td>\n      <td>33.863946</td>\n    </tr>\n    <tr>\n      <th>3</th>\n      <td>BRA_ANDROID_FEMALE_31_40</td>\n      <td>34.898326</td>\n    </tr>\n    <tr>\n      <th>4</th>\n      <td>BRA_ANDROID_FEMALE_41_66</td>\n      <td>36.737179</td>\n    </tr>\n    <tr>\n      <th>5</th>\n      <td>BRA_ANDROID_MALE_0_18</td>\n      <td>34.805861</td>\n    </tr>\n    <tr>\n      <th>6</th>\n      <td>BRA_ANDROID_MALE_19_23</td>\n      <td>31.673243</td>\n    </tr>\n    <tr>\n      <th>7</th>\n      <td>BRA_ANDROID_MALE_24_30</td>\n      <td>33.413919</td>\n    </tr>\n    <tr>\n      <th>8</th>\n      <td>BRA_ANDROID_MALE_31_40</td>\n      <td>34.327381</td>\n    </tr>\n    <tr>\n      <th>9</th>\n      <td>BRA_ANDROID_MALE_41_66</td>\n      <td>40.041667</td>\n    </tr>\n  </tbody>\n</table>\n</div>"
     },
     "execution_count": 81,
     "metadata": {},
     "output_type": "execute_result"
    }
   ],
   "source": [
    "# Kontrol edelim. her bir persona'nın 1 tane olmasını bekleriz.\n",
    "\n",
    "agg_df[\"customer_level_based\"].value_counts()\n",
    "agg_df.head(10)"
   ]
  },
  {
   "cell_type": "code",
   "execution_count": 82,
   "id": "f75360be",
   "metadata": {
    "ExecuteTime": {
     "end_time": "2024-02-05T15:36:36.642446500Z",
     "start_time": "2024-02-05T15:36:36.484680300Z"
    }
   },
   "outputs": [
    {
     "data": {
      "text/plain": "       customer_level_based      PRICE SEGMENT\n0   BRA_ANDROID_FEMALE_0_18  35.645303       B\n1  BRA_ANDROID_FEMALE_19_23  34.077340       C\n2  BRA_ANDROID_FEMALE_24_30  33.863946       C\n3  BRA_ANDROID_FEMALE_31_40  34.898326       B\n4  BRA_ANDROID_FEMALE_41_66  36.737179       A",
      "text/html": "<div>\n<style scoped>\n    .dataframe tbody tr th:only-of-type {\n        vertical-align: middle;\n    }\n\n    .dataframe tbody tr th {\n        vertical-align: top;\n    }\n\n    .dataframe thead th {\n        text-align: right;\n    }\n</style>\n<table border=\"1\" class=\"dataframe\">\n  <thead>\n    <tr style=\"text-align: right;\">\n      <th></th>\n      <th>customer_level_based</th>\n      <th>PRICE</th>\n      <th>SEGMENT</th>\n    </tr>\n  </thead>\n  <tbody>\n    <tr>\n      <th>0</th>\n      <td>BRA_ANDROID_FEMALE_0_18</td>\n      <td>35.645303</td>\n      <td>B</td>\n    </tr>\n    <tr>\n      <th>1</th>\n      <td>BRA_ANDROID_FEMALE_19_23</td>\n      <td>34.077340</td>\n      <td>C</td>\n    </tr>\n    <tr>\n      <th>2</th>\n      <td>BRA_ANDROID_FEMALE_24_30</td>\n      <td>33.863946</td>\n      <td>C</td>\n    </tr>\n    <tr>\n      <th>3</th>\n      <td>BRA_ANDROID_FEMALE_31_40</td>\n      <td>34.898326</td>\n      <td>B</td>\n    </tr>\n    <tr>\n      <th>4</th>\n      <td>BRA_ANDROID_FEMALE_41_66</td>\n      <td>36.737179</td>\n      <td>A</td>\n    </tr>\n  </tbody>\n</table>\n</div>"
     },
     "execution_count": 82,
     "metadata": {},
     "output_type": "execute_result"
    }
   ],
   "source": [
    "# GÖREV 7: Yeni müşterileri bu segmentlere göre sınıflandırınız.\n",
    "# segmentleri \"SEGMENT\" isimlendirmesi ile agg_df'e ekleyiniz,\n",
    "# segmentleri betimleyiniz,\n",
    "\n",
    "agg_df[\"SEGMENT\"] = pd.qcut(agg_df[\"PRICE\"], 4, labels= [\"D\", \"C\", \"B\", \"A\"])\n",
    "agg_df.head()"
   ]
  },
  {
   "cell_type": "code",
   "outputs": [
    {
     "data": {
      "text/plain": "             PRICE\nSEGMENT           \nD        29.206780\nC        33.509674\nB        34.999645\nA        38.691234",
      "text/html": "<div>\n<style scoped>\n    .dataframe tbody tr th:only-of-type {\n        vertical-align: middle;\n    }\n\n    .dataframe tbody tr th {\n        vertical-align: top;\n    }\n\n    .dataframe thead th {\n        text-align: right;\n    }\n</style>\n<table border=\"1\" class=\"dataframe\">\n  <thead>\n    <tr style=\"text-align: right;\">\n      <th></th>\n      <th>PRICE</th>\n    </tr>\n    <tr>\n      <th>SEGMENT</th>\n      <th></th>\n    </tr>\n  </thead>\n  <tbody>\n    <tr>\n      <th>D</th>\n      <td>29.206780</td>\n    </tr>\n    <tr>\n      <th>C</th>\n      <td>33.509674</td>\n    </tr>\n    <tr>\n      <th>B</th>\n      <td>34.999645</td>\n    </tr>\n    <tr>\n      <th>A</th>\n      <td>38.691234</td>\n    </tr>\n  </tbody>\n</table>\n</div>"
     },
     "execution_count": 83,
     "metadata": {},
     "output_type": "execute_result"
    }
   ],
   "source": [
    "# PRICE'a göre segmentlere ayırınız.\n",
    "\n",
    "agg_df.groupby(\"SEGMENT\").agg({\"PRICE\":\"mean\"})"
   ],
   "metadata": {
    "collapsed": false,
    "ExecuteTime": {
     "end_time": "2024-02-05T15:36:36.786645900Z",
     "start_time": "2024-02-05T15:36:36.597317700Z"
    }
   },
   "id": "8a6332ba8348f9df",
   "execution_count": 83
  },
  {
   "cell_type": "code",
   "execution_count": 84,
   "id": "8f91de62",
   "metadata": {
    "ExecuteTime": {
     "end_time": "2024-02-05T15:36:36.914956400Z",
     "start_time": "2024-02-05T15:36:36.745031900Z"
    }
   },
   "outputs": [
    {
     "data": {
      "text/plain": "        customer_level_based      PRICE SEGMENT\n72  TUR_ANDROID_FEMALE_31_40  41.833333       A",
      "text/html": "<div>\n<style scoped>\n    .dataframe tbody tr th:only-of-type {\n        vertical-align: middle;\n    }\n\n    .dataframe tbody tr th {\n        vertical-align: top;\n    }\n\n    .dataframe thead th {\n        text-align: right;\n    }\n</style>\n<table border=\"1\" class=\"dataframe\">\n  <thead>\n    <tr style=\"text-align: right;\">\n      <th></th>\n      <th>customer_level_based</th>\n      <th>PRICE</th>\n      <th>SEGMENT</th>\n    </tr>\n  </thead>\n  <tbody>\n    <tr>\n      <th>72</th>\n      <td>TUR_ANDROID_FEMALE_31_40</td>\n      <td>41.833333</td>\n      <td>A</td>\n    </tr>\n  </tbody>\n</table>\n</div>"
     },
     "execution_count": 84,
     "metadata": {},
     "output_type": "execute_result"
    }
   ],
   "source": [
    "# GÖREV 8: Yeni gelen müşterileri sınıflandırınız ne kadar gelir getirebileceğini tahmin ediniz.\n",
    "\n",
    "# 33 yaşında ANDROID kullanan bir Türk kadını hangi segmente aittir ve ortalama ne kadar gelir kazandırması beklenir?\n",
    "new_user = \"TUR_ANDROID_FEMALE_31_40\"\n",
    "agg_df[agg_df[\"customer_level_based\"] == new_user]"
   ]
  },
  {
   "cell_type": "code",
   "execution_count": 85,
   "id": "75f7ecd8",
   "metadata": {
    "ExecuteTime": {
     "end_time": "2024-02-05T15:36:36.984643300Z",
     "start_time": "2024-02-05T15:36:36.847943Z"
    }
   },
   "outputs": [
    {
     "data": {
      "text/plain": "    customer_level_based      PRICE SEGMENT\n63  FRA_IOS_FEMALE_31_40  32.818182       C",
      "text/html": "<div>\n<style scoped>\n    .dataframe tbody tr th:only-of-type {\n        vertical-align: middle;\n    }\n\n    .dataframe tbody tr th {\n        vertical-align: top;\n    }\n\n    .dataframe thead th {\n        text-align: right;\n    }\n</style>\n<table border=\"1\" class=\"dataframe\">\n  <thead>\n    <tr style=\"text-align: right;\">\n      <th></th>\n      <th>customer_level_based</th>\n      <th>PRICE</th>\n      <th>SEGMENT</th>\n    </tr>\n  </thead>\n  <tbody>\n    <tr>\n      <th>63</th>\n      <td>FRA_IOS_FEMALE_31_40</td>\n      <td>32.818182</td>\n      <td>C</td>\n    </tr>\n  </tbody>\n</table>\n</div>"
     },
     "execution_count": 85,
     "metadata": {},
     "output_type": "execute_result"
    }
   ],
   "source": [
    "# 35 yaşında IOS kullanan bir Fransız kadını hangi segmente ve ortalama ne kadar gelir kazandırması beklenir?\n",
    "\n",
    "new_user = \"FRA_IOS_FEMALE_31_40\"\n",
    "agg_df[agg_df[\"customer_level_based\"] == new_user]"
   ]
  }
 ],
 "metadata": {
  "kernelspec": {
   "display_name": "Python 3 (ipykernel)",
   "language": "python",
   "name": "python3"
  },
  "language_info": {
   "codemirror_mode": {
    "name": "ipython",
    "version": 3
   },
   "file_extension": ".py",
   "mimetype": "text/x-python",
   "name": "python",
   "nbconvert_exporter": "python",
   "pygments_lexer": "ipython3",
   "version": "3.11.5"
  }
 },
 "nbformat": 4,
 "nbformat_minor": 5
}
