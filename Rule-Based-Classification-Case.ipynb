{
 "cells": [
  {
   "cell_type": "markdown",
   "id": "b539bc14",
   "metadata": {},
   "source": [
    "# Kural Tabanlı Sınıflandırma ile Potansiyel Müşteri Getirisi Hesaplama"
   ]
  },
  {
   "cell_type": "code",
   "execution_count": 1,
   "id": "be4644d0",
   "metadata": {
    "ExecuteTime": {
     "end_time": "2024-02-05T15:09:00.379286600Z",
     "start_time": "2024-02-05T15:09:00.365295900Z"
    }
   },
   "outputs": [],
   "source": [
    "# GÖREV 1: Aşağıdaki soruları yanıtlayınız."
   ]
  },
  {
   "cell_type": "code",
   "execution_count": 2,
   "id": "54fff414",
   "metadata": {
    "ExecuteTime": {
     "end_time": "2024-02-05T15:09:00.850355800Z",
     "start_time": "2024-02-05T15:09:00.377150200Z"
    }
   },
   "outputs": [
    {
     "data": {
      "text/plain": "   PRICE   SOURCE   SEX COUNTRY  AGE\n0     39  android  male     bra   17\n1     39  android  male     bra   17\n2     49  android  male     bra   17\n3     29  android  male     tur   17\n4     49  android  male     tur   17",
      "text/html": "<div>\n<style scoped>\n    .dataframe tbody tr th:only-of-type {\n        vertical-align: middle;\n    }\n\n    .dataframe tbody tr th {\n        vertical-align: top;\n    }\n\n    .dataframe thead th {\n        text-align: right;\n    }\n</style>\n<table border=\"1\" class=\"dataframe\">\n  <thead>\n    <tr style=\"text-align: right;\">\n      <th></th>\n      <th>PRICE</th>\n      <th>SOURCE</th>\n      <th>SEX</th>\n      <th>COUNTRY</th>\n      <th>AGE</th>\n    </tr>\n  </thead>\n  <tbody>\n    <tr>\n      <th>0</th>\n      <td>39</td>\n      <td>android</td>\n      <td>male</td>\n      <td>bra</td>\n      <td>17</td>\n    </tr>\n    <tr>\n      <th>1</th>\n      <td>39</td>\n      <td>android</td>\n      <td>male</td>\n      <td>bra</td>\n      <td>17</td>\n    </tr>\n    <tr>\n      <th>2</th>\n      <td>49</td>\n      <td>android</td>\n      <td>male</td>\n      <td>bra</td>\n      <td>17</td>\n    </tr>\n    <tr>\n      <th>3</th>\n      <td>29</td>\n      <td>android</td>\n      <td>male</td>\n      <td>tur</td>\n      <td>17</td>\n    </tr>\n    <tr>\n      <th>4</th>\n      <td>49</td>\n      <td>android</td>\n      <td>male</td>\n      <td>tur</td>\n      <td>17</td>\n    </tr>\n  </tbody>\n</table>\n</div>"
     },
     "execution_count": 2,
     "metadata": {},
     "output_type": "execute_result"
    }
   ],
   "source": [
    "# Soru 1: persona.csv dosyasını okutunuz ve veri seti ile ilgili genel bilgileri gösteriniz.\n",
    "import pandas as pd\n",
    "import numpy as np\n",
    "pd.set_option(\"display.max_rows\", None)\n",
    "df = pd.read_csv(r\"Data/persona.csv\")\n",
    "df.head()"
   ]
  },
  {
   "cell_type": "code",
   "execution_count": 3,
   "id": "432a17cc",
   "metadata": {
    "ExecuteTime": {
     "end_time": "2024-02-05T15:09:00.899020900Z",
     "start_time": "2024-02-05T15:09:00.846185200Z"
    }
   },
   "outputs": [
    {
     "data": {
      "text/plain": "(5000, 5)"
     },
     "execution_count": 3,
     "metadata": {},
     "output_type": "execute_result"
    }
   ],
   "source": [
    "df.shape"
   ]
  },
  {
   "cell_type": "code",
   "execution_count": 4,
   "id": "91d4b062",
   "metadata": {
    "ExecuteTime": {
     "end_time": "2024-02-05T15:09:00.901199300Z",
     "start_time": "2024-02-05T15:09:00.862004900Z"
    }
   },
   "outputs": [
    {
     "data": {
      "text/plain": "female    2621\nmale      2379\nName: SEX, dtype: int64"
     },
     "execution_count": 4,
     "metadata": {},
     "output_type": "execute_result"
    }
   ],
   "source": [
    "df[\"SEX\"].value_counts()"
   ]
  },
  {
   "cell_type": "code",
   "execution_count": 5,
   "id": "db937d5a",
   "metadata": {
    "ExecuteTime": {
     "end_time": "2024-02-05T15:09:00.937722200Z",
     "start_time": "2024-02-05T15:09:00.877763500Z"
    }
   },
   "outputs": [
    {
     "name": "stdout",
     "output_type": "stream",
     "text": [
      "<class 'pandas.core.frame.DataFrame'>\n",
      "Int64Index: 5000 entries, 0 to 4999\n",
      "Data columns (total 5 columns):\n",
      " #   Column   Non-Null Count  Dtype \n",
      "---  ------   --------------  ----- \n",
      " 0   PRICE    5000 non-null   int64 \n",
      " 1   SOURCE   5000 non-null   object\n",
      " 2   SEX      5000 non-null   object\n",
      " 3   COUNTRY  5000 non-null   object\n",
      " 4   AGE      5000 non-null   int64 \n",
      "dtypes: int64(2), object(3)\n",
      "memory usage: 234.4+ KB\n"
     ]
    }
   ],
   "source": [
    "df.info()"
   ]
  },
  {
   "cell_type": "code",
   "execution_count": 6,
   "id": "17323c95",
   "metadata": {
    "ExecuteTime": {
     "end_time": "2024-02-05T15:09:01.006582500Z",
     "start_time": "2024-02-05T15:09:00.893808800Z"
    }
   },
   "outputs": [
    {
     "data": {
      "text/plain": "PRICE       int64\nSOURCE     object\nSEX        object\nCOUNTRY    object\nAGE         int64\ndtype: object"
     },
     "execution_count": 6,
     "metadata": {},
     "output_type": "execute_result"
    }
   ],
   "source": [
    "df.dtypes"
   ]
  },
  {
   "cell_type": "code",
   "execution_count": 7,
   "id": "29c0bde9",
   "metadata": {
    "ExecuteTime": {
     "end_time": "2024-02-05T15:09:01.040280600Z",
     "start_time": "2024-02-05T15:09:00.909572900Z"
    }
   },
   "outputs": [
    {
     "data": {
      "text/plain": "array(['android', 'ios'], dtype=object)"
     },
     "execution_count": 7,
     "metadata": {},
     "output_type": "execute_result"
    }
   ],
   "source": [
    "# Soru 2: Kaç unique SOURCE vardır? Frekansları nedir?\n",
    "df[\"SOURCE\"].unique()"
   ]
  },
  {
   "cell_type": "code",
   "execution_count": 8,
   "id": "3c54c7a4",
   "metadata": {
    "ExecuteTime": {
     "end_time": "2024-02-05T15:09:01.082237300Z",
     "start_time": "2024-02-05T15:09:00.923045400Z"
    }
   },
   "outputs": [
    {
     "data": {
      "text/plain": "array([39, 49, 29, 19, 59,  9], dtype=int64)"
     },
     "execution_count": 8,
     "metadata": {},
     "output_type": "execute_result"
    }
   ],
   "source": [
    "# Soru 3: Kaç unique PRICE vardır?\n",
    "df[\"PRICE\"].unique()"
   ]
  },
  {
   "cell_type": "code",
   "execution_count": 9,
   "id": "7b6190f5",
   "metadata": {
    "scrolled": true,
    "ExecuteTime": {
     "end_time": "2024-02-05T15:09:01.091822200Z",
     "start_time": "2024-02-05T15:09:00.940913500Z"
    }
   },
   "outputs": [
    {
     "data": {
      "text/plain": "29    1305\n39    1260\n49    1031\n19     992\n59     212\n9      200\nName: PRICE, dtype: int64"
     },
     "execution_count": 9,
     "metadata": {},
     "output_type": "execute_result"
    }
   ],
   "source": [
    "# Soru 4: Hangi PRICE'dan kaçar tane satış gerçekleşmiş?\n",
    "df[\"PRICE\"].value_counts()"
   ]
  },
  {
   "cell_type": "code",
   "execution_count": 10,
   "id": "25616e3a",
   "metadata": {
    "ExecuteTime": {
     "end_time": "2024-02-05T15:09:01.153980800Z",
     "start_time": "2024-02-05T15:09:00.959694400Z"
    }
   },
   "outputs": [
    {
     "data": {
      "text/plain": "usa    2065\nbra    1496\ndeu     455\ntur     451\nfra     303\ncan     230\nName: COUNTRY, dtype: int64"
     },
     "execution_count": 10,
     "metadata": {},
     "output_type": "execute_result"
    }
   ],
   "source": [
    "# Soru 5: Hangi ülkeden kaçar tane satış olmuş?\n",
    "df[\"COUNTRY\"].value_counts()"
   ]
  },
  {
   "cell_type": "code",
   "execution_count": 11,
   "id": "7aa384b3",
   "metadata": {
    "ExecuteTime": {
     "end_time": "2024-02-05T15:09:01.157185900Z",
     "start_time": "2024-02-05T15:09:00.972280300Z"
    }
   },
   "outputs": [
    {
     "data": {
      "text/plain": "         PRICE\nCOUNTRY       \nbra      51354\ncan       7730\ndeu      15485\nfra      10177\ntur      15689\nusa      70225",
      "text/html": "<div>\n<style scoped>\n    .dataframe tbody tr th:only-of-type {\n        vertical-align: middle;\n    }\n\n    .dataframe tbody tr th {\n        vertical-align: top;\n    }\n\n    .dataframe thead th {\n        text-align: right;\n    }\n</style>\n<table border=\"1\" class=\"dataframe\">\n  <thead>\n    <tr style=\"text-align: right;\">\n      <th></th>\n      <th>PRICE</th>\n    </tr>\n    <tr>\n      <th>COUNTRY</th>\n      <th></th>\n    </tr>\n  </thead>\n  <tbody>\n    <tr>\n      <th>bra</th>\n      <td>51354</td>\n    </tr>\n    <tr>\n      <th>can</th>\n      <td>7730</td>\n    </tr>\n    <tr>\n      <th>deu</th>\n      <td>15485</td>\n    </tr>\n    <tr>\n      <th>fra</th>\n      <td>10177</td>\n    </tr>\n    <tr>\n      <th>tur</th>\n      <td>15689</td>\n    </tr>\n    <tr>\n      <th>usa</th>\n      <td>70225</td>\n    </tr>\n  </tbody>\n</table>\n</div>"
     },
     "execution_count": 11,
     "metadata": {},
     "output_type": "execute_result"
    }
   ],
   "source": [
    "# Soru 6: Ülkelere göre satışlardan toplam ne kadar kazanılmış?\n",
    "df.groupby(\"COUNTRY\").agg({\"PRICE\":\"sum\"})"
   ]
  },
  {
   "cell_type": "code",
   "execution_count": 12,
   "id": "7f33c7cd",
   "metadata": {
    "ExecuteTime": {
     "end_time": "2024-02-05T15:09:01.184488100Z",
     "start_time": "2024-02-05T15:09:00.986491600Z"
    }
   },
   "outputs": [
    {
     "data": {
      "text/plain": "         PRICE\nSOURCE        \nandroid   2974\nios       2026",
      "text/html": "<div>\n<style scoped>\n    .dataframe tbody tr th:only-of-type {\n        vertical-align: middle;\n    }\n\n    .dataframe tbody tr th {\n        vertical-align: top;\n    }\n\n    .dataframe thead th {\n        text-align: right;\n    }\n</style>\n<table border=\"1\" class=\"dataframe\">\n  <thead>\n    <tr style=\"text-align: right;\">\n      <th></th>\n      <th>PRICE</th>\n    </tr>\n    <tr>\n      <th>SOURCE</th>\n      <th></th>\n    </tr>\n  </thead>\n  <tbody>\n    <tr>\n      <th>android</th>\n      <td>2974</td>\n    </tr>\n    <tr>\n      <th>ios</th>\n      <td>2026</td>\n    </tr>\n  </tbody>\n</table>\n</div>"
     },
     "execution_count": 12,
     "metadata": {},
     "output_type": "execute_result"
    }
   ],
   "source": [
    "# Soru 7: SOURCE türlerine göre göre satış sayıları nedir?\n",
    "df.groupby(\"SOURCE\").agg({\"PRICE\":\"count\"})"
   ]
  },
  {
   "cell_type": "code",
   "execution_count": 13,
   "id": "ea302fa1",
   "metadata": {
    "ExecuteTime": {
     "end_time": "2024-02-05T15:09:01.187736700Z",
     "start_time": "2024-02-05T15:09:01.003422Z"
    }
   },
   "outputs": [
    {
     "data": {
      "text/plain": "             PRICE\nCOUNTRY           \nbra      34.327540\ncan      33.608696\ndeu      34.032967\nfra      33.587459\ntur      34.787140\nusa      34.007264",
      "text/html": "<div>\n<style scoped>\n    .dataframe tbody tr th:only-of-type {\n        vertical-align: middle;\n    }\n\n    .dataframe tbody tr th {\n        vertical-align: top;\n    }\n\n    .dataframe thead th {\n        text-align: right;\n    }\n</style>\n<table border=\"1\" class=\"dataframe\">\n  <thead>\n    <tr style=\"text-align: right;\">\n      <th></th>\n      <th>PRICE</th>\n    </tr>\n    <tr>\n      <th>COUNTRY</th>\n      <th></th>\n    </tr>\n  </thead>\n  <tbody>\n    <tr>\n      <th>bra</th>\n      <td>34.327540</td>\n    </tr>\n    <tr>\n      <th>can</th>\n      <td>33.608696</td>\n    </tr>\n    <tr>\n      <th>deu</th>\n      <td>34.032967</td>\n    </tr>\n    <tr>\n      <th>fra</th>\n      <td>33.587459</td>\n    </tr>\n    <tr>\n      <th>tur</th>\n      <td>34.787140</td>\n    </tr>\n    <tr>\n      <th>usa</th>\n      <td>34.007264</td>\n    </tr>\n  </tbody>\n</table>\n</div>"
     },
     "execution_count": 13,
     "metadata": {},
     "output_type": "execute_result"
    }
   ],
   "source": [
    "# Soru 8: Ülkelere göre PRICE ortalamaları nedir?\n",
    "df.groupby(\"COUNTRY\").agg({\"PRICE\":\"mean\"})"
   ]
  },
  {
   "cell_type": "code",
   "execution_count": 14,
   "id": "07d46c48",
   "metadata": {
    "ExecuteTime": {
     "end_time": "2024-02-05T15:09:01.208706100Z",
     "start_time": "2024-02-05T15:09:01.018999300Z"
    }
   },
   "outputs": [
    {
     "data": {
      "text/plain": "             PRICE\nSOURCE            \nandroid  34.174849\nios      34.069102",
      "text/html": "<div>\n<style scoped>\n    .dataframe tbody tr th:only-of-type {\n        vertical-align: middle;\n    }\n\n    .dataframe tbody tr th {\n        vertical-align: top;\n    }\n\n    .dataframe thead th {\n        text-align: right;\n    }\n</style>\n<table border=\"1\" class=\"dataframe\">\n  <thead>\n    <tr style=\"text-align: right;\">\n      <th></th>\n      <th>PRICE</th>\n    </tr>\n    <tr>\n      <th>SOURCE</th>\n      <th></th>\n    </tr>\n  </thead>\n  <tbody>\n    <tr>\n      <th>android</th>\n      <td>34.174849</td>\n    </tr>\n    <tr>\n      <th>ios</th>\n      <td>34.069102</td>\n    </tr>\n  </tbody>\n</table>\n</div>"
     },
     "execution_count": 14,
     "metadata": {},
     "output_type": "execute_result"
    }
   ],
   "source": [
    "# Soru 9: SOURCE'lara göre PRICE ortalamaları nedir?\n",
    "df.groupby(\"SOURCE\").agg({\"PRICE\":\"mean\"})"
   ]
  },
  {
   "cell_type": "code",
   "execution_count": 15,
   "id": "d2acb97c",
   "metadata": {
    "ExecuteTime": {
     "end_time": "2024-02-05T15:09:01.212937400Z",
     "start_time": "2024-02-05T15:09:01.036126800Z"
    }
   },
   "outputs": [
    {
     "data": {
      "text/plain": "                     PRICE\nCOUNTRY SOURCE            \nbra     android  34.387029\n        ios      34.222222\ncan     android  33.330709\n        ios      33.951456\ndeu     android  33.869888\n        ios      34.268817\nfra     android  34.312500\n        ios      32.776224\ntur     android  36.229437\n        ios      33.272727\nusa     android  33.760357\n        ios      34.371703",
      "text/html": "<div>\n<style scoped>\n    .dataframe tbody tr th:only-of-type {\n        vertical-align: middle;\n    }\n\n    .dataframe tbody tr th {\n        vertical-align: top;\n    }\n\n    .dataframe thead th {\n        text-align: right;\n    }\n</style>\n<table border=\"1\" class=\"dataframe\">\n  <thead>\n    <tr style=\"text-align: right;\">\n      <th></th>\n      <th></th>\n      <th>PRICE</th>\n    </tr>\n    <tr>\n      <th>COUNTRY</th>\n      <th>SOURCE</th>\n      <th></th>\n    </tr>\n  </thead>\n  <tbody>\n    <tr>\n      <th rowspan=\"2\" valign=\"top\">bra</th>\n      <th>android</th>\n      <td>34.387029</td>\n    </tr>\n    <tr>\n      <th>ios</th>\n      <td>34.222222</td>\n    </tr>\n    <tr>\n      <th rowspan=\"2\" valign=\"top\">can</th>\n      <th>android</th>\n      <td>33.330709</td>\n    </tr>\n    <tr>\n      <th>ios</th>\n      <td>33.951456</td>\n    </tr>\n    <tr>\n      <th rowspan=\"2\" valign=\"top\">deu</th>\n      <th>android</th>\n      <td>33.869888</td>\n    </tr>\n    <tr>\n      <th>ios</th>\n      <td>34.268817</td>\n    </tr>\n    <tr>\n      <th rowspan=\"2\" valign=\"top\">fra</th>\n      <th>android</th>\n      <td>34.312500</td>\n    </tr>\n    <tr>\n      <th>ios</th>\n      <td>32.776224</td>\n    </tr>\n    <tr>\n      <th rowspan=\"2\" valign=\"top\">tur</th>\n      <th>android</th>\n      <td>36.229437</td>\n    </tr>\n    <tr>\n      <th>ios</th>\n      <td>33.272727</td>\n    </tr>\n    <tr>\n      <th rowspan=\"2\" valign=\"top\">usa</th>\n      <th>android</th>\n      <td>33.760357</td>\n    </tr>\n    <tr>\n      <th>ios</th>\n      <td>34.371703</td>\n    </tr>\n  </tbody>\n</table>\n</div>"
     },
     "execution_count": 15,
     "metadata": {},
     "output_type": "execute_result"
    }
   ],
   "source": [
    "# Soru 10: COUNTRY-SOURCE kırılımında PRICE ortalamaları nedir?\n",
    "df.groupby([\"COUNTRY\",\"SOURCE\"]).agg({\"PRICE\":\"mean\"})"
   ]
  },
  {
   "cell_type": "code",
   "execution_count": 16,
   "id": "e5f75698",
   "metadata": {
    "ExecuteTime": {
     "end_time": "2024-02-05T15:09:01.240210900Z",
     "start_time": "2024-02-05T15:09:01.050673900Z"
    }
   },
   "outputs": [
    {
     "data": {
      "text/plain": "                                PRICE\nCOUNTRY SOURCE  SEX    AGE           \nbra     android female 15   38.714286\n                       16   35.944444\n                       17   35.666667\n                       18   32.255814\n                       19   35.206897\n                       20   31.000000\n                       21   37.292683\n                       22   34.945946\n                       23   31.941176\n                       24   36.500000\n                       25   35.666667\n                       26   33.166667\n                       27   26.142857\n                       28   22.333333\n                       29   37.571429\n                       30   45.666667\n                       31   35.097561\n                       32   39.000000\n                       34   24.000000\n                       37   33.736842\n                       38   34.555556\n                       39   43.000000\n                       41   32.333333\n                       43   44.000000\n                       45   33.615385\n                       56   37.000000\n                male   15   39.344828\n                       16   29.666667\n                       17   37.157895\n                       18   33.054054\n                       19   35.216216\n                       20   35.400000\n                       21   35.250000\n                       22   31.000000\n                       23   21.500000\n                       24   40.428571\n                       25   30.428571\n                       26   37.095238\n                       27   32.636364\n                       28   28.230769\n                       29   29.714286\n                       30   35.363636\n                       35   31.500000\n                       36   31.857143\n                       40   39.625000\n                       41   35.666667\n                       44   36.500000\n                       46   59.000000\n                       53   29.000000\n        ios     female 15   36.777778\n                       16   33.687500\n                       17   32.636364\n                       18   36.500000\n                       19   39.000000\n                       20   32.846154\n                       22   44.000000\n                       23   29.769231\n                       24   34.000000\n                       25   39.000000\n                       26   34.333333\n                       27   34.000000\n                       28   32.333333\n                       29   30.428571\n                       31   27.571429\n                       33   35.363636\n                       34   19.000000\n                       35   32.333333\n                       37   35.111111\n                       42   39.000000\n                       45   35.363636\n                       46   33.000000\n                       54   34.000000\n                male   15   36.878788\n                       16   33.761905\n                       17   35.333333\n                       18   32.684211\n                       19   34.000000\n                       21   31.000000\n                       22   37.181818\n                       23   34.882353\n                       24   33.864865\n                       31   29.000000\n                       33   37.571429\n                       34   34.714286\n                       35   36.777778\n                       36   22.333333\n                       37   29.000000\n                       42   30.111111\n                       43   42.333333\n                       44   33.545455\n                       47   19.000000\n                       66   30.428571\ncan     android female 15   25.666667\n                       16   29.689655\n                       18   37.333333\n                       19   32.529412\n                       20   31.500000\n                       27   19.000000\n                       43   34.000000\n                male   15   36.000000\n                       20   40.111111\n                       24   29.769231\n                       30   40.250000\n                       49   37.571429\n        ios     female 15   33.705882\n                       16   29.000000\n                       29   31.727273\n                male   15   37.571429\n                       16   35.000000\n                       17   37.666667\n                       25   31.173913\n                       32   29.000000\n                       57   31.000000\ndeu     android female 15   32.000000\n                       16   27.000000\n                       17   33.736842\n                       21   31.000000\n                       22   35.000000\n                       23   34.000000\n                       24   35.363636\n                       25   34.454545\n                       27   32.125000\n                       28   32.333333\n                       33   29.000000\n                       34   32.333333\n                       36   49.000000\n                       38   39.000000\n                       41   27.750000\n                       44   31.500000\n                       51   49.000000\n                male   15   46.500000\n                       17   32.913043\n                       18   32.333333\n                       19   31.222222\n                       20   41.727273\n                       21   34.000000\n                       23   37.333333\n                       24   29.000000\n                       26    9.000000\n                       31   32.333333\n                       32   29.000000\n                       33   35.363636\n                       34   45.000000\n                       37   38.166667\n        ios     female 15   30.666667\n                       16   35.557377\n                       17   37.823529\n                       18   37.333333\n                       22   34.000000\n                       23   34.000000\n                       24   29.000000\n                       26   36.000000\n                       32   33.000000\n                male   16   39.000000\n                       17   35.000000\n                       20   49.000000\n                       23   29.000000\n                       25   35.000000\n                       30   31.000000\n                       32   31.352941\n                       42   37.000000\nfra     android female 15   37.571429\n                       16   36.727273\n                       17   34.652174\n                       19   27.333333\n                       21   39.000000\n                       23   32.125000\n                       24   59.000000\n                       26   31.857143\n                       35   34.000000\n                male   15   30.250000\n                       18   19.000000\n                       19   40.538462\n                       21   25.666667\n                       23   41.307692\n                       25   33.000000\n                       32   32.333333\n                       33   39.000000\n                       46   32.333333\n                       55   35.666667\n        ios     female 15   33.615385\n                       16   27.750000\n                       18   32.571429\n                       25   25.000000\n                       28   30.428571\n                       31   32.636364\n                       40   33.000000\n                male   15   29.000000\n                       16   30.666667\n                       17   40.666667\n                       19   35.666667\n                       20   49.000000\n                       22   35.000000\n                       26   34.000000\n                       27   29.000000\n                       31   38.375000\n                       38   29.000000\n                       51   39.000000\ntur     android female 15   41.000000\n                       16   34.555556\n                       17   33.687500\n                       18   41.500000\n                       19   31.000000\n                       20   32.333333\n                       21   37.000000\n                       26   37.571429\n                       29   24.000000\n                       31   40.666667\n                       32   43.000000\n                       49   39.000000\n                       50   32.333333\n                       52   36.142857\n                       56   29.000000\n                male   15   42.333333\n                       16   38.285714\n                       17   39.000000\n                       21   19.000000\n                       22   35.666667\n                       24   35.923077\n                       25   41.500000\n                       26   39.666667\n                       27   40.666667\n                       36   29.000000\n                       49   39.000000\n        ios     female 16   29.000000\n                       17   30.176471\n                       18   44.000000\n                       19   35.666667\n                       20   37.333333\n                       21   40.666667\n                       22   32.636364\n                       23   34.000000\n                       25   34.000000\n                       26   34.000000\n                       31   39.000000\n                       38   25.666667\n                       51   34.000000\n                male   15   32.846154\n                       16   39.000000\n                       17   34.806452\n                       19   27.333333\n                       21   22.333333\n                       24   45.000000\n                       37   42.333333\n                       42   31.105263\n                       47   19.000000\nusa     android female 15   32.666667\n                       16   34.901639\n                       17   34.625000\n                       18   32.404255\n                       19   35.764706\n                       20   31.285714\n                       21   34.185185\n                       22   33.800000\n                       23   33.102564\n                       24   30.052632\n                       25   34.000000\n                       26   30.777778\n                       27   29.000000\n                       28   34.789474\n                       30   29.000000\n                       31   35.000000\n                       32   28.166667\n                       33   37.181818\n                       34   28.000000\n                       35   35.666667\n                       42   34.000000\n                       44   32.333333\n                       47   49.000000\n                       49   35.250000\n                       61   45.666667\n                male   15   34.663717\n                       16   34.000000\n                       17   34.454545\n                       18   35.190476\n                       19   32.809524\n                       20   36.647059\n                       21   32.333333\n                       22   34.714286\n                       23   34.849057\n                       24   26.058824\n                       25   34.000000\n                       26   37.000000\n                       27   33.285714\n                       28   34.384615\n                       29   22.333333\n                       30   36.142857\n                       31   34.714286\n                       34   29.000000\n                       35   34.714286\n                       36   59.000000\n                       37   29.000000\n                       38   29.000000\n                       41   35.428571\n                       42   33.000000\n                       43   39.909091\n                       47   41.500000\n                       51   35.875000\n                       57   29.000000\n                       65   25.666667\n        ios     female 15   33.857143\n                       16   31.500000\n                       17   38.459459\n                       18   32.913043\n                       19   39.285714\n                       20   35.000000\n                       21   35.800000\n                       22   34.000000\n                       23   32.809524\n                       24   32.750000\n                       25   38.000000\n                       26   36.857143\n                       27   31.500000\n                       28   36.142857\n                       29   35.666667\n                       30   19.000000\n                       33   34.555556\n                       34   30.875000\n                       35   29.625000\n                       38   19.000000\n                       42   29.000000\n                       47   34.714286\n                       50   30.304348\n                       59   41.500000\n                       65   35.000000\n                male   15   33.729730\n                       16   34.714286\n                       17   32.913043\n                       18   34.576923\n                       20   34.000000\n                       21   38.534884\n                       22   32.170732\n                       25   31.857143\n                       26   34.000000\n                       27   35.111111\n                       28   42.333333\n                       29   24.000000\n                       30   41.727273\n                       31   41.000000\n                       32   54.000000\n                       33   30.304348\n                       36   24.000000\n                       37   31.727273\n                       42   30.250000\n                       50   39.000000\n                       53   34.000000\n                       55   29.000000\n                       59   46.500000",
      "text/html": "<div>\n<style scoped>\n    .dataframe tbody tr th:only-of-type {\n        vertical-align: middle;\n    }\n\n    .dataframe tbody tr th {\n        vertical-align: top;\n    }\n\n    .dataframe thead th {\n        text-align: right;\n    }\n</style>\n<table border=\"1\" class=\"dataframe\">\n  <thead>\n    <tr style=\"text-align: right;\">\n      <th></th>\n      <th></th>\n      <th></th>\n      <th></th>\n      <th>PRICE</th>\n    </tr>\n    <tr>\n      <th>COUNTRY</th>\n      <th>SOURCE</th>\n      <th>SEX</th>\n      <th>AGE</th>\n      <th></th>\n    </tr>\n  </thead>\n  <tbody>\n    <tr>\n      <th rowspan=\"92\" valign=\"top\">bra</th>\n      <th rowspan=\"49\" valign=\"top\">android</th>\n      <th rowspan=\"26\" valign=\"top\">female</th>\n      <th>15</th>\n      <td>38.714286</td>\n    </tr>\n    <tr>\n      <th>16</th>\n      <td>35.944444</td>\n    </tr>\n    <tr>\n      <th>17</th>\n      <td>35.666667</td>\n    </tr>\n    <tr>\n      <th>18</th>\n      <td>32.255814</td>\n    </tr>\n    <tr>\n      <th>19</th>\n      <td>35.206897</td>\n    </tr>\n    <tr>\n      <th>20</th>\n      <td>31.000000</td>\n    </tr>\n    <tr>\n      <th>21</th>\n      <td>37.292683</td>\n    </tr>\n    <tr>\n      <th>22</th>\n      <td>34.945946</td>\n    </tr>\n    <tr>\n      <th>23</th>\n      <td>31.941176</td>\n    </tr>\n    <tr>\n      <th>24</th>\n      <td>36.500000</td>\n    </tr>\n    <tr>\n      <th>25</th>\n      <td>35.666667</td>\n    </tr>\n    <tr>\n      <th>26</th>\n      <td>33.166667</td>\n    </tr>\n    <tr>\n      <th>27</th>\n      <td>26.142857</td>\n    </tr>\n    <tr>\n      <th>28</th>\n      <td>22.333333</td>\n    </tr>\n    <tr>\n      <th>29</th>\n      <td>37.571429</td>\n    </tr>\n    <tr>\n      <th>30</th>\n      <td>45.666667</td>\n    </tr>\n    <tr>\n      <th>31</th>\n      <td>35.097561</td>\n    </tr>\n    <tr>\n      <th>32</th>\n      <td>39.000000</td>\n    </tr>\n    <tr>\n      <th>34</th>\n      <td>24.000000</td>\n    </tr>\n    <tr>\n      <th>37</th>\n      <td>33.736842</td>\n    </tr>\n    <tr>\n      <th>38</th>\n      <td>34.555556</td>\n    </tr>\n    <tr>\n      <th>39</th>\n      <td>43.000000</td>\n    </tr>\n    <tr>\n      <th>41</th>\n      <td>32.333333</td>\n    </tr>\n    <tr>\n      <th>43</th>\n      <td>44.000000</td>\n    </tr>\n    <tr>\n      <th>45</th>\n      <td>33.615385</td>\n    </tr>\n    <tr>\n      <th>56</th>\n      <td>37.000000</td>\n    </tr>\n    <tr>\n      <th rowspan=\"23\" valign=\"top\">male</th>\n      <th>15</th>\n      <td>39.344828</td>\n    </tr>\n    <tr>\n      <th>16</th>\n      <td>29.666667</td>\n    </tr>\n    <tr>\n      <th>17</th>\n      <td>37.157895</td>\n    </tr>\n    <tr>\n      <th>18</th>\n      <td>33.054054</td>\n    </tr>\n    <tr>\n      <th>19</th>\n      <td>35.216216</td>\n    </tr>\n    <tr>\n      <th>20</th>\n      <td>35.400000</td>\n    </tr>\n    <tr>\n      <th>21</th>\n      <td>35.250000</td>\n    </tr>\n    <tr>\n      <th>22</th>\n      <td>31.000000</td>\n    </tr>\n    <tr>\n      <th>23</th>\n      <td>21.500000</td>\n    </tr>\n    <tr>\n      <th>24</th>\n      <td>40.428571</td>\n    </tr>\n    <tr>\n      <th>25</th>\n      <td>30.428571</td>\n    </tr>\n    <tr>\n      <th>26</th>\n      <td>37.095238</td>\n    </tr>\n    <tr>\n      <th>27</th>\n      <td>32.636364</td>\n    </tr>\n    <tr>\n      <th>28</th>\n      <td>28.230769</td>\n    </tr>\n    <tr>\n      <th>29</th>\n      <td>29.714286</td>\n    </tr>\n    <tr>\n      <th>30</th>\n      <td>35.363636</td>\n    </tr>\n    <tr>\n      <th>35</th>\n      <td>31.500000</td>\n    </tr>\n    <tr>\n      <th>36</th>\n      <td>31.857143</td>\n    </tr>\n    <tr>\n      <th>40</th>\n      <td>39.625000</td>\n    </tr>\n    <tr>\n      <th>41</th>\n      <td>35.666667</td>\n    </tr>\n    <tr>\n      <th>44</th>\n      <td>36.500000</td>\n    </tr>\n    <tr>\n      <th>46</th>\n      <td>59.000000</td>\n    </tr>\n    <tr>\n      <th>53</th>\n      <td>29.000000</td>\n    </tr>\n    <tr>\n      <th rowspan=\"43\" valign=\"top\">ios</th>\n      <th rowspan=\"23\" valign=\"top\">female</th>\n      <th>15</th>\n      <td>36.777778</td>\n    </tr>\n    <tr>\n      <th>16</th>\n      <td>33.687500</td>\n    </tr>\n    <tr>\n      <th>17</th>\n      <td>32.636364</td>\n    </tr>\n    <tr>\n      <th>18</th>\n      <td>36.500000</td>\n    </tr>\n    <tr>\n      <th>19</th>\n      <td>39.000000</td>\n    </tr>\n    <tr>\n      <th>20</th>\n      <td>32.846154</td>\n    </tr>\n    <tr>\n      <th>22</th>\n      <td>44.000000</td>\n    </tr>\n    <tr>\n      <th>23</th>\n      <td>29.769231</td>\n    </tr>\n    <tr>\n      <th>24</th>\n      <td>34.000000</td>\n    </tr>\n    <tr>\n      <th>25</th>\n      <td>39.000000</td>\n    </tr>\n    <tr>\n      <th>26</th>\n      <td>34.333333</td>\n    </tr>\n    <tr>\n      <th>27</th>\n      <td>34.000000</td>\n    </tr>\n    <tr>\n      <th>28</th>\n      <td>32.333333</td>\n    </tr>\n    <tr>\n      <th>29</th>\n      <td>30.428571</td>\n    </tr>\n    <tr>\n      <th>31</th>\n      <td>27.571429</td>\n    </tr>\n    <tr>\n      <th>33</th>\n      <td>35.363636</td>\n    </tr>\n    <tr>\n      <th>34</th>\n      <td>19.000000</td>\n    </tr>\n    <tr>\n      <th>35</th>\n      <td>32.333333</td>\n    </tr>\n    <tr>\n      <th>37</th>\n      <td>35.111111</td>\n    </tr>\n    <tr>\n      <th>42</th>\n      <td>39.000000</td>\n    </tr>\n    <tr>\n      <th>45</th>\n      <td>35.363636</td>\n    </tr>\n    <tr>\n      <th>46</th>\n      <td>33.000000</td>\n    </tr>\n    <tr>\n      <th>54</th>\n      <td>34.000000</td>\n    </tr>\n    <tr>\n      <th rowspan=\"20\" valign=\"top\">male</th>\n      <th>15</th>\n      <td>36.878788</td>\n    </tr>\n    <tr>\n      <th>16</th>\n      <td>33.761905</td>\n    </tr>\n    <tr>\n      <th>17</th>\n      <td>35.333333</td>\n    </tr>\n    <tr>\n      <th>18</th>\n      <td>32.684211</td>\n    </tr>\n    <tr>\n      <th>19</th>\n      <td>34.000000</td>\n    </tr>\n    <tr>\n      <th>21</th>\n      <td>31.000000</td>\n    </tr>\n    <tr>\n      <th>22</th>\n      <td>37.181818</td>\n    </tr>\n    <tr>\n      <th>23</th>\n      <td>34.882353</td>\n    </tr>\n    <tr>\n      <th>24</th>\n      <td>33.864865</td>\n    </tr>\n    <tr>\n      <th>31</th>\n      <td>29.000000</td>\n    </tr>\n    <tr>\n      <th>33</th>\n      <td>37.571429</td>\n    </tr>\n    <tr>\n      <th>34</th>\n      <td>34.714286</td>\n    </tr>\n    <tr>\n      <th>35</th>\n      <td>36.777778</td>\n    </tr>\n    <tr>\n      <th>36</th>\n      <td>22.333333</td>\n    </tr>\n    <tr>\n      <th>37</th>\n      <td>29.000000</td>\n    </tr>\n    <tr>\n      <th>42</th>\n      <td>30.111111</td>\n    </tr>\n    <tr>\n      <th>43</th>\n      <td>42.333333</td>\n    </tr>\n    <tr>\n      <th>44</th>\n      <td>33.545455</td>\n    </tr>\n    <tr>\n      <th>47</th>\n      <td>19.000000</td>\n    </tr>\n    <tr>\n      <th>66</th>\n      <td>30.428571</td>\n    </tr>\n    <tr>\n      <th rowspan=\"21\" valign=\"top\">can</th>\n      <th rowspan=\"12\" valign=\"top\">android</th>\n      <th rowspan=\"7\" valign=\"top\">female</th>\n      <th>15</th>\n      <td>25.666667</td>\n    </tr>\n    <tr>\n      <th>16</th>\n      <td>29.689655</td>\n    </tr>\n    <tr>\n      <th>18</th>\n      <td>37.333333</td>\n    </tr>\n    <tr>\n      <th>19</th>\n      <td>32.529412</td>\n    </tr>\n    <tr>\n      <th>20</th>\n      <td>31.500000</td>\n    </tr>\n    <tr>\n      <th>27</th>\n      <td>19.000000</td>\n    </tr>\n    <tr>\n      <th>43</th>\n      <td>34.000000</td>\n    </tr>\n    <tr>\n      <th rowspan=\"5\" valign=\"top\">male</th>\n      <th>15</th>\n      <td>36.000000</td>\n    </tr>\n    <tr>\n      <th>20</th>\n      <td>40.111111</td>\n    </tr>\n    <tr>\n      <th>24</th>\n      <td>29.769231</td>\n    </tr>\n    <tr>\n      <th>30</th>\n      <td>40.250000</td>\n    </tr>\n    <tr>\n      <th>49</th>\n      <td>37.571429</td>\n    </tr>\n    <tr>\n      <th rowspan=\"9\" valign=\"top\">ios</th>\n      <th rowspan=\"3\" valign=\"top\">female</th>\n      <th>15</th>\n      <td>33.705882</td>\n    </tr>\n    <tr>\n      <th>16</th>\n      <td>29.000000</td>\n    </tr>\n    <tr>\n      <th>29</th>\n      <td>31.727273</td>\n    </tr>\n    <tr>\n      <th rowspan=\"6\" valign=\"top\">male</th>\n      <th>15</th>\n      <td>37.571429</td>\n    </tr>\n    <tr>\n      <th>16</th>\n      <td>35.000000</td>\n    </tr>\n    <tr>\n      <th>17</th>\n      <td>37.666667</td>\n    </tr>\n    <tr>\n      <th>25</th>\n      <td>31.173913</td>\n    </tr>\n    <tr>\n      <th>32</th>\n      <td>29.000000</td>\n    </tr>\n    <tr>\n      <th>57</th>\n      <td>31.000000</td>\n    </tr>\n    <tr>\n      <th rowspan=\"48\" valign=\"top\">deu</th>\n      <th rowspan=\"31\" valign=\"top\">android</th>\n      <th rowspan=\"17\" valign=\"top\">female</th>\n      <th>15</th>\n      <td>32.000000</td>\n    </tr>\n    <tr>\n      <th>16</th>\n      <td>27.000000</td>\n    </tr>\n    <tr>\n      <th>17</th>\n      <td>33.736842</td>\n    </tr>\n    <tr>\n      <th>21</th>\n      <td>31.000000</td>\n    </tr>\n    <tr>\n      <th>22</th>\n      <td>35.000000</td>\n    </tr>\n    <tr>\n      <th>23</th>\n      <td>34.000000</td>\n    </tr>\n    <tr>\n      <th>24</th>\n      <td>35.363636</td>\n    </tr>\n    <tr>\n      <th>25</th>\n      <td>34.454545</td>\n    </tr>\n    <tr>\n      <th>27</th>\n      <td>32.125000</td>\n    </tr>\n    <tr>\n      <th>28</th>\n      <td>32.333333</td>\n    </tr>\n    <tr>\n      <th>33</th>\n      <td>29.000000</td>\n    </tr>\n    <tr>\n      <th>34</th>\n      <td>32.333333</td>\n    </tr>\n    <tr>\n      <th>36</th>\n      <td>49.000000</td>\n    </tr>\n    <tr>\n      <th>38</th>\n      <td>39.000000</td>\n    </tr>\n    <tr>\n      <th>41</th>\n      <td>27.750000</td>\n    </tr>\n    <tr>\n      <th>44</th>\n      <td>31.500000</td>\n    </tr>\n    <tr>\n      <th>51</th>\n      <td>49.000000</td>\n    </tr>\n    <tr>\n      <th rowspan=\"14\" valign=\"top\">male</th>\n      <th>15</th>\n      <td>46.500000</td>\n    </tr>\n    <tr>\n      <th>17</th>\n      <td>32.913043</td>\n    </tr>\n    <tr>\n      <th>18</th>\n      <td>32.333333</td>\n    </tr>\n    <tr>\n      <th>19</th>\n      <td>31.222222</td>\n    </tr>\n    <tr>\n      <th>20</th>\n      <td>41.727273</td>\n    </tr>\n    <tr>\n      <th>21</th>\n      <td>34.000000</td>\n    </tr>\n    <tr>\n      <th>23</th>\n      <td>37.333333</td>\n    </tr>\n    <tr>\n      <th>24</th>\n      <td>29.000000</td>\n    </tr>\n    <tr>\n      <th>26</th>\n      <td>9.000000</td>\n    </tr>\n    <tr>\n      <th>31</th>\n      <td>32.333333</td>\n    </tr>\n    <tr>\n      <th>32</th>\n      <td>29.000000</td>\n    </tr>\n    <tr>\n      <th>33</th>\n      <td>35.363636</td>\n    </tr>\n    <tr>\n      <th>34</th>\n      <td>45.000000</td>\n    </tr>\n    <tr>\n      <th>37</th>\n      <td>38.166667</td>\n    </tr>\n    <tr>\n      <th rowspan=\"17\" valign=\"top\">ios</th>\n      <th rowspan=\"9\" valign=\"top\">female</th>\n      <th>15</th>\n      <td>30.666667</td>\n    </tr>\n    <tr>\n      <th>16</th>\n      <td>35.557377</td>\n    </tr>\n    <tr>\n      <th>17</th>\n      <td>37.823529</td>\n    </tr>\n    <tr>\n      <th>18</th>\n      <td>37.333333</td>\n    </tr>\n    <tr>\n      <th>22</th>\n      <td>34.000000</td>\n    </tr>\n    <tr>\n      <th>23</th>\n      <td>34.000000</td>\n    </tr>\n    <tr>\n      <th>24</th>\n      <td>29.000000</td>\n    </tr>\n    <tr>\n      <th>26</th>\n      <td>36.000000</td>\n    </tr>\n    <tr>\n      <th>32</th>\n      <td>33.000000</td>\n    </tr>\n    <tr>\n      <th rowspan=\"8\" valign=\"top\">male</th>\n      <th>16</th>\n      <td>39.000000</td>\n    </tr>\n    <tr>\n      <th>17</th>\n      <td>35.000000</td>\n    </tr>\n    <tr>\n      <th>20</th>\n      <td>49.000000</td>\n    </tr>\n    <tr>\n      <th>23</th>\n      <td>29.000000</td>\n    </tr>\n    <tr>\n      <th>25</th>\n      <td>35.000000</td>\n    </tr>\n    <tr>\n      <th>30</th>\n      <td>31.000000</td>\n    </tr>\n    <tr>\n      <th>32</th>\n      <td>31.352941</td>\n    </tr>\n    <tr>\n      <th>42</th>\n      <td>37.000000</td>\n    </tr>\n    <tr>\n      <th rowspan=\"37\" valign=\"top\">fra</th>\n      <th rowspan=\"19\" valign=\"top\">android</th>\n      <th rowspan=\"9\" valign=\"top\">female</th>\n      <th>15</th>\n      <td>37.571429</td>\n    </tr>\n    <tr>\n      <th>16</th>\n      <td>36.727273</td>\n    </tr>\n    <tr>\n      <th>17</th>\n      <td>34.652174</td>\n    </tr>\n    <tr>\n      <th>19</th>\n      <td>27.333333</td>\n    </tr>\n    <tr>\n      <th>21</th>\n      <td>39.000000</td>\n    </tr>\n    <tr>\n      <th>23</th>\n      <td>32.125000</td>\n    </tr>\n    <tr>\n      <th>24</th>\n      <td>59.000000</td>\n    </tr>\n    <tr>\n      <th>26</th>\n      <td>31.857143</td>\n    </tr>\n    <tr>\n      <th>35</th>\n      <td>34.000000</td>\n    </tr>\n    <tr>\n      <th rowspan=\"10\" valign=\"top\">male</th>\n      <th>15</th>\n      <td>30.250000</td>\n    </tr>\n    <tr>\n      <th>18</th>\n      <td>19.000000</td>\n    </tr>\n    <tr>\n      <th>19</th>\n      <td>40.538462</td>\n    </tr>\n    <tr>\n      <th>21</th>\n      <td>25.666667</td>\n    </tr>\n    <tr>\n      <th>23</th>\n      <td>41.307692</td>\n    </tr>\n    <tr>\n      <th>25</th>\n      <td>33.000000</td>\n    </tr>\n    <tr>\n      <th>32</th>\n      <td>32.333333</td>\n    </tr>\n    <tr>\n      <th>33</th>\n      <td>39.000000</td>\n    </tr>\n    <tr>\n      <th>46</th>\n      <td>32.333333</td>\n    </tr>\n    <tr>\n      <th>55</th>\n      <td>35.666667</td>\n    </tr>\n    <tr>\n      <th rowspan=\"18\" valign=\"top\">ios</th>\n      <th rowspan=\"7\" valign=\"top\">female</th>\n      <th>15</th>\n      <td>33.615385</td>\n    </tr>\n    <tr>\n      <th>16</th>\n      <td>27.750000</td>\n    </tr>\n    <tr>\n      <th>18</th>\n      <td>32.571429</td>\n    </tr>\n    <tr>\n      <th>25</th>\n      <td>25.000000</td>\n    </tr>\n    <tr>\n      <th>28</th>\n      <td>30.428571</td>\n    </tr>\n    <tr>\n      <th>31</th>\n      <td>32.636364</td>\n    </tr>\n    <tr>\n      <th>40</th>\n      <td>33.000000</td>\n    </tr>\n    <tr>\n      <th rowspan=\"11\" valign=\"top\">male</th>\n      <th>15</th>\n      <td>29.000000</td>\n    </tr>\n    <tr>\n      <th>16</th>\n      <td>30.666667</td>\n    </tr>\n    <tr>\n      <th>17</th>\n      <td>40.666667</td>\n    </tr>\n    <tr>\n      <th>19</th>\n      <td>35.666667</td>\n    </tr>\n    <tr>\n      <th>20</th>\n      <td>49.000000</td>\n    </tr>\n    <tr>\n      <th>22</th>\n      <td>35.000000</td>\n    </tr>\n    <tr>\n      <th>26</th>\n      <td>34.000000</td>\n    </tr>\n    <tr>\n      <th>27</th>\n      <td>29.000000</td>\n    </tr>\n    <tr>\n      <th>31</th>\n      <td>38.375000</td>\n    </tr>\n    <tr>\n      <th>38</th>\n      <td>29.000000</td>\n    </tr>\n    <tr>\n      <th>51</th>\n      <td>39.000000</td>\n    </tr>\n    <tr>\n      <th rowspan=\"48\" valign=\"top\">tur</th>\n      <th rowspan=\"26\" valign=\"top\">android</th>\n      <th rowspan=\"15\" valign=\"top\">female</th>\n      <th>15</th>\n      <td>41.000000</td>\n    </tr>\n    <tr>\n      <th>16</th>\n      <td>34.555556</td>\n    </tr>\n    <tr>\n      <th>17</th>\n      <td>33.687500</td>\n    </tr>\n    <tr>\n      <th>18</th>\n      <td>41.500000</td>\n    </tr>\n    <tr>\n      <th>19</th>\n      <td>31.000000</td>\n    </tr>\n    <tr>\n      <th>20</th>\n      <td>32.333333</td>\n    </tr>\n    <tr>\n      <th>21</th>\n      <td>37.000000</td>\n    </tr>\n    <tr>\n      <th>26</th>\n      <td>37.571429</td>\n    </tr>\n    <tr>\n      <th>29</th>\n      <td>24.000000</td>\n    </tr>\n    <tr>\n      <th>31</th>\n      <td>40.666667</td>\n    </tr>\n    <tr>\n      <th>32</th>\n      <td>43.000000</td>\n    </tr>\n    <tr>\n      <th>49</th>\n      <td>39.000000</td>\n    </tr>\n    <tr>\n      <th>50</th>\n      <td>32.333333</td>\n    </tr>\n    <tr>\n      <th>52</th>\n      <td>36.142857</td>\n    </tr>\n    <tr>\n      <th>56</th>\n      <td>29.000000</td>\n    </tr>\n    <tr>\n      <th rowspan=\"11\" valign=\"top\">male</th>\n      <th>15</th>\n      <td>42.333333</td>\n    </tr>\n    <tr>\n      <th>16</th>\n      <td>38.285714</td>\n    </tr>\n    <tr>\n      <th>17</th>\n      <td>39.000000</td>\n    </tr>\n    <tr>\n      <th>21</th>\n      <td>19.000000</td>\n    </tr>\n    <tr>\n      <th>22</th>\n      <td>35.666667</td>\n    </tr>\n    <tr>\n      <th>24</th>\n      <td>35.923077</td>\n    </tr>\n    <tr>\n      <th>25</th>\n      <td>41.500000</td>\n    </tr>\n    <tr>\n      <th>26</th>\n      <td>39.666667</td>\n    </tr>\n    <tr>\n      <th>27</th>\n      <td>40.666667</td>\n    </tr>\n    <tr>\n      <th>36</th>\n      <td>29.000000</td>\n    </tr>\n    <tr>\n      <th>49</th>\n      <td>39.000000</td>\n    </tr>\n    <tr>\n      <th rowspan=\"22\" valign=\"top\">ios</th>\n      <th rowspan=\"13\" valign=\"top\">female</th>\n      <th>16</th>\n      <td>29.000000</td>\n    </tr>\n    <tr>\n      <th>17</th>\n      <td>30.176471</td>\n    </tr>\n    <tr>\n      <th>18</th>\n      <td>44.000000</td>\n    </tr>\n    <tr>\n      <th>19</th>\n      <td>35.666667</td>\n    </tr>\n    <tr>\n      <th>20</th>\n      <td>37.333333</td>\n    </tr>\n    <tr>\n      <th>21</th>\n      <td>40.666667</td>\n    </tr>\n    <tr>\n      <th>22</th>\n      <td>32.636364</td>\n    </tr>\n    <tr>\n      <th>23</th>\n      <td>34.000000</td>\n    </tr>\n    <tr>\n      <th>25</th>\n      <td>34.000000</td>\n    </tr>\n    <tr>\n      <th>26</th>\n      <td>34.000000</td>\n    </tr>\n    <tr>\n      <th>31</th>\n      <td>39.000000</td>\n    </tr>\n    <tr>\n      <th>38</th>\n      <td>25.666667</td>\n    </tr>\n    <tr>\n      <th>51</th>\n      <td>34.000000</td>\n    </tr>\n    <tr>\n      <th rowspan=\"9\" valign=\"top\">male</th>\n      <th>15</th>\n      <td>32.846154</td>\n    </tr>\n    <tr>\n      <th>16</th>\n      <td>39.000000</td>\n    </tr>\n    <tr>\n      <th>17</th>\n      <td>34.806452</td>\n    </tr>\n    <tr>\n      <th>19</th>\n      <td>27.333333</td>\n    </tr>\n    <tr>\n      <th>21</th>\n      <td>22.333333</td>\n    </tr>\n    <tr>\n      <th>24</th>\n      <td>45.000000</td>\n    </tr>\n    <tr>\n      <th>37</th>\n      <td>42.333333</td>\n    </tr>\n    <tr>\n      <th>42</th>\n      <td>31.105263</td>\n    </tr>\n    <tr>\n      <th>47</th>\n      <td>19.000000</td>\n    </tr>\n    <tr>\n      <th rowspan=\"102\" valign=\"top\">usa</th>\n      <th rowspan=\"54\" valign=\"top\">android</th>\n      <th rowspan=\"25\" valign=\"top\">female</th>\n      <th>15</th>\n      <td>32.666667</td>\n    </tr>\n    <tr>\n      <th>16</th>\n      <td>34.901639</td>\n    </tr>\n    <tr>\n      <th>17</th>\n      <td>34.625000</td>\n    </tr>\n    <tr>\n      <th>18</th>\n      <td>32.404255</td>\n    </tr>\n    <tr>\n      <th>19</th>\n      <td>35.764706</td>\n    </tr>\n    <tr>\n      <th>20</th>\n      <td>31.285714</td>\n    </tr>\n    <tr>\n      <th>21</th>\n      <td>34.185185</td>\n    </tr>\n    <tr>\n      <th>22</th>\n      <td>33.800000</td>\n    </tr>\n    <tr>\n      <th>23</th>\n      <td>33.102564</td>\n    </tr>\n    <tr>\n      <th>24</th>\n      <td>30.052632</td>\n    </tr>\n    <tr>\n      <th>25</th>\n      <td>34.000000</td>\n    </tr>\n    <tr>\n      <th>26</th>\n      <td>30.777778</td>\n    </tr>\n    <tr>\n      <th>27</th>\n      <td>29.000000</td>\n    </tr>\n    <tr>\n      <th>28</th>\n      <td>34.789474</td>\n    </tr>\n    <tr>\n      <th>30</th>\n      <td>29.000000</td>\n    </tr>\n    <tr>\n      <th>31</th>\n      <td>35.000000</td>\n    </tr>\n    <tr>\n      <th>32</th>\n      <td>28.166667</td>\n    </tr>\n    <tr>\n      <th>33</th>\n      <td>37.181818</td>\n    </tr>\n    <tr>\n      <th>34</th>\n      <td>28.000000</td>\n    </tr>\n    <tr>\n      <th>35</th>\n      <td>35.666667</td>\n    </tr>\n    <tr>\n      <th>42</th>\n      <td>34.000000</td>\n    </tr>\n    <tr>\n      <th>44</th>\n      <td>32.333333</td>\n    </tr>\n    <tr>\n      <th>47</th>\n      <td>49.000000</td>\n    </tr>\n    <tr>\n      <th>49</th>\n      <td>35.250000</td>\n    </tr>\n    <tr>\n      <th>61</th>\n      <td>45.666667</td>\n    </tr>\n    <tr>\n      <th rowspan=\"29\" valign=\"top\">male</th>\n      <th>15</th>\n      <td>34.663717</td>\n    </tr>\n    <tr>\n      <th>16</th>\n      <td>34.000000</td>\n    </tr>\n    <tr>\n      <th>17</th>\n      <td>34.454545</td>\n    </tr>\n    <tr>\n      <th>18</th>\n      <td>35.190476</td>\n    </tr>\n    <tr>\n      <th>19</th>\n      <td>32.809524</td>\n    </tr>\n    <tr>\n      <th>20</th>\n      <td>36.647059</td>\n    </tr>\n    <tr>\n      <th>21</th>\n      <td>32.333333</td>\n    </tr>\n    <tr>\n      <th>22</th>\n      <td>34.714286</td>\n    </tr>\n    <tr>\n      <th>23</th>\n      <td>34.849057</td>\n    </tr>\n    <tr>\n      <th>24</th>\n      <td>26.058824</td>\n    </tr>\n    <tr>\n      <th>25</th>\n      <td>34.000000</td>\n    </tr>\n    <tr>\n      <th>26</th>\n      <td>37.000000</td>\n    </tr>\n    <tr>\n      <th>27</th>\n      <td>33.285714</td>\n    </tr>\n    <tr>\n      <th>28</th>\n      <td>34.384615</td>\n    </tr>\n    <tr>\n      <th>29</th>\n      <td>22.333333</td>\n    </tr>\n    <tr>\n      <th>30</th>\n      <td>36.142857</td>\n    </tr>\n    <tr>\n      <th>31</th>\n      <td>34.714286</td>\n    </tr>\n    <tr>\n      <th>34</th>\n      <td>29.000000</td>\n    </tr>\n    <tr>\n      <th>35</th>\n      <td>34.714286</td>\n    </tr>\n    <tr>\n      <th>36</th>\n      <td>59.000000</td>\n    </tr>\n    <tr>\n      <th>37</th>\n      <td>29.000000</td>\n    </tr>\n    <tr>\n      <th>38</th>\n      <td>29.000000</td>\n    </tr>\n    <tr>\n      <th>41</th>\n      <td>35.428571</td>\n    </tr>\n    <tr>\n      <th>42</th>\n      <td>33.000000</td>\n    </tr>\n    <tr>\n      <th>43</th>\n      <td>39.909091</td>\n    </tr>\n    <tr>\n      <th>47</th>\n      <td>41.500000</td>\n    </tr>\n    <tr>\n      <th>51</th>\n      <td>35.875000</td>\n    </tr>\n    <tr>\n      <th>57</th>\n      <td>29.000000</td>\n    </tr>\n    <tr>\n      <th>65</th>\n      <td>25.666667</td>\n    </tr>\n    <tr>\n      <th rowspan=\"48\" valign=\"top\">ios</th>\n      <th rowspan=\"25\" valign=\"top\">female</th>\n      <th>15</th>\n      <td>33.857143</td>\n    </tr>\n    <tr>\n      <th>16</th>\n      <td>31.500000</td>\n    </tr>\n    <tr>\n      <th>17</th>\n      <td>38.459459</td>\n    </tr>\n    <tr>\n      <th>18</th>\n      <td>32.913043</td>\n    </tr>\n    <tr>\n      <th>19</th>\n      <td>39.285714</td>\n    </tr>\n    <tr>\n      <th>20</th>\n      <td>35.000000</td>\n    </tr>\n    <tr>\n      <th>21</th>\n      <td>35.800000</td>\n    </tr>\n    <tr>\n      <th>22</th>\n      <td>34.000000</td>\n    </tr>\n    <tr>\n      <th>23</th>\n      <td>32.809524</td>\n    </tr>\n    <tr>\n      <th>24</th>\n      <td>32.750000</td>\n    </tr>\n    <tr>\n      <th>25</th>\n      <td>38.000000</td>\n    </tr>\n    <tr>\n      <th>26</th>\n      <td>36.857143</td>\n    </tr>\n    <tr>\n      <th>27</th>\n      <td>31.500000</td>\n    </tr>\n    <tr>\n      <th>28</th>\n      <td>36.142857</td>\n    </tr>\n    <tr>\n      <th>29</th>\n      <td>35.666667</td>\n    </tr>\n    <tr>\n      <th>30</th>\n      <td>19.000000</td>\n    </tr>\n    <tr>\n      <th>33</th>\n      <td>34.555556</td>\n    </tr>\n    <tr>\n      <th>34</th>\n      <td>30.875000</td>\n    </tr>\n    <tr>\n      <th>35</th>\n      <td>29.625000</td>\n    </tr>\n    <tr>\n      <th>38</th>\n      <td>19.000000</td>\n    </tr>\n    <tr>\n      <th>42</th>\n      <td>29.000000</td>\n    </tr>\n    <tr>\n      <th>47</th>\n      <td>34.714286</td>\n    </tr>\n    <tr>\n      <th>50</th>\n      <td>30.304348</td>\n    </tr>\n    <tr>\n      <th>59</th>\n      <td>41.500000</td>\n    </tr>\n    <tr>\n      <th>65</th>\n      <td>35.000000</td>\n    </tr>\n    <tr>\n      <th rowspan=\"23\" valign=\"top\">male</th>\n      <th>15</th>\n      <td>33.729730</td>\n    </tr>\n    <tr>\n      <th>16</th>\n      <td>34.714286</td>\n    </tr>\n    <tr>\n      <th>17</th>\n      <td>32.913043</td>\n    </tr>\n    <tr>\n      <th>18</th>\n      <td>34.576923</td>\n    </tr>\n    <tr>\n      <th>20</th>\n      <td>34.000000</td>\n    </tr>\n    <tr>\n      <th>21</th>\n      <td>38.534884</td>\n    </tr>\n    <tr>\n      <th>22</th>\n      <td>32.170732</td>\n    </tr>\n    <tr>\n      <th>25</th>\n      <td>31.857143</td>\n    </tr>\n    <tr>\n      <th>26</th>\n      <td>34.000000</td>\n    </tr>\n    <tr>\n      <th>27</th>\n      <td>35.111111</td>\n    </tr>\n    <tr>\n      <th>28</th>\n      <td>42.333333</td>\n    </tr>\n    <tr>\n      <th>29</th>\n      <td>24.000000</td>\n    </tr>\n    <tr>\n      <th>30</th>\n      <td>41.727273</td>\n    </tr>\n    <tr>\n      <th>31</th>\n      <td>41.000000</td>\n    </tr>\n    <tr>\n      <th>32</th>\n      <td>54.000000</td>\n    </tr>\n    <tr>\n      <th>33</th>\n      <td>30.304348</td>\n    </tr>\n    <tr>\n      <th>36</th>\n      <td>24.000000</td>\n    </tr>\n    <tr>\n      <th>37</th>\n      <td>31.727273</td>\n    </tr>\n    <tr>\n      <th>42</th>\n      <td>30.250000</td>\n    </tr>\n    <tr>\n      <th>50</th>\n      <td>39.000000</td>\n    </tr>\n    <tr>\n      <th>53</th>\n      <td>34.000000</td>\n    </tr>\n    <tr>\n      <th>55</th>\n      <td>29.000000</td>\n    </tr>\n    <tr>\n      <th>59</th>\n      <td>46.500000</td>\n    </tr>\n  </tbody>\n</table>\n</div>"
     },
     "execution_count": 16,
     "metadata": {},
     "output_type": "execute_result"
    }
   ],
   "source": [
    "# GÖREV 2: COUNTRY, SOURCE, SEX, AGE kırılımında ortalama kazançlar nedir?\n",
    "df.groupby([\"COUNTRY\",\"SOURCE\",\"SEX\",\"AGE\"]).agg({\"PRICE\":\"mean\"})\n"
   ]
  },
  {
   "cell_type": "code",
   "execution_count": 17,
   "id": "49a82212",
   "metadata": {
    "ExecuteTime": {
     "end_time": "2024-02-05T15:09:01.242335600Z",
     "start_time": "2024-02-05T15:09:01.097193900Z"
    }
   },
   "outputs": [
    {
     "data": {
      "text/plain": "                            PRICE\nCOUNTRY SOURCE  SEX    AGE       \nbra     android male   46    59.0\nusa     android male   36    59.0\nfra     android female 24    59.0\nusa     ios     male   32    54.0\ndeu     android female 36    49.0",
      "text/html": "<div>\n<style scoped>\n    .dataframe tbody tr th:only-of-type {\n        vertical-align: middle;\n    }\n\n    .dataframe tbody tr th {\n        vertical-align: top;\n    }\n\n    .dataframe thead th {\n        text-align: right;\n    }\n</style>\n<table border=\"1\" class=\"dataframe\">\n  <thead>\n    <tr style=\"text-align: right;\">\n      <th></th>\n      <th></th>\n      <th></th>\n      <th></th>\n      <th>PRICE</th>\n    </tr>\n    <tr>\n      <th>COUNTRY</th>\n      <th>SOURCE</th>\n      <th>SEX</th>\n      <th>AGE</th>\n      <th></th>\n    </tr>\n  </thead>\n  <tbody>\n    <tr>\n      <th>bra</th>\n      <th>android</th>\n      <th>male</th>\n      <th>46</th>\n      <td>59.0</td>\n    </tr>\n    <tr>\n      <th>usa</th>\n      <th>android</th>\n      <th>male</th>\n      <th>36</th>\n      <td>59.0</td>\n    </tr>\n    <tr>\n      <th>fra</th>\n      <th>android</th>\n      <th>female</th>\n      <th>24</th>\n      <td>59.0</td>\n    </tr>\n    <tr>\n      <th>usa</th>\n      <th>ios</th>\n      <th>male</th>\n      <th>32</th>\n      <td>54.0</td>\n    </tr>\n    <tr>\n      <th>deu</th>\n      <th>android</th>\n      <th>female</th>\n      <th>36</th>\n      <td>49.0</td>\n    </tr>\n  </tbody>\n</table>\n</div>"
     },
     "execution_count": 17,
     "metadata": {},
     "output_type": "execute_result"
    }
   ],
   "source": [
    "# GÖREV 3: Çıktıyı PRICE'a göre sıralayınız.\n",
    "\n",
    "# Önceki sorudaki çıktıyı daha iyi görebilmek için sort_values metodunu azalan olacak şekilde PRICE'a uygulayınız.\n",
    "# Çıktıyı agg_df olarak kaydediniz.\n",
    "\n",
    "agg_df = df.groupby([\"COUNTRY\",\"SOURCE\",\"SEX\",\"AGE\"]).agg({\"PRICE\":\"mean\"}).sort_values(\"PRICE\", ascending=False)\n",
    "agg_df.head()"
   ]
  },
  {
   "cell_type": "code",
   "execution_count": 18,
   "id": "59dd3291",
   "metadata": {
    "ExecuteTime": {
     "end_time": "2024-02-05T15:09:01.324739600Z",
     "start_time": "2024-02-05T15:09:01.113752500Z"
    }
   },
   "outputs": [
    {
     "data": {
      "text/plain": "  COUNTRY   SOURCE     SEX  AGE  PRICE\n0     bra  android    male   46   59.0\n1     usa  android    male   36   59.0\n2     fra  android  female   24   59.0\n3     usa      ios    male   32   54.0\n4     deu  android  female   36   49.0",
      "text/html": "<div>\n<style scoped>\n    .dataframe tbody tr th:only-of-type {\n        vertical-align: middle;\n    }\n\n    .dataframe tbody tr th {\n        vertical-align: top;\n    }\n\n    .dataframe thead th {\n        text-align: right;\n    }\n</style>\n<table border=\"1\" class=\"dataframe\">\n  <thead>\n    <tr style=\"text-align: right;\">\n      <th></th>\n      <th>COUNTRY</th>\n      <th>SOURCE</th>\n      <th>SEX</th>\n      <th>AGE</th>\n      <th>PRICE</th>\n    </tr>\n  </thead>\n  <tbody>\n    <tr>\n      <th>0</th>\n      <td>bra</td>\n      <td>android</td>\n      <td>male</td>\n      <td>46</td>\n      <td>59.0</td>\n    </tr>\n    <tr>\n      <th>1</th>\n      <td>usa</td>\n      <td>android</td>\n      <td>male</td>\n      <td>36</td>\n      <td>59.0</td>\n    </tr>\n    <tr>\n      <th>2</th>\n      <td>fra</td>\n      <td>android</td>\n      <td>female</td>\n      <td>24</td>\n      <td>59.0</td>\n    </tr>\n    <tr>\n      <th>3</th>\n      <td>usa</td>\n      <td>ios</td>\n      <td>male</td>\n      <td>32</td>\n      <td>54.0</td>\n    </tr>\n    <tr>\n      <th>4</th>\n      <td>deu</td>\n      <td>android</td>\n      <td>female</td>\n      <td>36</td>\n      <td>49.0</td>\n    </tr>\n  </tbody>\n</table>\n</div>"
     },
     "execution_count": 18,
     "metadata": {},
     "output_type": "execute_result"
    }
   ],
   "source": [
    "# GÖREV 4: Indekste yer alan isimleri değişken ismine çeviriniz.\n",
    "\n",
    "# Üçüncü sorunun çıktısında yer alan PRICE dışındaki tüm değişkenler index isimleridir.\n",
    "# Bu isimleri değişken isimlerine çeviriniz.\n",
    "# İpucu: reset_index()\n",
    "\n",
    "\n",
    "agg_df = agg_df.reset_index()\n",
    "agg_df.head()\n"
   ]
  },
  {
   "cell_type": "code",
   "execution_count": 19,
   "id": "be8e6ecf",
   "metadata": {
    "ExecuteTime": {
     "end_time": "2024-02-05T15:09:01.326851600Z",
     "start_time": "2024-02-05T15:09:01.127146100Z"
    }
   },
   "outputs": [
    {
     "data": {
      "text/plain": "[0, 18, 23, 30, 40, 66]"
     },
     "execution_count": 19,
     "metadata": {},
     "output_type": "execute_result"
    }
   ],
   "source": [
    "# GÖREV 5: AGE değişkenini kategorik değişkene çeviriniz ve agg_df'e ekleyiniz.\n",
    "\n",
    "# Aralıkları ikna edici olacağını düşündüğünüz şekilde oluşturunuz.\n",
    "# Örneğin: '0_18', '19_23', '24_30', '31_40', '41_70'\n",
    "# AGE değişkeninin nerelerden bölüneceğini belirtelim:\n",
    "\n",
    "bins = [0,18,23,30,40, agg_df[\"AGE\"].max()]\n",
    "bins\n"
   ]
  },
  {
   "cell_type": "code",
   "execution_count": 20,
   "id": "b310a9a4",
   "metadata": {
    "ExecuteTime": {
     "end_time": "2024-02-05T15:09:01.359006900Z",
     "start_time": "2024-02-05T15:09:01.143713600Z"
    }
   },
   "outputs": [
    {
     "data": {
      "text/plain": "['0_18', '19_23', '24_30', '31_40', '41_66']"
     },
     "execution_count": 20,
     "metadata": {},
     "output_type": "execute_result"
    }
   ],
   "source": [
    "# Age sayısal değişkenini kategorik değişkene çeviriniz.\n",
    "\n",
    "my_labes = [\"0_18\", \"19_23\", \"24_30\", \"31_40\", \"41_\" + str(agg_df[\"AGE\"].max())]\n",
    "my_labes"
   ]
  },
  {
   "cell_type": "code",
   "outputs": [
    {
     "data": {
      "text/plain": "  COUNTRY   SOURCE     SEX  AGE  PRICE  age_cat\n0     bra  android    male   46   59.0        5\n1     usa  android    male   36   59.0        5\n2     fra  android  female   24   59.0        5\n3     usa      ios    male   32   54.0        5\n4     deu  android  female   36   49.0        5",
      "text/html": "<div>\n<style scoped>\n    .dataframe tbody tr th:only-of-type {\n        vertical-align: middle;\n    }\n\n    .dataframe tbody tr th {\n        vertical-align: top;\n    }\n\n    .dataframe thead th {\n        text-align: right;\n    }\n</style>\n<table border=\"1\" class=\"dataframe\">\n  <thead>\n    <tr style=\"text-align: right;\">\n      <th></th>\n      <th>COUNTRY</th>\n      <th>SOURCE</th>\n      <th>SEX</th>\n      <th>AGE</th>\n      <th>PRICE</th>\n      <th>age_cat</th>\n    </tr>\n  </thead>\n  <tbody>\n    <tr>\n      <th>0</th>\n      <td>bra</td>\n      <td>android</td>\n      <td>male</td>\n      <td>46</td>\n      <td>59.0</td>\n      <td>5</td>\n    </tr>\n    <tr>\n      <th>1</th>\n      <td>usa</td>\n      <td>android</td>\n      <td>male</td>\n      <td>36</td>\n      <td>59.0</td>\n      <td>5</td>\n    </tr>\n    <tr>\n      <th>2</th>\n      <td>fra</td>\n      <td>android</td>\n      <td>female</td>\n      <td>24</td>\n      <td>59.0</td>\n      <td>5</td>\n    </tr>\n    <tr>\n      <th>3</th>\n      <td>usa</td>\n      <td>ios</td>\n      <td>male</td>\n      <td>32</td>\n      <td>54.0</td>\n      <td>5</td>\n    </tr>\n    <tr>\n      <th>4</th>\n      <td>deu</td>\n      <td>android</td>\n      <td>female</td>\n      <td>36</td>\n      <td>49.0</td>\n      <td>5</td>\n    </tr>\n  </tbody>\n</table>\n</div>"
     },
     "execution_count": 21,
     "metadata": {},
     "output_type": "execute_result"
    }
   ],
   "source": [
    "# AGE değişkeninin nerelerden bölüneceğini belirtelim.\n",
    "\n",
    "agg_df[\"age_cat\"] = 5\n",
    "agg_df.head()"
   ],
   "metadata": {
    "collapsed": false,
    "ExecuteTime": {
     "end_time": "2024-02-05T15:09:01.384867600Z",
     "start_time": "2024-02-05T15:09:01.160369500Z"
    }
   },
   "id": "1c716517a27fa66a",
   "execution_count": 21
  },
  {
   "cell_type": "code",
   "outputs": [
    {
     "data": {
      "text/plain": "[0, 18, 23, 30, 40, 66]"
     },
     "execution_count": 22,
     "metadata": {},
     "output_type": "execute_result"
    }
   ],
   "source": [
    "bins"
   ],
   "metadata": {
    "collapsed": false,
    "ExecuteTime": {
     "end_time": "2024-02-05T15:09:01.409066700Z",
     "start_time": "2024-02-05T15:09:01.175100700Z"
    }
   },
   "id": "942551044ec3492b",
   "execution_count": 22
  },
  {
   "cell_type": "code",
   "outputs": [
    {
     "data": {
      "text/plain": "['0_18', '19_23', '24_30', '31_40', '41_66']"
     },
     "execution_count": 23,
     "metadata": {},
     "output_type": "execute_result"
    }
   ],
   "source": [
    "my_labes"
   ],
   "metadata": {
    "collapsed": false,
    "ExecuteTime": {
     "end_time": "2024-02-05T15:09:01.432957Z",
     "start_time": "2024-02-05T15:09:01.190870300Z"
    }
   },
   "id": "6974b54f696e8dab",
   "execution_count": 23
  },
  {
   "cell_type": "code",
   "outputs": [
    {
     "data": {
      "text/plain": "    COUNTRY   SOURCE     SEX  AGE      PRICE  age_cat agg_cat_m\n0       bra  android    male   46  59.000000        5     41_66\n1       usa  android    male   36  59.000000        5     31_40\n2       fra  android  female   24  59.000000        5     24_30\n3       usa      ios    male   32  54.000000        5     31_40\n4       deu  android  female   36  49.000000        5     31_40\n5       deu  android  female   51  49.000000        5     41_66\n6       deu      ios    male   20  49.000000        5     19_23\n7       usa  android  female   47  49.000000        5     41_66\n8       fra      ios    male   20  49.000000        5     19_23\n9       usa      ios    male   59  46.500000        5     41_66\n10      deu  android    male   15  46.500000        5      0_18\n11      bra  android  female   30  45.666667        5     24_30\n12      usa  android  female   61  45.666667        5     41_66\n13      tur      ios    male   24  45.000000        5     24_30\n14      deu  android    male   34  45.000000        5     31_40\n15      tur      ios  female   18  44.000000        5      0_18\n16      bra  android  female   43  44.000000        5     41_66\n17      bra      ios  female   22  44.000000        5     19_23\n18      tur  android  female   32  43.000000        5     31_40\n19      bra  android  female   39  43.000000        5     31_40\n20      tur      ios    male   37  42.333333        5     31_40\n21      tur  android    male   15  42.333333        5      0_18\n22      usa      ios    male   28  42.333333        5     24_30\n23      bra      ios    male   43  42.333333        5     41_66\n24      deu  android    male   20  41.727273        5     19_23\n25      usa      ios    male   30  41.727273        5     24_30\n26      tur  android  female   18  41.500000        5      0_18\n27      usa  android    male   47  41.500000        5     41_66\n28      tur  android    male   25  41.500000        5     24_30\n29      usa      ios  female   59  41.500000        5     41_66\n30      fra  android    male   23  41.307692        5     19_23\n31      usa      ios    male   31  41.000000        5     31_40\n32      tur  android  female   15  41.000000        5      0_18\n33      fra      ios    male   17  40.666667        5      0_18\n34      tur      ios  female   21  40.666667        5     19_23\n35      tur  android  female   31  40.666667        5     31_40\n36      tur  android    male   27  40.666667        5     24_30\n37      fra  android    male   19  40.538462        5     19_23\n38      bra  android    male   24  40.428571        5     24_30\n39      can  android    male   30  40.250000        5     24_30\n40      can  android    male   20  40.111111        5     19_23\n41      usa  android    male   43  39.909091        5     41_66\n42      tur  android    male   26  39.666667        5     24_30\n43      bra  android    male   40  39.625000        5     31_40\n44      bra  android    male   15  39.344828        5      0_18\n45      usa      ios  female   19  39.285714        5     19_23\n46      tur  android    male   49  39.000000        5     41_66\n47      bra      ios  female   19  39.000000        5     19_23\n48      usa      ios    male   50  39.000000        5     41_66\n49      bra      ios  female   25  39.000000        5     24_30\n50      deu  android  female   38  39.000000        5     31_40\n51      deu      ios    male   16  39.000000        5      0_18\n52      fra  android  female   21  39.000000        5     19_23\n53      fra  android    male   33  39.000000        5     31_40\n54      tur      ios  female   31  39.000000        5     31_40\n55      fra      ios    male   51  39.000000        5     41_66\n56      bra  android  female   32  39.000000        5     31_40\n57      tur      ios    male   16  39.000000        5      0_18\n58      bra      ios  female   42  39.000000        5     41_66\n59      tur  android    male   17  39.000000        5      0_18\n60      tur  android  female   49  39.000000        5     41_66\n61      bra  android  female   15  38.714286        5      0_18\n62      usa      ios    male   21  38.534884        5     19_23\n63      usa      ios  female   17  38.459459        5      0_18\n64      fra      ios    male   31  38.375000        5     31_40\n65      tur  android    male   16  38.285714        5      0_18\n66      deu  android    male   37  38.166667        5     31_40\n67      usa      ios  female   25  38.000000        5     24_30\n68      deu      ios  female   17  37.823529        5      0_18\n69      can      ios    male   17  37.666667        5      0_18\n70      can  android    male   49  37.571429        5     41_66\n71      bra  android  female   29  37.571429        5     24_30\n72      tur  android  female   26  37.571429        5     24_30\n73      can      ios    male   15  37.571429        5      0_18\n74      bra      ios    male   33  37.571429        5     31_40\n75      fra  android  female   15  37.571429        5      0_18\n76      deu      ios  female   18  37.333333        5      0_18\n77      can  android  female   18  37.333333        5      0_18\n78      tur      ios  female   20  37.333333        5     19_23\n79      deu  android    male   23  37.333333        5     19_23\n80      bra  android  female   21  37.292683        5     19_23\n81      usa  android  female   33  37.181818        5     31_40\n82      bra      ios    male   22  37.181818        5     19_23\n83      bra  android    male   17  37.157895        5      0_18\n84      bra  android    male   26  37.095238        5     24_30\n85      usa  android    male   26  37.000000        5     24_30\n86      tur  android  female   21  37.000000        5     19_23\n87      deu      ios    male   42  37.000000        5     41_66\n88      bra  android  female   56  37.000000        5     41_66\n89      bra      ios    male   15  36.878788        5      0_18\n90      usa      ios  female   26  36.857143        5     24_30\n91      bra      ios  female   15  36.777778        5      0_18\n92      bra      ios    male   35  36.777778        5     31_40\n93      fra  android  female   16  36.727273        5      0_18\n94      usa  android    male   20  36.647059        5     19_23\n95      bra      ios  female   18  36.500000        5      0_18\n96      bra  android    male   44  36.500000        5     41_66\n97      bra  android  female   24  36.500000        5     24_30\n98      usa  android    male   30  36.142857        5     24_30\n99      tur  android  female   52  36.142857        5     41_66\n100     usa      ios  female   28  36.142857        5     24_30\n101     deu      ios  female   26  36.000000        5     24_30\n102     can  android    male   15  36.000000        5      0_18\n103     bra  android  female   16  35.944444        5      0_18\n104     tur  android    male   24  35.923077        5     24_30\n105     usa  android    male   51  35.875000        5     41_66\n106     usa      ios  female   21  35.800000        5     19_23\n107     usa  android  female   19  35.764706        5     19_23\n108     fra      ios    male   19  35.666667        5     19_23\n109     fra  android    male   55  35.666667        5     41_66\n110     bra  android    male   41  35.666667        5     41_66\n111     tur  android    male   22  35.666667        5     19_23\n112     bra  android  female   25  35.666667        5     24_30\n113     usa  android  female   35  35.666667        5     31_40\n114     usa      ios  female   29  35.666667        5     24_30\n115     bra  android  female   17  35.666667        5      0_18\n116     tur      ios  female   19  35.666667        5     19_23\n117     deu      ios  female   16  35.557377        5      0_18\n118     usa  android    male   41  35.428571        5     41_66\n119     bra  android    male   20  35.400000        5     19_23\n120     deu  android    male   33  35.363636        5     31_40\n121     bra      ios  female   33  35.363636        5     31_40\n122     bra      ios  female   45  35.363636        5     41_66\n123     bra  android    male   30  35.363636        5     24_30\n124     deu  android  female   24  35.363636        5     24_30\n125     bra      ios    male   17  35.333333        5      0_18\n126     bra  android    male   21  35.250000        5     19_23\n127     usa  android  female   49  35.250000        5     41_66\n128     bra  android    male   19  35.216216        5     19_23\n129     bra  android  female   19  35.206897        5     19_23\n130     usa  android    male   18  35.190476        5      0_18\n131     bra      ios  female   37  35.111111        5     31_40\n132     usa      ios    male   27  35.111111        5     24_30\n133     bra  android  female   31  35.097561        5     31_40\n134     usa      ios  female   20  35.000000        5     19_23\n135     usa  android  female   31  35.000000        5     31_40\n136     fra      ios    male   22  35.000000        5     19_23\n137     deu  android  female   22  35.000000        5     19_23\n138     can      ios    male   16  35.000000        5      0_18\n139     deu      ios    male   17  35.000000        5      0_18\n140     usa      ios  female   65  35.000000        5     41_66\n141     deu      ios    male   25  35.000000        5     24_30\n142     bra  android  female   22  34.945946        5     19_23\n143     usa  android  female   16  34.901639        5      0_18\n144     bra      ios    male   23  34.882353        5     19_23\n145     usa  android    male   23  34.849057        5     19_23\n146     tur      ios    male   17  34.806452        5      0_18\n147     usa  android  female   28  34.789474        5     24_30\n148     usa      ios    male   16  34.714286        5      0_18\n149     bra      ios    male   34  34.714286        5     31_40\n150     usa  android    male   22  34.714286        5     19_23\n151     usa  android    male   35  34.714286        5     31_40\n152     usa  android    male   31  34.714286        5     31_40\n153     usa      ios  female   47  34.714286        5     41_66\n154     usa  android    male   15  34.663717        5      0_18\n155     fra  android  female   17  34.652174        5      0_18\n156     usa  android  female   17  34.625000        5      0_18\n157     usa      ios    male   18  34.576923        5      0_18\n158     bra  android  female   38  34.555556        5     31_40\n159     usa      ios  female   33  34.555556        5     31_40\n160     tur  android  female   16  34.555556        5      0_18\n161     deu  android  female   25  34.454545        5     24_30\n162     usa  android    male   17  34.454545        5      0_18\n163     usa  android    male   28  34.384615        5     24_30\n164     bra      ios  female   26  34.333333        5     24_30\n165     usa  android  female   21  34.185185        5     19_23\n166     bra      ios  female   54  34.000000        5     41_66\n167     deu  android  female   23  34.000000        5     19_23\n168     usa      ios    male   26  34.000000        5     24_30\n169     fra      ios    male   26  34.000000        5     24_30\n170     bra      ios  female   27  34.000000        5     24_30\n171     can  android  female   43  34.000000        5     41_66\n172     usa      ios  female   22  34.000000        5     19_23\n173     usa      ios    male   20  34.000000        5     19_23\n174     bra      ios    male   19  34.000000        5     19_23\n175     tur      ios  female   23  34.000000        5     19_23\n176     tur      ios  female   25  34.000000        5     24_30\n177     tur      ios  female   26  34.000000        5     24_30\n178     deu      ios  female   22  34.000000        5     19_23\n179     tur      ios  female   51  34.000000        5     41_66\n180     deu  android    male   21  34.000000        5     19_23\n181     bra      ios  female   24  34.000000        5     24_30\n182     usa  android    male   16  34.000000        5      0_18\n183     usa      ios    male   53  34.000000        5     41_66\n184     usa  android  female   42  34.000000        5     41_66\n185     fra  android  female   35  34.000000        5     31_40\n186     usa  android    male   25  34.000000        5     24_30\n187     usa  android  female   25  34.000000        5     24_30\n188     deu      ios  female   23  34.000000        5     19_23\n189     bra      ios    male   24  33.864865        5     24_30\n190     usa      ios  female   15  33.857143        5      0_18\n191     usa  android  female   22  33.800000        5     19_23\n192     bra      ios    male   16  33.761905        5      0_18\n193     deu  android  female   17  33.736842        5      0_18\n194     bra  android  female   37  33.736842        5     31_40\n195     usa      ios    male   15  33.729730        5      0_18\n196     can      ios  female   15  33.705882        5      0_18\n197     tur  android  female   17  33.687500        5      0_18\n198     bra      ios  female   16  33.687500        5      0_18\n199     fra      ios  female   15  33.615385        5      0_18\n200     bra  android  female   45  33.615385        5     41_66\n201     bra      ios    male   44  33.545455        5     41_66\n202     usa  android    male   27  33.285714        5     24_30\n203     bra  android  female   26  33.166667        5     24_30\n204     usa  android  female   23  33.102564        5     19_23\n205     bra  android    male   18  33.054054        5      0_18\n206     bra      ios  female   46  33.000000        5     41_66\n207     usa  android    male   42  33.000000        5     41_66\n208     fra      ios  female   40  33.000000        5     31_40\n209     fra  android    male   25  33.000000        5     24_30\n210     deu      ios  female   32  33.000000        5     31_40\n211     usa      ios  female   18  32.913043        5      0_18\n212     deu  android    male   17  32.913043        5      0_18\n213     usa      ios    male   17  32.913043        5      0_18\n214     bra      ios  female   20  32.846154        5     19_23\n215     tur      ios    male   15  32.846154        5      0_18\n216     usa  android    male   19  32.809524        5     19_23\n217     usa      ios  female   23  32.809524        5     19_23\n218     usa      ios  female   24  32.750000        5     24_30\n219     bra      ios    male   18  32.684211        5      0_18\n220     usa  android  female   15  32.666667        5      0_18\n221     fra      ios  female   31  32.636364        5     31_40\n222     bra      ios  female   17  32.636364        5      0_18\n223     tur      ios  female   22  32.636364        5     19_23\n224     bra  android    male   27  32.636364        5     24_30\n225     fra      ios  female   18  32.571429        5      0_18\n226     can  android  female   19  32.529412        5     19_23\n227     usa  android  female   18  32.404255        5      0_18\n228     deu  android    male   18  32.333333        5      0_18\n229     usa  android    male   21  32.333333        5     19_23\n230     deu  android  female   34  32.333333        5     31_40\n231     usa  android  female   44  32.333333        5     41_66\n232     fra  android    male   32  32.333333        5     31_40\n233     deu  android  female   28  32.333333        5     24_30\n234     fra  android    male   46  32.333333        5     41_66\n235     bra      ios  female   28  32.333333        5     24_30\n236     deu  android    male   31  32.333333        5     31_40\n237     tur  android  female   20  32.333333        5     19_23\n238     tur  android  female   50  32.333333        5     41_66\n239     bra  android  female   41  32.333333        5     41_66\n240     bra      ios  female   35  32.333333        5     31_40\n241     bra  android  female   18  32.255814        5      0_18\n242     usa      ios    male   22  32.170732        5     19_23\n243     fra  android  female   23  32.125000        5     19_23\n244     deu  android  female   27  32.125000        5     24_30\n245     deu  android  female   15  32.000000        5      0_18\n246     bra  android  female   23  31.941176        5     19_23\n247     usa      ios    male   25  31.857143        5     24_30\n248     bra  android    male   36  31.857143        5     31_40\n249     fra  android  female   26  31.857143        5     24_30\n250     usa      ios    male   37  31.727273        5     31_40\n251     can      ios  female   29  31.727273        5     24_30\n252     can  android  female   20  31.500000        5     19_23\n253     usa      ios  female   27  31.500000        5     24_30\n254     bra  android    male   35  31.500000        5     31_40\n255     usa      ios  female   16  31.500000        5      0_18\n256     deu  android  female   44  31.500000        5     41_66\n257     deu      ios    male   32  31.352941        5     31_40\n258     usa  android  female   20  31.285714        5     19_23\n259     deu  android    male   19  31.222222        5     19_23\n260     can      ios    male   25  31.173913        5     24_30\n261     tur      ios    male   42  31.105263        5     41_66\n262     can      ios    male   57  31.000000        5     41_66\n263     bra  android    male   22  31.000000        5     19_23\n264     deu  android  female   21  31.000000        5     19_23\n265     bra      ios    male   21  31.000000        5     19_23\n266     bra  android  female   20  31.000000        5     19_23\n267     tur  android  female   19  31.000000        5     19_23\n268     deu      ios    male   30  31.000000        5     24_30\n269     usa      ios  female   34  30.875000        5     31_40\n270     usa  android  female   26  30.777778        5     24_30\n271     deu      ios  female   15  30.666667        5      0_18\n272     fra      ios    male   16  30.666667        5      0_18\n273     bra  android    male   25  30.428571        5     24_30\n274     bra      ios  female   29  30.428571        5     24_30\n275     bra      ios    male   66  30.428571        5     41_66\n276     fra      ios  female   28  30.428571        5     24_30\n277     usa      ios  female   50  30.304348        5     41_66\n278     usa      ios    male   33  30.304348        5     31_40\n279     usa      ios    male   42  30.250000        5     41_66\n280     fra  android    male   15  30.250000        5      0_18\n281     tur      ios  female   17  30.176471        5      0_18\n282     bra      ios    male   42  30.111111        5     41_66\n283     usa  android  female   24  30.052632        5     24_30\n284     can  android    male   24  29.769231        5     24_30\n285     bra      ios  female   23  29.769231        5     19_23\n286     bra  android    male   29  29.714286        5     24_30\n287     can  android  female   16  29.689655        5      0_18\n288     bra  android    male   16  29.666667        5      0_18\n289     usa      ios  female   35  29.625000        5     31_40\n290     fra      ios    male   15  29.000000        5      0_18\n291     fra      ios    male   27  29.000000        5     24_30\n292     bra  android    male   53  29.000000        5     41_66\n293     fra      ios    male   38  29.000000        5     31_40\n294     can      ios    male   32  29.000000        5     31_40\n295     usa      ios  female   42  29.000000        5     41_66\n296     can      ios  female   16  29.000000        5      0_18\n297     deu      ios    male   23  29.000000        5     19_23\n298     deu      ios  female   24  29.000000        5     24_30\n299     deu  android    male   32  29.000000        5     31_40\n300     deu  android    male   24  29.000000        5     24_30\n301     deu  android  female   33  29.000000        5     31_40\n302     usa      ios    male   55  29.000000        5     41_66\n303     tur  android  female   56  29.000000        5     41_66\n304     bra      ios    male   31  29.000000        5     31_40\n305     usa  android    male   38  29.000000        5     31_40\n306     usa  android    male   57  29.000000        5     41_66\n307     usa  android  female   27  29.000000        5     24_30\n308     usa  android    male   34  29.000000        5     31_40\n309     usa  android    male   37  29.000000        5     31_40\n310     bra      ios    male   37  29.000000        5     31_40\n311     usa  android  female   30  29.000000        5     24_30\n312     tur  android    male   36  29.000000        5     31_40\n313     tur      ios  female   16  29.000000        5      0_18\n314     bra  android    male   28  28.230769        5     24_30\n315     usa  android  female   32  28.166667        5     31_40\n316     usa  android  female   34  28.000000        5     31_40\n317     deu  android  female   41  27.750000        5     41_66\n318     fra      ios  female   16  27.750000        5      0_18\n319     bra      ios  female   31  27.571429        5     31_40\n320     tur      ios    male   19  27.333333        5     19_23\n321     fra  android  female   19  27.333333        5     19_23\n322     deu  android  female   16  27.000000        5      0_18\n323     bra  android  female   27  26.142857        5     24_30\n324     usa  android    male   24  26.058824        5     24_30\n325     can  android  female   15  25.666667        5      0_18\n326     tur      ios  female   38  25.666667        5     31_40\n327     fra  android    male   21  25.666667        5     19_23\n328     usa  android    male   65  25.666667        5     41_66\n329     fra      ios  female   25  25.000000        5     24_30\n330     bra  android  female   34  24.000000        5     31_40\n331     tur  android  female   29  24.000000        5     24_30\n332     usa      ios    male   36  24.000000        5     31_40\n333     usa      ios    male   29  24.000000        5     24_30\n334     bra  android  female   28  22.333333        5     24_30\n335     tur      ios    male   21  22.333333        5     19_23\n336     usa  android    male   29  22.333333        5     24_30\n337     bra      ios    male   36  22.333333        5     31_40\n338     bra  android    male   23  21.500000        5     19_23\n339     tur  android    male   21  19.000000        5     19_23\n340     tur      ios    male   47  19.000000        5     41_66\n341     bra      ios  female   34  19.000000        5     31_40\n342     bra      ios    male   47  19.000000        5     41_66\n343     usa      ios  female   38  19.000000        5     31_40\n344     usa      ios  female   30  19.000000        5     24_30\n345     can  android  female   27  19.000000        5     24_30\n346     fra  android    male   18  19.000000        5      0_18\n347     deu  android    male   26   9.000000        5     24_30",
      "text/html": "<div>\n<style scoped>\n    .dataframe tbody tr th:only-of-type {\n        vertical-align: middle;\n    }\n\n    .dataframe tbody tr th {\n        vertical-align: top;\n    }\n\n    .dataframe thead th {\n        text-align: right;\n    }\n</style>\n<table border=\"1\" class=\"dataframe\">\n  <thead>\n    <tr style=\"text-align: right;\">\n      <th></th>\n      <th>COUNTRY</th>\n      <th>SOURCE</th>\n      <th>SEX</th>\n      <th>AGE</th>\n      <th>PRICE</th>\n      <th>age_cat</th>\n      <th>agg_cat_m</th>\n    </tr>\n  </thead>\n  <tbody>\n    <tr>\n      <th>0</th>\n      <td>bra</td>\n      <td>android</td>\n      <td>male</td>\n      <td>46</td>\n      <td>59.000000</td>\n      <td>5</td>\n      <td>41_66</td>\n    </tr>\n    <tr>\n      <th>1</th>\n      <td>usa</td>\n      <td>android</td>\n      <td>male</td>\n      <td>36</td>\n      <td>59.000000</td>\n      <td>5</td>\n      <td>31_40</td>\n    </tr>\n    <tr>\n      <th>2</th>\n      <td>fra</td>\n      <td>android</td>\n      <td>female</td>\n      <td>24</td>\n      <td>59.000000</td>\n      <td>5</td>\n      <td>24_30</td>\n    </tr>\n    <tr>\n      <th>3</th>\n      <td>usa</td>\n      <td>ios</td>\n      <td>male</td>\n      <td>32</td>\n      <td>54.000000</td>\n      <td>5</td>\n      <td>31_40</td>\n    </tr>\n    <tr>\n      <th>4</th>\n      <td>deu</td>\n      <td>android</td>\n      <td>female</td>\n      <td>36</td>\n      <td>49.000000</td>\n      <td>5</td>\n      <td>31_40</td>\n    </tr>\n    <tr>\n      <th>5</th>\n      <td>deu</td>\n      <td>android</td>\n      <td>female</td>\n      <td>51</td>\n      <td>49.000000</td>\n      <td>5</td>\n      <td>41_66</td>\n    </tr>\n    <tr>\n      <th>6</th>\n      <td>deu</td>\n      <td>ios</td>\n      <td>male</td>\n      <td>20</td>\n      <td>49.000000</td>\n      <td>5</td>\n      <td>19_23</td>\n    </tr>\n    <tr>\n      <th>7</th>\n      <td>usa</td>\n      <td>android</td>\n      <td>female</td>\n      <td>47</td>\n      <td>49.000000</td>\n      <td>5</td>\n      <td>41_66</td>\n    </tr>\n    <tr>\n      <th>8</th>\n      <td>fra</td>\n      <td>ios</td>\n      <td>male</td>\n      <td>20</td>\n      <td>49.000000</td>\n      <td>5</td>\n      <td>19_23</td>\n    </tr>\n    <tr>\n      <th>9</th>\n      <td>usa</td>\n      <td>ios</td>\n      <td>male</td>\n      <td>59</td>\n      <td>46.500000</td>\n      <td>5</td>\n      <td>41_66</td>\n    </tr>\n    <tr>\n      <th>10</th>\n      <td>deu</td>\n      <td>android</td>\n      <td>male</td>\n      <td>15</td>\n      <td>46.500000</td>\n      <td>5</td>\n      <td>0_18</td>\n    </tr>\n    <tr>\n      <th>11</th>\n      <td>bra</td>\n      <td>android</td>\n      <td>female</td>\n      <td>30</td>\n      <td>45.666667</td>\n      <td>5</td>\n      <td>24_30</td>\n    </tr>\n    <tr>\n      <th>12</th>\n      <td>usa</td>\n      <td>android</td>\n      <td>female</td>\n      <td>61</td>\n      <td>45.666667</td>\n      <td>5</td>\n      <td>41_66</td>\n    </tr>\n    <tr>\n      <th>13</th>\n      <td>tur</td>\n      <td>ios</td>\n      <td>male</td>\n      <td>24</td>\n      <td>45.000000</td>\n      <td>5</td>\n      <td>24_30</td>\n    </tr>\n    <tr>\n      <th>14</th>\n      <td>deu</td>\n      <td>android</td>\n      <td>male</td>\n      <td>34</td>\n      <td>45.000000</td>\n      <td>5</td>\n      <td>31_40</td>\n    </tr>\n    <tr>\n      <th>15</th>\n      <td>tur</td>\n      <td>ios</td>\n      <td>female</td>\n      <td>18</td>\n      <td>44.000000</td>\n      <td>5</td>\n      <td>0_18</td>\n    </tr>\n    <tr>\n      <th>16</th>\n      <td>bra</td>\n      <td>android</td>\n      <td>female</td>\n      <td>43</td>\n      <td>44.000000</td>\n      <td>5</td>\n      <td>41_66</td>\n    </tr>\n    <tr>\n      <th>17</th>\n      <td>bra</td>\n      <td>ios</td>\n      <td>female</td>\n      <td>22</td>\n      <td>44.000000</td>\n      <td>5</td>\n      <td>19_23</td>\n    </tr>\n    <tr>\n      <th>18</th>\n      <td>tur</td>\n      <td>android</td>\n      <td>female</td>\n      <td>32</td>\n      <td>43.000000</td>\n      <td>5</td>\n      <td>31_40</td>\n    </tr>\n    <tr>\n      <th>19</th>\n      <td>bra</td>\n      <td>android</td>\n      <td>female</td>\n      <td>39</td>\n      <td>43.000000</td>\n      <td>5</td>\n      <td>31_40</td>\n    </tr>\n    <tr>\n      <th>20</th>\n      <td>tur</td>\n      <td>ios</td>\n      <td>male</td>\n      <td>37</td>\n      <td>42.333333</td>\n      <td>5</td>\n      <td>31_40</td>\n    </tr>\n    <tr>\n      <th>21</th>\n      <td>tur</td>\n      <td>android</td>\n      <td>male</td>\n      <td>15</td>\n      <td>42.333333</td>\n      <td>5</td>\n      <td>0_18</td>\n    </tr>\n    <tr>\n      <th>22</th>\n      <td>usa</td>\n      <td>ios</td>\n      <td>male</td>\n      <td>28</td>\n      <td>42.333333</td>\n      <td>5</td>\n      <td>24_30</td>\n    </tr>\n    <tr>\n      <th>23</th>\n      <td>bra</td>\n      <td>ios</td>\n      <td>male</td>\n      <td>43</td>\n      <td>42.333333</td>\n      <td>5</td>\n      <td>41_66</td>\n    </tr>\n    <tr>\n      <th>24</th>\n      <td>deu</td>\n      <td>android</td>\n      <td>male</td>\n      <td>20</td>\n      <td>41.727273</td>\n      <td>5</td>\n      <td>19_23</td>\n    </tr>\n    <tr>\n      <th>25</th>\n      <td>usa</td>\n      <td>ios</td>\n      <td>male</td>\n      <td>30</td>\n      <td>41.727273</td>\n      <td>5</td>\n      <td>24_30</td>\n    </tr>\n    <tr>\n      <th>26</th>\n      <td>tur</td>\n      <td>android</td>\n      <td>female</td>\n      <td>18</td>\n      <td>41.500000</td>\n      <td>5</td>\n      <td>0_18</td>\n    </tr>\n    <tr>\n      <th>27</th>\n      <td>usa</td>\n      <td>android</td>\n      <td>male</td>\n      <td>47</td>\n      <td>41.500000</td>\n      <td>5</td>\n      <td>41_66</td>\n    </tr>\n    <tr>\n      <th>28</th>\n      <td>tur</td>\n      <td>android</td>\n      <td>male</td>\n      <td>25</td>\n      <td>41.500000</td>\n      <td>5</td>\n      <td>24_30</td>\n    </tr>\n    <tr>\n      <th>29</th>\n      <td>usa</td>\n      <td>ios</td>\n      <td>female</td>\n      <td>59</td>\n      <td>41.500000</td>\n      <td>5</td>\n      <td>41_66</td>\n    </tr>\n    <tr>\n      <th>30</th>\n      <td>fra</td>\n      <td>android</td>\n      <td>male</td>\n      <td>23</td>\n      <td>41.307692</td>\n      <td>5</td>\n      <td>19_23</td>\n    </tr>\n    <tr>\n      <th>31</th>\n      <td>usa</td>\n      <td>ios</td>\n      <td>male</td>\n      <td>31</td>\n      <td>41.000000</td>\n      <td>5</td>\n      <td>31_40</td>\n    </tr>\n    <tr>\n      <th>32</th>\n      <td>tur</td>\n      <td>android</td>\n      <td>female</td>\n      <td>15</td>\n      <td>41.000000</td>\n      <td>5</td>\n      <td>0_18</td>\n    </tr>\n    <tr>\n      <th>33</th>\n      <td>fra</td>\n      <td>ios</td>\n      <td>male</td>\n      <td>17</td>\n      <td>40.666667</td>\n      <td>5</td>\n      <td>0_18</td>\n    </tr>\n    <tr>\n      <th>34</th>\n      <td>tur</td>\n      <td>ios</td>\n      <td>female</td>\n      <td>21</td>\n      <td>40.666667</td>\n      <td>5</td>\n      <td>19_23</td>\n    </tr>\n    <tr>\n      <th>35</th>\n      <td>tur</td>\n      <td>android</td>\n      <td>female</td>\n      <td>31</td>\n      <td>40.666667</td>\n      <td>5</td>\n      <td>31_40</td>\n    </tr>\n    <tr>\n      <th>36</th>\n      <td>tur</td>\n      <td>android</td>\n      <td>male</td>\n      <td>27</td>\n      <td>40.666667</td>\n      <td>5</td>\n      <td>24_30</td>\n    </tr>\n    <tr>\n      <th>37</th>\n      <td>fra</td>\n      <td>android</td>\n      <td>male</td>\n      <td>19</td>\n      <td>40.538462</td>\n      <td>5</td>\n      <td>19_23</td>\n    </tr>\n    <tr>\n      <th>38</th>\n      <td>bra</td>\n      <td>android</td>\n      <td>male</td>\n      <td>24</td>\n      <td>40.428571</td>\n      <td>5</td>\n      <td>24_30</td>\n    </tr>\n    <tr>\n      <th>39</th>\n      <td>can</td>\n      <td>android</td>\n      <td>male</td>\n      <td>30</td>\n      <td>40.250000</td>\n      <td>5</td>\n      <td>24_30</td>\n    </tr>\n    <tr>\n      <th>40</th>\n      <td>can</td>\n      <td>android</td>\n      <td>male</td>\n      <td>20</td>\n      <td>40.111111</td>\n      <td>5</td>\n      <td>19_23</td>\n    </tr>\n    <tr>\n      <th>41</th>\n      <td>usa</td>\n      <td>android</td>\n      <td>male</td>\n      <td>43</td>\n      <td>39.909091</td>\n      <td>5</td>\n      <td>41_66</td>\n    </tr>\n    <tr>\n      <th>42</th>\n      <td>tur</td>\n      <td>android</td>\n      <td>male</td>\n      <td>26</td>\n      <td>39.666667</td>\n      <td>5</td>\n      <td>24_30</td>\n    </tr>\n    <tr>\n      <th>43</th>\n      <td>bra</td>\n      <td>android</td>\n      <td>male</td>\n      <td>40</td>\n      <td>39.625000</td>\n      <td>5</td>\n      <td>31_40</td>\n    </tr>\n    <tr>\n      <th>44</th>\n      <td>bra</td>\n      <td>android</td>\n      <td>male</td>\n      <td>15</td>\n      <td>39.344828</td>\n      <td>5</td>\n      <td>0_18</td>\n    </tr>\n    <tr>\n      <th>45</th>\n      <td>usa</td>\n      <td>ios</td>\n      <td>female</td>\n      <td>19</td>\n      <td>39.285714</td>\n      <td>5</td>\n      <td>19_23</td>\n    </tr>\n    <tr>\n      <th>46</th>\n      <td>tur</td>\n      <td>android</td>\n      <td>male</td>\n      <td>49</td>\n      <td>39.000000</td>\n      <td>5</td>\n      <td>41_66</td>\n    </tr>\n    <tr>\n      <th>47</th>\n      <td>bra</td>\n      <td>ios</td>\n      <td>female</td>\n      <td>19</td>\n      <td>39.000000</td>\n      <td>5</td>\n      <td>19_23</td>\n    </tr>\n    <tr>\n      <th>48</th>\n      <td>usa</td>\n      <td>ios</td>\n      <td>male</td>\n      <td>50</td>\n      <td>39.000000</td>\n      <td>5</td>\n      <td>41_66</td>\n    </tr>\n    <tr>\n      <th>49</th>\n      <td>bra</td>\n      <td>ios</td>\n      <td>female</td>\n      <td>25</td>\n      <td>39.000000</td>\n      <td>5</td>\n      <td>24_30</td>\n    </tr>\n    <tr>\n      <th>50</th>\n      <td>deu</td>\n      <td>android</td>\n      <td>female</td>\n      <td>38</td>\n      <td>39.000000</td>\n      <td>5</td>\n      <td>31_40</td>\n    </tr>\n    <tr>\n      <th>51</th>\n      <td>deu</td>\n      <td>ios</td>\n      <td>male</td>\n      <td>16</td>\n      <td>39.000000</td>\n      <td>5</td>\n      <td>0_18</td>\n    </tr>\n    <tr>\n      <th>52</th>\n      <td>fra</td>\n      <td>android</td>\n      <td>female</td>\n      <td>21</td>\n      <td>39.000000</td>\n      <td>5</td>\n      <td>19_23</td>\n    </tr>\n    <tr>\n      <th>53</th>\n      <td>fra</td>\n      <td>android</td>\n      <td>male</td>\n      <td>33</td>\n      <td>39.000000</td>\n      <td>5</td>\n      <td>31_40</td>\n    </tr>\n    <tr>\n      <th>54</th>\n      <td>tur</td>\n      <td>ios</td>\n      <td>female</td>\n      <td>31</td>\n      <td>39.000000</td>\n      <td>5</td>\n      <td>31_40</td>\n    </tr>\n    <tr>\n      <th>55</th>\n      <td>fra</td>\n      <td>ios</td>\n      <td>male</td>\n      <td>51</td>\n      <td>39.000000</td>\n      <td>5</td>\n      <td>41_66</td>\n    </tr>\n    <tr>\n      <th>56</th>\n      <td>bra</td>\n      <td>android</td>\n      <td>female</td>\n      <td>32</td>\n      <td>39.000000</td>\n      <td>5</td>\n      <td>31_40</td>\n    </tr>\n    <tr>\n      <th>57</th>\n      <td>tur</td>\n      <td>ios</td>\n      <td>male</td>\n      <td>16</td>\n      <td>39.000000</td>\n      <td>5</td>\n      <td>0_18</td>\n    </tr>\n    <tr>\n      <th>58</th>\n      <td>bra</td>\n      <td>ios</td>\n      <td>female</td>\n      <td>42</td>\n      <td>39.000000</td>\n      <td>5</td>\n      <td>41_66</td>\n    </tr>\n    <tr>\n      <th>59</th>\n      <td>tur</td>\n      <td>android</td>\n      <td>male</td>\n      <td>17</td>\n      <td>39.000000</td>\n      <td>5</td>\n      <td>0_18</td>\n    </tr>\n    <tr>\n      <th>60</th>\n      <td>tur</td>\n      <td>android</td>\n      <td>female</td>\n      <td>49</td>\n      <td>39.000000</td>\n      <td>5</td>\n      <td>41_66</td>\n    </tr>\n    <tr>\n      <th>61</th>\n      <td>bra</td>\n      <td>android</td>\n      <td>female</td>\n      <td>15</td>\n      <td>38.714286</td>\n      <td>5</td>\n      <td>0_18</td>\n    </tr>\n    <tr>\n      <th>62</th>\n      <td>usa</td>\n      <td>ios</td>\n      <td>male</td>\n      <td>21</td>\n      <td>38.534884</td>\n      <td>5</td>\n      <td>19_23</td>\n    </tr>\n    <tr>\n      <th>63</th>\n      <td>usa</td>\n      <td>ios</td>\n      <td>female</td>\n      <td>17</td>\n      <td>38.459459</td>\n      <td>5</td>\n      <td>0_18</td>\n    </tr>\n    <tr>\n      <th>64</th>\n      <td>fra</td>\n      <td>ios</td>\n      <td>male</td>\n      <td>31</td>\n      <td>38.375000</td>\n      <td>5</td>\n      <td>31_40</td>\n    </tr>\n    <tr>\n      <th>65</th>\n      <td>tur</td>\n      <td>android</td>\n      <td>male</td>\n      <td>16</td>\n      <td>38.285714</td>\n      <td>5</td>\n      <td>0_18</td>\n    </tr>\n    <tr>\n      <th>66</th>\n      <td>deu</td>\n      <td>android</td>\n      <td>male</td>\n      <td>37</td>\n      <td>38.166667</td>\n      <td>5</td>\n      <td>31_40</td>\n    </tr>\n    <tr>\n      <th>67</th>\n      <td>usa</td>\n      <td>ios</td>\n      <td>female</td>\n      <td>25</td>\n      <td>38.000000</td>\n      <td>5</td>\n      <td>24_30</td>\n    </tr>\n    <tr>\n      <th>68</th>\n      <td>deu</td>\n      <td>ios</td>\n      <td>female</td>\n      <td>17</td>\n      <td>37.823529</td>\n      <td>5</td>\n      <td>0_18</td>\n    </tr>\n    <tr>\n      <th>69</th>\n      <td>can</td>\n      <td>ios</td>\n      <td>male</td>\n      <td>17</td>\n      <td>37.666667</td>\n      <td>5</td>\n      <td>0_18</td>\n    </tr>\n    <tr>\n      <th>70</th>\n      <td>can</td>\n      <td>android</td>\n      <td>male</td>\n      <td>49</td>\n      <td>37.571429</td>\n      <td>5</td>\n      <td>41_66</td>\n    </tr>\n    <tr>\n      <th>71</th>\n      <td>bra</td>\n      <td>android</td>\n      <td>female</td>\n      <td>29</td>\n      <td>37.571429</td>\n      <td>5</td>\n      <td>24_30</td>\n    </tr>\n    <tr>\n      <th>72</th>\n      <td>tur</td>\n      <td>android</td>\n      <td>female</td>\n      <td>26</td>\n      <td>37.571429</td>\n      <td>5</td>\n      <td>24_30</td>\n    </tr>\n    <tr>\n      <th>73</th>\n      <td>can</td>\n      <td>ios</td>\n      <td>male</td>\n      <td>15</td>\n      <td>37.571429</td>\n      <td>5</td>\n      <td>0_18</td>\n    </tr>\n    <tr>\n      <th>74</th>\n      <td>bra</td>\n      <td>ios</td>\n      <td>male</td>\n      <td>33</td>\n      <td>37.571429</td>\n      <td>5</td>\n      <td>31_40</td>\n    </tr>\n    <tr>\n      <th>75</th>\n      <td>fra</td>\n      <td>android</td>\n      <td>female</td>\n      <td>15</td>\n      <td>37.571429</td>\n      <td>5</td>\n      <td>0_18</td>\n    </tr>\n    <tr>\n      <th>76</th>\n      <td>deu</td>\n      <td>ios</td>\n      <td>female</td>\n      <td>18</td>\n      <td>37.333333</td>\n      <td>5</td>\n      <td>0_18</td>\n    </tr>\n    <tr>\n      <th>77</th>\n      <td>can</td>\n      <td>android</td>\n      <td>female</td>\n      <td>18</td>\n      <td>37.333333</td>\n      <td>5</td>\n      <td>0_18</td>\n    </tr>\n    <tr>\n      <th>78</th>\n      <td>tur</td>\n      <td>ios</td>\n      <td>female</td>\n      <td>20</td>\n      <td>37.333333</td>\n      <td>5</td>\n      <td>19_23</td>\n    </tr>\n    <tr>\n      <th>79</th>\n      <td>deu</td>\n      <td>android</td>\n      <td>male</td>\n      <td>23</td>\n      <td>37.333333</td>\n      <td>5</td>\n      <td>19_23</td>\n    </tr>\n    <tr>\n      <th>80</th>\n      <td>bra</td>\n      <td>android</td>\n      <td>female</td>\n      <td>21</td>\n      <td>37.292683</td>\n      <td>5</td>\n      <td>19_23</td>\n    </tr>\n    <tr>\n      <th>81</th>\n      <td>usa</td>\n      <td>android</td>\n      <td>female</td>\n      <td>33</td>\n      <td>37.181818</td>\n      <td>5</td>\n      <td>31_40</td>\n    </tr>\n    <tr>\n      <th>82</th>\n      <td>bra</td>\n      <td>ios</td>\n      <td>male</td>\n      <td>22</td>\n      <td>37.181818</td>\n      <td>5</td>\n      <td>19_23</td>\n    </tr>\n    <tr>\n      <th>83</th>\n      <td>bra</td>\n      <td>android</td>\n      <td>male</td>\n      <td>17</td>\n      <td>37.157895</td>\n      <td>5</td>\n      <td>0_18</td>\n    </tr>\n    <tr>\n      <th>84</th>\n      <td>bra</td>\n      <td>android</td>\n      <td>male</td>\n      <td>26</td>\n      <td>37.095238</td>\n      <td>5</td>\n      <td>24_30</td>\n    </tr>\n    <tr>\n      <th>85</th>\n      <td>usa</td>\n      <td>android</td>\n      <td>male</td>\n      <td>26</td>\n      <td>37.000000</td>\n      <td>5</td>\n      <td>24_30</td>\n    </tr>\n    <tr>\n      <th>86</th>\n      <td>tur</td>\n      <td>android</td>\n      <td>female</td>\n      <td>21</td>\n      <td>37.000000</td>\n      <td>5</td>\n      <td>19_23</td>\n    </tr>\n    <tr>\n      <th>87</th>\n      <td>deu</td>\n      <td>ios</td>\n      <td>male</td>\n      <td>42</td>\n      <td>37.000000</td>\n      <td>5</td>\n      <td>41_66</td>\n    </tr>\n    <tr>\n      <th>88</th>\n      <td>bra</td>\n      <td>android</td>\n      <td>female</td>\n      <td>56</td>\n      <td>37.000000</td>\n      <td>5</td>\n      <td>41_66</td>\n    </tr>\n    <tr>\n      <th>89</th>\n      <td>bra</td>\n      <td>ios</td>\n      <td>male</td>\n      <td>15</td>\n      <td>36.878788</td>\n      <td>5</td>\n      <td>0_18</td>\n    </tr>\n    <tr>\n      <th>90</th>\n      <td>usa</td>\n      <td>ios</td>\n      <td>female</td>\n      <td>26</td>\n      <td>36.857143</td>\n      <td>5</td>\n      <td>24_30</td>\n    </tr>\n    <tr>\n      <th>91</th>\n      <td>bra</td>\n      <td>ios</td>\n      <td>female</td>\n      <td>15</td>\n      <td>36.777778</td>\n      <td>5</td>\n      <td>0_18</td>\n    </tr>\n    <tr>\n      <th>92</th>\n      <td>bra</td>\n      <td>ios</td>\n      <td>male</td>\n      <td>35</td>\n      <td>36.777778</td>\n      <td>5</td>\n      <td>31_40</td>\n    </tr>\n    <tr>\n      <th>93</th>\n      <td>fra</td>\n      <td>android</td>\n      <td>female</td>\n      <td>16</td>\n      <td>36.727273</td>\n      <td>5</td>\n      <td>0_18</td>\n    </tr>\n    <tr>\n      <th>94</th>\n      <td>usa</td>\n      <td>android</td>\n      <td>male</td>\n      <td>20</td>\n      <td>36.647059</td>\n      <td>5</td>\n      <td>19_23</td>\n    </tr>\n    <tr>\n      <th>95</th>\n      <td>bra</td>\n      <td>ios</td>\n      <td>female</td>\n      <td>18</td>\n      <td>36.500000</td>\n      <td>5</td>\n      <td>0_18</td>\n    </tr>\n    <tr>\n      <th>96</th>\n      <td>bra</td>\n      <td>android</td>\n      <td>male</td>\n      <td>44</td>\n      <td>36.500000</td>\n      <td>5</td>\n      <td>41_66</td>\n    </tr>\n    <tr>\n      <th>97</th>\n      <td>bra</td>\n      <td>android</td>\n      <td>female</td>\n      <td>24</td>\n      <td>36.500000</td>\n      <td>5</td>\n      <td>24_30</td>\n    </tr>\n    <tr>\n      <th>98</th>\n      <td>usa</td>\n      <td>android</td>\n      <td>male</td>\n      <td>30</td>\n      <td>36.142857</td>\n      <td>5</td>\n      <td>24_30</td>\n    </tr>\n    <tr>\n      <th>99</th>\n      <td>tur</td>\n      <td>android</td>\n      <td>female</td>\n      <td>52</td>\n      <td>36.142857</td>\n      <td>5</td>\n      <td>41_66</td>\n    </tr>\n    <tr>\n      <th>100</th>\n      <td>usa</td>\n      <td>ios</td>\n      <td>female</td>\n      <td>28</td>\n      <td>36.142857</td>\n      <td>5</td>\n      <td>24_30</td>\n    </tr>\n    <tr>\n      <th>101</th>\n      <td>deu</td>\n      <td>ios</td>\n      <td>female</td>\n      <td>26</td>\n      <td>36.000000</td>\n      <td>5</td>\n      <td>24_30</td>\n    </tr>\n    <tr>\n      <th>102</th>\n      <td>can</td>\n      <td>android</td>\n      <td>male</td>\n      <td>15</td>\n      <td>36.000000</td>\n      <td>5</td>\n      <td>0_18</td>\n    </tr>\n    <tr>\n      <th>103</th>\n      <td>bra</td>\n      <td>android</td>\n      <td>female</td>\n      <td>16</td>\n      <td>35.944444</td>\n      <td>5</td>\n      <td>0_18</td>\n    </tr>\n    <tr>\n      <th>104</th>\n      <td>tur</td>\n      <td>android</td>\n      <td>male</td>\n      <td>24</td>\n      <td>35.923077</td>\n      <td>5</td>\n      <td>24_30</td>\n    </tr>\n    <tr>\n      <th>105</th>\n      <td>usa</td>\n      <td>android</td>\n      <td>male</td>\n      <td>51</td>\n      <td>35.875000</td>\n      <td>5</td>\n      <td>41_66</td>\n    </tr>\n    <tr>\n      <th>106</th>\n      <td>usa</td>\n      <td>ios</td>\n      <td>female</td>\n      <td>21</td>\n      <td>35.800000</td>\n      <td>5</td>\n      <td>19_23</td>\n    </tr>\n    <tr>\n      <th>107</th>\n      <td>usa</td>\n      <td>android</td>\n      <td>female</td>\n      <td>19</td>\n      <td>35.764706</td>\n      <td>5</td>\n      <td>19_23</td>\n    </tr>\n    <tr>\n      <th>108</th>\n      <td>fra</td>\n      <td>ios</td>\n      <td>male</td>\n      <td>19</td>\n      <td>35.666667</td>\n      <td>5</td>\n      <td>19_23</td>\n    </tr>\n    <tr>\n      <th>109</th>\n      <td>fra</td>\n      <td>android</td>\n      <td>male</td>\n      <td>55</td>\n      <td>35.666667</td>\n      <td>5</td>\n      <td>41_66</td>\n    </tr>\n    <tr>\n      <th>110</th>\n      <td>bra</td>\n      <td>android</td>\n      <td>male</td>\n      <td>41</td>\n      <td>35.666667</td>\n      <td>5</td>\n      <td>41_66</td>\n    </tr>\n    <tr>\n      <th>111</th>\n      <td>tur</td>\n      <td>android</td>\n      <td>male</td>\n      <td>22</td>\n      <td>35.666667</td>\n      <td>5</td>\n      <td>19_23</td>\n    </tr>\n    <tr>\n      <th>112</th>\n      <td>bra</td>\n      <td>android</td>\n      <td>female</td>\n      <td>25</td>\n      <td>35.666667</td>\n      <td>5</td>\n      <td>24_30</td>\n    </tr>\n    <tr>\n      <th>113</th>\n      <td>usa</td>\n      <td>android</td>\n      <td>female</td>\n      <td>35</td>\n      <td>35.666667</td>\n      <td>5</td>\n      <td>31_40</td>\n    </tr>\n    <tr>\n      <th>114</th>\n      <td>usa</td>\n      <td>ios</td>\n      <td>female</td>\n      <td>29</td>\n      <td>35.666667</td>\n      <td>5</td>\n      <td>24_30</td>\n    </tr>\n    <tr>\n      <th>115</th>\n      <td>bra</td>\n      <td>android</td>\n      <td>female</td>\n      <td>17</td>\n      <td>35.666667</td>\n      <td>5</td>\n      <td>0_18</td>\n    </tr>\n    <tr>\n      <th>116</th>\n      <td>tur</td>\n      <td>ios</td>\n      <td>female</td>\n      <td>19</td>\n      <td>35.666667</td>\n      <td>5</td>\n      <td>19_23</td>\n    </tr>\n    <tr>\n      <th>117</th>\n      <td>deu</td>\n      <td>ios</td>\n      <td>female</td>\n      <td>16</td>\n      <td>35.557377</td>\n      <td>5</td>\n      <td>0_18</td>\n    </tr>\n    <tr>\n      <th>118</th>\n      <td>usa</td>\n      <td>android</td>\n      <td>male</td>\n      <td>41</td>\n      <td>35.428571</td>\n      <td>5</td>\n      <td>41_66</td>\n    </tr>\n    <tr>\n      <th>119</th>\n      <td>bra</td>\n      <td>android</td>\n      <td>male</td>\n      <td>20</td>\n      <td>35.400000</td>\n      <td>5</td>\n      <td>19_23</td>\n    </tr>\n    <tr>\n      <th>120</th>\n      <td>deu</td>\n      <td>android</td>\n      <td>male</td>\n      <td>33</td>\n      <td>35.363636</td>\n      <td>5</td>\n      <td>31_40</td>\n    </tr>\n    <tr>\n      <th>121</th>\n      <td>bra</td>\n      <td>ios</td>\n      <td>female</td>\n      <td>33</td>\n      <td>35.363636</td>\n      <td>5</td>\n      <td>31_40</td>\n    </tr>\n    <tr>\n      <th>122</th>\n      <td>bra</td>\n      <td>ios</td>\n      <td>female</td>\n      <td>45</td>\n      <td>35.363636</td>\n      <td>5</td>\n      <td>41_66</td>\n    </tr>\n    <tr>\n      <th>123</th>\n      <td>bra</td>\n      <td>android</td>\n      <td>male</td>\n      <td>30</td>\n      <td>35.363636</td>\n      <td>5</td>\n      <td>24_30</td>\n    </tr>\n    <tr>\n      <th>124</th>\n      <td>deu</td>\n      <td>android</td>\n      <td>female</td>\n      <td>24</td>\n      <td>35.363636</td>\n      <td>5</td>\n      <td>24_30</td>\n    </tr>\n    <tr>\n      <th>125</th>\n      <td>bra</td>\n      <td>ios</td>\n      <td>male</td>\n      <td>17</td>\n      <td>35.333333</td>\n      <td>5</td>\n      <td>0_18</td>\n    </tr>\n    <tr>\n      <th>126</th>\n      <td>bra</td>\n      <td>android</td>\n      <td>male</td>\n      <td>21</td>\n      <td>35.250000</td>\n      <td>5</td>\n      <td>19_23</td>\n    </tr>\n    <tr>\n      <th>127</th>\n      <td>usa</td>\n      <td>android</td>\n      <td>female</td>\n      <td>49</td>\n      <td>35.250000</td>\n      <td>5</td>\n      <td>41_66</td>\n    </tr>\n    <tr>\n      <th>128</th>\n      <td>bra</td>\n      <td>android</td>\n      <td>male</td>\n      <td>19</td>\n      <td>35.216216</td>\n      <td>5</td>\n      <td>19_23</td>\n    </tr>\n    <tr>\n      <th>129</th>\n      <td>bra</td>\n      <td>android</td>\n      <td>female</td>\n      <td>19</td>\n      <td>35.206897</td>\n      <td>5</td>\n      <td>19_23</td>\n    </tr>\n    <tr>\n      <th>130</th>\n      <td>usa</td>\n      <td>android</td>\n      <td>male</td>\n      <td>18</td>\n      <td>35.190476</td>\n      <td>5</td>\n      <td>0_18</td>\n    </tr>\n    <tr>\n      <th>131</th>\n      <td>bra</td>\n      <td>ios</td>\n      <td>female</td>\n      <td>37</td>\n      <td>35.111111</td>\n      <td>5</td>\n      <td>31_40</td>\n    </tr>\n    <tr>\n      <th>132</th>\n      <td>usa</td>\n      <td>ios</td>\n      <td>male</td>\n      <td>27</td>\n      <td>35.111111</td>\n      <td>5</td>\n      <td>24_30</td>\n    </tr>\n    <tr>\n      <th>133</th>\n      <td>bra</td>\n      <td>android</td>\n      <td>female</td>\n      <td>31</td>\n      <td>35.097561</td>\n      <td>5</td>\n      <td>31_40</td>\n    </tr>\n    <tr>\n      <th>134</th>\n      <td>usa</td>\n      <td>ios</td>\n      <td>female</td>\n      <td>20</td>\n      <td>35.000000</td>\n      <td>5</td>\n      <td>19_23</td>\n    </tr>\n    <tr>\n      <th>135</th>\n      <td>usa</td>\n      <td>android</td>\n      <td>female</td>\n      <td>31</td>\n      <td>35.000000</td>\n      <td>5</td>\n      <td>31_40</td>\n    </tr>\n    <tr>\n      <th>136</th>\n      <td>fra</td>\n      <td>ios</td>\n      <td>male</td>\n      <td>22</td>\n      <td>35.000000</td>\n      <td>5</td>\n      <td>19_23</td>\n    </tr>\n    <tr>\n      <th>137</th>\n      <td>deu</td>\n      <td>android</td>\n      <td>female</td>\n      <td>22</td>\n      <td>35.000000</td>\n      <td>5</td>\n      <td>19_23</td>\n    </tr>\n    <tr>\n      <th>138</th>\n      <td>can</td>\n      <td>ios</td>\n      <td>male</td>\n      <td>16</td>\n      <td>35.000000</td>\n      <td>5</td>\n      <td>0_18</td>\n    </tr>\n    <tr>\n      <th>139</th>\n      <td>deu</td>\n      <td>ios</td>\n      <td>male</td>\n      <td>17</td>\n      <td>35.000000</td>\n      <td>5</td>\n      <td>0_18</td>\n    </tr>\n    <tr>\n      <th>140</th>\n      <td>usa</td>\n      <td>ios</td>\n      <td>female</td>\n      <td>65</td>\n      <td>35.000000</td>\n      <td>5</td>\n      <td>41_66</td>\n    </tr>\n    <tr>\n      <th>141</th>\n      <td>deu</td>\n      <td>ios</td>\n      <td>male</td>\n      <td>25</td>\n      <td>35.000000</td>\n      <td>5</td>\n      <td>24_30</td>\n    </tr>\n    <tr>\n      <th>142</th>\n      <td>bra</td>\n      <td>android</td>\n      <td>female</td>\n      <td>22</td>\n      <td>34.945946</td>\n      <td>5</td>\n      <td>19_23</td>\n    </tr>\n    <tr>\n      <th>143</th>\n      <td>usa</td>\n      <td>android</td>\n      <td>female</td>\n      <td>16</td>\n      <td>34.901639</td>\n      <td>5</td>\n      <td>0_18</td>\n    </tr>\n    <tr>\n      <th>144</th>\n      <td>bra</td>\n      <td>ios</td>\n      <td>male</td>\n      <td>23</td>\n      <td>34.882353</td>\n      <td>5</td>\n      <td>19_23</td>\n    </tr>\n    <tr>\n      <th>145</th>\n      <td>usa</td>\n      <td>android</td>\n      <td>male</td>\n      <td>23</td>\n      <td>34.849057</td>\n      <td>5</td>\n      <td>19_23</td>\n    </tr>\n    <tr>\n      <th>146</th>\n      <td>tur</td>\n      <td>ios</td>\n      <td>male</td>\n      <td>17</td>\n      <td>34.806452</td>\n      <td>5</td>\n      <td>0_18</td>\n    </tr>\n    <tr>\n      <th>147</th>\n      <td>usa</td>\n      <td>android</td>\n      <td>female</td>\n      <td>28</td>\n      <td>34.789474</td>\n      <td>5</td>\n      <td>24_30</td>\n    </tr>\n    <tr>\n      <th>148</th>\n      <td>usa</td>\n      <td>ios</td>\n      <td>male</td>\n      <td>16</td>\n      <td>34.714286</td>\n      <td>5</td>\n      <td>0_18</td>\n    </tr>\n    <tr>\n      <th>149</th>\n      <td>bra</td>\n      <td>ios</td>\n      <td>male</td>\n      <td>34</td>\n      <td>34.714286</td>\n      <td>5</td>\n      <td>31_40</td>\n    </tr>\n    <tr>\n      <th>150</th>\n      <td>usa</td>\n      <td>android</td>\n      <td>male</td>\n      <td>22</td>\n      <td>34.714286</td>\n      <td>5</td>\n      <td>19_23</td>\n    </tr>\n    <tr>\n      <th>151</th>\n      <td>usa</td>\n      <td>android</td>\n      <td>male</td>\n      <td>35</td>\n      <td>34.714286</td>\n      <td>5</td>\n      <td>31_40</td>\n    </tr>\n    <tr>\n      <th>152</th>\n      <td>usa</td>\n      <td>android</td>\n      <td>male</td>\n      <td>31</td>\n      <td>34.714286</td>\n      <td>5</td>\n      <td>31_40</td>\n    </tr>\n    <tr>\n      <th>153</th>\n      <td>usa</td>\n      <td>ios</td>\n      <td>female</td>\n      <td>47</td>\n      <td>34.714286</td>\n      <td>5</td>\n      <td>41_66</td>\n    </tr>\n    <tr>\n      <th>154</th>\n      <td>usa</td>\n      <td>android</td>\n      <td>male</td>\n      <td>15</td>\n      <td>34.663717</td>\n      <td>5</td>\n      <td>0_18</td>\n    </tr>\n    <tr>\n      <th>155</th>\n      <td>fra</td>\n      <td>android</td>\n      <td>female</td>\n      <td>17</td>\n      <td>34.652174</td>\n      <td>5</td>\n      <td>0_18</td>\n    </tr>\n    <tr>\n      <th>156</th>\n      <td>usa</td>\n      <td>android</td>\n      <td>female</td>\n      <td>17</td>\n      <td>34.625000</td>\n      <td>5</td>\n      <td>0_18</td>\n    </tr>\n    <tr>\n      <th>157</th>\n      <td>usa</td>\n      <td>ios</td>\n      <td>male</td>\n      <td>18</td>\n      <td>34.576923</td>\n      <td>5</td>\n      <td>0_18</td>\n    </tr>\n    <tr>\n      <th>158</th>\n      <td>bra</td>\n      <td>android</td>\n      <td>female</td>\n      <td>38</td>\n      <td>34.555556</td>\n      <td>5</td>\n      <td>31_40</td>\n    </tr>\n    <tr>\n      <th>159</th>\n      <td>usa</td>\n      <td>ios</td>\n      <td>female</td>\n      <td>33</td>\n      <td>34.555556</td>\n      <td>5</td>\n      <td>31_40</td>\n    </tr>\n    <tr>\n      <th>160</th>\n      <td>tur</td>\n      <td>android</td>\n      <td>female</td>\n      <td>16</td>\n      <td>34.555556</td>\n      <td>5</td>\n      <td>0_18</td>\n    </tr>\n    <tr>\n      <th>161</th>\n      <td>deu</td>\n      <td>android</td>\n      <td>female</td>\n      <td>25</td>\n      <td>34.454545</td>\n      <td>5</td>\n      <td>24_30</td>\n    </tr>\n    <tr>\n      <th>162</th>\n      <td>usa</td>\n      <td>android</td>\n      <td>male</td>\n      <td>17</td>\n      <td>34.454545</td>\n      <td>5</td>\n      <td>0_18</td>\n    </tr>\n    <tr>\n      <th>163</th>\n      <td>usa</td>\n      <td>android</td>\n      <td>male</td>\n      <td>28</td>\n      <td>34.384615</td>\n      <td>5</td>\n      <td>24_30</td>\n    </tr>\n    <tr>\n      <th>164</th>\n      <td>bra</td>\n      <td>ios</td>\n      <td>female</td>\n      <td>26</td>\n      <td>34.333333</td>\n      <td>5</td>\n      <td>24_30</td>\n    </tr>\n    <tr>\n      <th>165</th>\n      <td>usa</td>\n      <td>android</td>\n      <td>female</td>\n      <td>21</td>\n      <td>34.185185</td>\n      <td>5</td>\n      <td>19_23</td>\n    </tr>\n    <tr>\n      <th>166</th>\n      <td>bra</td>\n      <td>ios</td>\n      <td>female</td>\n      <td>54</td>\n      <td>34.000000</td>\n      <td>5</td>\n      <td>41_66</td>\n    </tr>\n    <tr>\n      <th>167</th>\n      <td>deu</td>\n      <td>android</td>\n      <td>female</td>\n      <td>23</td>\n      <td>34.000000</td>\n      <td>5</td>\n      <td>19_23</td>\n    </tr>\n    <tr>\n      <th>168</th>\n      <td>usa</td>\n      <td>ios</td>\n      <td>male</td>\n      <td>26</td>\n      <td>34.000000</td>\n      <td>5</td>\n      <td>24_30</td>\n    </tr>\n    <tr>\n      <th>169</th>\n      <td>fra</td>\n      <td>ios</td>\n      <td>male</td>\n      <td>26</td>\n      <td>34.000000</td>\n      <td>5</td>\n      <td>24_30</td>\n    </tr>\n    <tr>\n      <th>170</th>\n      <td>bra</td>\n      <td>ios</td>\n      <td>female</td>\n      <td>27</td>\n      <td>34.000000</td>\n      <td>5</td>\n      <td>24_30</td>\n    </tr>\n    <tr>\n      <th>171</th>\n      <td>can</td>\n      <td>android</td>\n      <td>female</td>\n      <td>43</td>\n      <td>34.000000</td>\n      <td>5</td>\n      <td>41_66</td>\n    </tr>\n    <tr>\n      <th>172</th>\n      <td>usa</td>\n      <td>ios</td>\n      <td>female</td>\n      <td>22</td>\n      <td>34.000000</td>\n      <td>5</td>\n      <td>19_23</td>\n    </tr>\n    <tr>\n      <th>173</th>\n      <td>usa</td>\n      <td>ios</td>\n      <td>male</td>\n      <td>20</td>\n      <td>34.000000</td>\n      <td>5</td>\n      <td>19_23</td>\n    </tr>\n    <tr>\n      <th>174</th>\n      <td>bra</td>\n      <td>ios</td>\n      <td>male</td>\n      <td>19</td>\n      <td>34.000000</td>\n      <td>5</td>\n      <td>19_23</td>\n    </tr>\n    <tr>\n      <th>175</th>\n      <td>tur</td>\n      <td>ios</td>\n      <td>female</td>\n      <td>23</td>\n      <td>34.000000</td>\n      <td>5</td>\n      <td>19_23</td>\n    </tr>\n    <tr>\n      <th>176</th>\n      <td>tur</td>\n      <td>ios</td>\n      <td>female</td>\n      <td>25</td>\n      <td>34.000000</td>\n      <td>5</td>\n      <td>24_30</td>\n    </tr>\n    <tr>\n      <th>177</th>\n      <td>tur</td>\n      <td>ios</td>\n      <td>female</td>\n      <td>26</td>\n      <td>34.000000</td>\n      <td>5</td>\n      <td>24_30</td>\n    </tr>\n    <tr>\n      <th>178</th>\n      <td>deu</td>\n      <td>ios</td>\n      <td>female</td>\n      <td>22</td>\n      <td>34.000000</td>\n      <td>5</td>\n      <td>19_23</td>\n    </tr>\n    <tr>\n      <th>179</th>\n      <td>tur</td>\n      <td>ios</td>\n      <td>female</td>\n      <td>51</td>\n      <td>34.000000</td>\n      <td>5</td>\n      <td>41_66</td>\n    </tr>\n    <tr>\n      <th>180</th>\n      <td>deu</td>\n      <td>android</td>\n      <td>male</td>\n      <td>21</td>\n      <td>34.000000</td>\n      <td>5</td>\n      <td>19_23</td>\n    </tr>\n    <tr>\n      <th>181</th>\n      <td>bra</td>\n      <td>ios</td>\n      <td>female</td>\n      <td>24</td>\n      <td>34.000000</td>\n      <td>5</td>\n      <td>24_30</td>\n    </tr>\n    <tr>\n      <th>182</th>\n      <td>usa</td>\n      <td>android</td>\n      <td>male</td>\n      <td>16</td>\n      <td>34.000000</td>\n      <td>5</td>\n      <td>0_18</td>\n    </tr>\n    <tr>\n      <th>183</th>\n      <td>usa</td>\n      <td>ios</td>\n      <td>male</td>\n      <td>53</td>\n      <td>34.000000</td>\n      <td>5</td>\n      <td>41_66</td>\n    </tr>\n    <tr>\n      <th>184</th>\n      <td>usa</td>\n      <td>android</td>\n      <td>female</td>\n      <td>42</td>\n      <td>34.000000</td>\n      <td>5</td>\n      <td>41_66</td>\n    </tr>\n    <tr>\n      <th>185</th>\n      <td>fra</td>\n      <td>android</td>\n      <td>female</td>\n      <td>35</td>\n      <td>34.000000</td>\n      <td>5</td>\n      <td>31_40</td>\n    </tr>\n    <tr>\n      <th>186</th>\n      <td>usa</td>\n      <td>android</td>\n      <td>male</td>\n      <td>25</td>\n      <td>34.000000</td>\n      <td>5</td>\n      <td>24_30</td>\n    </tr>\n    <tr>\n      <th>187</th>\n      <td>usa</td>\n      <td>android</td>\n      <td>female</td>\n      <td>25</td>\n      <td>34.000000</td>\n      <td>5</td>\n      <td>24_30</td>\n    </tr>\n    <tr>\n      <th>188</th>\n      <td>deu</td>\n      <td>ios</td>\n      <td>female</td>\n      <td>23</td>\n      <td>34.000000</td>\n      <td>5</td>\n      <td>19_23</td>\n    </tr>\n    <tr>\n      <th>189</th>\n      <td>bra</td>\n      <td>ios</td>\n      <td>male</td>\n      <td>24</td>\n      <td>33.864865</td>\n      <td>5</td>\n      <td>24_30</td>\n    </tr>\n    <tr>\n      <th>190</th>\n      <td>usa</td>\n      <td>ios</td>\n      <td>female</td>\n      <td>15</td>\n      <td>33.857143</td>\n      <td>5</td>\n      <td>0_18</td>\n    </tr>\n    <tr>\n      <th>191</th>\n      <td>usa</td>\n      <td>android</td>\n      <td>female</td>\n      <td>22</td>\n      <td>33.800000</td>\n      <td>5</td>\n      <td>19_23</td>\n    </tr>\n    <tr>\n      <th>192</th>\n      <td>bra</td>\n      <td>ios</td>\n      <td>male</td>\n      <td>16</td>\n      <td>33.761905</td>\n      <td>5</td>\n      <td>0_18</td>\n    </tr>\n    <tr>\n      <th>193</th>\n      <td>deu</td>\n      <td>android</td>\n      <td>female</td>\n      <td>17</td>\n      <td>33.736842</td>\n      <td>5</td>\n      <td>0_18</td>\n    </tr>\n    <tr>\n      <th>194</th>\n      <td>bra</td>\n      <td>android</td>\n      <td>female</td>\n      <td>37</td>\n      <td>33.736842</td>\n      <td>5</td>\n      <td>31_40</td>\n    </tr>\n    <tr>\n      <th>195</th>\n      <td>usa</td>\n      <td>ios</td>\n      <td>male</td>\n      <td>15</td>\n      <td>33.729730</td>\n      <td>5</td>\n      <td>0_18</td>\n    </tr>\n    <tr>\n      <th>196</th>\n      <td>can</td>\n      <td>ios</td>\n      <td>female</td>\n      <td>15</td>\n      <td>33.705882</td>\n      <td>5</td>\n      <td>0_18</td>\n    </tr>\n    <tr>\n      <th>197</th>\n      <td>tur</td>\n      <td>android</td>\n      <td>female</td>\n      <td>17</td>\n      <td>33.687500</td>\n      <td>5</td>\n      <td>0_18</td>\n    </tr>\n    <tr>\n      <th>198</th>\n      <td>bra</td>\n      <td>ios</td>\n      <td>female</td>\n      <td>16</td>\n      <td>33.687500</td>\n      <td>5</td>\n      <td>0_18</td>\n    </tr>\n    <tr>\n      <th>199</th>\n      <td>fra</td>\n      <td>ios</td>\n      <td>female</td>\n      <td>15</td>\n      <td>33.615385</td>\n      <td>5</td>\n      <td>0_18</td>\n    </tr>\n    <tr>\n      <th>200</th>\n      <td>bra</td>\n      <td>android</td>\n      <td>female</td>\n      <td>45</td>\n      <td>33.615385</td>\n      <td>5</td>\n      <td>41_66</td>\n    </tr>\n    <tr>\n      <th>201</th>\n      <td>bra</td>\n      <td>ios</td>\n      <td>male</td>\n      <td>44</td>\n      <td>33.545455</td>\n      <td>5</td>\n      <td>41_66</td>\n    </tr>\n    <tr>\n      <th>202</th>\n      <td>usa</td>\n      <td>android</td>\n      <td>male</td>\n      <td>27</td>\n      <td>33.285714</td>\n      <td>5</td>\n      <td>24_30</td>\n    </tr>\n    <tr>\n      <th>203</th>\n      <td>bra</td>\n      <td>android</td>\n      <td>female</td>\n      <td>26</td>\n      <td>33.166667</td>\n      <td>5</td>\n      <td>24_30</td>\n    </tr>\n    <tr>\n      <th>204</th>\n      <td>usa</td>\n      <td>android</td>\n      <td>female</td>\n      <td>23</td>\n      <td>33.102564</td>\n      <td>5</td>\n      <td>19_23</td>\n    </tr>\n    <tr>\n      <th>205</th>\n      <td>bra</td>\n      <td>android</td>\n      <td>male</td>\n      <td>18</td>\n      <td>33.054054</td>\n      <td>5</td>\n      <td>0_18</td>\n    </tr>\n    <tr>\n      <th>206</th>\n      <td>bra</td>\n      <td>ios</td>\n      <td>female</td>\n      <td>46</td>\n      <td>33.000000</td>\n      <td>5</td>\n      <td>41_66</td>\n    </tr>\n    <tr>\n      <th>207</th>\n      <td>usa</td>\n      <td>android</td>\n      <td>male</td>\n      <td>42</td>\n      <td>33.000000</td>\n      <td>5</td>\n      <td>41_66</td>\n    </tr>\n    <tr>\n      <th>208</th>\n      <td>fra</td>\n      <td>ios</td>\n      <td>female</td>\n      <td>40</td>\n      <td>33.000000</td>\n      <td>5</td>\n      <td>31_40</td>\n    </tr>\n    <tr>\n      <th>209</th>\n      <td>fra</td>\n      <td>android</td>\n      <td>male</td>\n      <td>25</td>\n      <td>33.000000</td>\n      <td>5</td>\n      <td>24_30</td>\n    </tr>\n    <tr>\n      <th>210</th>\n      <td>deu</td>\n      <td>ios</td>\n      <td>female</td>\n      <td>32</td>\n      <td>33.000000</td>\n      <td>5</td>\n      <td>31_40</td>\n    </tr>\n    <tr>\n      <th>211</th>\n      <td>usa</td>\n      <td>ios</td>\n      <td>female</td>\n      <td>18</td>\n      <td>32.913043</td>\n      <td>5</td>\n      <td>0_18</td>\n    </tr>\n    <tr>\n      <th>212</th>\n      <td>deu</td>\n      <td>android</td>\n      <td>male</td>\n      <td>17</td>\n      <td>32.913043</td>\n      <td>5</td>\n      <td>0_18</td>\n    </tr>\n    <tr>\n      <th>213</th>\n      <td>usa</td>\n      <td>ios</td>\n      <td>male</td>\n      <td>17</td>\n      <td>32.913043</td>\n      <td>5</td>\n      <td>0_18</td>\n    </tr>\n    <tr>\n      <th>214</th>\n      <td>bra</td>\n      <td>ios</td>\n      <td>female</td>\n      <td>20</td>\n      <td>32.846154</td>\n      <td>5</td>\n      <td>19_23</td>\n    </tr>\n    <tr>\n      <th>215</th>\n      <td>tur</td>\n      <td>ios</td>\n      <td>male</td>\n      <td>15</td>\n      <td>32.846154</td>\n      <td>5</td>\n      <td>0_18</td>\n    </tr>\n    <tr>\n      <th>216</th>\n      <td>usa</td>\n      <td>android</td>\n      <td>male</td>\n      <td>19</td>\n      <td>32.809524</td>\n      <td>5</td>\n      <td>19_23</td>\n    </tr>\n    <tr>\n      <th>217</th>\n      <td>usa</td>\n      <td>ios</td>\n      <td>female</td>\n      <td>23</td>\n      <td>32.809524</td>\n      <td>5</td>\n      <td>19_23</td>\n    </tr>\n    <tr>\n      <th>218</th>\n      <td>usa</td>\n      <td>ios</td>\n      <td>female</td>\n      <td>24</td>\n      <td>32.750000</td>\n      <td>5</td>\n      <td>24_30</td>\n    </tr>\n    <tr>\n      <th>219</th>\n      <td>bra</td>\n      <td>ios</td>\n      <td>male</td>\n      <td>18</td>\n      <td>32.684211</td>\n      <td>5</td>\n      <td>0_18</td>\n    </tr>\n    <tr>\n      <th>220</th>\n      <td>usa</td>\n      <td>android</td>\n      <td>female</td>\n      <td>15</td>\n      <td>32.666667</td>\n      <td>5</td>\n      <td>0_18</td>\n    </tr>\n    <tr>\n      <th>221</th>\n      <td>fra</td>\n      <td>ios</td>\n      <td>female</td>\n      <td>31</td>\n      <td>32.636364</td>\n      <td>5</td>\n      <td>31_40</td>\n    </tr>\n    <tr>\n      <th>222</th>\n      <td>bra</td>\n      <td>ios</td>\n      <td>female</td>\n      <td>17</td>\n      <td>32.636364</td>\n      <td>5</td>\n      <td>0_18</td>\n    </tr>\n    <tr>\n      <th>223</th>\n      <td>tur</td>\n      <td>ios</td>\n      <td>female</td>\n      <td>22</td>\n      <td>32.636364</td>\n      <td>5</td>\n      <td>19_23</td>\n    </tr>\n    <tr>\n      <th>224</th>\n      <td>bra</td>\n      <td>android</td>\n      <td>male</td>\n      <td>27</td>\n      <td>32.636364</td>\n      <td>5</td>\n      <td>24_30</td>\n    </tr>\n    <tr>\n      <th>225</th>\n      <td>fra</td>\n      <td>ios</td>\n      <td>female</td>\n      <td>18</td>\n      <td>32.571429</td>\n      <td>5</td>\n      <td>0_18</td>\n    </tr>\n    <tr>\n      <th>226</th>\n      <td>can</td>\n      <td>android</td>\n      <td>female</td>\n      <td>19</td>\n      <td>32.529412</td>\n      <td>5</td>\n      <td>19_23</td>\n    </tr>\n    <tr>\n      <th>227</th>\n      <td>usa</td>\n      <td>android</td>\n      <td>female</td>\n      <td>18</td>\n      <td>32.404255</td>\n      <td>5</td>\n      <td>0_18</td>\n    </tr>\n    <tr>\n      <th>228</th>\n      <td>deu</td>\n      <td>android</td>\n      <td>male</td>\n      <td>18</td>\n      <td>32.333333</td>\n      <td>5</td>\n      <td>0_18</td>\n    </tr>\n    <tr>\n      <th>229</th>\n      <td>usa</td>\n      <td>android</td>\n      <td>male</td>\n      <td>21</td>\n      <td>32.333333</td>\n      <td>5</td>\n      <td>19_23</td>\n    </tr>\n    <tr>\n      <th>230</th>\n      <td>deu</td>\n      <td>android</td>\n      <td>female</td>\n      <td>34</td>\n      <td>32.333333</td>\n      <td>5</td>\n      <td>31_40</td>\n    </tr>\n    <tr>\n      <th>231</th>\n      <td>usa</td>\n      <td>android</td>\n      <td>female</td>\n      <td>44</td>\n      <td>32.333333</td>\n      <td>5</td>\n      <td>41_66</td>\n    </tr>\n    <tr>\n      <th>232</th>\n      <td>fra</td>\n      <td>android</td>\n      <td>male</td>\n      <td>32</td>\n      <td>32.333333</td>\n      <td>5</td>\n      <td>31_40</td>\n    </tr>\n    <tr>\n      <th>233</th>\n      <td>deu</td>\n      <td>android</td>\n      <td>female</td>\n      <td>28</td>\n      <td>32.333333</td>\n      <td>5</td>\n      <td>24_30</td>\n    </tr>\n    <tr>\n      <th>234</th>\n      <td>fra</td>\n      <td>android</td>\n      <td>male</td>\n      <td>46</td>\n      <td>32.333333</td>\n      <td>5</td>\n      <td>41_66</td>\n    </tr>\n    <tr>\n      <th>235</th>\n      <td>bra</td>\n      <td>ios</td>\n      <td>female</td>\n      <td>28</td>\n      <td>32.333333</td>\n      <td>5</td>\n      <td>24_30</td>\n    </tr>\n    <tr>\n      <th>236</th>\n      <td>deu</td>\n      <td>android</td>\n      <td>male</td>\n      <td>31</td>\n      <td>32.333333</td>\n      <td>5</td>\n      <td>31_40</td>\n    </tr>\n    <tr>\n      <th>237</th>\n      <td>tur</td>\n      <td>android</td>\n      <td>female</td>\n      <td>20</td>\n      <td>32.333333</td>\n      <td>5</td>\n      <td>19_23</td>\n    </tr>\n    <tr>\n      <th>238</th>\n      <td>tur</td>\n      <td>android</td>\n      <td>female</td>\n      <td>50</td>\n      <td>32.333333</td>\n      <td>5</td>\n      <td>41_66</td>\n    </tr>\n    <tr>\n      <th>239</th>\n      <td>bra</td>\n      <td>android</td>\n      <td>female</td>\n      <td>41</td>\n      <td>32.333333</td>\n      <td>5</td>\n      <td>41_66</td>\n    </tr>\n    <tr>\n      <th>240</th>\n      <td>bra</td>\n      <td>ios</td>\n      <td>female</td>\n      <td>35</td>\n      <td>32.333333</td>\n      <td>5</td>\n      <td>31_40</td>\n    </tr>\n    <tr>\n      <th>241</th>\n      <td>bra</td>\n      <td>android</td>\n      <td>female</td>\n      <td>18</td>\n      <td>32.255814</td>\n      <td>5</td>\n      <td>0_18</td>\n    </tr>\n    <tr>\n      <th>242</th>\n      <td>usa</td>\n      <td>ios</td>\n      <td>male</td>\n      <td>22</td>\n      <td>32.170732</td>\n      <td>5</td>\n      <td>19_23</td>\n    </tr>\n    <tr>\n      <th>243</th>\n      <td>fra</td>\n      <td>android</td>\n      <td>female</td>\n      <td>23</td>\n      <td>32.125000</td>\n      <td>5</td>\n      <td>19_23</td>\n    </tr>\n    <tr>\n      <th>244</th>\n      <td>deu</td>\n      <td>android</td>\n      <td>female</td>\n      <td>27</td>\n      <td>32.125000</td>\n      <td>5</td>\n      <td>24_30</td>\n    </tr>\n    <tr>\n      <th>245</th>\n      <td>deu</td>\n      <td>android</td>\n      <td>female</td>\n      <td>15</td>\n      <td>32.000000</td>\n      <td>5</td>\n      <td>0_18</td>\n    </tr>\n    <tr>\n      <th>246</th>\n      <td>bra</td>\n      <td>android</td>\n      <td>female</td>\n      <td>23</td>\n      <td>31.941176</td>\n      <td>5</td>\n      <td>19_23</td>\n    </tr>\n    <tr>\n      <th>247</th>\n      <td>usa</td>\n      <td>ios</td>\n      <td>male</td>\n      <td>25</td>\n      <td>31.857143</td>\n      <td>5</td>\n      <td>24_30</td>\n    </tr>\n    <tr>\n      <th>248</th>\n      <td>bra</td>\n      <td>android</td>\n      <td>male</td>\n      <td>36</td>\n      <td>31.857143</td>\n      <td>5</td>\n      <td>31_40</td>\n    </tr>\n    <tr>\n      <th>249</th>\n      <td>fra</td>\n      <td>android</td>\n      <td>female</td>\n      <td>26</td>\n      <td>31.857143</td>\n      <td>5</td>\n      <td>24_30</td>\n    </tr>\n    <tr>\n      <th>250</th>\n      <td>usa</td>\n      <td>ios</td>\n      <td>male</td>\n      <td>37</td>\n      <td>31.727273</td>\n      <td>5</td>\n      <td>31_40</td>\n    </tr>\n    <tr>\n      <th>251</th>\n      <td>can</td>\n      <td>ios</td>\n      <td>female</td>\n      <td>29</td>\n      <td>31.727273</td>\n      <td>5</td>\n      <td>24_30</td>\n    </tr>\n    <tr>\n      <th>252</th>\n      <td>can</td>\n      <td>android</td>\n      <td>female</td>\n      <td>20</td>\n      <td>31.500000</td>\n      <td>5</td>\n      <td>19_23</td>\n    </tr>\n    <tr>\n      <th>253</th>\n      <td>usa</td>\n      <td>ios</td>\n      <td>female</td>\n      <td>27</td>\n      <td>31.500000</td>\n      <td>5</td>\n      <td>24_30</td>\n    </tr>\n    <tr>\n      <th>254</th>\n      <td>bra</td>\n      <td>android</td>\n      <td>male</td>\n      <td>35</td>\n      <td>31.500000</td>\n      <td>5</td>\n      <td>31_40</td>\n    </tr>\n    <tr>\n      <th>255</th>\n      <td>usa</td>\n      <td>ios</td>\n      <td>female</td>\n      <td>16</td>\n      <td>31.500000</td>\n      <td>5</td>\n      <td>0_18</td>\n    </tr>\n    <tr>\n      <th>256</th>\n      <td>deu</td>\n      <td>android</td>\n      <td>female</td>\n      <td>44</td>\n      <td>31.500000</td>\n      <td>5</td>\n      <td>41_66</td>\n    </tr>\n    <tr>\n      <th>257</th>\n      <td>deu</td>\n      <td>ios</td>\n      <td>male</td>\n      <td>32</td>\n      <td>31.352941</td>\n      <td>5</td>\n      <td>31_40</td>\n    </tr>\n    <tr>\n      <th>258</th>\n      <td>usa</td>\n      <td>android</td>\n      <td>female</td>\n      <td>20</td>\n      <td>31.285714</td>\n      <td>5</td>\n      <td>19_23</td>\n    </tr>\n    <tr>\n      <th>259</th>\n      <td>deu</td>\n      <td>android</td>\n      <td>male</td>\n      <td>19</td>\n      <td>31.222222</td>\n      <td>5</td>\n      <td>19_23</td>\n    </tr>\n    <tr>\n      <th>260</th>\n      <td>can</td>\n      <td>ios</td>\n      <td>male</td>\n      <td>25</td>\n      <td>31.173913</td>\n      <td>5</td>\n      <td>24_30</td>\n    </tr>\n    <tr>\n      <th>261</th>\n      <td>tur</td>\n      <td>ios</td>\n      <td>male</td>\n      <td>42</td>\n      <td>31.105263</td>\n      <td>5</td>\n      <td>41_66</td>\n    </tr>\n    <tr>\n      <th>262</th>\n      <td>can</td>\n      <td>ios</td>\n      <td>male</td>\n      <td>57</td>\n      <td>31.000000</td>\n      <td>5</td>\n      <td>41_66</td>\n    </tr>\n    <tr>\n      <th>263</th>\n      <td>bra</td>\n      <td>android</td>\n      <td>male</td>\n      <td>22</td>\n      <td>31.000000</td>\n      <td>5</td>\n      <td>19_23</td>\n    </tr>\n    <tr>\n      <th>264</th>\n      <td>deu</td>\n      <td>android</td>\n      <td>female</td>\n      <td>21</td>\n      <td>31.000000</td>\n      <td>5</td>\n      <td>19_23</td>\n    </tr>\n    <tr>\n      <th>265</th>\n      <td>bra</td>\n      <td>ios</td>\n      <td>male</td>\n      <td>21</td>\n      <td>31.000000</td>\n      <td>5</td>\n      <td>19_23</td>\n    </tr>\n    <tr>\n      <th>266</th>\n      <td>bra</td>\n      <td>android</td>\n      <td>female</td>\n      <td>20</td>\n      <td>31.000000</td>\n      <td>5</td>\n      <td>19_23</td>\n    </tr>\n    <tr>\n      <th>267</th>\n      <td>tur</td>\n      <td>android</td>\n      <td>female</td>\n      <td>19</td>\n      <td>31.000000</td>\n      <td>5</td>\n      <td>19_23</td>\n    </tr>\n    <tr>\n      <th>268</th>\n      <td>deu</td>\n      <td>ios</td>\n      <td>male</td>\n      <td>30</td>\n      <td>31.000000</td>\n      <td>5</td>\n      <td>24_30</td>\n    </tr>\n    <tr>\n      <th>269</th>\n      <td>usa</td>\n      <td>ios</td>\n      <td>female</td>\n      <td>34</td>\n      <td>30.875000</td>\n      <td>5</td>\n      <td>31_40</td>\n    </tr>\n    <tr>\n      <th>270</th>\n      <td>usa</td>\n      <td>android</td>\n      <td>female</td>\n      <td>26</td>\n      <td>30.777778</td>\n      <td>5</td>\n      <td>24_30</td>\n    </tr>\n    <tr>\n      <th>271</th>\n      <td>deu</td>\n      <td>ios</td>\n      <td>female</td>\n      <td>15</td>\n      <td>30.666667</td>\n      <td>5</td>\n      <td>0_18</td>\n    </tr>\n    <tr>\n      <th>272</th>\n      <td>fra</td>\n      <td>ios</td>\n      <td>male</td>\n      <td>16</td>\n      <td>30.666667</td>\n      <td>5</td>\n      <td>0_18</td>\n    </tr>\n    <tr>\n      <th>273</th>\n      <td>bra</td>\n      <td>android</td>\n      <td>male</td>\n      <td>25</td>\n      <td>30.428571</td>\n      <td>5</td>\n      <td>24_30</td>\n    </tr>\n    <tr>\n      <th>274</th>\n      <td>bra</td>\n      <td>ios</td>\n      <td>female</td>\n      <td>29</td>\n      <td>30.428571</td>\n      <td>5</td>\n      <td>24_30</td>\n    </tr>\n    <tr>\n      <th>275</th>\n      <td>bra</td>\n      <td>ios</td>\n      <td>male</td>\n      <td>66</td>\n      <td>30.428571</td>\n      <td>5</td>\n      <td>41_66</td>\n    </tr>\n    <tr>\n      <th>276</th>\n      <td>fra</td>\n      <td>ios</td>\n      <td>female</td>\n      <td>28</td>\n      <td>30.428571</td>\n      <td>5</td>\n      <td>24_30</td>\n    </tr>\n    <tr>\n      <th>277</th>\n      <td>usa</td>\n      <td>ios</td>\n      <td>female</td>\n      <td>50</td>\n      <td>30.304348</td>\n      <td>5</td>\n      <td>41_66</td>\n    </tr>\n    <tr>\n      <th>278</th>\n      <td>usa</td>\n      <td>ios</td>\n      <td>male</td>\n      <td>33</td>\n      <td>30.304348</td>\n      <td>5</td>\n      <td>31_40</td>\n    </tr>\n    <tr>\n      <th>279</th>\n      <td>usa</td>\n      <td>ios</td>\n      <td>male</td>\n      <td>42</td>\n      <td>30.250000</td>\n      <td>5</td>\n      <td>41_66</td>\n    </tr>\n    <tr>\n      <th>280</th>\n      <td>fra</td>\n      <td>android</td>\n      <td>male</td>\n      <td>15</td>\n      <td>30.250000</td>\n      <td>5</td>\n      <td>0_18</td>\n    </tr>\n    <tr>\n      <th>281</th>\n      <td>tur</td>\n      <td>ios</td>\n      <td>female</td>\n      <td>17</td>\n      <td>30.176471</td>\n      <td>5</td>\n      <td>0_18</td>\n    </tr>\n    <tr>\n      <th>282</th>\n      <td>bra</td>\n      <td>ios</td>\n      <td>male</td>\n      <td>42</td>\n      <td>30.111111</td>\n      <td>5</td>\n      <td>41_66</td>\n    </tr>\n    <tr>\n      <th>283</th>\n      <td>usa</td>\n      <td>android</td>\n      <td>female</td>\n      <td>24</td>\n      <td>30.052632</td>\n      <td>5</td>\n      <td>24_30</td>\n    </tr>\n    <tr>\n      <th>284</th>\n      <td>can</td>\n      <td>android</td>\n      <td>male</td>\n      <td>24</td>\n      <td>29.769231</td>\n      <td>5</td>\n      <td>24_30</td>\n    </tr>\n    <tr>\n      <th>285</th>\n      <td>bra</td>\n      <td>ios</td>\n      <td>female</td>\n      <td>23</td>\n      <td>29.769231</td>\n      <td>5</td>\n      <td>19_23</td>\n    </tr>\n    <tr>\n      <th>286</th>\n      <td>bra</td>\n      <td>android</td>\n      <td>male</td>\n      <td>29</td>\n      <td>29.714286</td>\n      <td>5</td>\n      <td>24_30</td>\n    </tr>\n    <tr>\n      <th>287</th>\n      <td>can</td>\n      <td>android</td>\n      <td>female</td>\n      <td>16</td>\n      <td>29.689655</td>\n      <td>5</td>\n      <td>0_18</td>\n    </tr>\n    <tr>\n      <th>288</th>\n      <td>bra</td>\n      <td>android</td>\n      <td>male</td>\n      <td>16</td>\n      <td>29.666667</td>\n      <td>5</td>\n      <td>0_18</td>\n    </tr>\n    <tr>\n      <th>289</th>\n      <td>usa</td>\n      <td>ios</td>\n      <td>female</td>\n      <td>35</td>\n      <td>29.625000</td>\n      <td>5</td>\n      <td>31_40</td>\n    </tr>\n    <tr>\n      <th>290</th>\n      <td>fra</td>\n      <td>ios</td>\n      <td>male</td>\n      <td>15</td>\n      <td>29.000000</td>\n      <td>5</td>\n      <td>0_18</td>\n    </tr>\n    <tr>\n      <th>291</th>\n      <td>fra</td>\n      <td>ios</td>\n      <td>male</td>\n      <td>27</td>\n      <td>29.000000</td>\n      <td>5</td>\n      <td>24_30</td>\n    </tr>\n    <tr>\n      <th>292</th>\n      <td>bra</td>\n      <td>android</td>\n      <td>male</td>\n      <td>53</td>\n      <td>29.000000</td>\n      <td>5</td>\n      <td>41_66</td>\n    </tr>\n    <tr>\n      <th>293</th>\n      <td>fra</td>\n      <td>ios</td>\n      <td>male</td>\n      <td>38</td>\n      <td>29.000000</td>\n      <td>5</td>\n      <td>31_40</td>\n    </tr>\n    <tr>\n      <th>294</th>\n      <td>can</td>\n      <td>ios</td>\n      <td>male</td>\n      <td>32</td>\n      <td>29.000000</td>\n      <td>5</td>\n      <td>31_40</td>\n    </tr>\n    <tr>\n      <th>295</th>\n      <td>usa</td>\n      <td>ios</td>\n      <td>female</td>\n      <td>42</td>\n      <td>29.000000</td>\n      <td>5</td>\n      <td>41_66</td>\n    </tr>\n    <tr>\n      <th>296</th>\n      <td>can</td>\n      <td>ios</td>\n      <td>female</td>\n      <td>16</td>\n      <td>29.000000</td>\n      <td>5</td>\n      <td>0_18</td>\n    </tr>\n    <tr>\n      <th>297</th>\n      <td>deu</td>\n      <td>ios</td>\n      <td>male</td>\n      <td>23</td>\n      <td>29.000000</td>\n      <td>5</td>\n      <td>19_23</td>\n    </tr>\n    <tr>\n      <th>298</th>\n      <td>deu</td>\n      <td>ios</td>\n      <td>female</td>\n      <td>24</td>\n      <td>29.000000</td>\n      <td>5</td>\n      <td>24_30</td>\n    </tr>\n    <tr>\n      <th>299</th>\n      <td>deu</td>\n      <td>android</td>\n      <td>male</td>\n      <td>32</td>\n      <td>29.000000</td>\n      <td>5</td>\n      <td>31_40</td>\n    </tr>\n    <tr>\n      <th>300</th>\n      <td>deu</td>\n      <td>android</td>\n      <td>male</td>\n      <td>24</td>\n      <td>29.000000</td>\n      <td>5</td>\n      <td>24_30</td>\n    </tr>\n    <tr>\n      <th>301</th>\n      <td>deu</td>\n      <td>android</td>\n      <td>female</td>\n      <td>33</td>\n      <td>29.000000</td>\n      <td>5</td>\n      <td>31_40</td>\n    </tr>\n    <tr>\n      <th>302</th>\n      <td>usa</td>\n      <td>ios</td>\n      <td>male</td>\n      <td>55</td>\n      <td>29.000000</td>\n      <td>5</td>\n      <td>41_66</td>\n    </tr>\n    <tr>\n      <th>303</th>\n      <td>tur</td>\n      <td>android</td>\n      <td>female</td>\n      <td>56</td>\n      <td>29.000000</td>\n      <td>5</td>\n      <td>41_66</td>\n    </tr>\n    <tr>\n      <th>304</th>\n      <td>bra</td>\n      <td>ios</td>\n      <td>male</td>\n      <td>31</td>\n      <td>29.000000</td>\n      <td>5</td>\n      <td>31_40</td>\n    </tr>\n    <tr>\n      <th>305</th>\n      <td>usa</td>\n      <td>android</td>\n      <td>male</td>\n      <td>38</td>\n      <td>29.000000</td>\n      <td>5</td>\n      <td>31_40</td>\n    </tr>\n    <tr>\n      <th>306</th>\n      <td>usa</td>\n      <td>android</td>\n      <td>male</td>\n      <td>57</td>\n      <td>29.000000</td>\n      <td>5</td>\n      <td>41_66</td>\n    </tr>\n    <tr>\n      <th>307</th>\n      <td>usa</td>\n      <td>android</td>\n      <td>female</td>\n      <td>27</td>\n      <td>29.000000</td>\n      <td>5</td>\n      <td>24_30</td>\n    </tr>\n    <tr>\n      <th>308</th>\n      <td>usa</td>\n      <td>android</td>\n      <td>male</td>\n      <td>34</td>\n      <td>29.000000</td>\n      <td>5</td>\n      <td>31_40</td>\n    </tr>\n    <tr>\n      <th>309</th>\n      <td>usa</td>\n      <td>android</td>\n      <td>male</td>\n      <td>37</td>\n      <td>29.000000</td>\n      <td>5</td>\n      <td>31_40</td>\n    </tr>\n    <tr>\n      <th>310</th>\n      <td>bra</td>\n      <td>ios</td>\n      <td>male</td>\n      <td>37</td>\n      <td>29.000000</td>\n      <td>5</td>\n      <td>31_40</td>\n    </tr>\n    <tr>\n      <th>311</th>\n      <td>usa</td>\n      <td>android</td>\n      <td>female</td>\n      <td>30</td>\n      <td>29.000000</td>\n      <td>5</td>\n      <td>24_30</td>\n    </tr>\n    <tr>\n      <th>312</th>\n      <td>tur</td>\n      <td>android</td>\n      <td>male</td>\n      <td>36</td>\n      <td>29.000000</td>\n      <td>5</td>\n      <td>31_40</td>\n    </tr>\n    <tr>\n      <th>313</th>\n      <td>tur</td>\n      <td>ios</td>\n      <td>female</td>\n      <td>16</td>\n      <td>29.000000</td>\n      <td>5</td>\n      <td>0_18</td>\n    </tr>\n    <tr>\n      <th>314</th>\n      <td>bra</td>\n      <td>android</td>\n      <td>male</td>\n      <td>28</td>\n      <td>28.230769</td>\n      <td>5</td>\n      <td>24_30</td>\n    </tr>\n    <tr>\n      <th>315</th>\n      <td>usa</td>\n      <td>android</td>\n      <td>female</td>\n      <td>32</td>\n      <td>28.166667</td>\n      <td>5</td>\n      <td>31_40</td>\n    </tr>\n    <tr>\n      <th>316</th>\n      <td>usa</td>\n      <td>android</td>\n      <td>female</td>\n      <td>34</td>\n      <td>28.000000</td>\n      <td>5</td>\n      <td>31_40</td>\n    </tr>\n    <tr>\n      <th>317</th>\n      <td>deu</td>\n      <td>android</td>\n      <td>female</td>\n      <td>41</td>\n      <td>27.750000</td>\n      <td>5</td>\n      <td>41_66</td>\n    </tr>\n    <tr>\n      <th>318</th>\n      <td>fra</td>\n      <td>ios</td>\n      <td>female</td>\n      <td>16</td>\n      <td>27.750000</td>\n      <td>5</td>\n      <td>0_18</td>\n    </tr>\n    <tr>\n      <th>319</th>\n      <td>bra</td>\n      <td>ios</td>\n      <td>female</td>\n      <td>31</td>\n      <td>27.571429</td>\n      <td>5</td>\n      <td>31_40</td>\n    </tr>\n    <tr>\n      <th>320</th>\n      <td>tur</td>\n      <td>ios</td>\n      <td>male</td>\n      <td>19</td>\n      <td>27.333333</td>\n      <td>5</td>\n      <td>19_23</td>\n    </tr>\n    <tr>\n      <th>321</th>\n      <td>fra</td>\n      <td>android</td>\n      <td>female</td>\n      <td>19</td>\n      <td>27.333333</td>\n      <td>5</td>\n      <td>19_23</td>\n    </tr>\n    <tr>\n      <th>322</th>\n      <td>deu</td>\n      <td>android</td>\n      <td>female</td>\n      <td>16</td>\n      <td>27.000000</td>\n      <td>5</td>\n      <td>0_18</td>\n    </tr>\n    <tr>\n      <th>323</th>\n      <td>bra</td>\n      <td>android</td>\n      <td>female</td>\n      <td>27</td>\n      <td>26.142857</td>\n      <td>5</td>\n      <td>24_30</td>\n    </tr>\n    <tr>\n      <th>324</th>\n      <td>usa</td>\n      <td>android</td>\n      <td>male</td>\n      <td>24</td>\n      <td>26.058824</td>\n      <td>5</td>\n      <td>24_30</td>\n    </tr>\n    <tr>\n      <th>325</th>\n      <td>can</td>\n      <td>android</td>\n      <td>female</td>\n      <td>15</td>\n      <td>25.666667</td>\n      <td>5</td>\n      <td>0_18</td>\n    </tr>\n    <tr>\n      <th>326</th>\n      <td>tur</td>\n      <td>ios</td>\n      <td>female</td>\n      <td>38</td>\n      <td>25.666667</td>\n      <td>5</td>\n      <td>31_40</td>\n    </tr>\n    <tr>\n      <th>327</th>\n      <td>fra</td>\n      <td>android</td>\n      <td>male</td>\n      <td>21</td>\n      <td>25.666667</td>\n      <td>5</td>\n      <td>19_23</td>\n    </tr>\n    <tr>\n      <th>328</th>\n      <td>usa</td>\n      <td>android</td>\n      <td>male</td>\n      <td>65</td>\n      <td>25.666667</td>\n      <td>5</td>\n      <td>41_66</td>\n    </tr>\n    <tr>\n      <th>329</th>\n      <td>fra</td>\n      <td>ios</td>\n      <td>female</td>\n      <td>25</td>\n      <td>25.000000</td>\n      <td>5</td>\n      <td>24_30</td>\n    </tr>\n    <tr>\n      <th>330</th>\n      <td>bra</td>\n      <td>android</td>\n      <td>female</td>\n      <td>34</td>\n      <td>24.000000</td>\n      <td>5</td>\n      <td>31_40</td>\n    </tr>\n    <tr>\n      <th>331</th>\n      <td>tur</td>\n      <td>android</td>\n      <td>female</td>\n      <td>29</td>\n      <td>24.000000</td>\n      <td>5</td>\n      <td>24_30</td>\n    </tr>\n    <tr>\n      <th>332</th>\n      <td>usa</td>\n      <td>ios</td>\n      <td>male</td>\n      <td>36</td>\n      <td>24.000000</td>\n      <td>5</td>\n      <td>31_40</td>\n    </tr>\n    <tr>\n      <th>333</th>\n      <td>usa</td>\n      <td>ios</td>\n      <td>male</td>\n      <td>29</td>\n      <td>24.000000</td>\n      <td>5</td>\n      <td>24_30</td>\n    </tr>\n    <tr>\n      <th>334</th>\n      <td>bra</td>\n      <td>android</td>\n      <td>female</td>\n      <td>28</td>\n      <td>22.333333</td>\n      <td>5</td>\n      <td>24_30</td>\n    </tr>\n    <tr>\n      <th>335</th>\n      <td>tur</td>\n      <td>ios</td>\n      <td>male</td>\n      <td>21</td>\n      <td>22.333333</td>\n      <td>5</td>\n      <td>19_23</td>\n    </tr>\n    <tr>\n      <th>336</th>\n      <td>usa</td>\n      <td>android</td>\n      <td>male</td>\n      <td>29</td>\n      <td>22.333333</td>\n      <td>5</td>\n      <td>24_30</td>\n    </tr>\n    <tr>\n      <th>337</th>\n      <td>bra</td>\n      <td>ios</td>\n      <td>male</td>\n      <td>36</td>\n      <td>22.333333</td>\n      <td>5</td>\n      <td>31_40</td>\n    </tr>\n    <tr>\n      <th>338</th>\n      <td>bra</td>\n      <td>android</td>\n      <td>male</td>\n      <td>23</td>\n      <td>21.500000</td>\n      <td>5</td>\n      <td>19_23</td>\n    </tr>\n    <tr>\n      <th>339</th>\n      <td>tur</td>\n      <td>android</td>\n      <td>male</td>\n      <td>21</td>\n      <td>19.000000</td>\n      <td>5</td>\n      <td>19_23</td>\n    </tr>\n    <tr>\n      <th>340</th>\n      <td>tur</td>\n      <td>ios</td>\n      <td>male</td>\n      <td>47</td>\n      <td>19.000000</td>\n      <td>5</td>\n      <td>41_66</td>\n    </tr>\n    <tr>\n      <th>341</th>\n      <td>bra</td>\n      <td>ios</td>\n      <td>female</td>\n      <td>34</td>\n      <td>19.000000</td>\n      <td>5</td>\n      <td>31_40</td>\n    </tr>\n    <tr>\n      <th>342</th>\n      <td>bra</td>\n      <td>ios</td>\n      <td>male</td>\n      <td>47</td>\n      <td>19.000000</td>\n      <td>5</td>\n      <td>41_66</td>\n    </tr>\n    <tr>\n      <th>343</th>\n      <td>usa</td>\n      <td>ios</td>\n      <td>female</td>\n      <td>38</td>\n      <td>19.000000</td>\n      <td>5</td>\n      <td>31_40</td>\n    </tr>\n    <tr>\n      <th>344</th>\n      <td>usa</td>\n      <td>ios</td>\n      <td>female</td>\n      <td>30</td>\n      <td>19.000000</td>\n      <td>5</td>\n      <td>24_30</td>\n    </tr>\n    <tr>\n      <th>345</th>\n      <td>can</td>\n      <td>android</td>\n      <td>female</td>\n      <td>27</td>\n      <td>19.000000</td>\n      <td>5</td>\n      <td>24_30</td>\n    </tr>\n    <tr>\n      <th>346</th>\n      <td>fra</td>\n      <td>android</td>\n      <td>male</td>\n      <td>18</td>\n      <td>19.000000</td>\n      <td>5</td>\n      <td>0_18</td>\n    </tr>\n    <tr>\n      <th>347</th>\n      <td>deu</td>\n      <td>android</td>\n      <td>male</td>\n      <td>26</td>\n      <td>9.000000</td>\n      <td>5</td>\n      <td>24_30</td>\n    </tr>\n  </tbody>\n</table>\n</div>"
     },
     "execution_count": 24,
     "metadata": {},
     "output_type": "execute_result"
    }
   ],
   "source": [
    "agg_df.loc[agg_df[\"AGE\"] < 19, \"agg_cat_m\"] = \"0_18\"\n",
    "agg_df.loc[(agg_df[\"AGE\"] > 18) & (agg_df[\"AGE\"] < 24), \"agg_cat_m\"] = \"19_23\"\n",
    "agg_df.loc[(agg_df[\"AGE\"] > 23) & (agg_df[\"AGE\"] < 31), \"agg_cat_m\"] = \"24_30\"\n",
    "agg_df.loc[(agg_df[\"AGE\"] > 30) & (agg_df[\"AGE\"] < 41), \"agg_cat_m\"] = \"31_40\"\n",
    "agg_df.loc[agg_df[\"AGE\"] > 40, \"agg_cat_m\"] = \"41_66\"\n",
    "agg_df"
   ],
   "metadata": {
    "collapsed": false,
    "ExecuteTime": {
     "end_time": "2024-02-05T15:09:01.468349600Z",
     "start_time": "2024-02-05T15:09:01.208706100Z"
    }
   },
   "id": "8386fe212227068c",
   "execution_count": 24
  },
  {
   "cell_type": "code",
   "outputs": [
    {
     "data": {
      "text/plain": "'41_66'"
     },
     "execution_count": 25,
     "metadata": {},
     "output_type": "execute_result"
    }
   ],
   "source": [
    "agg_df.values[0][6]"
   ],
   "metadata": {
    "collapsed": false,
    "ExecuteTime": {
     "end_time": "2024-02-05T15:09:01.589514600Z",
     "start_time": "2024-02-05T15:09:01.269524100Z"
    }
   },
   "id": "151eb8097dfda51f",
   "execution_count": 25
  },
  {
   "cell_type": "code",
   "outputs": [
    {
     "data": {
      "text/plain": "'bra_android_male_41_66'"
     },
     "execution_count": 26,
     "metadata": {},
     "output_type": "execute_result"
    }
   ],
   "source": [
    "agg_df.values[0][0]+\"_\"+agg_df.values[0][1]+\"_\"+agg_df.values[0][2]+\"_\"+agg_df.values[0][6]"
   ],
   "metadata": {
    "collapsed": false,
    "ExecuteTime": {
     "end_time": "2024-02-05T15:09:01.807503700Z",
     "start_time": "2024-02-05T15:09:01.289195300Z"
    }
   },
   "id": "e6778f683336d70c",
   "execution_count": 26
  },
  {
   "cell_type": "code",
   "execution_count": 27,
   "id": "e747d4bd",
   "metadata": {
    "ExecuteTime": {
     "end_time": "2024-02-05T15:09:01.867312700Z",
     "start_time": "2024-02-05T15:09:01.299504700Z"
    }
   },
   "outputs": [
    {
     "data": {
      "text/plain": "['BRA_ANDROID_MALE_41_66',\n 'USA_ANDROID_MALE_31_40',\n 'FRA_ANDROID_FEMALE_24_30',\n 'USA_IOS_MALE_31_40',\n 'DEU_ANDROID_FEMALE_31_40',\n 'DEU_ANDROID_FEMALE_41_66',\n 'DEU_IOS_MALE_19_23',\n 'USA_ANDROID_FEMALE_41_66',\n 'FRA_IOS_MALE_19_23',\n 'USA_IOS_MALE_41_66',\n 'DEU_ANDROID_MALE_0_18',\n 'BRA_ANDROID_FEMALE_24_30',\n 'USA_ANDROID_FEMALE_41_66',\n 'TUR_IOS_MALE_24_30',\n 'DEU_ANDROID_MALE_31_40',\n 'TUR_IOS_FEMALE_0_18',\n 'BRA_ANDROID_FEMALE_41_66',\n 'BRA_IOS_FEMALE_19_23',\n 'TUR_ANDROID_FEMALE_31_40',\n 'BRA_ANDROID_FEMALE_31_40',\n 'TUR_IOS_MALE_31_40',\n 'TUR_ANDROID_MALE_0_18',\n 'USA_IOS_MALE_24_30',\n 'BRA_IOS_MALE_41_66',\n 'DEU_ANDROID_MALE_19_23',\n 'USA_IOS_MALE_24_30',\n 'TUR_ANDROID_FEMALE_0_18',\n 'USA_ANDROID_MALE_41_66',\n 'TUR_ANDROID_MALE_24_30',\n 'USA_IOS_FEMALE_41_66',\n 'FRA_ANDROID_MALE_19_23',\n 'USA_IOS_MALE_31_40',\n 'TUR_ANDROID_FEMALE_0_18',\n 'FRA_IOS_MALE_0_18',\n 'TUR_IOS_FEMALE_19_23',\n 'TUR_ANDROID_FEMALE_31_40',\n 'TUR_ANDROID_MALE_24_30',\n 'FRA_ANDROID_MALE_19_23',\n 'BRA_ANDROID_MALE_24_30',\n 'CAN_ANDROID_MALE_24_30',\n 'CAN_ANDROID_MALE_19_23',\n 'USA_ANDROID_MALE_41_66',\n 'TUR_ANDROID_MALE_24_30',\n 'BRA_ANDROID_MALE_31_40',\n 'BRA_ANDROID_MALE_0_18',\n 'USA_IOS_FEMALE_19_23',\n 'TUR_ANDROID_MALE_41_66',\n 'BRA_IOS_FEMALE_19_23',\n 'USA_IOS_MALE_41_66',\n 'BRA_IOS_FEMALE_24_30',\n 'DEU_ANDROID_FEMALE_31_40',\n 'DEU_IOS_MALE_0_18',\n 'FRA_ANDROID_FEMALE_19_23',\n 'FRA_ANDROID_MALE_31_40',\n 'TUR_IOS_FEMALE_31_40',\n 'FRA_IOS_MALE_41_66',\n 'BRA_ANDROID_FEMALE_31_40',\n 'TUR_IOS_MALE_0_18',\n 'BRA_IOS_FEMALE_41_66',\n 'TUR_ANDROID_MALE_0_18',\n 'TUR_ANDROID_FEMALE_41_66',\n 'BRA_ANDROID_FEMALE_0_18',\n 'USA_IOS_MALE_19_23',\n 'USA_IOS_FEMALE_0_18',\n 'FRA_IOS_MALE_31_40',\n 'TUR_ANDROID_MALE_0_18',\n 'DEU_ANDROID_MALE_31_40',\n 'USA_IOS_FEMALE_24_30',\n 'DEU_IOS_FEMALE_0_18',\n 'CAN_IOS_MALE_0_18',\n 'CAN_ANDROID_MALE_41_66',\n 'BRA_ANDROID_FEMALE_24_30',\n 'TUR_ANDROID_FEMALE_24_30',\n 'CAN_IOS_MALE_0_18',\n 'BRA_IOS_MALE_31_40',\n 'FRA_ANDROID_FEMALE_0_18',\n 'DEU_IOS_FEMALE_0_18',\n 'CAN_ANDROID_FEMALE_0_18',\n 'TUR_IOS_FEMALE_19_23',\n 'DEU_ANDROID_MALE_19_23',\n 'BRA_ANDROID_FEMALE_19_23',\n 'USA_ANDROID_FEMALE_31_40',\n 'BRA_IOS_MALE_19_23',\n 'BRA_ANDROID_MALE_0_18',\n 'BRA_ANDROID_MALE_24_30',\n 'USA_ANDROID_MALE_24_30',\n 'TUR_ANDROID_FEMALE_19_23',\n 'DEU_IOS_MALE_41_66',\n 'BRA_ANDROID_FEMALE_41_66',\n 'BRA_IOS_MALE_0_18',\n 'USA_IOS_FEMALE_24_30',\n 'BRA_IOS_FEMALE_0_18',\n 'BRA_IOS_MALE_31_40',\n 'FRA_ANDROID_FEMALE_0_18',\n 'USA_ANDROID_MALE_19_23',\n 'BRA_IOS_FEMALE_0_18',\n 'BRA_ANDROID_MALE_41_66',\n 'BRA_ANDROID_FEMALE_24_30',\n 'USA_ANDROID_MALE_24_30',\n 'TUR_ANDROID_FEMALE_41_66',\n 'USA_IOS_FEMALE_24_30',\n 'DEU_IOS_FEMALE_24_30',\n 'CAN_ANDROID_MALE_0_18',\n 'BRA_ANDROID_FEMALE_0_18',\n 'TUR_ANDROID_MALE_24_30',\n 'USA_ANDROID_MALE_41_66',\n 'USA_IOS_FEMALE_19_23',\n 'USA_ANDROID_FEMALE_19_23',\n 'FRA_IOS_MALE_19_23',\n 'FRA_ANDROID_MALE_41_66',\n 'BRA_ANDROID_MALE_41_66',\n 'TUR_ANDROID_MALE_19_23',\n 'BRA_ANDROID_FEMALE_24_30',\n 'USA_ANDROID_FEMALE_31_40',\n 'USA_IOS_FEMALE_24_30',\n 'BRA_ANDROID_FEMALE_0_18',\n 'TUR_IOS_FEMALE_19_23',\n 'DEU_IOS_FEMALE_0_18',\n 'USA_ANDROID_MALE_41_66',\n 'BRA_ANDROID_MALE_19_23',\n 'DEU_ANDROID_MALE_31_40',\n 'BRA_IOS_FEMALE_31_40',\n 'BRA_IOS_FEMALE_41_66',\n 'BRA_ANDROID_MALE_24_30',\n 'DEU_ANDROID_FEMALE_24_30',\n 'BRA_IOS_MALE_0_18',\n 'BRA_ANDROID_MALE_19_23',\n 'USA_ANDROID_FEMALE_41_66',\n 'BRA_ANDROID_MALE_19_23',\n 'BRA_ANDROID_FEMALE_19_23',\n 'USA_ANDROID_MALE_0_18',\n 'BRA_IOS_FEMALE_31_40',\n 'USA_IOS_MALE_24_30',\n 'BRA_ANDROID_FEMALE_31_40',\n 'USA_IOS_FEMALE_19_23',\n 'USA_ANDROID_FEMALE_31_40',\n 'FRA_IOS_MALE_19_23',\n 'DEU_ANDROID_FEMALE_19_23',\n 'CAN_IOS_MALE_0_18',\n 'DEU_IOS_MALE_0_18',\n 'USA_IOS_FEMALE_41_66',\n 'DEU_IOS_MALE_24_30',\n 'BRA_ANDROID_FEMALE_19_23',\n 'USA_ANDROID_FEMALE_0_18',\n 'BRA_IOS_MALE_19_23',\n 'USA_ANDROID_MALE_19_23',\n 'TUR_IOS_MALE_0_18',\n 'USA_ANDROID_FEMALE_24_30',\n 'USA_IOS_MALE_0_18',\n 'BRA_IOS_MALE_31_40',\n 'USA_ANDROID_MALE_19_23',\n 'USA_ANDROID_MALE_31_40',\n 'USA_ANDROID_MALE_31_40',\n 'USA_IOS_FEMALE_41_66',\n 'USA_ANDROID_MALE_0_18',\n 'FRA_ANDROID_FEMALE_0_18',\n 'USA_ANDROID_FEMALE_0_18',\n 'USA_IOS_MALE_0_18',\n 'BRA_ANDROID_FEMALE_31_40',\n 'USA_IOS_FEMALE_31_40',\n 'TUR_ANDROID_FEMALE_0_18',\n 'DEU_ANDROID_FEMALE_24_30',\n 'USA_ANDROID_MALE_0_18',\n 'USA_ANDROID_MALE_24_30',\n 'BRA_IOS_FEMALE_24_30',\n 'USA_ANDROID_FEMALE_19_23',\n 'BRA_IOS_FEMALE_41_66',\n 'DEU_ANDROID_FEMALE_19_23',\n 'USA_IOS_MALE_24_30',\n 'FRA_IOS_MALE_24_30',\n 'BRA_IOS_FEMALE_24_30',\n 'CAN_ANDROID_FEMALE_41_66',\n 'USA_IOS_FEMALE_19_23',\n 'USA_IOS_MALE_19_23',\n 'BRA_IOS_MALE_19_23',\n 'TUR_IOS_FEMALE_19_23',\n 'TUR_IOS_FEMALE_24_30',\n 'TUR_IOS_FEMALE_24_30',\n 'DEU_IOS_FEMALE_19_23',\n 'TUR_IOS_FEMALE_41_66',\n 'DEU_ANDROID_MALE_19_23',\n 'BRA_IOS_FEMALE_24_30',\n 'USA_ANDROID_MALE_0_18',\n 'USA_IOS_MALE_41_66',\n 'USA_ANDROID_FEMALE_41_66',\n 'FRA_ANDROID_FEMALE_31_40',\n 'USA_ANDROID_MALE_24_30',\n 'USA_ANDROID_FEMALE_24_30',\n 'DEU_IOS_FEMALE_19_23',\n 'BRA_IOS_MALE_24_30',\n 'USA_IOS_FEMALE_0_18',\n 'USA_ANDROID_FEMALE_19_23',\n 'BRA_IOS_MALE_0_18',\n 'DEU_ANDROID_FEMALE_0_18',\n 'BRA_ANDROID_FEMALE_31_40',\n 'USA_IOS_MALE_0_18',\n 'CAN_IOS_FEMALE_0_18',\n 'TUR_ANDROID_FEMALE_0_18',\n 'BRA_IOS_FEMALE_0_18',\n 'FRA_IOS_FEMALE_0_18',\n 'BRA_ANDROID_FEMALE_41_66',\n 'BRA_IOS_MALE_41_66',\n 'USA_ANDROID_MALE_24_30',\n 'BRA_ANDROID_FEMALE_24_30',\n 'USA_ANDROID_FEMALE_19_23',\n 'BRA_ANDROID_MALE_0_18',\n 'BRA_IOS_FEMALE_41_66',\n 'USA_ANDROID_MALE_41_66',\n 'FRA_IOS_FEMALE_31_40',\n 'FRA_ANDROID_MALE_24_30',\n 'DEU_IOS_FEMALE_31_40',\n 'USA_IOS_FEMALE_0_18',\n 'DEU_ANDROID_MALE_0_18',\n 'USA_IOS_MALE_0_18',\n 'BRA_IOS_FEMALE_19_23',\n 'TUR_IOS_MALE_0_18',\n 'USA_ANDROID_MALE_19_23',\n 'USA_IOS_FEMALE_19_23',\n 'USA_IOS_FEMALE_24_30',\n 'BRA_IOS_MALE_0_18',\n 'USA_ANDROID_FEMALE_0_18',\n 'FRA_IOS_FEMALE_31_40',\n 'BRA_IOS_FEMALE_0_18',\n 'TUR_IOS_FEMALE_19_23',\n 'BRA_ANDROID_MALE_24_30',\n 'FRA_IOS_FEMALE_0_18',\n 'CAN_ANDROID_FEMALE_19_23',\n 'USA_ANDROID_FEMALE_0_18',\n 'DEU_ANDROID_MALE_0_18',\n 'USA_ANDROID_MALE_19_23',\n 'DEU_ANDROID_FEMALE_31_40',\n 'USA_ANDROID_FEMALE_41_66',\n 'FRA_ANDROID_MALE_31_40',\n 'DEU_ANDROID_FEMALE_24_30',\n 'FRA_ANDROID_MALE_41_66',\n 'BRA_IOS_FEMALE_24_30',\n 'DEU_ANDROID_MALE_31_40',\n 'TUR_ANDROID_FEMALE_19_23',\n 'TUR_ANDROID_FEMALE_41_66',\n 'BRA_ANDROID_FEMALE_41_66',\n 'BRA_IOS_FEMALE_31_40',\n 'BRA_ANDROID_FEMALE_0_18',\n 'USA_IOS_MALE_19_23',\n 'FRA_ANDROID_FEMALE_19_23',\n 'DEU_ANDROID_FEMALE_24_30',\n 'DEU_ANDROID_FEMALE_0_18',\n 'BRA_ANDROID_FEMALE_19_23',\n 'USA_IOS_MALE_24_30',\n 'BRA_ANDROID_MALE_31_40',\n 'FRA_ANDROID_FEMALE_24_30',\n 'USA_IOS_MALE_31_40',\n 'CAN_IOS_FEMALE_24_30',\n 'CAN_ANDROID_FEMALE_19_23',\n 'USA_IOS_FEMALE_24_30',\n 'BRA_ANDROID_MALE_31_40',\n 'USA_IOS_FEMALE_0_18',\n 'DEU_ANDROID_FEMALE_41_66',\n 'DEU_IOS_MALE_31_40',\n 'USA_ANDROID_FEMALE_19_23',\n 'DEU_ANDROID_MALE_19_23',\n 'CAN_IOS_MALE_24_30',\n 'TUR_IOS_MALE_41_66',\n 'CAN_IOS_MALE_41_66',\n 'BRA_ANDROID_MALE_19_23',\n 'DEU_ANDROID_FEMALE_19_23',\n 'BRA_IOS_MALE_19_23',\n 'BRA_ANDROID_FEMALE_19_23',\n 'TUR_ANDROID_FEMALE_19_23',\n 'DEU_IOS_MALE_24_30',\n 'USA_IOS_FEMALE_31_40',\n 'USA_ANDROID_FEMALE_24_30',\n 'DEU_IOS_FEMALE_0_18',\n 'FRA_IOS_MALE_0_18',\n 'BRA_ANDROID_MALE_24_30',\n 'BRA_IOS_FEMALE_24_30',\n 'BRA_IOS_MALE_41_66',\n 'FRA_IOS_FEMALE_24_30',\n 'USA_IOS_FEMALE_41_66',\n 'USA_IOS_MALE_31_40',\n 'USA_IOS_MALE_41_66',\n 'FRA_ANDROID_MALE_0_18',\n 'TUR_IOS_FEMALE_0_18',\n 'BRA_IOS_MALE_41_66',\n 'USA_ANDROID_FEMALE_24_30',\n 'CAN_ANDROID_MALE_24_30',\n 'BRA_IOS_FEMALE_19_23',\n 'BRA_ANDROID_MALE_24_30',\n 'CAN_ANDROID_FEMALE_0_18',\n 'BRA_ANDROID_MALE_0_18',\n 'USA_IOS_FEMALE_31_40',\n 'FRA_IOS_MALE_0_18',\n 'FRA_IOS_MALE_24_30',\n 'BRA_ANDROID_MALE_41_66',\n 'FRA_IOS_MALE_31_40',\n 'CAN_IOS_MALE_31_40',\n 'USA_IOS_FEMALE_41_66',\n 'CAN_IOS_FEMALE_0_18',\n 'DEU_IOS_MALE_19_23',\n 'DEU_IOS_FEMALE_24_30',\n 'DEU_ANDROID_MALE_31_40',\n 'DEU_ANDROID_MALE_24_30',\n 'DEU_ANDROID_FEMALE_31_40',\n 'USA_IOS_MALE_41_66',\n 'TUR_ANDROID_FEMALE_41_66',\n 'BRA_IOS_MALE_31_40',\n 'USA_ANDROID_MALE_31_40',\n 'USA_ANDROID_MALE_41_66',\n 'USA_ANDROID_FEMALE_24_30',\n 'USA_ANDROID_MALE_31_40',\n 'USA_ANDROID_MALE_31_40',\n 'BRA_IOS_MALE_31_40',\n 'USA_ANDROID_FEMALE_24_30',\n 'TUR_ANDROID_MALE_31_40',\n 'TUR_IOS_FEMALE_0_18',\n 'BRA_ANDROID_MALE_24_30',\n 'USA_ANDROID_FEMALE_31_40',\n 'USA_ANDROID_FEMALE_31_40',\n 'DEU_ANDROID_FEMALE_41_66',\n 'FRA_IOS_FEMALE_0_18',\n 'BRA_IOS_FEMALE_31_40',\n 'TUR_IOS_MALE_19_23',\n 'FRA_ANDROID_FEMALE_19_23',\n 'DEU_ANDROID_FEMALE_0_18',\n 'BRA_ANDROID_FEMALE_24_30',\n 'USA_ANDROID_MALE_24_30',\n 'CAN_ANDROID_FEMALE_0_18',\n 'TUR_IOS_FEMALE_31_40',\n 'FRA_ANDROID_MALE_19_23',\n 'USA_ANDROID_MALE_41_66',\n 'FRA_IOS_FEMALE_24_30',\n 'BRA_ANDROID_FEMALE_31_40',\n 'TUR_ANDROID_FEMALE_24_30',\n 'USA_IOS_MALE_31_40',\n 'USA_IOS_MALE_24_30',\n 'BRA_ANDROID_FEMALE_24_30',\n 'TUR_IOS_MALE_19_23',\n 'USA_ANDROID_MALE_24_30',\n 'BRA_IOS_MALE_31_40',\n 'BRA_ANDROID_MALE_19_23',\n 'TUR_ANDROID_MALE_19_23',\n 'TUR_IOS_MALE_41_66',\n 'BRA_IOS_FEMALE_31_40',\n 'BRA_IOS_MALE_41_66',\n 'USA_IOS_FEMALE_31_40',\n 'USA_IOS_FEMALE_24_30',\n 'CAN_ANDROID_FEMALE_24_30',\n 'FRA_ANDROID_MALE_0_18',\n 'DEU_ANDROID_MALE_24_30']"
     },
     "execution_count": 27,
     "metadata": {},
     "output_type": "execute_result"
    }
   ],
   "source": [
    "# GÖREV 6: Yeni level based müşterileri tanımlayınız ve veri setine değişken olarak ekleyiniz.\n",
    "\n",
    "# customers_level_based adında bir değişken tanımlayınız ve veri setine bu değişkeni ekleyiniz.Dikkat!\n",
    "# list comp ile customers_level_based değerleri oluşturulduktan sonra bu değerlerin tekilleştirilmesi gerekmektedir.\n",
    "# Örneğin birden fazla şu ifadeden olabilir: USA_ANDROID_MALE_0_18\n",
    "# Bunları groupby'a alıp price ortalamalarını almak gerekmektedir.\n",
    "\n",
    "[row[0].upper() + \"_\" + row[1].upper() + \"_\" + row[2].upper() + \"_\" + row[6] for row in agg_df.values]"
   ]
  },
  {
   "cell_type": "code",
   "outputs": [
    {
     "name": "stdout",
     "output_type": "stream",
     "text": [
      "BRA_ANDROID_MALE_41_66\n",
      "USA_ANDROID_MALE_31_40\n",
      "FRA_ANDROID_FEMALE_24_30\n",
      "USA_IOS_MALE_31_40\n",
      "DEU_ANDROID_FEMALE_31_40\n",
      "DEU_ANDROID_FEMALE_41_66\n",
      "DEU_IOS_MALE_19_23\n",
      "USA_ANDROID_FEMALE_41_66\n",
      "FRA_IOS_MALE_19_23\n",
      "USA_IOS_MALE_41_66\n",
      "DEU_ANDROID_MALE_0_18\n",
      "BRA_ANDROID_FEMALE_24_30\n",
      "USA_ANDROID_FEMALE_41_66\n",
      "TUR_IOS_MALE_24_30\n",
      "DEU_ANDROID_MALE_31_40\n",
      "TUR_IOS_FEMALE_0_18\n",
      "BRA_ANDROID_FEMALE_41_66\n",
      "BRA_IOS_FEMALE_19_23\n",
      "TUR_ANDROID_FEMALE_31_40\n",
      "BRA_ANDROID_FEMALE_31_40\n",
      "TUR_IOS_MALE_31_40\n",
      "TUR_ANDROID_MALE_0_18\n",
      "USA_IOS_MALE_24_30\n",
      "BRA_IOS_MALE_41_66\n",
      "DEU_ANDROID_MALE_19_23\n",
      "USA_IOS_MALE_24_30\n",
      "TUR_ANDROID_FEMALE_0_18\n",
      "USA_ANDROID_MALE_41_66\n",
      "TUR_ANDROID_MALE_24_30\n",
      "USA_IOS_FEMALE_41_66\n",
      "FRA_ANDROID_MALE_19_23\n",
      "USA_IOS_MALE_31_40\n",
      "TUR_ANDROID_FEMALE_0_18\n",
      "FRA_IOS_MALE_0_18\n",
      "TUR_IOS_FEMALE_19_23\n",
      "TUR_ANDROID_FEMALE_31_40\n",
      "TUR_ANDROID_MALE_24_30\n",
      "FRA_ANDROID_MALE_19_23\n",
      "BRA_ANDROID_MALE_24_30\n",
      "CAN_ANDROID_MALE_24_30\n",
      "CAN_ANDROID_MALE_19_23\n",
      "USA_ANDROID_MALE_41_66\n",
      "TUR_ANDROID_MALE_24_30\n",
      "BRA_ANDROID_MALE_31_40\n",
      "BRA_ANDROID_MALE_0_18\n",
      "USA_IOS_FEMALE_19_23\n",
      "TUR_ANDROID_MALE_41_66\n",
      "BRA_IOS_FEMALE_19_23\n",
      "USA_IOS_MALE_41_66\n",
      "BRA_IOS_FEMALE_24_30\n",
      "DEU_ANDROID_FEMALE_31_40\n",
      "DEU_IOS_MALE_0_18\n",
      "FRA_ANDROID_FEMALE_19_23\n",
      "FRA_ANDROID_MALE_31_40\n",
      "TUR_IOS_FEMALE_31_40\n",
      "FRA_IOS_MALE_41_66\n",
      "BRA_ANDROID_FEMALE_31_40\n",
      "TUR_IOS_MALE_0_18\n",
      "BRA_IOS_FEMALE_41_66\n",
      "TUR_ANDROID_MALE_0_18\n",
      "TUR_ANDROID_FEMALE_41_66\n",
      "BRA_ANDROID_FEMALE_0_18\n",
      "USA_IOS_MALE_19_23\n",
      "USA_IOS_FEMALE_0_18\n",
      "FRA_IOS_MALE_31_40\n",
      "TUR_ANDROID_MALE_0_18\n",
      "DEU_ANDROID_MALE_31_40\n",
      "USA_IOS_FEMALE_24_30\n",
      "DEU_IOS_FEMALE_0_18\n",
      "CAN_IOS_MALE_0_18\n",
      "CAN_ANDROID_MALE_41_66\n",
      "BRA_ANDROID_FEMALE_24_30\n",
      "TUR_ANDROID_FEMALE_24_30\n",
      "CAN_IOS_MALE_0_18\n",
      "BRA_IOS_MALE_31_40\n",
      "FRA_ANDROID_FEMALE_0_18\n",
      "DEU_IOS_FEMALE_0_18\n",
      "CAN_ANDROID_FEMALE_0_18\n",
      "TUR_IOS_FEMALE_19_23\n",
      "DEU_ANDROID_MALE_19_23\n",
      "BRA_ANDROID_FEMALE_19_23\n",
      "USA_ANDROID_FEMALE_31_40\n",
      "BRA_IOS_MALE_19_23\n",
      "BRA_ANDROID_MALE_0_18\n",
      "BRA_ANDROID_MALE_24_30\n",
      "USA_ANDROID_MALE_24_30\n",
      "TUR_ANDROID_FEMALE_19_23\n",
      "DEU_IOS_MALE_41_66\n",
      "BRA_ANDROID_FEMALE_41_66\n",
      "BRA_IOS_MALE_0_18\n",
      "USA_IOS_FEMALE_24_30\n",
      "BRA_IOS_FEMALE_0_18\n",
      "BRA_IOS_MALE_31_40\n",
      "FRA_ANDROID_FEMALE_0_18\n",
      "USA_ANDROID_MALE_19_23\n",
      "BRA_IOS_FEMALE_0_18\n",
      "BRA_ANDROID_MALE_41_66\n",
      "BRA_ANDROID_FEMALE_24_30\n",
      "USA_ANDROID_MALE_24_30\n",
      "TUR_ANDROID_FEMALE_41_66\n",
      "USA_IOS_FEMALE_24_30\n",
      "DEU_IOS_FEMALE_24_30\n",
      "CAN_ANDROID_MALE_0_18\n",
      "BRA_ANDROID_FEMALE_0_18\n",
      "TUR_ANDROID_MALE_24_30\n",
      "USA_ANDROID_MALE_41_66\n",
      "USA_IOS_FEMALE_19_23\n",
      "USA_ANDROID_FEMALE_19_23\n",
      "FRA_IOS_MALE_19_23\n",
      "FRA_ANDROID_MALE_41_66\n",
      "BRA_ANDROID_MALE_41_66\n",
      "TUR_ANDROID_MALE_19_23\n",
      "BRA_ANDROID_FEMALE_24_30\n",
      "USA_ANDROID_FEMALE_31_40\n",
      "USA_IOS_FEMALE_24_30\n",
      "BRA_ANDROID_FEMALE_0_18\n",
      "TUR_IOS_FEMALE_19_23\n",
      "DEU_IOS_FEMALE_0_18\n",
      "USA_ANDROID_MALE_41_66\n",
      "BRA_ANDROID_MALE_19_23\n",
      "DEU_ANDROID_MALE_31_40\n",
      "BRA_IOS_FEMALE_31_40\n",
      "BRA_IOS_FEMALE_41_66\n",
      "BRA_ANDROID_MALE_24_30\n",
      "DEU_ANDROID_FEMALE_24_30\n",
      "BRA_IOS_MALE_0_18\n",
      "BRA_ANDROID_MALE_19_23\n",
      "USA_ANDROID_FEMALE_41_66\n",
      "BRA_ANDROID_MALE_19_23\n",
      "BRA_ANDROID_FEMALE_19_23\n",
      "USA_ANDROID_MALE_0_18\n",
      "BRA_IOS_FEMALE_31_40\n",
      "USA_IOS_MALE_24_30\n",
      "BRA_ANDROID_FEMALE_31_40\n",
      "USA_IOS_FEMALE_19_23\n",
      "USA_ANDROID_FEMALE_31_40\n",
      "FRA_IOS_MALE_19_23\n",
      "DEU_ANDROID_FEMALE_19_23\n",
      "CAN_IOS_MALE_0_18\n",
      "DEU_IOS_MALE_0_18\n",
      "USA_IOS_FEMALE_41_66\n",
      "DEU_IOS_MALE_24_30\n",
      "BRA_ANDROID_FEMALE_19_23\n",
      "USA_ANDROID_FEMALE_0_18\n",
      "BRA_IOS_MALE_19_23\n",
      "USA_ANDROID_MALE_19_23\n",
      "TUR_IOS_MALE_0_18\n",
      "USA_ANDROID_FEMALE_24_30\n",
      "USA_IOS_MALE_0_18\n",
      "BRA_IOS_MALE_31_40\n",
      "USA_ANDROID_MALE_19_23\n",
      "USA_ANDROID_MALE_31_40\n",
      "USA_ANDROID_MALE_31_40\n",
      "USA_IOS_FEMALE_41_66\n",
      "USA_ANDROID_MALE_0_18\n",
      "FRA_ANDROID_FEMALE_0_18\n",
      "USA_ANDROID_FEMALE_0_18\n",
      "USA_IOS_MALE_0_18\n",
      "BRA_ANDROID_FEMALE_31_40\n",
      "USA_IOS_FEMALE_31_40\n",
      "TUR_ANDROID_FEMALE_0_18\n",
      "DEU_ANDROID_FEMALE_24_30\n",
      "USA_ANDROID_MALE_0_18\n",
      "USA_ANDROID_MALE_24_30\n",
      "BRA_IOS_FEMALE_24_30\n",
      "USA_ANDROID_FEMALE_19_23\n",
      "BRA_IOS_FEMALE_41_66\n",
      "DEU_ANDROID_FEMALE_19_23\n",
      "USA_IOS_MALE_24_30\n",
      "FRA_IOS_MALE_24_30\n",
      "BRA_IOS_FEMALE_24_30\n",
      "CAN_ANDROID_FEMALE_41_66\n",
      "USA_IOS_FEMALE_19_23\n",
      "USA_IOS_MALE_19_23\n",
      "BRA_IOS_MALE_19_23\n",
      "TUR_IOS_FEMALE_19_23\n",
      "TUR_IOS_FEMALE_24_30\n",
      "TUR_IOS_FEMALE_24_30\n",
      "DEU_IOS_FEMALE_19_23\n",
      "TUR_IOS_FEMALE_41_66\n",
      "DEU_ANDROID_MALE_19_23\n",
      "BRA_IOS_FEMALE_24_30\n",
      "USA_ANDROID_MALE_0_18\n",
      "USA_IOS_MALE_41_66\n",
      "USA_ANDROID_FEMALE_41_66\n",
      "FRA_ANDROID_FEMALE_31_40\n",
      "USA_ANDROID_MALE_24_30\n",
      "USA_ANDROID_FEMALE_24_30\n",
      "DEU_IOS_FEMALE_19_23\n",
      "BRA_IOS_MALE_24_30\n",
      "USA_IOS_FEMALE_0_18\n",
      "USA_ANDROID_FEMALE_19_23\n",
      "BRA_IOS_MALE_0_18\n",
      "DEU_ANDROID_FEMALE_0_18\n",
      "BRA_ANDROID_FEMALE_31_40\n",
      "USA_IOS_MALE_0_18\n",
      "CAN_IOS_FEMALE_0_18\n",
      "TUR_ANDROID_FEMALE_0_18\n",
      "BRA_IOS_FEMALE_0_18\n",
      "FRA_IOS_FEMALE_0_18\n",
      "BRA_ANDROID_FEMALE_41_66\n",
      "BRA_IOS_MALE_41_66\n",
      "USA_ANDROID_MALE_24_30\n",
      "BRA_ANDROID_FEMALE_24_30\n",
      "USA_ANDROID_FEMALE_19_23\n",
      "BRA_ANDROID_MALE_0_18\n",
      "BRA_IOS_FEMALE_41_66\n",
      "USA_ANDROID_MALE_41_66\n",
      "FRA_IOS_FEMALE_31_40\n",
      "FRA_ANDROID_MALE_24_30\n",
      "DEU_IOS_FEMALE_31_40\n",
      "USA_IOS_FEMALE_0_18\n",
      "DEU_ANDROID_MALE_0_18\n",
      "USA_IOS_MALE_0_18\n",
      "BRA_IOS_FEMALE_19_23\n",
      "TUR_IOS_MALE_0_18\n",
      "USA_ANDROID_MALE_19_23\n",
      "USA_IOS_FEMALE_19_23\n",
      "USA_IOS_FEMALE_24_30\n",
      "BRA_IOS_MALE_0_18\n",
      "USA_ANDROID_FEMALE_0_18\n",
      "FRA_IOS_FEMALE_31_40\n",
      "BRA_IOS_FEMALE_0_18\n",
      "TUR_IOS_FEMALE_19_23\n",
      "BRA_ANDROID_MALE_24_30\n",
      "FRA_IOS_FEMALE_0_18\n",
      "CAN_ANDROID_FEMALE_19_23\n",
      "USA_ANDROID_FEMALE_0_18\n",
      "DEU_ANDROID_MALE_0_18\n",
      "USA_ANDROID_MALE_19_23\n",
      "DEU_ANDROID_FEMALE_31_40\n",
      "USA_ANDROID_FEMALE_41_66\n",
      "FRA_ANDROID_MALE_31_40\n",
      "DEU_ANDROID_FEMALE_24_30\n",
      "FRA_ANDROID_MALE_41_66\n",
      "BRA_IOS_FEMALE_24_30\n",
      "DEU_ANDROID_MALE_31_40\n",
      "TUR_ANDROID_FEMALE_19_23\n",
      "TUR_ANDROID_FEMALE_41_66\n",
      "BRA_ANDROID_FEMALE_41_66\n",
      "BRA_IOS_FEMALE_31_40\n",
      "BRA_ANDROID_FEMALE_0_18\n",
      "USA_IOS_MALE_19_23\n",
      "FRA_ANDROID_FEMALE_19_23\n",
      "DEU_ANDROID_FEMALE_24_30\n",
      "DEU_ANDROID_FEMALE_0_18\n",
      "BRA_ANDROID_FEMALE_19_23\n",
      "USA_IOS_MALE_24_30\n",
      "BRA_ANDROID_MALE_31_40\n",
      "FRA_ANDROID_FEMALE_24_30\n",
      "USA_IOS_MALE_31_40\n",
      "CAN_IOS_FEMALE_24_30\n",
      "CAN_ANDROID_FEMALE_19_23\n",
      "USA_IOS_FEMALE_24_30\n",
      "BRA_ANDROID_MALE_31_40\n",
      "USA_IOS_FEMALE_0_18\n",
      "DEU_ANDROID_FEMALE_41_66\n",
      "DEU_IOS_MALE_31_40\n",
      "USA_ANDROID_FEMALE_19_23\n",
      "DEU_ANDROID_MALE_19_23\n",
      "CAN_IOS_MALE_24_30\n",
      "TUR_IOS_MALE_41_66\n",
      "CAN_IOS_MALE_41_66\n",
      "BRA_ANDROID_MALE_19_23\n",
      "DEU_ANDROID_FEMALE_19_23\n",
      "BRA_IOS_MALE_19_23\n",
      "BRA_ANDROID_FEMALE_19_23\n",
      "TUR_ANDROID_FEMALE_19_23\n",
      "DEU_IOS_MALE_24_30\n",
      "USA_IOS_FEMALE_31_40\n",
      "USA_ANDROID_FEMALE_24_30\n",
      "DEU_IOS_FEMALE_0_18\n",
      "FRA_IOS_MALE_0_18\n",
      "BRA_ANDROID_MALE_24_30\n",
      "BRA_IOS_FEMALE_24_30\n",
      "BRA_IOS_MALE_41_66\n",
      "FRA_IOS_FEMALE_24_30\n",
      "USA_IOS_FEMALE_41_66\n",
      "USA_IOS_MALE_31_40\n",
      "USA_IOS_MALE_41_66\n",
      "FRA_ANDROID_MALE_0_18\n",
      "TUR_IOS_FEMALE_0_18\n",
      "BRA_IOS_MALE_41_66\n",
      "USA_ANDROID_FEMALE_24_30\n",
      "CAN_ANDROID_MALE_24_30\n",
      "BRA_IOS_FEMALE_19_23\n",
      "BRA_ANDROID_MALE_24_30\n",
      "CAN_ANDROID_FEMALE_0_18\n",
      "BRA_ANDROID_MALE_0_18\n",
      "USA_IOS_FEMALE_31_40\n",
      "FRA_IOS_MALE_0_18\n",
      "FRA_IOS_MALE_24_30\n",
      "BRA_ANDROID_MALE_41_66\n",
      "FRA_IOS_MALE_31_40\n",
      "CAN_IOS_MALE_31_40\n",
      "USA_IOS_FEMALE_41_66\n",
      "CAN_IOS_FEMALE_0_18\n",
      "DEU_IOS_MALE_19_23\n",
      "DEU_IOS_FEMALE_24_30\n",
      "DEU_ANDROID_MALE_31_40\n",
      "DEU_ANDROID_MALE_24_30\n",
      "DEU_ANDROID_FEMALE_31_40\n",
      "USA_IOS_MALE_41_66\n",
      "TUR_ANDROID_FEMALE_41_66\n",
      "BRA_IOS_MALE_31_40\n",
      "USA_ANDROID_MALE_31_40\n",
      "USA_ANDROID_MALE_41_66\n",
      "USA_ANDROID_FEMALE_24_30\n",
      "USA_ANDROID_MALE_31_40\n",
      "USA_ANDROID_MALE_31_40\n",
      "BRA_IOS_MALE_31_40\n",
      "USA_ANDROID_FEMALE_24_30\n",
      "TUR_ANDROID_MALE_31_40\n",
      "TUR_IOS_FEMALE_0_18\n",
      "BRA_ANDROID_MALE_24_30\n",
      "USA_ANDROID_FEMALE_31_40\n",
      "USA_ANDROID_FEMALE_31_40\n",
      "DEU_ANDROID_FEMALE_41_66\n",
      "FRA_IOS_FEMALE_0_18\n",
      "BRA_IOS_FEMALE_31_40\n",
      "TUR_IOS_MALE_19_23\n",
      "FRA_ANDROID_FEMALE_19_23\n",
      "DEU_ANDROID_FEMALE_0_18\n",
      "BRA_ANDROID_FEMALE_24_30\n",
      "USA_ANDROID_MALE_24_30\n",
      "CAN_ANDROID_FEMALE_0_18\n",
      "TUR_IOS_FEMALE_31_40\n",
      "FRA_ANDROID_MALE_19_23\n",
      "USA_ANDROID_MALE_41_66\n",
      "FRA_IOS_FEMALE_24_30\n",
      "BRA_ANDROID_FEMALE_31_40\n",
      "TUR_ANDROID_FEMALE_24_30\n",
      "USA_IOS_MALE_31_40\n",
      "USA_IOS_MALE_24_30\n",
      "BRA_ANDROID_FEMALE_24_30\n",
      "TUR_IOS_MALE_19_23\n",
      "USA_ANDROID_MALE_24_30\n",
      "BRA_IOS_MALE_31_40\n",
      "BRA_ANDROID_MALE_19_23\n",
      "TUR_ANDROID_MALE_19_23\n",
      "TUR_IOS_MALE_41_66\n",
      "BRA_IOS_FEMALE_31_40\n",
      "BRA_IOS_MALE_41_66\n",
      "USA_IOS_FEMALE_31_40\n",
      "USA_IOS_FEMALE_24_30\n",
      "CAN_ANDROID_FEMALE_24_30\n",
      "FRA_ANDROID_MALE_0_18\n",
      "DEU_ANDROID_MALE_24_30\n"
     ]
    }
   ],
   "source": [
    "# Gözlem değerlerine nasıl erişiriz?\n",
    "for row in agg_df.values:\n",
    "    print(row[0].upper() + \"_\" + row[1].upper() + \"_\" + row[2].upper() + \"_\" + row[6].upper())"
   ],
   "metadata": {
    "collapsed": false,
    "ExecuteTime": {
     "end_time": "2024-02-05T15:09:01.998068200Z",
     "start_time": "2024-02-05T15:09:01.318474300Z"
    }
   },
   "id": "6a98805e533aa063",
   "execution_count": 28
  },
  {
   "cell_type": "code",
   "outputs": [],
   "source": [
    "# customers_level_based adında bir değişken tanımlayınız ve veri setine bu değişkeni ekleyiniz\n",
    "\n",
    "agg_df[\"customer_level_based\"] = [row[0].upper() + \"_\" + row[1].upper() + \"_\" + row[2].upper() + \"_\" + row[6] for row in agg_df.values]"
   ],
   "metadata": {
    "collapsed": false,
    "ExecuteTime": {
     "end_time": "2024-02-05T15:09:02.021388600Z",
     "start_time": "2024-02-05T15:09:01.334151500Z"
    }
   },
   "id": "d2e63022558cc85e",
   "execution_count": 29
  },
  {
   "cell_type": "code",
   "outputs": [
    {
     "data": {
      "text/plain": "  COUNTRY   SOURCE     SEX  AGE  PRICE  age_cat agg_cat_m  \\\n0     bra  android    male   46   59.0        5     41_66   \n1     usa  android    male   36   59.0        5     31_40   \n2     fra  android  female   24   59.0        5     24_30   \n3     usa      ios    male   32   54.0        5     31_40   \n4     deu  android  female   36   49.0        5     31_40   \n\n       customer_level_based  \n0    BRA_ANDROID_MALE_41_66  \n1    USA_ANDROID_MALE_31_40  \n2  FRA_ANDROID_FEMALE_24_30  \n3        USA_IOS_MALE_31_40  \n4  DEU_ANDROID_FEMALE_31_40  ",
      "text/html": "<div>\n<style scoped>\n    .dataframe tbody tr th:only-of-type {\n        vertical-align: middle;\n    }\n\n    .dataframe tbody tr th {\n        vertical-align: top;\n    }\n\n    .dataframe thead th {\n        text-align: right;\n    }\n</style>\n<table border=\"1\" class=\"dataframe\">\n  <thead>\n    <tr style=\"text-align: right;\">\n      <th></th>\n      <th>COUNTRY</th>\n      <th>SOURCE</th>\n      <th>SEX</th>\n      <th>AGE</th>\n      <th>PRICE</th>\n      <th>age_cat</th>\n      <th>agg_cat_m</th>\n      <th>customer_level_based</th>\n    </tr>\n  </thead>\n  <tbody>\n    <tr>\n      <th>0</th>\n      <td>bra</td>\n      <td>android</td>\n      <td>male</td>\n      <td>46</td>\n      <td>59.0</td>\n      <td>5</td>\n      <td>41_66</td>\n      <td>BRA_ANDROID_MALE_41_66</td>\n    </tr>\n    <tr>\n      <th>1</th>\n      <td>usa</td>\n      <td>android</td>\n      <td>male</td>\n      <td>36</td>\n      <td>59.0</td>\n      <td>5</td>\n      <td>31_40</td>\n      <td>USA_ANDROID_MALE_31_40</td>\n    </tr>\n    <tr>\n      <th>2</th>\n      <td>fra</td>\n      <td>android</td>\n      <td>female</td>\n      <td>24</td>\n      <td>59.0</td>\n      <td>5</td>\n      <td>24_30</td>\n      <td>FRA_ANDROID_FEMALE_24_30</td>\n    </tr>\n    <tr>\n      <th>3</th>\n      <td>usa</td>\n      <td>ios</td>\n      <td>male</td>\n      <td>32</td>\n      <td>54.0</td>\n      <td>5</td>\n      <td>31_40</td>\n      <td>USA_IOS_MALE_31_40</td>\n    </tr>\n    <tr>\n      <th>4</th>\n      <td>deu</td>\n      <td>android</td>\n      <td>female</td>\n      <td>36</td>\n      <td>49.0</td>\n      <td>5</td>\n      <td>31_40</td>\n      <td>DEU_ANDROID_FEMALE_31_40</td>\n    </tr>\n  </tbody>\n</table>\n</div>"
     },
     "execution_count": 30,
     "metadata": {},
     "output_type": "execute_result"
    }
   ],
   "source": [
    "agg_df.head()"
   ],
   "metadata": {
    "collapsed": false,
    "ExecuteTime": {
     "end_time": "2024-02-05T15:09:02.024590800Z",
     "start_time": "2024-02-05T15:09:01.346628200Z"
    }
   },
   "id": "e5646854c6ac101b",
   "execution_count": 30
  },
  {
   "cell_type": "code",
   "outputs": [
    {
     "data": {
      "text/plain": "BRA_ANDROID_MALE_24_30      7\nUSA_ANDROID_MALE_41_66      7\nUSA_IOS_FEMALE_24_30        7\nBRA_ANDROID_FEMALE_24_30    7\nUSA_ANDROID_MALE_24_30      7\nBRA_IOS_MALE_31_40          6\nUSA_ANDROID_FEMALE_24_30    6\nUSA_IOS_MALE_24_30          6\nBRA_IOS_FEMALE_24_30        6\nUSA_ANDROID_MALE_31_40      6\nBRA_ANDROID_FEMALE_31_40    6\nUSA_IOS_FEMALE_41_66        5\nBRA_ANDROID_FEMALE_19_23    5\nUSA_ANDROID_FEMALE_31_40    5\nTUR_IOS_FEMALE_19_23        5\nBRA_IOS_MALE_41_66          5\nBRA_ANDROID_MALE_19_23      5\nUSA_ANDROID_MALE_19_23      5\nUSA_ANDROID_FEMALE_19_23    5\nDEU_ANDROID_MALE_31_40      5\nBRA_IOS_FEMALE_31_40        5\nUSA_IOS_MALE_41_66          5\nUSA_ANDROID_FEMALE_41_66    5\nUSA_IOS_MALE_31_40          5\nUSA_IOS_FEMALE_19_23        5\nDEU_IOS_FEMALE_0_18         4\nUSA_IOS_FEMALE_0_18         4\nTUR_ANDROID_FEMALE_41_66    4\nBRA_ANDROID_MALE_41_66      4\nBRA_IOS_MALE_0_18           4\nBRA_IOS_MALE_19_23          4\nBRA_IOS_FEMALE_0_18         4\nDEU_ANDROID_FEMALE_24_30    4\nUSA_ANDROID_MALE_0_18       4\nUSA_ANDROID_FEMALE_0_18     4\nUSA_IOS_MALE_0_18           4\nUSA_IOS_FEMALE_31_40        4\nBRA_IOS_FEMALE_41_66        4\nBRA_ANDROID_FEMALE_0_18     4\nBRA_IOS_FEMALE_19_23        4\nBRA_ANDROID_FEMALE_41_66    4\nBRA_ANDROID_MALE_0_18       4\nDEU_ANDROID_FEMALE_31_40    4\nDEU_ANDROID_MALE_19_23      4\nTUR_ANDROID_FEMALE_0_18     4\nTUR_ANDROID_MALE_24_30      4\nFRA_ANDROID_FEMALE_0_18     3\nDEU_ANDROID_MALE_0_18       3\nFRA_IOS_MALE_19_23          3\nDEU_ANDROID_FEMALE_19_23    3\nFRA_ANDROID_FEMALE_19_23    3\nDEU_ANDROID_FEMALE_41_66    3\nTUR_ANDROID_FEMALE_19_23    3\nTUR_ANDROID_MALE_0_18       3\nCAN_ANDROID_FEMALE_0_18     3\nFRA_ANDROID_MALE_19_23      3\nTUR_IOS_FEMALE_0_18         3\nDEU_ANDROID_FEMALE_0_18     3\nFRA_IOS_MALE_0_18           3\nCAN_IOS_MALE_0_18           3\nFRA_IOS_FEMALE_0_18         3\nBRA_ANDROID_MALE_31_40      3\nUSA_IOS_MALE_19_23          3\nTUR_IOS_MALE_0_18           3\nFRA_IOS_FEMALE_31_40        2\nCAN_IOS_FEMALE_0_18         2\nDEU_IOS_MALE_24_30          2\nTUR_IOS_MALE_19_23          2\nDEU_IOS_MALE_19_23          2\nFRA_ANDROID_FEMALE_24_30    2\nTUR_IOS_FEMALE_24_30        2\nTUR_IOS_MALE_41_66          2\nFRA_IOS_MALE_24_30          2\nDEU_IOS_FEMALE_19_23        2\nDEU_IOS_MALE_0_18           2\nTUR_ANDROID_MALE_19_23      2\nCAN_ANDROID_MALE_24_30      2\nFRA_ANDROID_MALE_31_40      2\nTUR_IOS_FEMALE_31_40        2\nFRA_ANDROID_MALE_0_18       2\nFRA_ANDROID_MALE_41_66      2\nDEU_ANDROID_MALE_24_30      2\nFRA_IOS_MALE_31_40          2\nTUR_ANDROID_FEMALE_24_30    2\nFRA_IOS_FEMALE_24_30        2\nTUR_ANDROID_FEMALE_31_40    2\nDEU_IOS_FEMALE_24_30        2\nCAN_ANDROID_FEMALE_19_23    2\nTUR_ANDROID_MALE_31_40      1\nDEU_IOS_FEMALE_31_40        1\nCAN_IOS_MALE_24_30          1\nDEU_IOS_MALE_31_40          1\nCAN_IOS_FEMALE_24_30        1\nCAN_IOS_MALE_31_40          1\nCAN_IOS_MALE_41_66          1\nCAN_ANDROID_MALE_41_66      1\nFRA_ANDROID_MALE_24_30      1\nBRA_IOS_MALE_24_30          1\nFRA_ANDROID_FEMALE_31_40    1\nTUR_IOS_FEMALE_41_66        1\nCAN_ANDROID_FEMALE_41_66    1\nCAN_ANDROID_MALE_0_18       1\nDEU_IOS_MALE_41_66          1\nFRA_IOS_MALE_41_66          1\nTUR_ANDROID_MALE_41_66      1\nCAN_ANDROID_MALE_19_23      1\nTUR_IOS_MALE_31_40          1\nTUR_IOS_MALE_24_30          1\nCAN_ANDROID_FEMALE_24_30    1\nName: customer_level_based, dtype: int64"
     },
     "execution_count": 31,
     "metadata": {},
     "output_type": "execute_result"
    }
   ],
   "source": [
    "# Let's add to the dataset/ Veri setine ekleyelim:\n",
    "\n",
    "agg_df[\"customer_level_based\"].value_counts()"
   ],
   "metadata": {
    "collapsed": false,
    "ExecuteTime": {
     "end_time": "2024-02-05T15:09:02.025657700Z",
     "start_time": "2024-02-05T15:09:01.362107Z"
    }
   },
   "id": "d13fed8943566613",
   "execution_count": 31
  },
  {
   "cell_type": "code",
   "execution_count": 32,
   "id": "5a34e546",
   "metadata": {
    "ExecuteTime": {
     "end_time": "2024-02-05T15:09:02.052298600Z",
     "start_time": "2024-02-05T15:09:01.378649Z"
    }
   },
   "outputs": [
    {
     "data": {
      "text/plain": "         customer_level_based      PRICE\n0      BRA_ANDROID_MALE_41_66  59.000000\n1      USA_ANDROID_MALE_31_40  59.000000\n2    FRA_ANDROID_FEMALE_24_30  59.000000\n3          USA_IOS_MALE_31_40  54.000000\n4    DEU_ANDROID_FEMALE_31_40  49.000000\n5    DEU_ANDROID_FEMALE_41_66  49.000000\n6          DEU_IOS_MALE_19_23  49.000000\n7    USA_ANDROID_FEMALE_41_66  49.000000\n8          FRA_IOS_MALE_19_23  49.000000\n9          USA_IOS_MALE_41_66  46.500000\n10      DEU_ANDROID_MALE_0_18  46.500000\n11   BRA_ANDROID_FEMALE_24_30  45.666667\n12   USA_ANDROID_FEMALE_41_66  45.666667\n13         TUR_IOS_MALE_24_30  45.000000\n14     DEU_ANDROID_MALE_31_40  45.000000\n15        TUR_IOS_FEMALE_0_18  44.000000\n16   BRA_ANDROID_FEMALE_41_66  44.000000\n17       BRA_IOS_FEMALE_19_23  44.000000\n18   TUR_ANDROID_FEMALE_31_40  43.000000\n19   BRA_ANDROID_FEMALE_31_40  43.000000\n20         TUR_IOS_MALE_31_40  42.333333\n21      TUR_ANDROID_MALE_0_18  42.333333\n22         USA_IOS_MALE_24_30  42.333333\n23         BRA_IOS_MALE_41_66  42.333333\n24     DEU_ANDROID_MALE_19_23  41.727273\n25         USA_IOS_MALE_24_30  41.727273\n26    TUR_ANDROID_FEMALE_0_18  41.500000\n27     USA_ANDROID_MALE_41_66  41.500000\n28     TUR_ANDROID_MALE_24_30  41.500000\n29       USA_IOS_FEMALE_41_66  41.500000\n30     FRA_ANDROID_MALE_19_23  41.307692\n31         USA_IOS_MALE_31_40  41.000000\n32    TUR_ANDROID_FEMALE_0_18  41.000000\n33          FRA_IOS_MALE_0_18  40.666667\n34       TUR_IOS_FEMALE_19_23  40.666667\n35   TUR_ANDROID_FEMALE_31_40  40.666667\n36     TUR_ANDROID_MALE_24_30  40.666667\n37     FRA_ANDROID_MALE_19_23  40.538462\n38     BRA_ANDROID_MALE_24_30  40.428571\n39     CAN_ANDROID_MALE_24_30  40.250000\n40     CAN_ANDROID_MALE_19_23  40.111111\n41     USA_ANDROID_MALE_41_66  39.909091\n42     TUR_ANDROID_MALE_24_30  39.666667\n43     BRA_ANDROID_MALE_31_40  39.625000\n44      BRA_ANDROID_MALE_0_18  39.344828\n45       USA_IOS_FEMALE_19_23  39.285714\n46     TUR_ANDROID_MALE_41_66  39.000000\n47       BRA_IOS_FEMALE_19_23  39.000000\n48         USA_IOS_MALE_41_66  39.000000\n49       BRA_IOS_FEMALE_24_30  39.000000\n50   DEU_ANDROID_FEMALE_31_40  39.000000\n51          DEU_IOS_MALE_0_18  39.000000\n52   FRA_ANDROID_FEMALE_19_23  39.000000\n53     FRA_ANDROID_MALE_31_40  39.000000\n54       TUR_IOS_FEMALE_31_40  39.000000\n55         FRA_IOS_MALE_41_66  39.000000\n56   BRA_ANDROID_FEMALE_31_40  39.000000\n57          TUR_IOS_MALE_0_18  39.000000\n58       BRA_IOS_FEMALE_41_66  39.000000\n59      TUR_ANDROID_MALE_0_18  39.000000\n60   TUR_ANDROID_FEMALE_41_66  39.000000\n61    BRA_ANDROID_FEMALE_0_18  38.714286\n62         USA_IOS_MALE_19_23  38.534884\n63        USA_IOS_FEMALE_0_18  38.459459\n64         FRA_IOS_MALE_31_40  38.375000\n65      TUR_ANDROID_MALE_0_18  38.285714\n66     DEU_ANDROID_MALE_31_40  38.166667\n67       USA_IOS_FEMALE_24_30  38.000000\n68        DEU_IOS_FEMALE_0_18  37.823529\n69          CAN_IOS_MALE_0_18  37.666667\n70     CAN_ANDROID_MALE_41_66  37.571429\n71   BRA_ANDROID_FEMALE_24_30  37.571429\n72   TUR_ANDROID_FEMALE_24_30  37.571429\n73          CAN_IOS_MALE_0_18  37.571429\n74         BRA_IOS_MALE_31_40  37.571429\n75    FRA_ANDROID_FEMALE_0_18  37.571429\n76        DEU_IOS_FEMALE_0_18  37.333333\n77    CAN_ANDROID_FEMALE_0_18  37.333333\n78       TUR_IOS_FEMALE_19_23  37.333333\n79     DEU_ANDROID_MALE_19_23  37.333333\n80   BRA_ANDROID_FEMALE_19_23  37.292683\n81   USA_ANDROID_FEMALE_31_40  37.181818\n82         BRA_IOS_MALE_19_23  37.181818\n83      BRA_ANDROID_MALE_0_18  37.157895\n84     BRA_ANDROID_MALE_24_30  37.095238\n85     USA_ANDROID_MALE_24_30  37.000000\n86   TUR_ANDROID_FEMALE_19_23  37.000000\n87         DEU_IOS_MALE_41_66  37.000000\n88   BRA_ANDROID_FEMALE_41_66  37.000000\n89          BRA_IOS_MALE_0_18  36.878788\n90       USA_IOS_FEMALE_24_30  36.857143\n91        BRA_IOS_FEMALE_0_18  36.777778\n92         BRA_IOS_MALE_31_40  36.777778\n93    FRA_ANDROID_FEMALE_0_18  36.727273\n94     USA_ANDROID_MALE_19_23  36.647059\n95        BRA_IOS_FEMALE_0_18  36.500000\n96     BRA_ANDROID_MALE_41_66  36.500000\n97   BRA_ANDROID_FEMALE_24_30  36.500000\n98     USA_ANDROID_MALE_24_30  36.142857\n99   TUR_ANDROID_FEMALE_41_66  36.142857\n100      USA_IOS_FEMALE_24_30  36.142857\n101      DEU_IOS_FEMALE_24_30  36.000000\n102     CAN_ANDROID_MALE_0_18  36.000000\n103   BRA_ANDROID_FEMALE_0_18  35.944444\n104    TUR_ANDROID_MALE_24_30  35.923077\n105    USA_ANDROID_MALE_41_66  35.875000\n106      USA_IOS_FEMALE_19_23  35.800000\n107  USA_ANDROID_FEMALE_19_23  35.764706\n108        FRA_IOS_MALE_19_23  35.666667\n109    FRA_ANDROID_MALE_41_66  35.666667\n110    BRA_ANDROID_MALE_41_66  35.666667\n111    TUR_ANDROID_MALE_19_23  35.666667\n112  BRA_ANDROID_FEMALE_24_30  35.666667\n113  USA_ANDROID_FEMALE_31_40  35.666667\n114      USA_IOS_FEMALE_24_30  35.666667\n115   BRA_ANDROID_FEMALE_0_18  35.666667\n116      TUR_IOS_FEMALE_19_23  35.666667\n117       DEU_IOS_FEMALE_0_18  35.557377\n118    USA_ANDROID_MALE_41_66  35.428571\n119    BRA_ANDROID_MALE_19_23  35.400000\n120    DEU_ANDROID_MALE_31_40  35.363636\n121      BRA_IOS_FEMALE_31_40  35.363636\n122      BRA_IOS_FEMALE_41_66  35.363636\n123    BRA_ANDROID_MALE_24_30  35.363636\n124  DEU_ANDROID_FEMALE_24_30  35.363636\n125         BRA_IOS_MALE_0_18  35.333333\n126    BRA_ANDROID_MALE_19_23  35.250000\n127  USA_ANDROID_FEMALE_41_66  35.250000\n128    BRA_ANDROID_MALE_19_23  35.216216\n129  BRA_ANDROID_FEMALE_19_23  35.206897\n130     USA_ANDROID_MALE_0_18  35.190476\n131      BRA_IOS_FEMALE_31_40  35.111111\n132        USA_IOS_MALE_24_30  35.111111\n133  BRA_ANDROID_FEMALE_31_40  35.097561\n134      USA_IOS_FEMALE_19_23  35.000000\n135  USA_ANDROID_FEMALE_31_40  35.000000\n136        FRA_IOS_MALE_19_23  35.000000\n137  DEU_ANDROID_FEMALE_19_23  35.000000\n138         CAN_IOS_MALE_0_18  35.000000\n139         DEU_IOS_MALE_0_18  35.000000\n140      USA_IOS_FEMALE_41_66  35.000000\n141        DEU_IOS_MALE_24_30  35.000000\n142  BRA_ANDROID_FEMALE_19_23  34.945946\n143   USA_ANDROID_FEMALE_0_18  34.901639\n144        BRA_IOS_MALE_19_23  34.882353\n145    USA_ANDROID_MALE_19_23  34.849057\n146         TUR_IOS_MALE_0_18  34.806452\n147  USA_ANDROID_FEMALE_24_30  34.789474\n148         USA_IOS_MALE_0_18  34.714286\n149        BRA_IOS_MALE_31_40  34.714286\n150    USA_ANDROID_MALE_19_23  34.714286\n151    USA_ANDROID_MALE_31_40  34.714286\n152    USA_ANDROID_MALE_31_40  34.714286\n153      USA_IOS_FEMALE_41_66  34.714286\n154     USA_ANDROID_MALE_0_18  34.663717\n155   FRA_ANDROID_FEMALE_0_18  34.652174\n156   USA_ANDROID_FEMALE_0_18  34.625000\n157         USA_IOS_MALE_0_18  34.576923\n158  BRA_ANDROID_FEMALE_31_40  34.555556\n159      USA_IOS_FEMALE_31_40  34.555556\n160   TUR_ANDROID_FEMALE_0_18  34.555556\n161  DEU_ANDROID_FEMALE_24_30  34.454545\n162     USA_ANDROID_MALE_0_18  34.454545\n163    USA_ANDROID_MALE_24_30  34.384615\n164      BRA_IOS_FEMALE_24_30  34.333333\n165  USA_ANDROID_FEMALE_19_23  34.185185\n166      BRA_IOS_FEMALE_41_66  34.000000\n167  DEU_ANDROID_FEMALE_19_23  34.000000\n168        USA_IOS_MALE_24_30  34.000000\n169        FRA_IOS_MALE_24_30  34.000000\n170      BRA_IOS_FEMALE_24_30  34.000000\n171  CAN_ANDROID_FEMALE_41_66  34.000000\n172      USA_IOS_FEMALE_19_23  34.000000\n173        USA_IOS_MALE_19_23  34.000000\n174        BRA_IOS_MALE_19_23  34.000000\n175      TUR_IOS_FEMALE_19_23  34.000000\n176      TUR_IOS_FEMALE_24_30  34.000000\n177      TUR_IOS_FEMALE_24_30  34.000000\n178      DEU_IOS_FEMALE_19_23  34.000000\n179      TUR_IOS_FEMALE_41_66  34.000000\n180    DEU_ANDROID_MALE_19_23  34.000000\n181      BRA_IOS_FEMALE_24_30  34.000000\n182     USA_ANDROID_MALE_0_18  34.000000\n183        USA_IOS_MALE_41_66  34.000000\n184  USA_ANDROID_FEMALE_41_66  34.000000\n185  FRA_ANDROID_FEMALE_31_40  34.000000\n186    USA_ANDROID_MALE_24_30  34.000000\n187  USA_ANDROID_FEMALE_24_30  34.000000\n188      DEU_IOS_FEMALE_19_23  34.000000\n189        BRA_IOS_MALE_24_30  33.864865\n190       USA_IOS_FEMALE_0_18  33.857143\n191  USA_ANDROID_FEMALE_19_23  33.800000\n192         BRA_IOS_MALE_0_18  33.761905\n193   DEU_ANDROID_FEMALE_0_18  33.736842\n194  BRA_ANDROID_FEMALE_31_40  33.736842\n195         USA_IOS_MALE_0_18  33.729730\n196       CAN_IOS_FEMALE_0_18  33.705882\n197   TUR_ANDROID_FEMALE_0_18  33.687500\n198       BRA_IOS_FEMALE_0_18  33.687500\n199       FRA_IOS_FEMALE_0_18  33.615385\n200  BRA_ANDROID_FEMALE_41_66  33.615385\n201        BRA_IOS_MALE_41_66  33.545455\n202    USA_ANDROID_MALE_24_30  33.285714\n203  BRA_ANDROID_FEMALE_24_30  33.166667\n204  USA_ANDROID_FEMALE_19_23  33.102564\n205     BRA_ANDROID_MALE_0_18  33.054054\n206      BRA_IOS_FEMALE_41_66  33.000000\n207    USA_ANDROID_MALE_41_66  33.000000\n208      FRA_IOS_FEMALE_31_40  33.000000\n209    FRA_ANDROID_MALE_24_30  33.000000\n210      DEU_IOS_FEMALE_31_40  33.000000\n211       USA_IOS_FEMALE_0_18  32.913043\n212     DEU_ANDROID_MALE_0_18  32.913043\n213         USA_IOS_MALE_0_18  32.913043\n214      BRA_IOS_FEMALE_19_23  32.846154\n215         TUR_IOS_MALE_0_18  32.846154\n216    USA_ANDROID_MALE_19_23  32.809524\n217      USA_IOS_FEMALE_19_23  32.809524\n218      USA_IOS_FEMALE_24_30  32.750000\n219         BRA_IOS_MALE_0_18  32.684211\n220   USA_ANDROID_FEMALE_0_18  32.666667\n221      FRA_IOS_FEMALE_31_40  32.636364\n222       BRA_IOS_FEMALE_0_18  32.636364\n223      TUR_IOS_FEMALE_19_23  32.636364\n224    BRA_ANDROID_MALE_24_30  32.636364\n225       FRA_IOS_FEMALE_0_18  32.571429\n226  CAN_ANDROID_FEMALE_19_23  32.529412\n227   USA_ANDROID_FEMALE_0_18  32.404255\n228     DEU_ANDROID_MALE_0_18  32.333333\n229    USA_ANDROID_MALE_19_23  32.333333\n230  DEU_ANDROID_FEMALE_31_40  32.333333\n231  USA_ANDROID_FEMALE_41_66  32.333333\n232    FRA_ANDROID_MALE_31_40  32.333333\n233  DEU_ANDROID_FEMALE_24_30  32.333333\n234    FRA_ANDROID_MALE_41_66  32.333333\n235      BRA_IOS_FEMALE_24_30  32.333333\n236    DEU_ANDROID_MALE_31_40  32.333333\n237  TUR_ANDROID_FEMALE_19_23  32.333333\n238  TUR_ANDROID_FEMALE_41_66  32.333333\n239  BRA_ANDROID_FEMALE_41_66  32.333333\n240      BRA_IOS_FEMALE_31_40  32.333333\n241   BRA_ANDROID_FEMALE_0_18  32.255814\n242        USA_IOS_MALE_19_23  32.170732\n243  FRA_ANDROID_FEMALE_19_23  32.125000\n244  DEU_ANDROID_FEMALE_24_30  32.125000\n245   DEU_ANDROID_FEMALE_0_18  32.000000\n246  BRA_ANDROID_FEMALE_19_23  31.941176\n247        USA_IOS_MALE_24_30  31.857143\n248    BRA_ANDROID_MALE_31_40  31.857143\n249  FRA_ANDROID_FEMALE_24_30  31.857143\n250        USA_IOS_MALE_31_40  31.727273\n251      CAN_IOS_FEMALE_24_30  31.727273\n252  CAN_ANDROID_FEMALE_19_23  31.500000\n253      USA_IOS_FEMALE_24_30  31.500000\n254    BRA_ANDROID_MALE_31_40  31.500000\n255       USA_IOS_FEMALE_0_18  31.500000\n256  DEU_ANDROID_FEMALE_41_66  31.500000\n257        DEU_IOS_MALE_31_40  31.352941\n258  USA_ANDROID_FEMALE_19_23  31.285714\n259    DEU_ANDROID_MALE_19_23  31.222222\n260        CAN_IOS_MALE_24_30  31.173913\n261        TUR_IOS_MALE_41_66  31.105263\n262        CAN_IOS_MALE_41_66  31.000000\n263    BRA_ANDROID_MALE_19_23  31.000000\n264  DEU_ANDROID_FEMALE_19_23  31.000000\n265        BRA_IOS_MALE_19_23  31.000000\n266  BRA_ANDROID_FEMALE_19_23  31.000000\n267  TUR_ANDROID_FEMALE_19_23  31.000000\n268        DEU_IOS_MALE_24_30  31.000000\n269      USA_IOS_FEMALE_31_40  30.875000\n270  USA_ANDROID_FEMALE_24_30  30.777778\n271       DEU_IOS_FEMALE_0_18  30.666667\n272         FRA_IOS_MALE_0_18  30.666667\n273    BRA_ANDROID_MALE_24_30  30.428571\n274      BRA_IOS_FEMALE_24_30  30.428571\n275        BRA_IOS_MALE_41_66  30.428571\n276      FRA_IOS_FEMALE_24_30  30.428571\n277      USA_IOS_FEMALE_41_66  30.304348\n278        USA_IOS_MALE_31_40  30.304348\n279        USA_IOS_MALE_41_66  30.250000\n280     FRA_ANDROID_MALE_0_18  30.250000\n281       TUR_IOS_FEMALE_0_18  30.176471\n282        BRA_IOS_MALE_41_66  30.111111\n283  USA_ANDROID_FEMALE_24_30  30.052632\n284    CAN_ANDROID_MALE_24_30  29.769231\n285      BRA_IOS_FEMALE_19_23  29.769231\n286    BRA_ANDROID_MALE_24_30  29.714286\n287   CAN_ANDROID_FEMALE_0_18  29.689655\n288     BRA_ANDROID_MALE_0_18  29.666667\n289      USA_IOS_FEMALE_31_40  29.625000\n290         FRA_IOS_MALE_0_18  29.000000\n291        FRA_IOS_MALE_24_30  29.000000\n292    BRA_ANDROID_MALE_41_66  29.000000\n293        FRA_IOS_MALE_31_40  29.000000\n294        CAN_IOS_MALE_31_40  29.000000\n295      USA_IOS_FEMALE_41_66  29.000000\n296       CAN_IOS_FEMALE_0_18  29.000000\n297        DEU_IOS_MALE_19_23  29.000000\n298      DEU_IOS_FEMALE_24_30  29.000000\n299    DEU_ANDROID_MALE_31_40  29.000000\n300    DEU_ANDROID_MALE_24_30  29.000000\n301  DEU_ANDROID_FEMALE_31_40  29.000000\n302        USA_IOS_MALE_41_66  29.000000\n303  TUR_ANDROID_FEMALE_41_66  29.000000\n304        BRA_IOS_MALE_31_40  29.000000\n305    USA_ANDROID_MALE_31_40  29.000000\n306    USA_ANDROID_MALE_41_66  29.000000\n307  USA_ANDROID_FEMALE_24_30  29.000000\n308    USA_ANDROID_MALE_31_40  29.000000\n309    USA_ANDROID_MALE_31_40  29.000000\n310        BRA_IOS_MALE_31_40  29.000000\n311  USA_ANDROID_FEMALE_24_30  29.000000\n312    TUR_ANDROID_MALE_31_40  29.000000\n313       TUR_IOS_FEMALE_0_18  29.000000\n314    BRA_ANDROID_MALE_24_30  28.230769\n315  USA_ANDROID_FEMALE_31_40  28.166667\n316  USA_ANDROID_FEMALE_31_40  28.000000\n317  DEU_ANDROID_FEMALE_41_66  27.750000\n318       FRA_IOS_FEMALE_0_18  27.750000\n319      BRA_IOS_FEMALE_31_40  27.571429\n320        TUR_IOS_MALE_19_23  27.333333\n321  FRA_ANDROID_FEMALE_19_23  27.333333\n322   DEU_ANDROID_FEMALE_0_18  27.000000\n323  BRA_ANDROID_FEMALE_24_30  26.142857\n324    USA_ANDROID_MALE_24_30  26.058824\n325   CAN_ANDROID_FEMALE_0_18  25.666667\n326      TUR_IOS_FEMALE_31_40  25.666667\n327    FRA_ANDROID_MALE_19_23  25.666667\n328    USA_ANDROID_MALE_41_66  25.666667\n329      FRA_IOS_FEMALE_24_30  25.000000\n330  BRA_ANDROID_FEMALE_31_40  24.000000\n331  TUR_ANDROID_FEMALE_24_30  24.000000\n332        USA_IOS_MALE_31_40  24.000000\n333        USA_IOS_MALE_24_30  24.000000\n334  BRA_ANDROID_FEMALE_24_30  22.333333\n335        TUR_IOS_MALE_19_23  22.333333\n336    USA_ANDROID_MALE_24_30  22.333333\n337        BRA_IOS_MALE_31_40  22.333333\n338    BRA_ANDROID_MALE_19_23  21.500000\n339    TUR_ANDROID_MALE_19_23  19.000000\n340        TUR_IOS_MALE_41_66  19.000000\n341      BRA_IOS_FEMALE_31_40  19.000000\n342        BRA_IOS_MALE_41_66  19.000000\n343      USA_IOS_FEMALE_31_40  19.000000\n344      USA_IOS_FEMALE_24_30  19.000000\n345  CAN_ANDROID_FEMALE_24_30  19.000000\n346     FRA_ANDROID_MALE_0_18  19.000000\n347    DEU_ANDROID_MALE_24_30   9.000000",
      "text/html": "<div>\n<style scoped>\n    .dataframe tbody tr th:only-of-type {\n        vertical-align: middle;\n    }\n\n    .dataframe tbody tr th {\n        vertical-align: top;\n    }\n\n    .dataframe thead th {\n        text-align: right;\n    }\n</style>\n<table border=\"1\" class=\"dataframe\">\n  <thead>\n    <tr style=\"text-align: right;\">\n      <th></th>\n      <th>customer_level_based</th>\n      <th>PRICE</th>\n    </tr>\n  </thead>\n  <tbody>\n    <tr>\n      <th>0</th>\n      <td>BRA_ANDROID_MALE_41_66</td>\n      <td>59.000000</td>\n    </tr>\n    <tr>\n      <th>1</th>\n      <td>USA_ANDROID_MALE_31_40</td>\n      <td>59.000000</td>\n    </tr>\n    <tr>\n      <th>2</th>\n      <td>FRA_ANDROID_FEMALE_24_30</td>\n      <td>59.000000</td>\n    </tr>\n    <tr>\n      <th>3</th>\n      <td>USA_IOS_MALE_31_40</td>\n      <td>54.000000</td>\n    </tr>\n    <tr>\n      <th>4</th>\n      <td>DEU_ANDROID_FEMALE_31_40</td>\n      <td>49.000000</td>\n    </tr>\n    <tr>\n      <th>5</th>\n      <td>DEU_ANDROID_FEMALE_41_66</td>\n      <td>49.000000</td>\n    </tr>\n    <tr>\n      <th>6</th>\n      <td>DEU_IOS_MALE_19_23</td>\n      <td>49.000000</td>\n    </tr>\n    <tr>\n      <th>7</th>\n      <td>USA_ANDROID_FEMALE_41_66</td>\n      <td>49.000000</td>\n    </tr>\n    <tr>\n      <th>8</th>\n      <td>FRA_IOS_MALE_19_23</td>\n      <td>49.000000</td>\n    </tr>\n    <tr>\n      <th>9</th>\n      <td>USA_IOS_MALE_41_66</td>\n      <td>46.500000</td>\n    </tr>\n    <tr>\n      <th>10</th>\n      <td>DEU_ANDROID_MALE_0_18</td>\n      <td>46.500000</td>\n    </tr>\n    <tr>\n      <th>11</th>\n      <td>BRA_ANDROID_FEMALE_24_30</td>\n      <td>45.666667</td>\n    </tr>\n    <tr>\n      <th>12</th>\n      <td>USA_ANDROID_FEMALE_41_66</td>\n      <td>45.666667</td>\n    </tr>\n    <tr>\n      <th>13</th>\n      <td>TUR_IOS_MALE_24_30</td>\n      <td>45.000000</td>\n    </tr>\n    <tr>\n      <th>14</th>\n      <td>DEU_ANDROID_MALE_31_40</td>\n      <td>45.000000</td>\n    </tr>\n    <tr>\n      <th>15</th>\n      <td>TUR_IOS_FEMALE_0_18</td>\n      <td>44.000000</td>\n    </tr>\n    <tr>\n      <th>16</th>\n      <td>BRA_ANDROID_FEMALE_41_66</td>\n      <td>44.000000</td>\n    </tr>\n    <tr>\n      <th>17</th>\n      <td>BRA_IOS_FEMALE_19_23</td>\n      <td>44.000000</td>\n    </tr>\n    <tr>\n      <th>18</th>\n      <td>TUR_ANDROID_FEMALE_31_40</td>\n      <td>43.000000</td>\n    </tr>\n    <tr>\n      <th>19</th>\n      <td>BRA_ANDROID_FEMALE_31_40</td>\n      <td>43.000000</td>\n    </tr>\n    <tr>\n      <th>20</th>\n      <td>TUR_IOS_MALE_31_40</td>\n      <td>42.333333</td>\n    </tr>\n    <tr>\n      <th>21</th>\n      <td>TUR_ANDROID_MALE_0_18</td>\n      <td>42.333333</td>\n    </tr>\n    <tr>\n      <th>22</th>\n      <td>USA_IOS_MALE_24_30</td>\n      <td>42.333333</td>\n    </tr>\n    <tr>\n      <th>23</th>\n      <td>BRA_IOS_MALE_41_66</td>\n      <td>42.333333</td>\n    </tr>\n    <tr>\n      <th>24</th>\n      <td>DEU_ANDROID_MALE_19_23</td>\n      <td>41.727273</td>\n    </tr>\n    <tr>\n      <th>25</th>\n      <td>USA_IOS_MALE_24_30</td>\n      <td>41.727273</td>\n    </tr>\n    <tr>\n      <th>26</th>\n      <td>TUR_ANDROID_FEMALE_0_18</td>\n      <td>41.500000</td>\n    </tr>\n    <tr>\n      <th>27</th>\n      <td>USA_ANDROID_MALE_41_66</td>\n      <td>41.500000</td>\n    </tr>\n    <tr>\n      <th>28</th>\n      <td>TUR_ANDROID_MALE_24_30</td>\n      <td>41.500000</td>\n    </tr>\n    <tr>\n      <th>29</th>\n      <td>USA_IOS_FEMALE_41_66</td>\n      <td>41.500000</td>\n    </tr>\n    <tr>\n      <th>30</th>\n      <td>FRA_ANDROID_MALE_19_23</td>\n      <td>41.307692</td>\n    </tr>\n    <tr>\n      <th>31</th>\n      <td>USA_IOS_MALE_31_40</td>\n      <td>41.000000</td>\n    </tr>\n    <tr>\n      <th>32</th>\n      <td>TUR_ANDROID_FEMALE_0_18</td>\n      <td>41.000000</td>\n    </tr>\n    <tr>\n      <th>33</th>\n      <td>FRA_IOS_MALE_0_18</td>\n      <td>40.666667</td>\n    </tr>\n    <tr>\n      <th>34</th>\n      <td>TUR_IOS_FEMALE_19_23</td>\n      <td>40.666667</td>\n    </tr>\n    <tr>\n      <th>35</th>\n      <td>TUR_ANDROID_FEMALE_31_40</td>\n      <td>40.666667</td>\n    </tr>\n    <tr>\n      <th>36</th>\n      <td>TUR_ANDROID_MALE_24_30</td>\n      <td>40.666667</td>\n    </tr>\n    <tr>\n      <th>37</th>\n      <td>FRA_ANDROID_MALE_19_23</td>\n      <td>40.538462</td>\n    </tr>\n    <tr>\n      <th>38</th>\n      <td>BRA_ANDROID_MALE_24_30</td>\n      <td>40.428571</td>\n    </tr>\n    <tr>\n      <th>39</th>\n      <td>CAN_ANDROID_MALE_24_30</td>\n      <td>40.250000</td>\n    </tr>\n    <tr>\n      <th>40</th>\n      <td>CAN_ANDROID_MALE_19_23</td>\n      <td>40.111111</td>\n    </tr>\n    <tr>\n      <th>41</th>\n      <td>USA_ANDROID_MALE_41_66</td>\n      <td>39.909091</td>\n    </tr>\n    <tr>\n      <th>42</th>\n      <td>TUR_ANDROID_MALE_24_30</td>\n      <td>39.666667</td>\n    </tr>\n    <tr>\n      <th>43</th>\n      <td>BRA_ANDROID_MALE_31_40</td>\n      <td>39.625000</td>\n    </tr>\n    <tr>\n      <th>44</th>\n      <td>BRA_ANDROID_MALE_0_18</td>\n      <td>39.344828</td>\n    </tr>\n    <tr>\n      <th>45</th>\n      <td>USA_IOS_FEMALE_19_23</td>\n      <td>39.285714</td>\n    </tr>\n    <tr>\n      <th>46</th>\n      <td>TUR_ANDROID_MALE_41_66</td>\n      <td>39.000000</td>\n    </tr>\n    <tr>\n      <th>47</th>\n      <td>BRA_IOS_FEMALE_19_23</td>\n      <td>39.000000</td>\n    </tr>\n    <tr>\n      <th>48</th>\n      <td>USA_IOS_MALE_41_66</td>\n      <td>39.000000</td>\n    </tr>\n    <tr>\n      <th>49</th>\n      <td>BRA_IOS_FEMALE_24_30</td>\n      <td>39.000000</td>\n    </tr>\n    <tr>\n      <th>50</th>\n      <td>DEU_ANDROID_FEMALE_31_40</td>\n      <td>39.000000</td>\n    </tr>\n    <tr>\n      <th>51</th>\n      <td>DEU_IOS_MALE_0_18</td>\n      <td>39.000000</td>\n    </tr>\n    <tr>\n      <th>52</th>\n      <td>FRA_ANDROID_FEMALE_19_23</td>\n      <td>39.000000</td>\n    </tr>\n    <tr>\n      <th>53</th>\n      <td>FRA_ANDROID_MALE_31_40</td>\n      <td>39.000000</td>\n    </tr>\n    <tr>\n      <th>54</th>\n      <td>TUR_IOS_FEMALE_31_40</td>\n      <td>39.000000</td>\n    </tr>\n    <tr>\n      <th>55</th>\n      <td>FRA_IOS_MALE_41_66</td>\n      <td>39.000000</td>\n    </tr>\n    <tr>\n      <th>56</th>\n      <td>BRA_ANDROID_FEMALE_31_40</td>\n      <td>39.000000</td>\n    </tr>\n    <tr>\n      <th>57</th>\n      <td>TUR_IOS_MALE_0_18</td>\n      <td>39.000000</td>\n    </tr>\n    <tr>\n      <th>58</th>\n      <td>BRA_IOS_FEMALE_41_66</td>\n      <td>39.000000</td>\n    </tr>\n    <tr>\n      <th>59</th>\n      <td>TUR_ANDROID_MALE_0_18</td>\n      <td>39.000000</td>\n    </tr>\n    <tr>\n      <th>60</th>\n      <td>TUR_ANDROID_FEMALE_41_66</td>\n      <td>39.000000</td>\n    </tr>\n    <tr>\n      <th>61</th>\n      <td>BRA_ANDROID_FEMALE_0_18</td>\n      <td>38.714286</td>\n    </tr>\n    <tr>\n      <th>62</th>\n      <td>USA_IOS_MALE_19_23</td>\n      <td>38.534884</td>\n    </tr>\n    <tr>\n      <th>63</th>\n      <td>USA_IOS_FEMALE_0_18</td>\n      <td>38.459459</td>\n    </tr>\n    <tr>\n      <th>64</th>\n      <td>FRA_IOS_MALE_31_40</td>\n      <td>38.375000</td>\n    </tr>\n    <tr>\n      <th>65</th>\n      <td>TUR_ANDROID_MALE_0_18</td>\n      <td>38.285714</td>\n    </tr>\n    <tr>\n      <th>66</th>\n      <td>DEU_ANDROID_MALE_31_40</td>\n      <td>38.166667</td>\n    </tr>\n    <tr>\n      <th>67</th>\n      <td>USA_IOS_FEMALE_24_30</td>\n      <td>38.000000</td>\n    </tr>\n    <tr>\n      <th>68</th>\n      <td>DEU_IOS_FEMALE_0_18</td>\n      <td>37.823529</td>\n    </tr>\n    <tr>\n      <th>69</th>\n      <td>CAN_IOS_MALE_0_18</td>\n      <td>37.666667</td>\n    </tr>\n    <tr>\n      <th>70</th>\n      <td>CAN_ANDROID_MALE_41_66</td>\n      <td>37.571429</td>\n    </tr>\n    <tr>\n      <th>71</th>\n      <td>BRA_ANDROID_FEMALE_24_30</td>\n      <td>37.571429</td>\n    </tr>\n    <tr>\n      <th>72</th>\n      <td>TUR_ANDROID_FEMALE_24_30</td>\n      <td>37.571429</td>\n    </tr>\n    <tr>\n      <th>73</th>\n      <td>CAN_IOS_MALE_0_18</td>\n      <td>37.571429</td>\n    </tr>\n    <tr>\n      <th>74</th>\n      <td>BRA_IOS_MALE_31_40</td>\n      <td>37.571429</td>\n    </tr>\n    <tr>\n      <th>75</th>\n      <td>FRA_ANDROID_FEMALE_0_18</td>\n      <td>37.571429</td>\n    </tr>\n    <tr>\n      <th>76</th>\n      <td>DEU_IOS_FEMALE_0_18</td>\n      <td>37.333333</td>\n    </tr>\n    <tr>\n      <th>77</th>\n      <td>CAN_ANDROID_FEMALE_0_18</td>\n      <td>37.333333</td>\n    </tr>\n    <tr>\n      <th>78</th>\n      <td>TUR_IOS_FEMALE_19_23</td>\n      <td>37.333333</td>\n    </tr>\n    <tr>\n      <th>79</th>\n      <td>DEU_ANDROID_MALE_19_23</td>\n      <td>37.333333</td>\n    </tr>\n    <tr>\n      <th>80</th>\n      <td>BRA_ANDROID_FEMALE_19_23</td>\n      <td>37.292683</td>\n    </tr>\n    <tr>\n      <th>81</th>\n      <td>USA_ANDROID_FEMALE_31_40</td>\n      <td>37.181818</td>\n    </tr>\n    <tr>\n      <th>82</th>\n      <td>BRA_IOS_MALE_19_23</td>\n      <td>37.181818</td>\n    </tr>\n    <tr>\n      <th>83</th>\n      <td>BRA_ANDROID_MALE_0_18</td>\n      <td>37.157895</td>\n    </tr>\n    <tr>\n      <th>84</th>\n      <td>BRA_ANDROID_MALE_24_30</td>\n      <td>37.095238</td>\n    </tr>\n    <tr>\n      <th>85</th>\n      <td>USA_ANDROID_MALE_24_30</td>\n      <td>37.000000</td>\n    </tr>\n    <tr>\n      <th>86</th>\n      <td>TUR_ANDROID_FEMALE_19_23</td>\n      <td>37.000000</td>\n    </tr>\n    <tr>\n      <th>87</th>\n      <td>DEU_IOS_MALE_41_66</td>\n      <td>37.000000</td>\n    </tr>\n    <tr>\n      <th>88</th>\n      <td>BRA_ANDROID_FEMALE_41_66</td>\n      <td>37.000000</td>\n    </tr>\n    <tr>\n      <th>89</th>\n      <td>BRA_IOS_MALE_0_18</td>\n      <td>36.878788</td>\n    </tr>\n    <tr>\n      <th>90</th>\n      <td>USA_IOS_FEMALE_24_30</td>\n      <td>36.857143</td>\n    </tr>\n    <tr>\n      <th>91</th>\n      <td>BRA_IOS_FEMALE_0_18</td>\n      <td>36.777778</td>\n    </tr>\n    <tr>\n      <th>92</th>\n      <td>BRA_IOS_MALE_31_40</td>\n      <td>36.777778</td>\n    </tr>\n    <tr>\n      <th>93</th>\n      <td>FRA_ANDROID_FEMALE_0_18</td>\n      <td>36.727273</td>\n    </tr>\n    <tr>\n      <th>94</th>\n      <td>USA_ANDROID_MALE_19_23</td>\n      <td>36.647059</td>\n    </tr>\n    <tr>\n      <th>95</th>\n      <td>BRA_IOS_FEMALE_0_18</td>\n      <td>36.500000</td>\n    </tr>\n    <tr>\n      <th>96</th>\n      <td>BRA_ANDROID_MALE_41_66</td>\n      <td>36.500000</td>\n    </tr>\n    <tr>\n      <th>97</th>\n      <td>BRA_ANDROID_FEMALE_24_30</td>\n      <td>36.500000</td>\n    </tr>\n    <tr>\n      <th>98</th>\n      <td>USA_ANDROID_MALE_24_30</td>\n      <td>36.142857</td>\n    </tr>\n    <tr>\n      <th>99</th>\n      <td>TUR_ANDROID_FEMALE_41_66</td>\n      <td>36.142857</td>\n    </tr>\n    <tr>\n      <th>100</th>\n      <td>USA_IOS_FEMALE_24_30</td>\n      <td>36.142857</td>\n    </tr>\n    <tr>\n      <th>101</th>\n      <td>DEU_IOS_FEMALE_24_30</td>\n      <td>36.000000</td>\n    </tr>\n    <tr>\n      <th>102</th>\n      <td>CAN_ANDROID_MALE_0_18</td>\n      <td>36.000000</td>\n    </tr>\n    <tr>\n      <th>103</th>\n      <td>BRA_ANDROID_FEMALE_0_18</td>\n      <td>35.944444</td>\n    </tr>\n    <tr>\n      <th>104</th>\n      <td>TUR_ANDROID_MALE_24_30</td>\n      <td>35.923077</td>\n    </tr>\n    <tr>\n      <th>105</th>\n      <td>USA_ANDROID_MALE_41_66</td>\n      <td>35.875000</td>\n    </tr>\n    <tr>\n      <th>106</th>\n      <td>USA_IOS_FEMALE_19_23</td>\n      <td>35.800000</td>\n    </tr>\n    <tr>\n      <th>107</th>\n      <td>USA_ANDROID_FEMALE_19_23</td>\n      <td>35.764706</td>\n    </tr>\n    <tr>\n      <th>108</th>\n      <td>FRA_IOS_MALE_19_23</td>\n      <td>35.666667</td>\n    </tr>\n    <tr>\n      <th>109</th>\n      <td>FRA_ANDROID_MALE_41_66</td>\n      <td>35.666667</td>\n    </tr>\n    <tr>\n      <th>110</th>\n      <td>BRA_ANDROID_MALE_41_66</td>\n      <td>35.666667</td>\n    </tr>\n    <tr>\n      <th>111</th>\n      <td>TUR_ANDROID_MALE_19_23</td>\n      <td>35.666667</td>\n    </tr>\n    <tr>\n      <th>112</th>\n      <td>BRA_ANDROID_FEMALE_24_30</td>\n      <td>35.666667</td>\n    </tr>\n    <tr>\n      <th>113</th>\n      <td>USA_ANDROID_FEMALE_31_40</td>\n      <td>35.666667</td>\n    </tr>\n    <tr>\n      <th>114</th>\n      <td>USA_IOS_FEMALE_24_30</td>\n      <td>35.666667</td>\n    </tr>\n    <tr>\n      <th>115</th>\n      <td>BRA_ANDROID_FEMALE_0_18</td>\n      <td>35.666667</td>\n    </tr>\n    <tr>\n      <th>116</th>\n      <td>TUR_IOS_FEMALE_19_23</td>\n      <td>35.666667</td>\n    </tr>\n    <tr>\n      <th>117</th>\n      <td>DEU_IOS_FEMALE_0_18</td>\n      <td>35.557377</td>\n    </tr>\n    <tr>\n      <th>118</th>\n      <td>USA_ANDROID_MALE_41_66</td>\n      <td>35.428571</td>\n    </tr>\n    <tr>\n      <th>119</th>\n      <td>BRA_ANDROID_MALE_19_23</td>\n      <td>35.400000</td>\n    </tr>\n    <tr>\n      <th>120</th>\n      <td>DEU_ANDROID_MALE_31_40</td>\n      <td>35.363636</td>\n    </tr>\n    <tr>\n      <th>121</th>\n      <td>BRA_IOS_FEMALE_31_40</td>\n      <td>35.363636</td>\n    </tr>\n    <tr>\n      <th>122</th>\n      <td>BRA_IOS_FEMALE_41_66</td>\n      <td>35.363636</td>\n    </tr>\n    <tr>\n      <th>123</th>\n      <td>BRA_ANDROID_MALE_24_30</td>\n      <td>35.363636</td>\n    </tr>\n    <tr>\n      <th>124</th>\n      <td>DEU_ANDROID_FEMALE_24_30</td>\n      <td>35.363636</td>\n    </tr>\n    <tr>\n      <th>125</th>\n      <td>BRA_IOS_MALE_0_18</td>\n      <td>35.333333</td>\n    </tr>\n    <tr>\n      <th>126</th>\n      <td>BRA_ANDROID_MALE_19_23</td>\n      <td>35.250000</td>\n    </tr>\n    <tr>\n      <th>127</th>\n      <td>USA_ANDROID_FEMALE_41_66</td>\n      <td>35.250000</td>\n    </tr>\n    <tr>\n      <th>128</th>\n      <td>BRA_ANDROID_MALE_19_23</td>\n      <td>35.216216</td>\n    </tr>\n    <tr>\n      <th>129</th>\n      <td>BRA_ANDROID_FEMALE_19_23</td>\n      <td>35.206897</td>\n    </tr>\n    <tr>\n      <th>130</th>\n      <td>USA_ANDROID_MALE_0_18</td>\n      <td>35.190476</td>\n    </tr>\n    <tr>\n      <th>131</th>\n      <td>BRA_IOS_FEMALE_31_40</td>\n      <td>35.111111</td>\n    </tr>\n    <tr>\n      <th>132</th>\n      <td>USA_IOS_MALE_24_30</td>\n      <td>35.111111</td>\n    </tr>\n    <tr>\n      <th>133</th>\n      <td>BRA_ANDROID_FEMALE_31_40</td>\n      <td>35.097561</td>\n    </tr>\n    <tr>\n      <th>134</th>\n      <td>USA_IOS_FEMALE_19_23</td>\n      <td>35.000000</td>\n    </tr>\n    <tr>\n      <th>135</th>\n      <td>USA_ANDROID_FEMALE_31_40</td>\n      <td>35.000000</td>\n    </tr>\n    <tr>\n      <th>136</th>\n      <td>FRA_IOS_MALE_19_23</td>\n      <td>35.000000</td>\n    </tr>\n    <tr>\n      <th>137</th>\n      <td>DEU_ANDROID_FEMALE_19_23</td>\n      <td>35.000000</td>\n    </tr>\n    <tr>\n      <th>138</th>\n      <td>CAN_IOS_MALE_0_18</td>\n      <td>35.000000</td>\n    </tr>\n    <tr>\n      <th>139</th>\n      <td>DEU_IOS_MALE_0_18</td>\n      <td>35.000000</td>\n    </tr>\n    <tr>\n      <th>140</th>\n      <td>USA_IOS_FEMALE_41_66</td>\n      <td>35.000000</td>\n    </tr>\n    <tr>\n      <th>141</th>\n      <td>DEU_IOS_MALE_24_30</td>\n      <td>35.000000</td>\n    </tr>\n    <tr>\n      <th>142</th>\n      <td>BRA_ANDROID_FEMALE_19_23</td>\n      <td>34.945946</td>\n    </tr>\n    <tr>\n      <th>143</th>\n      <td>USA_ANDROID_FEMALE_0_18</td>\n      <td>34.901639</td>\n    </tr>\n    <tr>\n      <th>144</th>\n      <td>BRA_IOS_MALE_19_23</td>\n      <td>34.882353</td>\n    </tr>\n    <tr>\n      <th>145</th>\n      <td>USA_ANDROID_MALE_19_23</td>\n      <td>34.849057</td>\n    </tr>\n    <tr>\n      <th>146</th>\n      <td>TUR_IOS_MALE_0_18</td>\n      <td>34.806452</td>\n    </tr>\n    <tr>\n      <th>147</th>\n      <td>USA_ANDROID_FEMALE_24_30</td>\n      <td>34.789474</td>\n    </tr>\n    <tr>\n      <th>148</th>\n      <td>USA_IOS_MALE_0_18</td>\n      <td>34.714286</td>\n    </tr>\n    <tr>\n      <th>149</th>\n      <td>BRA_IOS_MALE_31_40</td>\n      <td>34.714286</td>\n    </tr>\n    <tr>\n      <th>150</th>\n      <td>USA_ANDROID_MALE_19_23</td>\n      <td>34.714286</td>\n    </tr>\n    <tr>\n      <th>151</th>\n      <td>USA_ANDROID_MALE_31_40</td>\n      <td>34.714286</td>\n    </tr>\n    <tr>\n      <th>152</th>\n      <td>USA_ANDROID_MALE_31_40</td>\n      <td>34.714286</td>\n    </tr>\n    <tr>\n      <th>153</th>\n      <td>USA_IOS_FEMALE_41_66</td>\n      <td>34.714286</td>\n    </tr>\n    <tr>\n      <th>154</th>\n      <td>USA_ANDROID_MALE_0_18</td>\n      <td>34.663717</td>\n    </tr>\n    <tr>\n      <th>155</th>\n      <td>FRA_ANDROID_FEMALE_0_18</td>\n      <td>34.652174</td>\n    </tr>\n    <tr>\n      <th>156</th>\n      <td>USA_ANDROID_FEMALE_0_18</td>\n      <td>34.625000</td>\n    </tr>\n    <tr>\n      <th>157</th>\n      <td>USA_IOS_MALE_0_18</td>\n      <td>34.576923</td>\n    </tr>\n    <tr>\n      <th>158</th>\n      <td>BRA_ANDROID_FEMALE_31_40</td>\n      <td>34.555556</td>\n    </tr>\n    <tr>\n      <th>159</th>\n      <td>USA_IOS_FEMALE_31_40</td>\n      <td>34.555556</td>\n    </tr>\n    <tr>\n      <th>160</th>\n      <td>TUR_ANDROID_FEMALE_0_18</td>\n      <td>34.555556</td>\n    </tr>\n    <tr>\n      <th>161</th>\n      <td>DEU_ANDROID_FEMALE_24_30</td>\n      <td>34.454545</td>\n    </tr>\n    <tr>\n      <th>162</th>\n      <td>USA_ANDROID_MALE_0_18</td>\n      <td>34.454545</td>\n    </tr>\n    <tr>\n      <th>163</th>\n      <td>USA_ANDROID_MALE_24_30</td>\n      <td>34.384615</td>\n    </tr>\n    <tr>\n      <th>164</th>\n      <td>BRA_IOS_FEMALE_24_30</td>\n      <td>34.333333</td>\n    </tr>\n    <tr>\n      <th>165</th>\n      <td>USA_ANDROID_FEMALE_19_23</td>\n      <td>34.185185</td>\n    </tr>\n    <tr>\n      <th>166</th>\n      <td>BRA_IOS_FEMALE_41_66</td>\n      <td>34.000000</td>\n    </tr>\n    <tr>\n      <th>167</th>\n      <td>DEU_ANDROID_FEMALE_19_23</td>\n      <td>34.000000</td>\n    </tr>\n    <tr>\n      <th>168</th>\n      <td>USA_IOS_MALE_24_30</td>\n      <td>34.000000</td>\n    </tr>\n    <tr>\n      <th>169</th>\n      <td>FRA_IOS_MALE_24_30</td>\n      <td>34.000000</td>\n    </tr>\n    <tr>\n      <th>170</th>\n      <td>BRA_IOS_FEMALE_24_30</td>\n      <td>34.000000</td>\n    </tr>\n    <tr>\n      <th>171</th>\n      <td>CAN_ANDROID_FEMALE_41_66</td>\n      <td>34.000000</td>\n    </tr>\n    <tr>\n      <th>172</th>\n      <td>USA_IOS_FEMALE_19_23</td>\n      <td>34.000000</td>\n    </tr>\n    <tr>\n      <th>173</th>\n      <td>USA_IOS_MALE_19_23</td>\n      <td>34.000000</td>\n    </tr>\n    <tr>\n      <th>174</th>\n      <td>BRA_IOS_MALE_19_23</td>\n      <td>34.000000</td>\n    </tr>\n    <tr>\n      <th>175</th>\n      <td>TUR_IOS_FEMALE_19_23</td>\n      <td>34.000000</td>\n    </tr>\n    <tr>\n      <th>176</th>\n      <td>TUR_IOS_FEMALE_24_30</td>\n      <td>34.000000</td>\n    </tr>\n    <tr>\n      <th>177</th>\n      <td>TUR_IOS_FEMALE_24_30</td>\n      <td>34.000000</td>\n    </tr>\n    <tr>\n      <th>178</th>\n      <td>DEU_IOS_FEMALE_19_23</td>\n      <td>34.000000</td>\n    </tr>\n    <tr>\n      <th>179</th>\n      <td>TUR_IOS_FEMALE_41_66</td>\n      <td>34.000000</td>\n    </tr>\n    <tr>\n      <th>180</th>\n      <td>DEU_ANDROID_MALE_19_23</td>\n      <td>34.000000</td>\n    </tr>\n    <tr>\n      <th>181</th>\n      <td>BRA_IOS_FEMALE_24_30</td>\n      <td>34.000000</td>\n    </tr>\n    <tr>\n      <th>182</th>\n      <td>USA_ANDROID_MALE_0_18</td>\n      <td>34.000000</td>\n    </tr>\n    <tr>\n      <th>183</th>\n      <td>USA_IOS_MALE_41_66</td>\n      <td>34.000000</td>\n    </tr>\n    <tr>\n      <th>184</th>\n      <td>USA_ANDROID_FEMALE_41_66</td>\n      <td>34.000000</td>\n    </tr>\n    <tr>\n      <th>185</th>\n      <td>FRA_ANDROID_FEMALE_31_40</td>\n      <td>34.000000</td>\n    </tr>\n    <tr>\n      <th>186</th>\n      <td>USA_ANDROID_MALE_24_30</td>\n      <td>34.000000</td>\n    </tr>\n    <tr>\n      <th>187</th>\n      <td>USA_ANDROID_FEMALE_24_30</td>\n      <td>34.000000</td>\n    </tr>\n    <tr>\n      <th>188</th>\n      <td>DEU_IOS_FEMALE_19_23</td>\n      <td>34.000000</td>\n    </tr>\n    <tr>\n      <th>189</th>\n      <td>BRA_IOS_MALE_24_30</td>\n      <td>33.864865</td>\n    </tr>\n    <tr>\n      <th>190</th>\n      <td>USA_IOS_FEMALE_0_18</td>\n      <td>33.857143</td>\n    </tr>\n    <tr>\n      <th>191</th>\n      <td>USA_ANDROID_FEMALE_19_23</td>\n      <td>33.800000</td>\n    </tr>\n    <tr>\n      <th>192</th>\n      <td>BRA_IOS_MALE_0_18</td>\n      <td>33.761905</td>\n    </tr>\n    <tr>\n      <th>193</th>\n      <td>DEU_ANDROID_FEMALE_0_18</td>\n      <td>33.736842</td>\n    </tr>\n    <tr>\n      <th>194</th>\n      <td>BRA_ANDROID_FEMALE_31_40</td>\n      <td>33.736842</td>\n    </tr>\n    <tr>\n      <th>195</th>\n      <td>USA_IOS_MALE_0_18</td>\n      <td>33.729730</td>\n    </tr>\n    <tr>\n      <th>196</th>\n      <td>CAN_IOS_FEMALE_0_18</td>\n      <td>33.705882</td>\n    </tr>\n    <tr>\n      <th>197</th>\n      <td>TUR_ANDROID_FEMALE_0_18</td>\n      <td>33.687500</td>\n    </tr>\n    <tr>\n      <th>198</th>\n      <td>BRA_IOS_FEMALE_0_18</td>\n      <td>33.687500</td>\n    </tr>\n    <tr>\n      <th>199</th>\n      <td>FRA_IOS_FEMALE_0_18</td>\n      <td>33.615385</td>\n    </tr>\n    <tr>\n      <th>200</th>\n      <td>BRA_ANDROID_FEMALE_41_66</td>\n      <td>33.615385</td>\n    </tr>\n    <tr>\n      <th>201</th>\n      <td>BRA_IOS_MALE_41_66</td>\n      <td>33.545455</td>\n    </tr>\n    <tr>\n      <th>202</th>\n      <td>USA_ANDROID_MALE_24_30</td>\n      <td>33.285714</td>\n    </tr>\n    <tr>\n      <th>203</th>\n      <td>BRA_ANDROID_FEMALE_24_30</td>\n      <td>33.166667</td>\n    </tr>\n    <tr>\n      <th>204</th>\n      <td>USA_ANDROID_FEMALE_19_23</td>\n      <td>33.102564</td>\n    </tr>\n    <tr>\n      <th>205</th>\n      <td>BRA_ANDROID_MALE_0_18</td>\n      <td>33.054054</td>\n    </tr>\n    <tr>\n      <th>206</th>\n      <td>BRA_IOS_FEMALE_41_66</td>\n      <td>33.000000</td>\n    </tr>\n    <tr>\n      <th>207</th>\n      <td>USA_ANDROID_MALE_41_66</td>\n      <td>33.000000</td>\n    </tr>\n    <tr>\n      <th>208</th>\n      <td>FRA_IOS_FEMALE_31_40</td>\n      <td>33.000000</td>\n    </tr>\n    <tr>\n      <th>209</th>\n      <td>FRA_ANDROID_MALE_24_30</td>\n      <td>33.000000</td>\n    </tr>\n    <tr>\n      <th>210</th>\n      <td>DEU_IOS_FEMALE_31_40</td>\n      <td>33.000000</td>\n    </tr>\n    <tr>\n      <th>211</th>\n      <td>USA_IOS_FEMALE_0_18</td>\n      <td>32.913043</td>\n    </tr>\n    <tr>\n      <th>212</th>\n      <td>DEU_ANDROID_MALE_0_18</td>\n      <td>32.913043</td>\n    </tr>\n    <tr>\n      <th>213</th>\n      <td>USA_IOS_MALE_0_18</td>\n      <td>32.913043</td>\n    </tr>\n    <tr>\n      <th>214</th>\n      <td>BRA_IOS_FEMALE_19_23</td>\n      <td>32.846154</td>\n    </tr>\n    <tr>\n      <th>215</th>\n      <td>TUR_IOS_MALE_0_18</td>\n      <td>32.846154</td>\n    </tr>\n    <tr>\n      <th>216</th>\n      <td>USA_ANDROID_MALE_19_23</td>\n      <td>32.809524</td>\n    </tr>\n    <tr>\n      <th>217</th>\n      <td>USA_IOS_FEMALE_19_23</td>\n      <td>32.809524</td>\n    </tr>\n    <tr>\n      <th>218</th>\n      <td>USA_IOS_FEMALE_24_30</td>\n      <td>32.750000</td>\n    </tr>\n    <tr>\n      <th>219</th>\n      <td>BRA_IOS_MALE_0_18</td>\n      <td>32.684211</td>\n    </tr>\n    <tr>\n      <th>220</th>\n      <td>USA_ANDROID_FEMALE_0_18</td>\n      <td>32.666667</td>\n    </tr>\n    <tr>\n      <th>221</th>\n      <td>FRA_IOS_FEMALE_31_40</td>\n      <td>32.636364</td>\n    </tr>\n    <tr>\n      <th>222</th>\n      <td>BRA_IOS_FEMALE_0_18</td>\n      <td>32.636364</td>\n    </tr>\n    <tr>\n      <th>223</th>\n      <td>TUR_IOS_FEMALE_19_23</td>\n      <td>32.636364</td>\n    </tr>\n    <tr>\n      <th>224</th>\n      <td>BRA_ANDROID_MALE_24_30</td>\n      <td>32.636364</td>\n    </tr>\n    <tr>\n      <th>225</th>\n      <td>FRA_IOS_FEMALE_0_18</td>\n      <td>32.571429</td>\n    </tr>\n    <tr>\n      <th>226</th>\n      <td>CAN_ANDROID_FEMALE_19_23</td>\n      <td>32.529412</td>\n    </tr>\n    <tr>\n      <th>227</th>\n      <td>USA_ANDROID_FEMALE_0_18</td>\n      <td>32.404255</td>\n    </tr>\n    <tr>\n      <th>228</th>\n      <td>DEU_ANDROID_MALE_0_18</td>\n      <td>32.333333</td>\n    </tr>\n    <tr>\n      <th>229</th>\n      <td>USA_ANDROID_MALE_19_23</td>\n      <td>32.333333</td>\n    </tr>\n    <tr>\n      <th>230</th>\n      <td>DEU_ANDROID_FEMALE_31_40</td>\n      <td>32.333333</td>\n    </tr>\n    <tr>\n      <th>231</th>\n      <td>USA_ANDROID_FEMALE_41_66</td>\n      <td>32.333333</td>\n    </tr>\n    <tr>\n      <th>232</th>\n      <td>FRA_ANDROID_MALE_31_40</td>\n      <td>32.333333</td>\n    </tr>\n    <tr>\n      <th>233</th>\n      <td>DEU_ANDROID_FEMALE_24_30</td>\n      <td>32.333333</td>\n    </tr>\n    <tr>\n      <th>234</th>\n      <td>FRA_ANDROID_MALE_41_66</td>\n      <td>32.333333</td>\n    </tr>\n    <tr>\n      <th>235</th>\n      <td>BRA_IOS_FEMALE_24_30</td>\n      <td>32.333333</td>\n    </tr>\n    <tr>\n      <th>236</th>\n      <td>DEU_ANDROID_MALE_31_40</td>\n      <td>32.333333</td>\n    </tr>\n    <tr>\n      <th>237</th>\n      <td>TUR_ANDROID_FEMALE_19_23</td>\n      <td>32.333333</td>\n    </tr>\n    <tr>\n      <th>238</th>\n      <td>TUR_ANDROID_FEMALE_41_66</td>\n      <td>32.333333</td>\n    </tr>\n    <tr>\n      <th>239</th>\n      <td>BRA_ANDROID_FEMALE_41_66</td>\n      <td>32.333333</td>\n    </tr>\n    <tr>\n      <th>240</th>\n      <td>BRA_IOS_FEMALE_31_40</td>\n      <td>32.333333</td>\n    </tr>\n    <tr>\n      <th>241</th>\n      <td>BRA_ANDROID_FEMALE_0_18</td>\n      <td>32.255814</td>\n    </tr>\n    <tr>\n      <th>242</th>\n      <td>USA_IOS_MALE_19_23</td>\n      <td>32.170732</td>\n    </tr>\n    <tr>\n      <th>243</th>\n      <td>FRA_ANDROID_FEMALE_19_23</td>\n      <td>32.125000</td>\n    </tr>\n    <tr>\n      <th>244</th>\n      <td>DEU_ANDROID_FEMALE_24_30</td>\n      <td>32.125000</td>\n    </tr>\n    <tr>\n      <th>245</th>\n      <td>DEU_ANDROID_FEMALE_0_18</td>\n      <td>32.000000</td>\n    </tr>\n    <tr>\n      <th>246</th>\n      <td>BRA_ANDROID_FEMALE_19_23</td>\n      <td>31.941176</td>\n    </tr>\n    <tr>\n      <th>247</th>\n      <td>USA_IOS_MALE_24_30</td>\n      <td>31.857143</td>\n    </tr>\n    <tr>\n      <th>248</th>\n      <td>BRA_ANDROID_MALE_31_40</td>\n      <td>31.857143</td>\n    </tr>\n    <tr>\n      <th>249</th>\n      <td>FRA_ANDROID_FEMALE_24_30</td>\n      <td>31.857143</td>\n    </tr>\n    <tr>\n      <th>250</th>\n      <td>USA_IOS_MALE_31_40</td>\n      <td>31.727273</td>\n    </tr>\n    <tr>\n      <th>251</th>\n      <td>CAN_IOS_FEMALE_24_30</td>\n      <td>31.727273</td>\n    </tr>\n    <tr>\n      <th>252</th>\n      <td>CAN_ANDROID_FEMALE_19_23</td>\n      <td>31.500000</td>\n    </tr>\n    <tr>\n      <th>253</th>\n      <td>USA_IOS_FEMALE_24_30</td>\n      <td>31.500000</td>\n    </tr>\n    <tr>\n      <th>254</th>\n      <td>BRA_ANDROID_MALE_31_40</td>\n      <td>31.500000</td>\n    </tr>\n    <tr>\n      <th>255</th>\n      <td>USA_IOS_FEMALE_0_18</td>\n      <td>31.500000</td>\n    </tr>\n    <tr>\n      <th>256</th>\n      <td>DEU_ANDROID_FEMALE_41_66</td>\n      <td>31.500000</td>\n    </tr>\n    <tr>\n      <th>257</th>\n      <td>DEU_IOS_MALE_31_40</td>\n      <td>31.352941</td>\n    </tr>\n    <tr>\n      <th>258</th>\n      <td>USA_ANDROID_FEMALE_19_23</td>\n      <td>31.285714</td>\n    </tr>\n    <tr>\n      <th>259</th>\n      <td>DEU_ANDROID_MALE_19_23</td>\n      <td>31.222222</td>\n    </tr>\n    <tr>\n      <th>260</th>\n      <td>CAN_IOS_MALE_24_30</td>\n      <td>31.173913</td>\n    </tr>\n    <tr>\n      <th>261</th>\n      <td>TUR_IOS_MALE_41_66</td>\n      <td>31.105263</td>\n    </tr>\n    <tr>\n      <th>262</th>\n      <td>CAN_IOS_MALE_41_66</td>\n      <td>31.000000</td>\n    </tr>\n    <tr>\n      <th>263</th>\n      <td>BRA_ANDROID_MALE_19_23</td>\n      <td>31.000000</td>\n    </tr>\n    <tr>\n      <th>264</th>\n      <td>DEU_ANDROID_FEMALE_19_23</td>\n      <td>31.000000</td>\n    </tr>\n    <tr>\n      <th>265</th>\n      <td>BRA_IOS_MALE_19_23</td>\n      <td>31.000000</td>\n    </tr>\n    <tr>\n      <th>266</th>\n      <td>BRA_ANDROID_FEMALE_19_23</td>\n      <td>31.000000</td>\n    </tr>\n    <tr>\n      <th>267</th>\n      <td>TUR_ANDROID_FEMALE_19_23</td>\n      <td>31.000000</td>\n    </tr>\n    <tr>\n      <th>268</th>\n      <td>DEU_IOS_MALE_24_30</td>\n      <td>31.000000</td>\n    </tr>\n    <tr>\n      <th>269</th>\n      <td>USA_IOS_FEMALE_31_40</td>\n      <td>30.875000</td>\n    </tr>\n    <tr>\n      <th>270</th>\n      <td>USA_ANDROID_FEMALE_24_30</td>\n      <td>30.777778</td>\n    </tr>\n    <tr>\n      <th>271</th>\n      <td>DEU_IOS_FEMALE_0_18</td>\n      <td>30.666667</td>\n    </tr>\n    <tr>\n      <th>272</th>\n      <td>FRA_IOS_MALE_0_18</td>\n      <td>30.666667</td>\n    </tr>\n    <tr>\n      <th>273</th>\n      <td>BRA_ANDROID_MALE_24_30</td>\n      <td>30.428571</td>\n    </tr>\n    <tr>\n      <th>274</th>\n      <td>BRA_IOS_FEMALE_24_30</td>\n      <td>30.428571</td>\n    </tr>\n    <tr>\n      <th>275</th>\n      <td>BRA_IOS_MALE_41_66</td>\n      <td>30.428571</td>\n    </tr>\n    <tr>\n      <th>276</th>\n      <td>FRA_IOS_FEMALE_24_30</td>\n      <td>30.428571</td>\n    </tr>\n    <tr>\n      <th>277</th>\n      <td>USA_IOS_FEMALE_41_66</td>\n      <td>30.304348</td>\n    </tr>\n    <tr>\n      <th>278</th>\n      <td>USA_IOS_MALE_31_40</td>\n      <td>30.304348</td>\n    </tr>\n    <tr>\n      <th>279</th>\n      <td>USA_IOS_MALE_41_66</td>\n      <td>30.250000</td>\n    </tr>\n    <tr>\n      <th>280</th>\n      <td>FRA_ANDROID_MALE_0_18</td>\n      <td>30.250000</td>\n    </tr>\n    <tr>\n      <th>281</th>\n      <td>TUR_IOS_FEMALE_0_18</td>\n      <td>30.176471</td>\n    </tr>\n    <tr>\n      <th>282</th>\n      <td>BRA_IOS_MALE_41_66</td>\n      <td>30.111111</td>\n    </tr>\n    <tr>\n      <th>283</th>\n      <td>USA_ANDROID_FEMALE_24_30</td>\n      <td>30.052632</td>\n    </tr>\n    <tr>\n      <th>284</th>\n      <td>CAN_ANDROID_MALE_24_30</td>\n      <td>29.769231</td>\n    </tr>\n    <tr>\n      <th>285</th>\n      <td>BRA_IOS_FEMALE_19_23</td>\n      <td>29.769231</td>\n    </tr>\n    <tr>\n      <th>286</th>\n      <td>BRA_ANDROID_MALE_24_30</td>\n      <td>29.714286</td>\n    </tr>\n    <tr>\n      <th>287</th>\n      <td>CAN_ANDROID_FEMALE_0_18</td>\n      <td>29.689655</td>\n    </tr>\n    <tr>\n      <th>288</th>\n      <td>BRA_ANDROID_MALE_0_18</td>\n      <td>29.666667</td>\n    </tr>\n    <tr>\n      <th>289</th>\n      <td>USA_IOS_FEMALE_31_40</td>\n      <td>29.625000</td>\n    </tr>\n    <tr>\n      <th>290</th>\n      <td>FRA_IOS_MALE_0_18</td>\n      <td>29.000000</td>\n    </tr>\n    <tr>\n      <th>291</th>\n      <td>FRA_IOS_MALE_24_30</td>\n      <td>29.000000</td>\n    </tr>\n    <tr>\n      <th>292</th>\n      <td>BRA_ANDROID_MALE_41_66</td>\n      <td>29.000000</td>\n    </tr>\n    <tr>\n      <th>293</th>\n      <td>FRA_IOS_MALE_31_40</td>\n      <td>29.000000</td>\n    </tr>\n    <tr>\n      <th>294</th>\n      <td>CAN_IOS_MALE_31_40</td>\n      <td>29.000000</td>\n    </tr>\n    <tr>\n      <th>295</th>\n      <td>USA_IOS_FEMALE_41_66</td>\n      <td>29.000000</td>\n    </tr>\n    <tr>\n      <th>296</th>\n      <td>CAN_IOS_FEMALE_0_18</td>\n      <td>29.000000</td>\n    </tr>\n    <tr>\n      <th>297</th>\n      <td>DEU_IOS_MALE_19_23</td>\n      <td>29.000000</td>\n    </tr>\n    <tr>\n      <th>298</th>\n      <td>DEU_IOS_FEMALE_24_30</td>\n      <td>29.000000</td>\n    </tr>\n    <tr>\n      <th>299</th>\n      <td>DEU_ANDROID_MALE_31_40</td>\n      <td>29.000000</td>\n    </tr>\n    <tr>\n      <th>300</th>\n      <td>DEU_ANDROID_MALE_24_30</td>\n      <td>29.000000</td>\n    </tr>\n    <tr>\n      <th>301</th>\n      <td>DEU_ANDROID_FEMALE_31_40</td>\n      <td>29.000000</td>\n    </tr>\n    <tr>\n      <th>302</th>\n      <td>USA_IOS_MALE_41_66</td>\n      <td>29.000000</td>\n    </tr>\n    <tr>\n      <th>303</th>\n      <td>TUR_ANDROID_FEMALE_41_66</td>\n      <td>29.000000</td>\n    </tr>\n    <tr>\n      <th>304</th>\n      <td>BRA_IOS_MALE_31_40</td>\n      <td>29.000000</td>\n    </tr>\n    <tr>\n      <th>305</th>\n      <td>USA_ANDROID_MALE_31_40</td>\n      <td>29.000000</td>\n    </tr>\n    <tr>\n      <th>306</th>\n      <td>USA_ANDROID_MALE_41_66</td>\n      <td>29.000000</td>\n    </tr>\n    <tr>\n      <th>307</th>\n      <td>USA_ANDROID_FEMALE_24_30</td>\n      <td>29.000000</td>\n    </tr>\n    <tr>\n      <th>308</th>\n      <td>USA_ANDROID_MALE_31_40</td>\n      <td>29.000000</td>\n    </tr>\n    <tr>\n      <th>309</th>\n      <td>USA_ANDROID_MALE_31_40</td>\n      <td>29.000000</td>\n    </tr>\n    <tr>\n      <th>310</th>\n      <td>BRA_IOS_MALE_31_40</td>\n      <td>29.000000</td>\n    </tr>\n    <tr>\n      <th>311</th>\n      <td>USA_ANDROID_FEMALE_24_30</td>\n      <td>29.000000</td>\n    </tr>\n    <tr>\n      <th>312</th>\n      <td>TUR_ANDROID_MALE_31_40</td>\n      <td>29.000000</td>\n    </tr>\n    <tr>\n      <th>313</th>\n      <td>TUR_IOS_FEMALE_0_18</td>\n      <td>29.000000</td>\n    </tr>\n    <tr>\n      <th>314</th>\n      <td>BRA_ANDROID_MALE_24_30</td>\n      <td>28.230769</td>\n    </tr>\n    <tr>\n      <th>315</th>\n      <td>USA_ANDROID_FEMALE_31_40</td>\n      <td>28.166667</td>\n    </tr>\n    <tr>\n      <th>316</th>\n      <td>USA_ANDROID_FEMALE_31_40</td>\n      <td>28.000000</td>\n    </tr>\n    <tr>\n      <th>317</th>\n      <td>DEU_ANDROID_FEMALE_41_66</td>\n      <td>27.750000</td>\n    </tr>\n    <tr>\n      <th>318</th>\n      <td>FRA_IOS_FEMALE_0_18</td>\n      <td>27.750000</td>\n    </tr>\n    <tr>\n      <th>319</th>\n      <td>BRA_IOS_FEMALE_31_40</td>\n      <td>27.571429</td>\n    </tr>\n    <tr>\n      <th>320</th>\n      <td>TUR_IOS_MALE_19_23</td>\n      <td>27.333333</td>\n    </tr>\n    <tr>\n      <th>321</th>\n      <td>FRA_ANDROID_FEMALE_19_23</td>\n      <td>27.333333</td>\n    </tr>\n    <tr>\n      <th>322</th>\n      <td>DEU_ANDROID_FEMALE_0_18</td>\n      <td>27.000000</td>\n    </tr>\n    <tr>\n      <th>323</th>\n      <td>BRA_ANDROID_FEMALE_24_30</td>\n      <td>26.142857</td>\n    </tr>\n    <tr>\n      <th>324</th>\n      <td>USA_ANDROID_MALE_24_30</td>\n      <td>26.058824</td>\n    </tr>\n    <tr>\n      <th>325</th>\n      <td>CAN_ANDROID_FEMALE_0_18</td>\n      <td>25.666667</td>\n    </tr>\n    <tr>\n      <th>326</th>\n      <td>TUR_IOS_FEMALE_31_40</td>\n      <td>25.666667</td>\n    </tr>\n    <tr>\n      <th>327</th>\n      <td>FRA_ANDROID_MALE_19_23</td>\n      <td>25.666667</td>\n    </tr>\n    <tr>\n      <th>328</th>\n      <td>USA_ANDROID_MALE_41_66</td>\n      <td>25.666667</td>\n    </tr>\n    <tr>\n      <th>329</th>\n      <td>FRA_IOS_FEMALE_24_30</td>\n      <td>25.000000</td>\n    </tr>\n    <tr>\n      <th>330</th>\n      <td>BRA_ANDROID_FEMALE_31_40</td>\n      <td>24.000000</td>\n    </tr>\n    <tr>\n      <th>331</th>\n      <td>TUR_ANDROID_FEMALE_24_30</td>\n      <td>24.000000</td>\n    </tr>\n    <tr>\n      <th>332</th>\n      <td>USA_IOS_MALE_31_40</td>\n      <td>24.000000</td>\n    </tr>\n    <tr>\n      <th>333</th>\n      <td>USA_IOS_MALE_24_30</td>\n      <td>24.000000</td>\n    </tr>\n    <tr>\n      <th>334</th>\n      <td>BRA_ANDROID_FEMALE_24_30</td>\n      <td>22.333333</td>\n    </tr>\n    <tr>\n      <th>335</th>\n      <td>TUR_IOS_MALE_19_23</td>\n      <td>22.333333</td>\n    </tr>\n    <tr>\n      <th>336</th>\n      <td>USA_ANDROID_MALE_24_30</td>\n      <td>22.333333</td>\n    </tr>\n    <tr>\n      <th>337</th>\n      <td>BRA_IOS_MALE_31_40</td>\n      <td>22.333333</td>\n    </tr>\n    <tr>\n      <th>338</th>\n      <td>BRA_ANDROID_MALE_19_23</td>\n      <td>21.500000</td>\n    </tr>\n    <tr>\n      <th>339</th>\n      <td>TUR_ANDROID_MALE_19_23</td>\n      <td>19.000000</td>\n    </tr>\n    <tr>\n      <th>340</th>\n      <td>TUR_IOS_MALE_41_66</td>\n      <td>19.000000</td>\n    </tr>\n    <tr>\n      <th>341</th>\n      <td>BRA_IOS_FEMALE_31_40</td>\n      <td>19.000000</td>\n    </tr>\n    <tr>\n      <th>342</th>\n      <td>BRA_IOS_MALE_41_66</td>\n      <td>19.000000</td>\n    </tr>\n    <tr>\n      <th>343</th>\n      <td>USA_IOS_FEMALE_31_40</td>\n      <td>19.000000</td>\n    </tr>\n    <tr>\n      <th>344</th>\n      <td>USA_IOS_FEMALE_24_30</td>\n      <td>19.000000</td>\n    </tr>\n    <tr>\n      <th>345</th>\n      <td>CAN_ANDROID_FEMALE_24_30</td>\n      <td>19.000000</td>\n    </tr>\n    <tr>\n      <th>346</th>\n      <td>FRA_ANDROID_MALE_0_18</td>\n      <td>19.000000</td>\n    </tr>\n    <tr>\n      <th>347</th>\n      <td>DEU_ANDROID_MALE_24_30</td>\n      <td>9.000000</td>\n    </tr>\n  </tbody>\n</table>\n</div>"
     },
     "execution_count": 32,
     "metadata": {},
     "output_type": "execute_result"
    }
   ],
   "source": [
    "# Let's choose the necessary features./ Gereksiz değişkenleri çıkaralım:\n",
    "\n",
    "agg_df = agg_df[[\"customer_level_based\",\"PRICE\"]]\n",
    "agg_df"
   ]
  },
  {
   "cell_type": "code",
   "execution_count": 33,
   "id": "0485c388",
   "metadata": {
    "ExecuteTime": {
     "end_time": "2024-02-05T15:09:02.073579200Z",
     "start_time": "2024-02-05T15:09:01.410065200Z"
    }
   },
   "outputs": [
    {
     "data": {
      "text/plain": "                              PRICE\ncustomer_level_based               \nBRA_ANDROID_FEMALE_0_18   35.645303\nBRA_ANDROID_FEMALE_19_23  34.077340\nBRA_ANDROID_FEMALE_24_30  33.863946\nBRA_ANDROID_FEMALE_31_40  34.898326\nBRA_ANDROID_FEMALE_41_66  36.737179\nBRA_ANDROID_MALE_0_18     34.805861\nBRA_ANDROID_MALE_19_23    31.673243\nBRA_ANDROID_MALE_24_30    33.413919\nBRA_ANDROID_MALE_31_40    34.327381\nBRA_ANDROID_MALE_41_66    40.041667\nBRA_IOS_FEMALE_0_18       34.900410\nBRA_IOS_FEMALE_19_23      36.403846\nBRA_IOS_FEMALE_24_30      34.015873\nBRA_IOS_FEMALE_31_40      29.875902\nBRA_IOS_FEMALE_41_66      35.340909\nBRA_IOS_MALE_0_18         34.664559\nBRA_IOS_MALE_19_23        34.266043\nBRA_IOS_MALE_24_30        33.864865\nBRA_IOS_MALE_31_40        31.566138\nBRA_IOS_MALE_41_66        31.083694\nCAN_ANDROID_FEMALE_0_18   30.896552\nCAN_ANDROID_FEMALE_19_23  32.014706\nCAN_ANDROID_FEMALE_24_30  19.000000\nCAN_ANDROID_FEMALE_41_66  34.000000\nCAN_ANDROID_MALE_0_18     36.000000\nCAN_ANDROID_MALE_19_23    40.111111\nCAN_ANDROID_MALE_24_30    35.009615\nCAN_ANDROID_MALE_41_66    37.571429\nCAN_IOS_FEMALE_0_18       31.352941\nCAN_IOS_FEMALE_24_30      31.727273\nCAN_IOS_MALE_0_18         36.746032\nCAN_IOS_MALE_24_30        31.173913\nCAN_IOS_MALE_31_40        29.000000\nCAN_IOS_MALE_41_66        31.000000\nDEU_ANDROID_FEMALE_0_18   30.912281\nDEU_ANDROID_FEMALE_19_23  33.333333\nDEU_ANDROID_FEMALE_24_30  33.569129\nDEU_ANDROID_FEMALE_31_40  37.333333\nDEU_ANDROID_FEMALE_41_66  36.083333\nDEU_ANDROID_MALE_0_18     37.248792\nDEU_ANDROID_MALE_19_23    36.070707\nDEU_ANDROID_MALE_24_30    19.000000\nDEU_ANDROID_MALE_31_40    35.972727\nDEU_IOS_FEMALE_0_18       35.345227\nDEU_IOS_FEMALE_19_23      34.000000\nDEU_IOS_FEMALE_24_30      32.500000\nDEU_IOS_FEMALE_31_40      33.000000\nDEU_IOS_MALE_0_18         37.000000\nDEU_IOS_MALE_19_23        39.000000\nDEU_IOS_MALE_24_30        33.000000\nDEU_IOS_MALE_31_40        31.352941\nDEU_IOS_MALE_41_66        37.000000\nFRA_ANDROID_FEMALE_0_18   36.316958\nFRA_ANDROID_FEMALE_19_23  32.819444\nFRA_ANDROID_FEMALE_24_30  45.428571\nFRA_ANDROID_FEMALE_31_40  34.000000\nFRA_ANDROID_MALE_0_18     24.625000\nFRA_ANDROID_MALE_19_23    35.837607\nFRA_ANDROID_MALE_24_30    33.000000\nFRA_ANDROID_MALE_31_40    35.666667\nFRA_ANDROID_MALE_41_66    34.000000\nFRA_IOS_FEMALE_0_18       31.312271\nFRA_IOS_FEMALE_24_30      27.714286\nFRA_IOS_FEMALE_31_40      32.818182\nFRA_IOS_MALE_0_18         33.444444\nFRA_IOS_MALE_19_23        39.888889\nFRA_IOS_MALE_24_30        31.500000\nFRA_IOS_MALE_31_40        33.687500\nFRA_IOS_MALE_41_66        39.000000\nTUR_ANDROID_FEMALE_0_18   37.685764\nTUR_ANDROID_FEMALE_19_23  33.444444\nTUR_ANDROID_FEMALE_24_30  30.785714\nTUR_ANDROID_FEMALE_31_40  41.833333\nTUR_ANDROID_FEMALE_41_66  34.119048\nTUR_ANDROID_MALE_0_18     39.873016\nTUR_ANDROID_MALE_19_23    27.333333\nTUR_ANDROID_MALE_24_30    39.439103\nTUR_ANDROID_MALE_31_40    29.000000\nTUR_ANDROID_MALE_41_66    39.000000\nTUR_IOS_FEMALE_0_18       34.392157\nTUR_IOS_FEMALE_19_23      36.060606\nTUR_IOS_FEMALE_24_30      34.000000\nTUR_IOS_FEMALE_31_40      32.333333\nTUR_IOS_FEMALE_41_66      34.000000\nTUR_IOS_MALE_0_18         35.550868\nTUR_IOS_MALE_19_23        24.833333\nTUR_IOS_MALE_24_30        45.000000\nTUR_IOS_MALE_31_40        42.333333\nTUR_IOS_MALE_41_66        25.052632\nUSA_ANDROID_FEMALE_0_18   33.649390\nUSA_ANDROID_FEMALE_19_23  33.627634\nUSA_ANDROID_FEMALE_24_30  31.269981\nUSA_ANDROID_FEMALE_31_40  32.803030\nUSA_ANDROID_FEMALE_41_66  39.250000\nUSA_ANDROID_MALE_0_18     34.577185\nUSA_ANDROID_MALE_19_23    34.270652\nUSA_ANDROID_MALE_24_30    31.886478\nUSA_ANDROID_MALE_31_40    35.904762\nUSA_ANDROID_MALE_41_66    34.339904\nUSA_IOS_FEMALE_0_18       34.182411\nUSA_IOS_FEMALE_19_23      35.379048\nUSA_IOS_FEMALE_24_30      32.845238\nUSA_IOS_FEMALE_31_40      28.513889\nUSA_IOS_FEMALE_41_66      34.103727\nUSA_IOS_MALE_0_18         33.983495\nUSA_IOS_MALE_19_23        34.901872\nUSA_IOS_MALE_24_30        34.838143\nUSA_IOS_MALE_31_40        36.206324\nUSA_IOS_MALE_41_66        35.750000",
      "text/html": "<div>\n<style scoped>\n    .dataframe tbody tr th:only-of-type {\n        vertical-align: middle;\n    }\n\n    .dataframe tbody tr th {\n        vertical-align: top;\n    }\n\n    .dataframe thead th {\n        text-align: right;\n    }\n</style>\n<table border=\"1\" class=\"dataframe\">\n  <thead>\n    <tr style=\"text-align: right;\">\n      <th></th>\n      <th>PRICE</th>\n    </tr>\n    <tr>\n      <th>customer_level_based</th>\n      <th></th>\n    </tr>\n  </thead>\n  <tbody>\n    <tr>\n      <th>BRA_ANDROID_FEMALE_0_18</th>\n      <td>35.645303</td>\n    </tr>\n    <tr>\n      <th>BRA_ANDROID_FEMALE_19_23</th>\n      <td>34.077340</td>\n    </tr>\n    <tr>\n      <th>BRA_ANDROID_FEMALE_24_30</th>\n      <td>33.863946</td>\n    </tr>\n    <tr>\n      <th>BRA_ANDROID_FEMALE_31_40</th>\n      <td>34.898326</td>\n    </tr>\n    <tr>\n      <th>BRA_ANDROID_FEMALE_41_66</th>\n      <td>36.737179</td>\n    </tr>\n    <tr>\n      <th>BRA_ANDROID_MALE_0_18</th>\n      <td>34.805861</td>\n    </tr>\n    <tr>\n      <th>BRA_ANDROID_MALE_19_23</th>\n      <td>31.673243</td>\n    </tr>\n    <tr>\n      <th>BRA_ANDROID_MALE_24_30</th>\n      <td>33.413919</td>\n    </tr>\n    <tr>\n      <th>BRA_ANDROID_MALE_31_40</th>\n      <td>34.327381</td>\n    </tr>\n    <tr>\n      <th>BRA_ANDROID_MALE_41_66</th>\n      <td>40.041667</td>\n    </tr>\n    <tr>\n      <th>BRA_IOS_FEMALE_0_18</th>\n      <td>34.900410</td>\n    </tr>\n    <tr>\n      <th>BRA_IOS_FEMALE_19_23</th>\n      <td>36.403846</td>\n    </tr>\n    <tr>\n      <th>BRA_IOS_FEMALE_24_30</th>\n      <td>34.015873</td>\n    </tr>\n    <tr>\n      <th>BRA_IOS_FEMALE_31_40</th>\n      <td>29.875902</td>\n    </tr>\n    <tr>\n      <th>BRA_IOS_FEMALE_41_66</th>\n      <td>35.340909</td>\n    </tr>\n    <tr>\n      <th>BRA_IOS_MALE_0_18</th>\n      <td>34.664559</td>\n    </tr>\n    <tr>\n      <th>BRA_IOS_MALE_19_23</th>\n      <td>34.266043</td>\n    </tr>\n    <tr>\n      <th>BRA_IOS_MALE_24_30</th>\n      <td>33.864865</td>\n    </tr>\n    <tr>\n      <th>BRA_IOS_MALE_31_40</th>\n      <td>31.566138</td>\n    </tr>\n    <tr>\n      <th>BRA_IOS_MALE_41_66</th>\n      <td>31.083694</td>\n    </tr>\n    <tr>\n      <th>CAN_ANDROID_FEMALE_0_18</th>\n      <td>30.896552</td>\n    </tr>\n    <tr>\n      <th>CAN_ANDROID_FEMALE_19_23</th>\n      <td>32.014706</td>\n    </tr>\n    <tr>\n      <th>CAN_ANDROID_FEMALE_24_30</th>\n      <td>19.000000</td>\n    </tr>\n    <tr>\n      <th>CAN_ANDROID_FEMALE_41_66</th>\n      <td>34.000000</td>\n    </tr>\n    <tr>\n      <th>CAN_ANDROID_MALE_0_18</th>\n      <td>36.000000</td>\n    </tr>\n    <tr>\n      <th>CAN_ANDROID_MALE_19_23</th>\n      <td>40.111111</td>\n    </tr>\n    <tr>\n      <th>CAN_ANDROID_MALE_24_30</th>\n      <td>35.009615</td>\n    </tr>\n    <tr>\n      <th>CAN_ANDROID_MALE_41_66</th>\n      <td>37.571429</td>\n    </tr>\n    <tr>\n      <th>CAN_IOS_FEMALE_0_18</th>\n      <td>31.352941</td>\n    </tr>\n    <tr>\n      <th>CAN_IOS_FEMALE_24_30</th>\n      <td>31.727273</td>\n    </tr>\n    <tr>\n      <th>CAN_IOS_MALE_0_18</th>\n      <td>36.746032</td>\n    </tr>\n    <tr>\n      <th>CAN_IOS_MALE_24_30</th>\n      <td>31.173913</td>\n    </tr>\n    <tr>\n      <th>CAN_IOS_MALE_31_40</th>\n      <td>29.000000</td>\n    </tr>\n    <tr>\n      <th>CAN_IOS_MALE_41_66</th>\n      <td>31.000000</td>\n    </tr>\n    <tr>\n      <th>DEU_ANDROID_FEMALE_0_18</th>\n      <td>30.912281</td>\n    </tr>\n    <tr>\n      <th>DEU_ANDROID_FEMALE_19_23</th>\n      <td>33.333333</td>\n    </tr>\n    <tr>\n      <th>DEU_ANDROID_FEMALE_24_30</th>\n      <td>33.569129</td>\n    </tr>\n    <tr>\n      <th>DEU_ANDROID_FEMALE_31_40</th>\n      <td>37.333333</td>\n    </tr>\n    <tr>\n      <th>DEU_ANDROID_FEMALE_41_66</th>\n      <td>36.083333</td>\n    </tr>\n    <tr>\n      <th>DEU_ANDROID_MALE_0_18</th>\n      <td>37.248792</td>\n    </tr>\n    <tr>\n      <th>DEU_ANDROID_MALE_19_23</th>\n      <td>36.070707</td>\n    </tr>\n    <tr>\n      <th>DEU_ANDROID_MALE_24_30</th>\n      <td>19.000000</td>\n    </tr>\n    <tr>\n      <th>DEU_ANDROID_MALE_31_40</th>\n      <td>35.972727</td>\n    </tr>\n    <tr>\n      <th>DEU_IOS_FEMALE_0_18</th>\n      <td>35.345227</td>\n    </tr>\n    <tr>\n      <th>DEU_IOS_FEMALE_19_23</th>\n      <td>34.000000</td>\n    </tr>\n    <tr>\n      <th>DEU_IOS_FEMALE_24_30</th>\n      <td>32.500000</td>\n    </tr>\n    <tr>\n      <th>DEU_IOS_FEMALE_31_40</th>\n      <td>33.000000</td>\n    </tr>\n    <tr>\n      <th>DEU_IOS_MALE_0_18</th>\n      <td>37.000000</td>\n    </tr>\n    <tr>\n      <th>DEU_IOS_MALE_19_23</th>\n      <td>39.000000</td>\n    </tr>\n    <tr>\n      <th>DEU_IOS_MALE_24_30</th>\n      <td>33.000000</td>\n    </tr>\n    <tr>\n      <th>DEU_IOS_MALE_31_40</th>\n      <td>31.352941</td>\n    </tr>\n    <tr>\n      <th>DEU_IOS_MALE_41_66</th>\n      <td>37.000000</td>\n    </tr>\n    <tr>\n      <th>FRA_ANDROID_FEMALE_0_18</th>\n      <td>36.316958</td>\n    </tr>\n    <tr>\n      <th>FRA_ANDROID_FEMALE_19_23</th>\n      <td>32.819444</td>\n    </tr>\n    <tr>\n      <th>FRA_ANDROID_FEMALE_24_30</th>\n      <td>45.428571</td>\n    </tr>\n    <tr>\n      <th>FRA_ANDROID_FEMALE_31_40</th>\n      <td>34.000000</td>\n    </tr>\n    <tr>\n      <th>FRA_ANDROID_MALE_0_18</th>\n      <td>24.625000</td>\n    </tr>\n    <tr>\n      <th>FRA_ANDROID_MALE_19_23</th>\n      <td>35.837607</td>\n    </tr>\n    <tr>\n      <th>FRA_ANDROID_MALE_24_30</th>\n      <td>33.000000</td>\n    </tr>\n    <tr>\n      <th>FRA_ANDROID_MALE_31_40</th>\n      <td>35.666667</td>\n    </tr>\n    <tr>\n      <th>FRA_ANDROID_MALE_41_66</th>\n      <td>34.000000</td>\n    </tr>\n    <tr>\n      <th>FRA_IOS_FEMALE_0_18</th>\n      <td>31.312271</td>\n    </tr>\n    <tr>\n      <th>FRA_IOS_FEMALE_24_30</th>\n      <td>27.714286</td>\n    </tr>\n    <tr>\n      <th>FRA_IOS_FEMALE_31_40</th>\n      <td>32.818182</td>\n    </tr>\n    <tr>\n      <th>FRA_IOS_MALE_0_18</th>\n      <td>33.444444</td>\n    </tr>\n    <tr>\n      <th>FRA_IOS_MALE_19_23</th>\n      <td>39.888889</td>\n    </tr>\n    <tr>\n      <th>FRA_IOS_MALE_24_30</th>\n      <td>31.500000</td>\n    </tr>\n    <tr>\n      <th>FRA_IOS_MALE_31_40</th>\n      <td>33.687500</td>\n    </tr>\n    <tr>\n      <th>FRA_IOS_MALE_41_66</th>\n      <td>39.000000</td>\n    </tr>\n    <tr>\n      <th>TUR_ANDROID_FEMALE_0_18</th>\n      <td>37.685764</td>\n    </tr>\n    <tr>\n      <th>TUR_ANDROID_FEMALE_19_23</th>\n      <td>33.444444</td>\n    </tr>\n    <tr>\n      <th>TUR_ANDROID_FEMALE_24_30</th>\n      <td>30.785714</td>\n    </tr>\n    <tr>\n      <th>TUR_ANDROID_FEMALE_31_40</th>\n      <td>41.833333</td>\n    </tr>\n    <tr>\n      <th>TUR_ANDROID_FEMALE_41_66</th>\n      <td>34.119048</td>\n    </tr>\n    <tr>\n      <th>TUR_ANDROID_MALE_0_18</th>\n      <td>39.873016</td>\n    </tr>\n    <tr>\n      <th>TUR_ANDROID_MALE_19_23</th>\n      <td>27.333333</td>\n    </tr>\n    <tr>\n      <th>TUR_ANDROID_MALE_24_30</th>\n      <td>39.439103</td>\n    </tr>\n    <tr>\n      <th>TUR_ANDROID_MALE_31_40</th>\n      <td>29.000000</td>\n    </tr>\n    <tr>\n      <th>TUR_ANDROID_MALE_41_66</th>\n      <td>39.000000</td>\n    </tr>\n    <tr>\n      <th>TUR_IOS_FEMALE_0_18</th>\n      <td>34.392157</td>\n    </tr>\n    <tr>\n      <th>TUR_IOS_FEMALE_19_23</th>\n      <td>36.060606</td>\n    </tr>\n    <tr>\n      <th>TUR_IOS_FEMALE_24_30</th>\n      <td>34.000000</td>\n    </tr>\n    <tr>\n      <th>TUR_IOS_FEMALE_31_40</th>\n      <td>32.333333</td>\n    </tr>\n    <tr>\n      <th>TUR_IOS_FEMALE_41_66</th>\n      <td>34.000000</td>\n    </tr>\n    <tr>\n      <th>TUR_IOS_MALE_0_18</th>\n      <td>35.550868</td>\n    </tr>\n    <tr>\n      <th>TUR_IOS_MALE_19_23</th>\n      <td>24.833333</td>\n    </tr>\n    <tr>\n      <th>TUR_IOS_MALE_24_30</th>\n      <td>45.000000</td>\n    </tr>\n    <tr>\n      <th>TUR_IOS_MALE_31_40</th>\n      <td>42.333333</td>\n    </tr>\n    <tr>\n      <th>TUR_IOS_MALE_41_66</th>\n      <td>25.052632</td>\n    </tr>\n    <tr>\n      <th>USA_ANDROID_FEMALE_0_18</th>\n      <td>33.649390</td>\n    </tr>\n    <tr>\n      <th>USA_ANDROID_FEMALE_19_23</th>\n      <td>33.627634</td>\n    </tr>\n    <tr>\n      <th>USA_ANDROID_FEMALE_24_30</th>\n      <td>31.269981</td>\n    </tr>\n    <tr>\n      <th>USA_ANDROID_FEMALE_31_40</th>\n      <td>32.803030</td>\n    </tr>\n    <tr>\n      <th>USA_ANDROID_FEMALE_41_66</th>\n      <td>39.250000</td>\n    </tr>\n    <tr>\n      <th>USA_ANDROID_MALE_0_18</th>\n      <td>34.577185</td>\n    </tr>\n    <tr>\n      <th>USA_ANDROID_MALE_19_23</th>\n      <td>34.270652</td>\n    </tr>\n    <tr>\n      <th>USA_ANDROID_MALE_24_30</th>\n      <td>31.886478</td>\n    </tr>\n    <tr>\n      <th>USA_ANDROID_MALE_31_40</th>\n      <td>35.904762</td>\n    </tr>\n    <tr>\n      <th>USA_ANDROID_MALE_41_66</th>\n      <td>34.339904</td>\n    </tr>\n    <tr>\n      <th>USA_IOS_FEMALE_0_18</th>\n      <td>34.182411</td>\n    </tr>\n    <tr>\n      <th>USA_IOS_FEMALE_19_23</th>\n      <td>35.379048</td>\n    </tr>\n    <tr>\n      <th>USA_IOS_FEMALE_24_30</th>\n      <td>32.845238</td>\n    </tr>\n    <tr>\n      <th>USA_IOS_FEMALE_31_40</th>\n      <td>28.513889</td>\n    </tr>\n    <tr>\n      <th>USA_IOS_FEMALE_41_66</th>\n      <td>34.103727</td>\n    </tr>\n    <tr>\n      <th>USA_IOS_MALE_0_18</th>\n      <td>33.983495</td>\n    </tr>\n    <tr>\n      <th>USA_IOS_MALE_19_23</th>\n      <td>34.901872</td>\n    </tr>\n    <tr>\n      <th>USA_IOS_MALE_24_30</th>\n      <td>34.838143</td>\n    </tr>\n    <tr>\n      <th>USA_IOS_MALE_31_40</th>\n      <td>36.206324</td>\n    </tr>\n    <tr>\n      <th>USA_IOS_MALE_41_66</th>\n      <td>35.750000</td>\n    </tr>\n  </tbody>\n</table>\n</div>"
     },
     "execution_count": 33,
     "metadata": {},
     "output_type": "execute_result"
    }
   ],
   "source": [
    "# Burada ufak bir problem var. Birçok aynı segment olacak. Segmentleri göre groupby yapıyoruz ve price oralamalarını alıyoruz.\n",
    "agg_df.groupby(\"customer_level_based\").agg({\"PRICE\": \"mean\"})"
   ]
  },
  {
   "cell_type": "code",
   "outputs": [],
   "source": [
    "# Yukarıda aldığımız price ortalamalarını agg_df değişkenine aktarıyoruz.\n",
    "\n",
    "agg_df = agg_df.groupby(\"customer_level_based\").agg({\"PRICE\":\"mean\"})"
   ],
   "metadata": {
    "collapsed": false,
    "ExecuteTime": {
     "end_time": "2024-02-05T15:09:02.091642600Z",
     "start_time": "2024-02-05T15:09:01.425727500Z"
    }
   },
   "id": "4aa8ccf7ce4f69d3",
   "execution_count": 34
  },
  {
   "cell_type": "code",
   "outputs": [
    {
     "data": {
      "text/plain": "                              PRICE\ncustomer_level_based               \nBRA_ANDROID_FEMALE_0_18   35.645303\nBRA_ANDROID_FEMALE_19_23  34.077340\nBRA_ANDROID_FEMALE_24_30  33.863946\nBRA_ANDROID_FEMALE_31_40  34.898326\nBRA_ANDROID_FEMALE_41_66  36.737179",
      "text/html": "<div>\n<style scoped>\n    .dataframe tbody tr th:only-of-type {\n        vertical-align: middle;\n    }\n\n    .dataframe tbody tr th {\n        vertical-align: top;\n    }\n\n    .dataframe thead th {\n        text-align: right;\n    }\n</style>\n<table border=\"1\" class=\"dataframe\">\n  <thead>\n    <tr style=\"text-align: right;\">\n      <th></th>\n      <th>PRICE</th>\n    </tr>\n    <tr>\n      <th>customer_level_based</th>\n      <th></th>\n    </tr>\n  </thead>\n  <tbody>\n    <tr>\n      <th>BRA_ANDROID_FEMALE_0_18</th>\n      <td>35.645303</td>\n    </tr>\n    <tr>\n      <th>BRA_ANDROID_FEMALE_19_23</th>\n      <td>34.077340</td>\n    </tr>\n    <tr>\n      <th>BRA_ANDROID_FEMALE_24_30</th>\n      <td>33.863946</td>\n    </tr>\n    <tr>\n      <th>BRA_ANDROID_FEMALE_31_40</th>\n      <td>34.898326</td>\n    </tr>\n    <tr>\n      <th>BRA_ANDROID_FEMALE_41_66</th>\n      <td>36.737179</td>\n    </tr>\n  </tbody>\n</table>\n</div>"
     },
     "execution_count": 35,
     "metadata": {},
     "output_type": "execute_result"
    }
   ],
   "source": [
    "agg_df.head()"
   ],
   "metadata": {
    "collapsed": false,
    "ExecuteTime": {
     "end_time": "2024-02-05T15:09:02.093754900Z",
     "start_time": "2024-02-05T15:09:01.441264800Z"
    }
   },
   "id": "5573af07cd6b262c",
   "execution_count": 35
  },
  {
   "cell_type": "code",
   "outputs": [
    {
     "data": {
      "text/plain": "       customer_level_based      PRICE\n0   BRA_ANDROID_FEMALE_0_18  35.645303\n1  BRA_ANDROID_FEMALE_19_23  34.077340\n2  BRA_ANDROID_FEMALE_24_30  33.863946\n3  BRA_ANDROID_FEMALE_31_40  34.898326\n4  BRA_ANDROID_FEMALE_41_66  36.737179",
      "text/html": "<div>\n<style scoped>\n    .dataframe tbody tr th:only-of-type {\n        vertical-align: middle;\n    }\n\n    .dataframe tbody tr th {\n        vertical-align: top;\n    }\n\n    .dataframe thead th {\n        text-align: right;\n    }\n</style>\n<table border=\"1\" class=\"dataframe\">\n  <thead>\n    <tr style=\"text-align: right;\">\n      <th></th>\n      <th>customer_level_based</th>\n      <th>PRICE</th>\n    </tr>\n  </thead>\n  <tbody>\n    <tr>\n      <th>0</th>\n      <td>BRA_ANDROID_FEMALE_0_18</td>\n      <td>35.645303</td>\n    </tr>\n    <tr>\n      <th>1</th>\n      <td>BRA_ANDROID_FEMALE_19_23</td>\n      <td>34.077340</td>\n    </tr>\n    <tr>\n      <th>2</th>\n      <td>BRA_ANDROID_FEMALE_24_30</td>\n      <td>33.863946</td>\n    </tr>\n    <tr>\n      <th>3</th>\n      <td>BRA_ANDROID_FEMALE_31_40</td>\n      <td>34.898326</td>\n    </tr>\n    <tr>\n      <th>4</th>\n      <td>BRA_ANDROID_FEMALE_41_66</td>\n      <td>36.737179</td>\n    </tr>\n  </tbody>\n</table>\n</div>"
     },
     "execution_count": 36,
     "metadata": {},
     "output_type": "execute_result"
    }
   ],
   "source": [
    "#customers_level_based index'te yer almaktadır. Bunu değişkene çevirelim.\n",
    "\n",
    "agg_df = agg_df.reset_index()\n",
    "agg_df.head()"
   ],
   "metadata": {
    "collapsed": false,
    "ExecuteTime": {
     "end_time": "2024-02-05T15:09:02.097977300Z",
     "start_time": "2024-02-05T15:09:01.459947500Z"
    }
   },
   "id": "c046c481ed7eac4c",
   "execution_count": 36
  },
  {
   "cell_type": "code",
   "execution_count": 37,
   "id": "9eb161d3",
   "metadata": {
    "ExecuteTime": {
     "end_time": "2024-02-05T15:09:02.100133700Z",
     "start_time": "2024-02-05T15:09:01.473692700Z"
    }
   },
   "outputs": [
    {
     "data": {
      "text/plain": "BRA_ANDROID_FEMALE_0_18     1\nTUR_ANDROID_FEMALE_0_18     1\nTUR_IOS_FEMALE_19_23        1\nTUR_IOS_FEMALE_0_18         1\nTUR_ANDROID_MALE_41_66      1\nTUR_ANDROID_MALE_31_40      1\nTUR_ANDROID_MALE_24_30      1\nTUR_ANDROID_MALE_19_23      1\nTUR_ANDROID_MALE_0_18       1\nTUR_ANDROID_FEMALE_41_66    1\nTUR_ANDROID_FEMALE_31_40    1\nTUR_ANDROID_FEMALE_24_30    1\nTUR_ANDROID_FEMALE_19_23    1\nFRA_IOS_MALE_41_66          1\nFRA_ANDROID_FEMALE_31_40    1\nFRA_IOS_MALE_31_40          1\nFRA_IOS_MALE_24_30          1\nFRA_IOS_MALE_19_23          1\nFRA_IOS_MALE_0_18           1\nFRA_IOS_FEMALE_31_40        1\nFRA_IOS_FEMALE_24_30        1\nFRA_IOS_FEMALE_0_18         1\nFRA_ANDROID_MALE_41_66      1\nFRA_ANDROID_MALE_31_40      1\nFRA_ANDROID_MALE_24_30      1\nFRA_ANDROID_MALE_19_23      1\nTUR_IOS_FEMALE_24_30        1\nTUR_IOS_FEMALE_31_40        1\nTUR_IOS_FEMALE_41_66        1\nTUR_IOS_MALE_0_18           1\nUSA_IOS_MALE_31_40          1\nUSA_IOS_MALE_24_30          1\nUSA_IOS_MALE_19_23          1\nUSA_IOS_MALE_0_18           1\nUSA_IOS_FEMALE_41_66        1\nUSA_IOS_FEMALE_31_40        1\nUSA_IOS_FEMALE_24_30        1\nUSA_IOS_FEMALE_19_23        1\nUSA_IOS_FEMALE_0_18         1\nUSA_ANDROID_MALE_41_66      1\nUSA_ANDROID_MALE_31_40      1\nUSA_ANDROID_MALE_24_30      1\nUSA_ANDROID_MALE_19_23      1\nUSA_ANDROID_MALE_0_18       1\nUSA_ANDROID_FEMALE_41_66    1\nUSA_ANDROID_FEMALE_31_40    1\nUSA_ANDROID_FEMALE_24_30    1\nUSA_ANDROID_FEMALE_19_23    1\nUSA_ANDROID_FEMALE_0_18     1\nTUR_IOS_MALE_41_66          1\nTUR_IOS_MALE_31_40          1\nTUR_IOS_MALE_24_30          1\nTUR_IOS_MALE_19_23          1\nFRA_ANDROID_MALE_0_18       1\nFRA_ANDROID_FEMALE_24_30    1\nBRA_ANDROID_FEMALE_19_23    1\nBRA_IOS_FEMALE_41_66        1\nCAN_ANDROID_MALE_19_23      1\nCAN_ANDROID_MALE_0_18       1\nCAN_ANDROID_FEMALE_41_66    1\nCAN_ANDROID_FEMALE_24_30    1\nCAN_ANDROID_FEMALE_19_23    1\nCAN_ANDROID_FEMALE_0_18     1\nBRA_IOS_MALE_41_66          1\nBRA_IOS_MALE_31_40          1\nBRA_IOS_MALE_24_30          1\nBRA_IOS_MALE_19_23          1\nBRA_IOS_MALE_0_18           1\nBRA_IOS_FEMALE_31_40        1\nFRA_ANDROID_FEMALE_19_23    1\nBRA_IOS_FEMALE_24_30        1\nBRA_IOS_FEMALE_19_23        1\nBRA_IOS_FEMALE_0_18         1\nBRA_ANDROID_MALE_41_66      1\nBRA_ANDROID_MALE_31_40      1\nBRA_ANDROID_MALE_24_30      1\nBRA_ANDROID_MALE_19_23      1\nBRA_ANDROID_MALE_0_18       1\nBRA_ANDROID_FEMALE_41_66    1\nBRA_ANDROID_FEMALE_31_40    1\nBRA_ANDROID_FEMALE_24_30    1\nCAN_ANDROID_MALE_24_30      1\nCAN_ANDROID_MALE_41_66      1\nCAN_IOS_FEMALE_0_18         1\nCAN_IOS_FEMALE_24_30        1\nFRA_ANDROID_FEMALE_0_18     1\nDEU_IOS_MALE_41_66          1\nDEU_IOS_MALE_31_40          1\nDEU_IOS_MALE_24_30          1\nDEU_IOS_MALE_19_23          1\nDEU_IOS_MALE_0_18           1\nDEU_IOS_FEMALE_31_40        1\nDEU_IOS_FEMALE_24_30        1\nDEU_IOS_FEMALE_19_23        1\nDEU_IOS_FEMALE_0_18         1\nDEU_ANDROID_MALE_31_40      1\nDEU_ANDROID_MALE_24_30      1\nDEU_ANDROID_MALE_19_23      1\nDEU_ANDROID_MALE_0_18       1\nDEU_ANDROID_FEMALE_41_66    1\nDEU_ANDROID_FEMALE_31_40    1\nDEU_ANDROID_FEMALE_24_30    1\nDEU_ANDROID_FEMALE_19_23    1\nDEU_ANDROID_FEMALE_0_18     1\nCAN_IOS_MALE_41_66          1\nCAN_IOS_MALE_31_40          1\nCAN_IOS_MALE_24_30          1\nCAN_IOS_MALE_0_18           1\nUSA_IOS_MALE_41_66          1\nName: customer_level_based, dtype: int64"
     },
     "execution_count": 37,
     "metadata": {},
     "output_type": "execute_result"
    }
   ],
   "source": [
    "# Kontrol edelim. her bir persona'nın 1 tane olmasını bekleriz.\n",
    "agg_df[\"customer_level_based\"].value_counts()"
   ]
  },
  {
   "cell_type": "code",
   "execution_count": 38,
   "id": "f75360be",
   "metadata": {
    "ExecuteTime": {
     "end_time": "2024-02-05T15:09:02.140340500Z",
     "start_time": "2024-02-05T15:09:01.489473Z"
    }
   },
   "outputs": [
    {
     "data": {
      "text/plain": "       customer_level_based      PRICE SEGMENT\n0   BRA_ANDROID_FEMALE_0_18  35.645303       B\n1  BRA_ANDROID_FEMALE_19_23  34.077340       C\n2  BRA_ANDROID_FEMALE_24_30  33.863946       C\n3  BRA_ANDROID_FEMALE_31_40  34.898326       B\n4  BRA_ANDROID_FEMALE_41_66  36.737179       A",
      "text/html": "<div>\n<style scoped>\n    .dataframe tbody tr th:only-of-type {\n        vertical-align: middle;\n    }\n\n    .dataframe tbody tr th {\n        vertical-align: top;\n    }\n\n    .dataframe thead th {\n        text-align: right;\n    }\n</style>\n<table border=\"1\" class=\"dataframe\">\n  <thead>\n    <tr style=\"text-align: right;\">\n      <th></th>\n      <th>customer_level_based</th>\n      <th>PRICE</th>\n      <th>SEGMENT</th>\n    </tr>\n  </thead>\n  <tbody>\n    <tr>\n      <th>0</th>\n      <td>BRA_ANDROID_FEMALE_0_18</td>\n      <td>35.645303</td>\n      <td>B</td>\n    </tr>\n    <tr>\n      <th>1</th>\n      <td>BRA_ANDROID_FEMALE_19_23</td>\n      <td>34.077340</td>\n      <td>C</td>\n    </tr>\n    <tr>\n      <th>2</th>\n      <td>BRA_ANDROID_FEMALE_24_30</td>\n      <td>33.863946</td>\n      <td>C</td>\n    </tr>\n    <tr>\n      <th>3</th>\n      <td>BRA_ANDROID_FEMALE_31_40</td>\n      <td>34.898326</td>\n      <td>B</td>\n    </tr>\n    <tr>\n      <th>4</th>\n      <td>BRA_ANDROID_FEMALE_41_66</td>\n      <td>36.737179</td>\n      <td>A</td>\n    </tr>\n  </tbody>\n</table>\n</div>"
     },
     "execution_count": 38,
     "metadata": {},
     "output_type": "execute_result"
    }
   ],
   "source": [
    "# GÖREV 7: Yeni müşterileri bu segmentlere göre sınıflandırınız.\n",
    "# segmentleri \"SEGMENT\" isimlendirmesi ile agg_df'e ekleyiniz,\n",
    "# segmentleri betimleyiniz,\n",
    "\n",
    "agg_df[\"SEGMENT\"] = pd.qcut(agg_df[\"PRICE\"], 4, labels= [\"D\", \"C\", \"B\", \"A\"])\n",
    "agg_df.head()"
   ]
  },
  {
   "cell_type": "code",
   "outputs": [
    {
     "data": {
      "text/plain": "             PRICE\nSEGMENT           \nD        29.206780\nC        33.509674\nB        34.999645\nA        38.691234",
      "text/html": "<div>\n<style scoped>\n    .dataframe tbody tr th:only-of-type {\n        vertical-align: middle;\n    }\n\n    .dataframe tbody tr th {\n        vertical-align: top;\n    }\n\n    .dataframe thead th {\n        text-align: right;\n    }\n</style>\n<table border=\"1\" class=\"dataframe\">\n  <thead>\n    <tr style=\"text-align: right;\">\n      <th></th>\n      <th>PRICE</th>\n    </tr>\n    <tr>\n      <th>SEGMENT</th>\n      <th></th>\n    </tr>\n  </thead>\n  <tbody>\n    <tr>\n      <th>D</th>\n      <td>29.206780</td>\n    </tr>\n    <tr>\n      <th>C</th>\n      <td>33.509674</td>\n    </tr>\n    <tr>\n      <th>B</th>\n      <td>34.999645</td>\n    </tr>\n    <tr>\n      <th>A</th>\n      <td>38.691234</td>\n    </tr>\n  </tbody>\n</table>\n</div>"
     },
     "execution_count": 39,
     "metadata": {},
     "output_type": "execute_result"
    }
   ],
   "source": [
    "# PRICE'a göre segmentlere ayırınız.\n",
    "\n",
    "agg_df.groupby(\"SEGMENT\").agg({\"PRICE\":\"mean\"})"
   ],
   "metadata": {
    "collapsed": false,
    "ExecuteTime": {
     "end_time": "2024-02-05T15:09:02.239732100Z",
     "start_time": "2024-02-05T15:09:01.504158200Z"
    }
   },
   "id": "8a6332ba8348f9df",
   "execution_count": 39
  },
  {
   "cell_type": "code",
   "execution_count": 40,
   "id": "8f91de62",
   "metadata": {
    "ExecuteTime": {
     "end_time": "2024-02-05T15:09:02.294745500Z",
     "start_time": "2024-02-05T15:09:01.519036800Z"
    }
   },
   "outputs": [
    {
     "data": {
      "text/plain": "        customer_level_based      PRICE SEGMENT\n72  TUR_ANDROID_FEMALE_31_40  41.833333       A",
      "text/html": "<div>\n<style scoped>\n    .dataframe tbody tr th:only-of-type {\n        vertical-align: middle;\n    }\n\n    .dataframe tbody tr th {\n        vertical-align: top;\n    }\n\n    .dataframe thead th {\n        text-align: right;\n    }\n</style>\n<table border=\"1\" class=\"dataframe\">\n  <thead>\n    <tr style=\"text-align: right;\">\n      <th></th>\n      <th>customer_level_based</th>\n      <th>PRICE</th>\n      <th>SEGMENT</th>\n    </tr>\n  </thead>\n  <tbody>\n    <tr>\n      <th>72</th>\n      <td>TUR_ANDROID_FEMALE_31_40</td>\n      <td>41.833333</td>\n      <td>A</td>\n    </tr>\n  </tbody>\n</table>\n</div>"
     },
     "execution_count": 40,
     "metadata": {},
     "output_type": "execute_result"
    }
   ],
   "source": [
    "# GÖREV 8: Yeni gelen müşterileri sınıflandırınız ne kadar gelir getirebileceğini tahmin ediniz.\n",
    "\n",
    "# 33 yaşında ANDROID kullanan bir Türk kadını hangi segmente aittir ve ortalama ne kadar gelir kazandırması beklenir?\n",
    "new_user = \"TUR_ANDROID_FEMALE_31_40\"\n",
    "agg_df[agg_df[\"customer_level_based\"] == new_user]"
   ]
  },
  {
   "cell_type": "code",
   "outputs": [
    {
     "data": {
      "text/plain": "BRA_ANDROID_FEMALE_0_18     1\nTUR_ANDROID_FEMALE_0_18     1\nTUR_IOS_FEMALE_19_23        1\nTUR_IOS_FEMALE_0_18         1\nTUR_ANDROID_MALE_41_66      1\nTUR_ANDROID_MALE_31_40      1\nTUR_ANDROID_MALE_24_30      1\nTUR_ANDROID_MALE_19_23      1\nTUR_ANDROID_MALE_0_18       1\nTUR_ANDROID_FEMALE_41_66    1\nTUR_ANDROID_FEMALE_31_40    1\nTUR_ANDROID_FEMALE_24_30    1\nTUR_ANDROID_FEMALE_19_23    1\nFRA_IOS_MALE_41_66          1\nFRA_ANDROID_FEMALE_31_40    1\nFRA_IOS_MALE_31_40          1\nFRA_IOS_MALE_24_30          1\nFRA_IOS_MALE_19_23          1\nFRA_IOS_MALE_0_18           1\nFRA_IOS_FEMALE_31_40        1\nFRA_IOS_FEMALE_24_30        1\nFRA_IOS_FEMALE_0_18         1\nFRA_ANDROID_MALE_41_66      1\nFRA_ANDROID_MALE_31_40      1\nFRA_ANDROID_MALE_24_30      1\nFRA_ANDROID_MALE_19_23      1\nTUR_IOS_FEMALE_24_30        1\nTUR_IOS_FEMALE_31_40        1\nTUR_IOS_FEMALE_41_66        1\nTUR_IOS_MALE_0_18           1\nUSA_IOS_MALE_31_40          1\nUSA_IOS_MALE_24_30          1\nUSA_IOS_MALE_19_23          1\nUSA_IOS_MALE_0_18           1\nUSA_IOS_FEMALE_41_66        1\nUSA_IOS_FEMALE_31_40        1\nUSA_IOS_FEMALE_24_30        1\nUSA_IOS_FEMALE_19_23        1\nUSA_IOS_FEMALE_0_18         1\nUSA_ANDROID_MALE_41_66      1\nUSA_ANDROID_MALE_31_40      1\nUSA_ANDROID_MALE_24_30      1\nUSA_ANDROID_MALE_19_23      1\nUSA_ANDROID_MALE_0_18       1\nUSA_ANDROID_FEMALE_41_66    1\nUSA_ANDROID_FEMALE_31_40    1\nUSA_ANDROID_FEMALE_24_30    1\nUSA_ANDROID_FEMALE_19_23    1\nUSA_ANDROID_FEMALE_0_18     1\nTUR_IOS_MALE_41_66          1\nTUR_IOS_MALE_31_40          1\nTUR_IOS_MALE_24_30          1\nTUR_IOS_MALE_19_23          1\nFRA_ANDROID_MALE_0_18       1\nFRA_ANDROID_FEMALE_24_30    1\nBRA_ANDROID_FEMALE_19_23    1\nBRA_IOS_FEMALE_41_66        1\nCAN_ANDROID_MALE_19_23      1\nCAN_ANDROID_MALE_0_18       1\nCAN_ANDROID_FEMALE_41_66    1\nCAN_ANDROID_FEMALE_24_30    1\nCAN_ANDROID_FEMALE_19_23    1\nCAN_ANDROID_FEMALE_0_18     1\nBRA_IOS_MALE_41_66          1\nBRA_IOS_MALE_31_40          1\nBRA_IOS_MALE_24_30          1\nBRA_IOS_MALE_19_23          1\nBRA_IOS_MALE_0_18           1\nBRA_IOS_FEMALE_31_40        1\nFRA_ANDROID_FEMALE_19_23    1\nBRA_IOS_FEMALE_24_30        1\nBRA_IOS_FEMALE_19_23        1\nBRA_IOS_FEMALE_0_18         1\nBRA_ANDROID_MALE_41_66      1\nBRA_ANDROID_MALE_31_40      1\nBRA_ANDROID_MALE_24_30      1\nBRA_ANDROID_MALE_19_23      1\nBRA_ANDROID_MALE_0_18       1\nBRA_ANDROID_FEMALE_41_66    1\nBRA_ANDROID_FEMALE_31_40    1\nBRA_ANDROID_FEMALE_24_30    1\nCAN_ANDROID_MALE_24_30      1\nCAN_ANDROID_MALE_41_66      1\nCAN_IOS_FEMALE_0_18         1\nCAN_IOS_FEMALE_24_30        1\nFRA_ANDROID_FEMALE_0_18     1\nDEU_IOS_MALE_41_66          1\nDEU_IOS_MALE_31_40          1\nDEU_IOS_MALE_24_30          1\nDEU_IOS_MALE_19_23          1\nDEU_IOS_MALE_0_18           1\nDEU_IOS_FEMALE_31_40        1\nDEU_IOS_FEMALE_24_30        1\nDEU_IOS_FEMALE_19_23        1\nDEU_IOS_FEMALE_0_18         1\nDEU_ANDROID_MALE_31_40      1\nDEU_ANDROID_MALE_24_30      1\nDEU_ANDROID_MALE_19_23      1\nDEU_ANDROID_MALE_0_18       1\nDEU_ANDROID_FEMALE_41_66    1\nDEU_ANDROID_FEMALE_31_40    1\nDEU_ANDROID_FEMALE_24_30    1\nDEU_ANDROID_FEMALE_19_23    1\nDEU_ANDROID_FEMALE_0_18     1\nCAN_IOS_MALE_41_66          1\nCAN_IOS_MALE_31_40          1\nCAN_IOS_MALE_24_30          1\nCAN_IOS_MALE_0_18           1\nUSA_IOS_MALE_41_66          1\nName: customer_level_based, dtype: int64"
     },
     "execution_count": 41,
     "metadata": {},
     "output_type": "execute_result"
    }
   ],
   "source": [
    "agg_df[\"customer_level_based\"].value_counts()"
   ],
   "metadata": {
    "collapsed": false,
    "ExecuteTime": {
     "end_time": "2024-02-05T15:09:02.389065900Z",
     "start_time": "2024-02-05T15:09:01.535880500Z"
    }
   },
   "id": "4d923105c3bc2445",
   "execution_count": 41
  },
  {
   "cell_type": "code",
   "execution_count": 42,
   "id": "75f7ecd8",
   "metadata": {
    "ExecuteTime": {
     "end_time": "2024-02-05T15:09:02.420736800Z",
     "start_time": "2024-02-05T15:09:01.550505300Z"
    }
   },
   "outputs": [
    {
     "data": {
      "text/plain": "    customer_level_based      PRICE SEGMENT\n63  FRA_IOS_FEMALE_31_40  32.818182       C",
      "text/html": "<div>\n<style scoped>\n    .dataframe tbody tr th:only-of-type {\n        vertical-align: middle;\n    }\n\n    .dataframe tbody tr th {\n        vertical-align: top;\n    }\n\n    .dataframe thead th {\n        text-align: right;\n    }\n</style>\n<table border=\"1\" class=\"dataframe\">\n  <thead>\n    <tr style=\"text-align: right;\">\n      <th></th>\n      <th>customer_level_based</th>\n      <th>PRICE</th>\n      <th>SEGMENT</th>\n    </tr>\n  </thead>\n  <tbody>\n    <tr>\n      <th>63</th>\n      <td>FRA_IOS_FEMALE_31_40</td>\n      <td>32.818182</td>\n      <td>C</td>\n    </tr>\n  </tbody>\n</table>\n</div>"
     },
     "execution_count": 42,
     "metadata": {},
     "output_type": "execute_result"
    }
   ],
   "source": [
    "# 35 yaşında IOS kullanan bir Fransız kadını hangi segmente ve ortalama ne kadar gelir kazandırması beklenir?\n",
    "\n",
    "new_user = \"FRA_IOS_FEMALE_31_40\"\n",
    "agg_df[agg_df[\"customer_level_based\"] == new_user]"
   ]
  },
  {
   "cell_type": "code",
   "outputs": [],
   "source": [],
   "metadata": {
    "collapsed": false,
    "ExecuteTime": {
     "end_time": "2024-02-05T15:09:02.422809500Z",
     "start_time": "2024-02-05T15:09:01.566202700Z"
    }
   },
   "id": "7195b6b5ffeface2",
   "execution_count": 42
  }
 ],
 "metadata": {
  "kernelspec": {
   "display_name": "Python 3 (ipykernel)",
   "language": "python",
   "name": "python3"
  },
  "language_info": {
   "codemirror_mode": {
    "name": "ipython",
    "version": 3
   },
   "file_extension": ".py",
   "mimetype": "text/x-python",
   "name": "python",
   "nbconvert_exporter": "python",
   "pygments_lexer": "ipython3",
   "version": "3.11.5"
  }
 },
 "nbformat": 4,
 "nbformat_minor": 5
}
